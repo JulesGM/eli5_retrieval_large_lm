{
 "cells": [
  {
   "cell_type": "code",
   "execution_count": 1,
   "metadata": {},
   "outputs": [
    {
     "data": {
      "text/html": [
       "<pre style=\"white-space:pre;overflow-x:auto;line-height:normal;font-family:Menlo,'DejaVu Sans Mono',consolas,'Courier New',monospace\">np.__version__ = <span style=\"color: #008000; text-decoration-color: #008000\">'1.19.2'</span>\n",
       "</pre>\n"
      ],
      "text/plain": [
       "<rich.jupyter.JupyterRenderable at 0x7f8fcca52340>"
      ]
     },
     "metadata": {},
     "output_type": "display_data"
    },
    {
     "data": {
      "text/html": [
       "<pre style=\"white-space:pre;overflow-x:auto;line-height:normal;font-family:Menlo,'DejaVu Sans Mono',consolas,'Courier New',monospace\">tf.__version__ = <span style=\"color: #008000; text-decoration-color: #008000\">'2.5.0'</span>\n",
       "</pre>\n"
      ],
      "text/plain": [
       "<rich.jupyter.JupyterRenderable at 0x7f8fc5b41310>"
      ]
     },
     "metadata": {},
     "output_type": "display_data"
    }
   ],
   "source": [
    "# Copyright 2020 Google LLC\n",
    "#\n",
    "# Licensed under the Apache License, Version 2.0 (the \"License\");\n",
    "# you may not use this file except in compliance with the License.\n",
    "# You may obtain a copy of the License at\n",
    "#\n",
    "#      http://www.apache.org/licenses/LICENSE-2.0\n",
    "#\n",
    "# Unless required by applicable law or agreed to in writing, software\n",
    "# distributed under the License is distributed on an \"AS IS\" BASIS,\n",
    "# WITHOUT WARRANTIES OR CONDITIONS OF ANY KIND, either express or implied.\n",
    "# See the License for the specific language governing permissions and\n",
    "# limitations under the License.\n",
    "\n",
    "import collections\n",
    "import functools\n",
    "import itertools\n",
    "import os\n",
    "import pathlib\n",
    "import sys\n",
    "import textwrap\n",
    "\n",
    "import datasets\n",
    "import matplotlib.pyplot as plt\n",
    "import numpy as np\n",
    "import re\n",
    "from rich.jupyter import print\n",
    "import rich.pretty\n",
    "import shutil\n",
    "import tensorflow as tf\n",
    "import tensorflow_hub as hub\n",
    "import tensorflow_text\n",
    "import transformers\n",
    "import tqdm\n",
    "\n",
    "sys.path.append(\"..\")\n",
    "import bert_utils\n",
    "import constants\n",
    "import retrievers\n",
    "import tf_utils\n",
    "import utils\n",
    "\n",
    "print(f\"{np.__version__ = }\")\n",
    "print(f\"{tf.__version__ = }\")\n",
    "rich.pretty.install()"
   ]
  },
  {
   "cell_type": "code",
   "execution_count": 19,
   "metadata": {},
   "outputs": [],
   "source": [
    "# Arguments\n",
    "\n",
    "NP_SEED = 0\n",
    "NUM_SUBSET = 10000\n",
    "USE_REMOTE = False\n",
    "BLOCKS_PATH_LOCAL = \"../../data/realm_blocks/blocks.tfr\"\n",
    "assert os.path.exists(BLOCKS_PATH_LOCAL)"
   ]
  },
  {
   "cell_type": "code",
   "execution_count": 20,
   "metadata": {},
   "outputs": [
    {
     "name": "stderr",
     "output_type": "stream",
     "text": [
      "Reusing dataset kilt_tasks (/Users/jules/.cache/huggingface/datasets/kilt_tasks/eli5/1.0.0/c3ef4ce7d18c05d55d7481fa79f9a9234deb0b1696c062e9e05370eb36355cae)\n"
     ]
    },
    {
     "data": {
      "text/html": [
       "<pre style=\"white-space:pre;overflow-x:auto;line-height:normal;font-family:Menlo,'DejaVu Sans Mono',consolas,'Courier New',monospace\">Dataset split keys: <span style=\"font-weight: bold\">[</span><span style=\"color: #008000; text-decoration-color: #008000\">'train'</span>, <span style=\"color: #008000; text-decoration-color: #008000\">'validation'</span>, <span style=\"color: #008000; text-decoration-color: #008000\">'test'</span><span style=\"font-weight: bold\">]</span>\n",
       "</pre>\n"
      ]
     },
     "metadata": {},
     "output_type": "display_data"
    }
   ],
   "source": [
    "# Prepare different HuggingFace objects that will definitely be needed.\n",
    "\n",
    "eli5 = datasets.load_dataset(\"kilt_tasks\", \"eli5\")\n",
    "gpt2_tokenizer = transformers.GPT2TokenizerFast.from_pretrained(\"gpt2-xl\")\n",
    "print(f\"Dataset split keys: {list(eli5.keys())}\")"
   ]
  },
  {
   "cell_type": "code",
   "execution_count": 21,
   "metadata": {},
   "outputs": [
    {
     "data": {
      "text/html": [
       "<pre style=\"white-space:pre;overflow-x:auto;line-height:normal;font-family:Menlo,'DejaVu Sans Mono',consolas,'Courier New',monospace\"><span style=\"font-weight: bold\">{</span>\n",
       "    <span style=\"color: #008000; text-decoration-color: #008000\">'query_embedder_path'</span>: <span style=\"color: #008000; text-decoration-color: #008000\">'gs://realm-data/cc_news_pretrained/embedder'</span>,\n",
       "    <span style=\"color: #008000; text-decoration-color: #008000\">'text_records'</span>: <span style=\"color: #008000; text-decoration-color: #008000\">'gs://orqa-data/enwiki-20181220/blocks.tfr'</span>,\n",
       "    <span style=\"color: #008000; text-decoration-color: #008000\">'num_block_records'</span>: <span style=\"color: #008080; text-decoration-color: #008080; font-weight: bold\">13353718</span>,\n",
       "    <span style=\"color: #008000; text-decoration-color: #008000\">'description'</span>: <span style=\"color: #008000; text-decoration-color: #008000\">'ORQA blocks text and REALM query embedder'</span>\n",
       "<span style=\"font-weight: bold\">}</span>\n",
       "</pre>\n"
      ]
     },
     "metadata": {},
     "output_type": "display_data"
    }
   ],
   "source": [
    "# Load the configuration file for the retriever. This tells us where the reference file is and how many\n",
    "# entries it has.\n",
    "\n",
    "retriever_config = tf_utils.REALMConfig(\n",
    "      **utils.from_json_file(\"../configs/retriever_configs/open_source.json\")\n",
    ")\n",
    "vars(retriever_config)"
   ]
  },
  {
   "cell_type": "code",
   "execution_count": 22,
   "metadata": {},
   "outputs": [],
   "source": [
    "# Load the reference text DB.\n",
    "# This part takes a really long time.\n",
    "if USE_REMOTE:\n",
    "    print(\"Using remote blocks.tfr.\")\n",
    "    block_records_path = retriever_config.text_records\n",
    "else:\n",
    "    print(\"Using localblocks.tfr.\")\n",
    "    block_records_path = BLOCKS_PATH_LOCAL\n",
    "    \n",
    "num_block_records = retriever_config.num_block_records\n",
    "\n",
    "print(\"tf.data.TFRecordDataset\")\n",
    "blocks_dataset = tf.data.TFRecordDataset(\n",
    "    block_records_path,\n",
    "   # Value taken from the REALM\n",
    "   # code.\n",
    "   buffer_size=512 * 1024 * 1024,\n",
    ")\n",
    "\n",
    "print(\"blocks_dataset.batch\")\n",
    "blocks_dataset = blocks_dataset.batch(num_block_records, drop_remainder=False)\n",
    "\n",
    "print(\"tf.data.experimental.get_single_element\")\n",
    "blocks = tf.data.experimental.get_single_element(blocks_dataset)"
   ]
  },
  {
   "cell_type": "code",
   "execution_count": 23,
   "metadata": {},
   "outputs": [
    {
     "data": {
      "text/html": [
       "<pre style=\"white-space:pre;overflow-x:auto;line-height:normal;font-family:Menlo,'DejaVu Sans Mono',consolas,'Courier New',monospace\">Creating subset\n",
       "</pre>\n"
      ]
     },
     "metadata": {},
     "output_type": "display_data"
    },
    {
     "data": {
      "text/html": [
       "<pre style=\"white-space:pre;overflow-x:auto;line-height:normal;font-family:Menlo,'DejaVu Sans Mono',consolas,'Courier New',monospace\">Converting to tf\n",
       "</pre>\n"
      ]
     },
     "metadata": {},
     "output_type": "display_data"
    }
   ],
   "source": [
    "# Convert the DB to numpy\n",
    "\n",
    "np.random.seed(NP_SEED)\n",
    "subset = tf.constant(np.random.permutation(NUM_SUBSET))\n",
    "print(\"Creating subset\")\n",
    "tf_blocks = tf.gather(blocks, subset)\n",
    "\n",
    "print(\"Converting to tf\")\n",
    "np_blocks_subset = tf_blocks.numpy()"
   ]
  },
  {
   "cell_type": "code",
   "execution_count": 24,
   "metadata": {},
   "outputs": [
    {
     "data": {
      "text/html": [
       "<pre style=\"white-space:pre;overflow-x:auto;line-height:normal;font-family:Menlo,'DejaVu Sans Mono',consolas,'Courier New',monospace\"><span style=\"font-weight: bold\">(</span><span style=\"color: #008080; text-decoration-color: #008080; font-weight: bold\">10000</span>,<span style=\"font-weight: bold\">)</span>\n",
       "</pre>\n"
      ]
     },
     "metadata": {},
     "output_type": "display_data"
    },
    {
     "name": "stderr",
     "output_type": "stream",
     "text": [
      "100%|██████████| 10000/10000 [00:11<00:00, 903.52it/s]\n"
     ]
    }
   ],
   "source": [
    "# Extract the lengths of a number of entries\n",
    "\n",
    "print(subset.shape)\n",
    "\n",
    "lengths = []\n",
    "for line in tqdm.tqdm(np_blocks_subset):\n",
    "    lengths.append(len(gpt2_tokenizer(line.decode())[\"input_ids\"]))"
   ]
  },
  {
   "cell_type": "code",
   "execution_count": 25,
   "metadata": {},
   "outputs": [
    {
     "data": {
      "text/html": [
       "<pre style=\"white-space:pre;overflow-x:auto;line-height:normal;font-family:Menlo,'DejaVu Sans Mono',consolas,'Courier New',monospace\"><span style=\"font-weight: bold\">(</span><span style=\"color: #008080; text-decoration-color: #008080; font-weight: bold\">275</span>, <span style=\"color: #008080; text-decoration-color: #008080; font-weight: bold\">0.8090999999999999</span><span style=\"font-weight: bold\">)</span>\n",
       "</pre>\n"
      ]
     },
     "metadata": {},
     "output_type": "display_data"
    },
    {
     "data": {
      "text/html": [
       "<pre style=\"white-space:pre;overflow-x:auto;line-height:normal;font-family:Menlo,'DejaVu Sans Mono',consolas,'Courier New',monospace\"><span style=\"font-weight: bold\">(</span><span style=\"color: #008080; text-decoration-color: #008080; font-weight: bold\">278</span>, <span style=\"color: #008080; text-decoration-color: #008080; font-weight: bold\">0.8549999999999999</span><span style=\"font-weight: bold\">)</span>\n",
       "</pre>\n"
      ]
     },
     "metadata": {},
     "output_type": "display_data"
    },
    {
     "data": {
      "text/html": [
       "<pre style=\"white-space:pre;overflow-x:auto;line-height:normal;font-family:Menlo,'DejaVu Sans Mono',consolas,'Courier New',monospace\"><span style=\"font-weight: bold\">(</span><span style=\"color: #008080; text-decoration-color: #008080; font-weight: bold\">280</span>, <span style=\"color: #008080; text-decoration-color: #008080; font-weight: bold\">0.8792999999999999</span><span style=\"font-weight: bold\">)</span>\n",
       "</pre>\n"
      ]
     },
     "metadata": {},
     "output_type": "display_data"
    },
    {
     "data": {
      "text/html": [
       "<pre style=\"white-space:pre;overflow-x:auto;line-height:normal;font-family:Menlo,'DejaVu Sans Mono',consolas,'Courier New',monospace\"><span style=\"font-weight: bold\">(</span><span style=\"color: #008080; text-decoration-color: #008080; font-weight: bold\">282</span>, <span style=\"color: #008080; text-decoration-color: #008080; font-weight: bold\">0.9033999999999999</span><span style=\"font-weight: bold\">)</span>\n",
       "</pre>\n"
      ]
     },
     "metadata": {},
     "output_type": "display_data"
    },
    {
     "data": {
      "text/html": [
       "<pre style=\"white-space:pre;overflow-x:auto;line-height:normal;font-family:Menlo,'DejaVu Sans Mono',consolas,'Courier New',monospace\"><span style=\"font-weight: bold\">(</span><span style=\"color: #008080; text-decoration-color: #008080; font-weight: bold\">285</span>, <span style=\"color: #008080; text-decoration-color: #008080; font-weight: bold\">0.9323999999999998</span><span style=\"font-weight: bold\">)</span>\n",
       "</pre>\n"
      ]
     },
     "metadata": {},
     "output_type": "display_data"
    },
    {
     "data": {
      "text/html": [
       "<pre style=\"white-space:pre;overflow-x:auto;line-height:normal;font-family:Menlo,'DejaVu Sans Mono',consolas,'Courier New',monospace\"><span style=\"font-weight: bold\">(</span><span style=\"color: #008080; text-decoration-color: #008080; font-weight: bold\">288</span>, <span style=\"color: #008080; text-decoration-color: #008080; font-weight: bold\">0.9546999999999999</span><span style=\"font-weight: bold\">)</span>\n",
       "</pre>\n"
      ]
     },
     "metadata": {},
     "output_type": "display_data"
    },
    {
     "data": {
      "text/html": [
       "<pre style=\"white-space:pre;overflow-x:auto;line-height:normal;font-family:Menlo,'DejaVu Sans Mono',consolas,'Courier New',monospace\"><span style=\"font-weight: bold\">(</span><span style=\"color: #008080; text-decoration-color: #008080; font-weight: bold\">293</span>, <span style=\"color: #008080; text-decoration-color: #008080; font-weight: bold\">0.9770999999999997</span><span style=\"font-weight: bold\">)</span>\n",
       "</pre>\n"
      ]
     },
     "metadata": {},
     "output_type": "display_data"
    }
   ],
   "source": [
    "# Compute maximum lengths of a number of centiles\n",
    "# This is really quick and dirty, inefficient code.\n",
    "\n",
    "counter = collections.Counter(lengths)\n",
    "by_len = sorted(counter.items(), key=lambda pair: pair[0])\n",
    "maxes = []\n",
    "for max_percentage in (.8, .85, .875, .9, .925, .95, .975):\n",
    "    accum = {}\n",
    "    accum_v = 0\n",
    "    for len_, count in by_len:\n",
    "        if accum_v < max_percentage:\n",
    "            accum_v += count / len(lengths)\n",
    "            accum[len_] = accum_v\n",
    "    max_ = max(accum.items(), key=lambda x: x[0])\n",
    "    maxes.append(max_)\n",
    "    print(max_)"
   ]
  },
  {
   "cell_type": "code",
   "execution_count": 26,
   "metadata": {},
   "outputs": [
    {
     "data": {
      "image/png": "[encoded data removed]"
     },
     "metadata": {
      "needs_background": "light"
     },
     "output_type": "display_data"
    }
   ],
   "source": [
    "# We plot the results.\n",
    "\n",
    "plt.figure(figsize=(10, 10))\n",
    "plt.plot(accum.keys(), accum.values())\n",
    "for x, y in maxes:\n",
    "    plt.scatter(x=(x,), y=(y,), color=\"red\")\n",
    "plt.yticks(np.linspace(0, 1, 21))\n",
    "plt.xticks(np.linspace(0, 300, 11))\n",
    "for x, y in maxes:\n",
    "    plt.text(x - 45, y- 0.0075, f\"{y:0.1%}: {x}\", size=10)"
   ]
  },
  {
   "cell_type": "code",
   "execution_count": null,
   "metadata": {},
   "outputs": [],
   "source": []
  }
 ],
 "metadata": {
  "kernelspec": {
   "display_name": "Python 3",
   "language": "python",
   "name": "python3"
  },
  "language_info": {
   "codemirror_mode": {
    "name": "ipython",
    "version": 3
   },
   "file_extension": ".py",
   "mimetype": "text/x-python",
   "name": "python",
   "nbconvert_exporter": "python",
   "pygments_lexer": "ipython3",
   "version": "3.8.5"
  }
 },
 "nbformat": 4,
 "nbformat_minor": 4
}
