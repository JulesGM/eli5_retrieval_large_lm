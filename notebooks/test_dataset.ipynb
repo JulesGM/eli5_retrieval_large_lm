{
 "cells": [
  {
   "cell_type": "code",
   "execution_count": 1,
   "id": "valid-needle",
   "metadata": {},
   "outputs": [
    {
     "name": "stdout",
     "output_type": "stream",
     "text": [
      "Requirement already satisfied: markdown_strings in /home/jules/anaconda/lib/python3.8/site-packages (3.3.0)\n"
     ]
    }
   ],
   "source": [
    "import collections\n",
    "import dataclasses\n",
    "import itertools\n",
    "import json\n",
    "import numpy as np\n",
    "import os\n",
    "import pathlib\n",
    "import socket\n",
    "import subprocess\n",
    "import sys\n",
    "import transformers\n",
    "from typing import *\n",
    "\n",
    "!pip install markdown_strings\n",
    "import markdown_strings\n",
    "from IPython.display import display, Markdown, Latex\n",
    "\n",
    "import rich\n",
    "import rich.console\n",
    "import rich.markdown\n",
    "import rich.table\n",
    "\n",
    "import tensorflow.python.framework.ops as ops\n",
    "import tensorflow as tf\n",
    "import tensorflow.python.distribute.values as values\n",
    "import toolz\n",
    "import tqdm.notebook as tqdm\n",
    "\n",
    "_PROJECT_DIRECTORY = pathlib.Path().resolve().parent\n",
    "sys.path.append(str(_PROJECT_DIRECTORY))\n",
    "import constants\n",
    "import task_specific\n",
    "import tf_utils\n",
    "import utils\n"
   ]
  },
  {
   "cell_type": "code",
   "execution_count": 2,
   "id": "numerical-investment",
   "metadata": {},
   "outputs": [],
   "source": [
    "def normal(text, escape=False):\n",
    "    if escape:\n",
    "        text = markdown_strings.esc_format(text)\n",
    "    display(Markdown(text))\n",
    "\n",
    "def h1(text, escape=False):\n",
    "    if escape:\n",
    "        text = markdown_strings.esc_format(text)\n",
    "    display(Markdown(f\"# {text}\"))\n",
    "    \n",
    "def h2(text, escape=False):\n",
    "    if escape:\n",
    "        text = markdown_strings.esc_format(text)\n",
    "    display(Markdown(f\"#### {text}\"))\n",
    "    \n",
    "def quote(text, escape=True):\n",
    "    if escape:\n",
    "        text = markdown_strings.esc_format(text)\n",
    "    display(Markdown(markdown_strings.blockquote(text)))\n",
    "    \n",
    "def build_split_to_ds_paths(project_directory, num_paths_display):\n",
    "    h1(\"Getting filenames.\")\n",
    "    h2(\"Loading json config.\")\n",
    "    config_path = project_directory/\"configs\"/\"train_configs\"/\"tpu_gpt2_eli5_kilt.json\"\n",
    "    config = utils.from_json_file(config_path)\n",
    "    \n",
    "    h2(\"Calling `gsutil ls` on the dataset repo.\")\n",
    "    ds_path = config[\"tfr_prefix\"]\n",
    "    filenames = subprocess.check_output(f\"gsutil ls {ds_path}\", shell=True).decode().strip().split(\"\\n\")\n",
    "\n",
    "    h2(\"Printing a few paths:\")\n",
    "    normal(f\"There are actually {len(filenames)}.\")\n",
    "    normal(\" - \" + \"\\n - \".join(filenames[:num_paths_display]))\n",
    "    \n",
    "    h1(\"Building the `per_split` Path dict.\")\n",
    "    per_split = collections.defaultdict(list)\n",
    "    for path in tqdm.tqdm(filenames, desc=\"Building `per_split` dict.\"):\n",
    "        split = pathlib.Path(path).name.split(\"_\")[0]\n",
    "        per_split[split].append(path)\n",
    "\n",
    "    normal(\"Sorting the `per_split` lists.\")\n",
    "    for split in per_split:\n",
    "        # Ad-hoc split per file index\n",
    "        per_split[split].sort(key=lambda p: int(pathlib.Path(p).name.split(\"_\")[1].split(\".\")[0]))\n",
    "\n",
    "    normal(\"Len per split for the per_split dict:\")\n",
    "    \n",
    "    print({split: len(per_split[split]) for split in per_split})\n",
    "    \n",
    "    return per_split\n",
    "\n",
    "\n",
    "def build_dataset(paths, context_window_size, split, batch_size):\n",
    "    ds = tf.data.TFRecordDataset(paths)\n",
    "    description = {\n",
    "      constants.CTH5Fields.distances:\n",
    "          tf.io.FixedLenFeature((), tf.string),\n",
    "      constants.CTH5Fields.gpt2_retrieved_ids:\n",
    "          tf.io.FixedLenFeature((), tf.string),\n",
    "      constants.CTH5Fields.gpt2_question_ids_inputs:\n",
    "          tf.io.FixedLenFeature((), tf.string),\n",
    "    }\n",
    "    if split != constants.SplitChoices.test:\n",
    "        description[\n",
    "            constants.CTH5Fields.gpt2_answer_ids_inputs\n",
    "        ] = tf.io.FixedLenFeature((), tf.string)\n",
    "\n",
    "    feature_dtypes = {\n",
    "      constants.CTH5Fields.distances:\n",
    "          tf.float32,\n",
    "      constants.CTH5Fields.gpt2_retrieved_ids:\n",
    "          tf.int32,\n",
    "      constants.CTH5Fields.gpt2_question_ids_inputs:\n",
    "          tf.int32,\n",
    "    }\n",
    "    if split != constants.SplitChoices.test:\n",
    "        feature_dtypes[\n",
    "            constants.CTH5Fields.gpt2_answer_ids_inputs\n",
    "        ] = tf.int32\n",
    "\n",
    "    feature_shape = {\n",
    "      constants.CTH5Fields.distances:\n",
    "          (10,),\n",
    "      constants.CTH5Fields.gpt2_retrieved_ids:\n",
    "          (10, context_window_size,),\n",
    "      constants.CTH5Fields.gpt2_question_ids_inputs:\n",
    "          (context_window_size,),\n",
    "    }\n",
    "    if split != constants.SplitChoices.test:\n",
    "        feature_shape[constants.CTH5Fields.gpt2_answer_ids_inputs] = (\n",
    "            context_window_size\n",
    "        )\n",
    "\n",
    "    @tf.function\n",
    "    def parse(sample):\n",
    "        example = tf.io.parse_single_example(sample, description)\n",
    "        output = {}\n",
    "        for k, v in example.items():\n",
    "            output[k] = tf.io.parse_tensor(v, out_type=feature_dtypes[k])\n",
    "            output[k].set_shape(feature_shape[k])\n",
    "        return output\n",
    "\n",
    "    ds = ds.map(\n",
    "      parse,\n",
    "      num_parallel_calls=tf.data.experimental.AUTOTUNE,\n",
    "      deterministic=False\n",
    "      )\n",
    "    \n",
    "    ds = ds.batch(\n",
    "      batch_size,\n",
    "      drop_remainder=split != constants.SplitChoices.test\n",
    "      )\n",
    "\n",
    "    return ds\n",
    "\n",
    "\n",
    "def decode_line(tokenizer, line):\n",
    "    return tokenizer.decode([x for x in line if x >= 0])\n",
    "\n",
    "\n",
    "def is_all_neg(tensor):\n",
    "    if not isinstance(tensor, (np.ndarray, tf.Tensor, ops.EagerTensor)):\n",
    "        return all([x < 0 for x in tensor])\n",
    "    else:\n",
    "        return np.all(tensor < 0)\n",
    "    \n",
    "    \n",
    "def check_and_decode(feature_key, item, tokenizer):\n",
    "    feature = item[feature_key]\n",
    "    all_neg = is_all_neg(feature)\n",
    "    assert not all_neg, feature_key\n",
    "    return decode_line(tokenizer, feature)\n",
    "    \n",
    "    \n",
    "def display_item(major, minor, max_minor, tokenizer, item, split):    \n",
    "    item = vars(item)\n",
    "    ##################################################################################################################\n",
    "    # Produce information\n",
    "    ##################################################################################################################\n",
    "    question = check_and_decode(\n",
    "        constants.CTH5Fields.gpt2_question_ids_inputs,\n",
    "        item,\n",
    "        tokenizer\n",
    "    )\n",
    "    \n",
    "    answer = None\n",
    "    if split != \"test\":\n",
    "        feature_key = constants.CTH5Fields.gpt2_answer_ids_inputs\n",
    "        feature = item[feature_key]\n",
    "        answer = check_and_decode(feature_key, item, tokenizer)\n",
    "\n",
    "    retrieved_segments = []\n",
    "    for line in item[constants.CTH5Fields.gpt2_retrieved_ids]:\n",
    "        retrieved_segments.append(decode_line(tokenizer, line))\n",
    "\n",
    "    ##################################################################################################################\n",
    "    # Display\n",
    "    ##################################################################################################################\n",
    "    console = rich.console.Console()\n",
    "    table = rich.table.Table(title=f\"{major}:[{minor}/{max_minor}] - Item from split `{split}`\", show_lines=True)\n",
    "    table.add_column(\"Field\", style=\"bold\")\n",
    "    table.add_column(\"Value\")\n",
    "    table.add_row(\"Question:\", question)\n",
    "    for i, segment in enumerate(retrieved_segments):\n",
    "        table.add_row(f\"Retrieved segment {i}:\", segment)\n",
    "\n",
    "    if answer:\n",
    "        table.add_row(\"Answer:\", answer)\n",
    "    \n",
    "    console.print(table)\n",
    "    \n",
    "\n",
    "def check_all_unique(iterable):\n",
    "    \"\"\"Memory and computation scale in O(N) with N = len(iterable). \"\"\"\n",
    "    \n",
    "    iter_count = 0\n",
    "    set_ = set()\n",
    "    \n",
    "    for item in iterable:\n",
    "        iter_count += 1\n",
    "        set_.add(item) \n",
    "    \n",
    "    utils.check_equal(iter_count, len(set_))\n",
    "\n",
    "    \n",
    "@dataclasses.dataclass\n",
    "class Sample:\n",
    "    distances: tf.Tensor\n",
    "    gpt2_answer_ids: tf.Tensor\n",
    "    gpt2_question_ids: tf.Tensor\n",
    "    gpt2_retrieved_ids: tf.Tensor"
   ]
  },
  {
   "cell_type": "code",
   "execution_count": 8,
   "id": "independent-livestock",
   "metadata": {},
   "outputs": [
    {
     "name": "stdout",
     "output_type": "stream",
     "text": [
      "WARNING:tensorflow:TPU system jules has already been initialized. Reinitializing the TPU can cause previously created variables on TPU to be lost.\n"
     ]
    },
    {
     "name": "stderr",
     "output_type": "stream",
     "text": [
      "WARNING:tensorflow:TPU system jules has already been initialized. Reinitializing the TPU can cause previously created variables on TPU to be lost.\n"
     ]
    },
    {
     "name": "stdout",
     "output_type": "stream",
     "text": [
      "INFO:tensorflow:Initializing the TPU system: jules\n"
     ]
    },
    {
     "name": "stderr",
     "output_type": "stream",
     "text": [
      "INFO:tensorflow:Initializing the TPU system: jules\n"
     ]
    },
    {
     "name": "stdout",
     "output_type": "stream",
     "text": [
      "INFO:tensorflow:Clearing out eager caches\n"
     ]
    },
    {
     "name": "stderr",
     "output_type": "stream",
     "text": [
      "INFO:tensorflow:Clearing out eager caches\n"
     ]
    },
    {
     "name": "stdout",
     "output_type": "stream",
     "text": [
      "INFO:tensorflow:Finished initializing TPU system.\n"
     ]
    },
    {
     "name": "stderr",
     "output_type": "stream",
     "text": [
      "INFO:tensorflow:Finished initializing TPU system.\n"
     ]
    },
    {
     "name": "stdout",
     "output_type": "stream",
     "text": [
      "INFO:tensorflow:Found TPU system:\n"
     ]
    },
    {
     "name": "stderr",
     "output_type": "stream",
     "text": [
      "INFO:tensorflow:Found TPU system:\n"
     ]
    },
    {
     "name": "stdout",
     "output_type": "stream",
     "text": [
      "INFO:tensorflow:*** Num TPU Cores: 8\n"
     ]
    },
    {
     "name": "stderr",
     "output_type": "stream",
     "text": [
      "INFO:tensorflow:*** Num TPU Cores: 8\n"
     ]
    },
    {
     "name": "stdout",
     "output_type": "stream",
     "text": [
      "INFO:tensorflow:*** Num TPU Workers: 1\n"
     ]
    },
    {
     "name": "stderr",
     "output_type": "stream",
     "text": [
      "INFO:tensorflow:*** Num TPU Workers: 1\n"
     ]
    },
    {
     "name": "stdout",
     "output_type": "stream",
     "text": [
      "INFO:tensorflow:*** Num TPU Cores Per Worker: 8\n"
     ]
    },
    {
     "name": "stderr",
     "output_type": "stream",
     "text": [
      "INFO:tensorflow:*** Num TPU Cores Per Worker: 8\n"
     ]
    },
    {
     "name": "stdout",
     "output_type": "stream",
     "text": [
      "INFO:tensorflow:*** Available Device: _DeviceAttributes(/job:localhost/replica:0/task:0/device:CPU:0, CPU, 0, 0)\n"
     ]
    },
    {
     "name": "stderr",
     "output_type": "stream",
     "text": [
      "INFO:tensorflow:*** Available Device: _DeviceAttributes(/job:localhost/replica:0/task:0/device:CPU:0, CPU, 0, 0)\n"
     ]
    },
    {
     "name": "stdout",
     "output_type": "stream",
     "text": [
      "INFO:tensorflow:*** Available Device: _DeviceAttributes(/job:worker/replica:0/task:0/device:CPU:0, CPU, 0, 0)\n"
     ]
    },
    {
     "name": "stderr",
     "output_type": "stream",
     "text": [
      "INFO:tensorflow:*** Available Device: _DeviceAttributes(/job:worker/replica:0/task:0/device:CPU:0, CPU, 0, 0)\n"
     ]
    },
    {
     "name": "stdout",
     "output_type": "stream",
     "text": [
      "INFO:tensorflow:*** Available Device: _DeviceAttributes(/job:worker/replica:0/task:0/device:TPU:0, TPU, 0, 0)\n"
     ]
    },
    {
     "name": "stderr",
     "output_type": "stream",
     "text": [
      "INFO:tensorflow:*** Available Device: _DeviceAttributes(/job:worker/replica:0/task:0/device:TPU:0, TPU, 0, 0)\n"
     ]
    },
    {
     "name": "stdout",
     "output_type": "stream",
     "text": [
      "INFO:tensorflow:*** Available Device: _DeviceAttributes(/job:worker/replica:0/task:0/device:TPU:1, TPU, 0, 0)\n"
     ]
    },
    {
     "name": "stderr",
     "output_type": "stream",
     "text": [
      "INFO:tensorflow:*** Available Device: _DeviceAttributes(/job:worker/replica:0/task:0/device:TPU:1, TPU, 0, 0)\n"
     ]
    },
    {
     "name": "stdout",
     "output_type": "stream",
     "text": [
      "INFO:tensorflow:*** Available Device: _DeviceAttributes(/job:worker/replica:0/task:0/device:TPU:2, TPU, 0, 0)\n"
     ]
    },
    {
     "name": "stderr",
     "output_type": "stream",
     "text": [
      "INFO:tensorflow:*** Available Device: _DeviceAttributes(/job:worker/replica:0/task:0/device:TPU:2, TPU, 0, 0)\n"
     ]
    },
    {
     "name": "stdout",
     "output_type": "stream",
     "text": [
      "INFO:tensorflow:*** Available Device: _DeviceAttributes(/job:worker/replica:0/task:0/device:TPU:3, TPU, 0, 0)\n"
     ]
    },
    {
     "name": "stderr",
     "output_type": "stream",
     "text": [
      "INFO:tensorflow:*** Available Device: _DeviceAttributes(/job:worker/replica:0/task:0/device:TPU:3, TPU, 0, 0)\n"
     ]
    },
    {
     "name": "stdout",
     "output_type": "stream",
     "text": [
      "INFO:tensorflow:*** Available Device: _DeviceAttributes(/job:worker/replica:0/task:0/device:TPU:4, TPU, 0, 0)\n"
     ]
    },
    {
     "name": "stderr",
     "output_type": "stream",
     "text": [
      "INFO:tensorflow:*** Available Device: _DeviceAttributes(/job:worker/replica:0/task:0/device:TPU:4, TPU, 0, 0)\n"
     ]
    },
    {
     "name": "stdout",
     "output_type": "stream",
     "text": [
      "INFO:tensorflow:*** Available Device: _DeviceAttributes(/job:worker/replica:0/task:0/device:TPU:5, TPU, 0, 0)\n"
     ]
    },
    {
     "name": "stderr",
     "output_type": "stream",
     "text": [
      "INFO:tensorflow:*** Available Device: _DeviceAttributes(/job:worker/replica:0/task:0/device:TPU:5, TPU, 0, 0)\n"
     ]
    },
    {
     "name": "stdout",
     "output_type": "stream",
     "text": [
      "INFO:tensorflow:*** Available Device: _DeviceAttributes(/job:worker/replica:0/task:0/device:TPU:6, TPU, 0, 0)\n"
     ]
    },
    {
     "name": "stderr",
     "output_type": "stream",
     "text": [
      "INFO:tensorflow:*** Available Device: _DeviceAttributes(/job:worker/replica:0/task:0/device:TPU:6, TPU, 0, 0)\n"
     ]
    },
    {
     "name": "stdout",
     "output_type": "stream",
     "text": [
      "INFO:tensorflow:*** Available Device: _DeviceAttributes(/job:worker/replica:0/task:0/device:TPU:7, TPU, 0, 0)\n"
     ]
    },
    {
     "name": "stderr",
     "output_type": "stream",
     "text": [
      "INFO:tensorflow:*** Available Device: _DeviceAttributes(/job:worker/replica:0/task:0/device:TPU:7, TPU, 0, 0)\n"
     ]
    },
    {
     "name": "stdout",
     "output_type": "stream",
     "text": [
      "INFO:tensorflow:*** Available Device: _DeviceAttributes(/job:worker/replica:0/task:0/device:TPU_SYSTEM:0, TPU_SYSTEM, 0, 0)\n"
     ]
    },
    {
     "name": "stderr",
     "output_type": "stream",
     "text": [
      "INFO:tensorflow:*** Available Device: _DeviceAttributes(/job:worker/replica:0/task:0/device:TPU_SYSTEM:0, TPU_SYSTEM, 0, 0)\n"
     ]
    },
    {
     "name": "stdout",
     "output_type": "stream",
     "text": [
      "INFO:tensorflow:*** Available Device: _DeviceAttributes(/job:worker/replica:0/task:0/device:XLA_CPU:0, XLA_CPU, 0, 0)\n"
     ]
    },
    {
     "name": "stderr",
     "output_type": "stream",
     "text": [
      "INFO:tensorflow:*** Available Device: _DeviceAttributes(/job:worker/replica:0/task:0/device:XLA_CPU:0, XLA_CPU, 0, 0)\n"
     ]
    },
    {
     "data": {
      "text/markdown": [
       "# Getting filenames."
      ],
      "text/plain": [
       "<IPython.core.display.Markdown object>"
      ]
     },
     "metadata": {},
     "output_type": "display_data"
    },
    {
     "data": {
      "text/markdown": [
       "#### Loading json config."
      ],
      "text/plain": [
       "<IPython.core.display.Markdown object>"
      ]
     },
     "metadata": {},
     "output_type": "display_data"
    },
    {
     "data": {
      "text/markdown": [
       "#### Calling `gsutil ls` on the dataset repo."
      ],
      "text/plain": [
       "<IPython.core.display.Markdown object>"
      ]
     },
     "metadata": {},
     "output_type": "display_data"
    },
    {
     "data": {
      "text/markdown": [
       "#### Printing a few paths:"
      ],
      "text/plain": [
       "<IPython.core.display.Markdown object>"
      ]
     },
     "metadata": {},
     "output_type": "display_data"
    },
    {
     "data": {
      "text/markdown": [
       "There are actually 8192."
      ],
      "text/plain": [
       "<IPython.core.display.Markdown object>"
      ]
     },
     "metadata": {},
     "output_type": "display_data"
    },
    {
     "data": {
      "text/markdown": [
       " - gs://julesgm-research-v3/tfrecord_query_cache/20210225-191356/eval_0.tfr\n",
       " - gs://julesgm-research-v3/tfrecord_query_cache/20210225-191356/eval_1.tfr\n",
       " - gs://julesgm-research-v3/tfrecord_query_cache/20210225-191356/eval_10.tfr\n",
       " - gs://julesgm-research-v3/tfrecord_query_cache/20210225-191356/eval_100.tfr\n",
       " - gs://julesgm-research-v3/tfrecord_query_cache/20210225-191356/eval_1000.tfr\n",
       " - gs://julesgm-research-v3/tfrecord_query_cache/20210225-191356/eval_1001.tfr\n",
       " - gs://julesgm-research-v3/tfrecord_query_cache/20210225-191356/eval_1002.tfr\n",
       " - gs://julesgm-research-v3/tfrecord_query_cache/20210225-191356/eval_1003.tfr\n",
       " - gs://julesgm-research-v3/tfrecord_query_cache/20210225-191356/eval_1004.tfr\n",
       " - gs://julesgm-research-v3/tfrecord_query_cache/20210225-191356/eval_1005.tfr"
      ],
      "text/plain": [
       "<IPython.core.display.Markdown object>"
      ]
     },
     "metadata": {},
     "output_type": "display_data"
    },
    {
     "data": {
      "text/markdown": [
       "# Building the `per_split` Path dict."
      ],
      "text/plain": [
       "<IPython.core.display.Markdown object>"
      ]
     },
     "metadata": {},
     "output_type": "display_data"
    },
    {
     "data": {
      "application/vnd.jupyter.widget-view+json": {
       "model_id": "0be3015699ca49b481803e489709ff73",
       "version_major": 2,
       "version_minor": 0
      },
      "text/plain": [
       "HBox(children=(FloatProgress(value=0.0, description='Building `per_split` dict.', max=8192.0, style=ProgressSt…"
      ]
     },
     "metadata": {},
     "output_type": "display_data"
    },
    {
     "name": "stdout",
     "output_type": "stream",
     "text": [
      "\n"
     ]
    },
    {
     "data": {
      "text/markdown": [
       "Sorting the `per_split` lists."
      ],
      "text/plain": [
       "<IPython.core.display.Markdown object>"
      ]
     },
     "metadata": {},
     "output_type": "display_data"
    },
    {
     "data": {
      "text/markdown": [
       "Len per split for the per_split dict:"
      ],
      "text/plain": [
       "<IPython.core.display.Markdown object>"
      ]
     },
     "metadata": {},
     "output_type": "display_data"
    },
    {
     "name": "stdout",
     "output_type": "stream",
     "text": [
      "{'eval': 2048, 'test': 2048, 'train': 2048, 'validation': 2048}\n",
      "Making sure all paths are unique\n",
      "eval\n"
     ]
    },
    {
     "data": {
      "application/vnd.jupyter.widget-view+json": {
       "model_id": "569b10f67a9846f9a99b59a70d9e7b7e",
       "version_major": 2,
       "version_minor": 0
      },
      "text/plain": [
       "HBox(children=(FloatProgress(value=0.0, max=2048.0), HTML(value='')))"
      ]
     },
     "metadata": {},
     "output_type": "display_data"
    },
    {
     "name": "stdout",
     "output_type": "stream",
     "text": [
      "\n",
      "test\n"
     ]
    },
    {
     "data": {
      "application/vnd.jupyter.widget-view+json": {
       "model_id": "e3933c9d8e114159b2511938093c6709",
       "version_major": 2,
       "version_minor": 0
      },
      "text/plain": [
       "HBox(children=(FloatProgress(value=0.0, max=2048.0), HTML(value='')))"
      ]
     },
     "metadata": {},
     "output_type": "display_data"
    },
    {
     "name": "stdout",
     "output_type": "stream",
     "text": [
      "\n",
      "train\n"
     ]
    },
    {
     "data": {
      "application/vnd.jupyter.widget-view+json": {
       "model_id": "dc4d17ead2794ee7934b329babc03f2e",
       "version_major": 2,
       "version_minor": 0
      },
      "text/plain": [
       "HBox(children=(FloatProgress(value=0.0, max=2048.0), HTML(value='')))"
      ]
     },
     "metadata": {},
     "output_type": "display_data"
    },
    {
     "name": "stdout",
     "output_type": "stream",
     "text": [
      "\n",
      "validation\n"
     ]
    },
    {
     "data": {
      "application/vnd.jupyter.widget-view+json": {
       "model_id": "2a53ad522f2a4b7d85e18c69ee8ca9a9",
       "version_major": 2,
       "version_minor": 0
      },
      "text/plain": [
       "HBox(children=(FloatProgress(value=0.0, max=2048.0), HTML(value='')))"
      ]
     },
     "metadata": {},
     "output_type": "display_data"
    },
    {
     "name": "stdout",
     "output_type": "stream",
     "text": [
      "\n"
     ]
    }
   ],
   "source": [
    "###############################################################################\n",
    "# Long configuration stuff\n",
    "###############################################################################\n",
    "\n",
    "#------------------------------------------------------------------------------\n",
    "# Flags\n",
    "#------------------------------------------------------------------------------\n",
    "_MAX_QTY = None\n",
    "_MODEL_TYPE = \"distilgpt2\"\n",
    "_EXPECTED_SIZES = dict(train=272634, eval=1507, test=600)\n",
    "_NUM_PATHS_DISPLAY = 10\n",
    "_NUM_REPLICAS = 8\n",
    "_ACCEL_TYPE = \"TPU\"\n",
    "\n",
    "\n",
    "#------------------------------------------------------------------------------\n",
    "# TPU Stuff\n",
    "#------------------------------------------------------------------------------\n",
    "if _ACCEL_TYPE == \"TPU\":\n",
    "    tpu_setup = tf_utils.init_tpus(socket.gethostname())\n",
    "    utils.check_equal(tf_utils.devices_to_use()[0].device_type, \"TPU\")\n",
    "    utils.check_equal(len(tf_utils.devices_to_use()), 8)\n",
    "    strategy = tf.distribute.TPUStrategy(tpu_setup.resolver)\n",
    "elif _ACCEL_TYPE == \"CPU\":\n",
    "    device = tf_utils.devices_to_use()[0]\n",
    "    utils.check_equal(len(tf_utils.devices_to_use()), 1)\n",
    "    utils.check_equal(device.device_type, \"CPU\")\n",
    "    strategy = tf.distribute.OneDeviceStrategy(device)\n",
    "    \n",
    "else:\n",
    "    raise RuntimeError(_ACCEL_TYPE)\n",
    "    \n",
    "    \n",
    "#------------------------------------------------------------------------------\n",
    "# Huggingface Stuff\n",
    "#------------------------------------------------------------------------------\n",
    "model_config = transformers.AutoConfig.from_pretrained(_MODEL_TYPE)\n",
    "tokenizer = transformers.GPT2TokenizerFast.from_pretrained(_MODEL_TYPE)\n",
    "splits_to_ds_paths = build_split_to_ds_paths(_PROJECT_DIRECTORY, _NUM_PATHS_DISPLAY)\n",
    "print(\"Making sure all paths are unique\")\n",
    "for k, v in splits_to_ds_paths.items():\n",
    "    print(k)\n",
    "    check_all_unique(tqdm.tqdm(v))\n",
    "context_window_size = model_config.n_ctx"
   ]
  },
  {
   "cell_type": "code",
   "execution_count": null,
   "id": "alive-window",
   "metadata": {},
   "outputs": [
    {
     "name": "stdout",
     "output_type": "stream",
     "text": [
      "Building DS\n",
      "Created DS\n"
     ]
    },
    {
     "data": {
      "text/html": [
       "<pre style=\"white-space:pre;overflow-x:auto;line-height:normal;font-family:Menlo,'DejaVu Sans Mono',consolas,'Courier New',monospace\"><span style=\"font-style: italic\">                              0:[0/8] - Item from split `train`                              </span>\n",
       "┏━━━━━━━━━━━━━━━━━━━━━━┳━━━━━━━━━━━━━━━━━━━━━━━━━━━━━━━━━━━━━━━━━━━━━━━━━━━━━━━━━━━━━━━━━━━━┓\n",
       "┃<span style=\"font-weight: bold\"> Field                </span>┃<span style=\"font-weight: bold\"> Value                                                              </span>┃\n",
       "┡━━━━━━━━━━━━━━━━━━━━━━╇━━━━━━━━━━━━━━━━━━━━━━━━━━━━━━━━━━━━━━━━━━━━━━━━━━━━━━━━━━━━━━━━━━━━┩\n",
       "│<span style=\"font-weight: bold\"> Question:            </span>│ in football whats the point of wasting the first two plays with a  │\n",
       "│                      │ rush - up the middle - not regular rush plays i get those          │\n",
       "├──────────────────────┼────────────────────────────────────────────────────────────────────┤\n",
       "│<span style=\"font-weight: bold\"> Retrieved segment 0: </span>│ Although the Packers have won only five of their last ten playoff  │\n",
       "│                      │ games at Lambeau Field, their overall home post-season record is a │\n",
       "│                      │ respectable 16–5. The stadium has hosted five championship         │\n",
       "│                      │ contests: three NFL title games in 1961, 1965 and 1967 (the \"Ice   │\n",
       "│                      │ Bowl\"); two NFC championships after the 1996 and 2007 seasons.     │\n",
       "│                      │ Many Packer players will jump into the end zone stands after       │\n",
       "│                      │ scoring a touchdown, in a celebration affectionately known as the  │\n",
       "│                      │ \"Lambeau Leap\". The Lambeau Leap was invented by safety LeRoy      │\n",
       "│                      │ Butler, who scored after a Reggie White fumble recovery and        │\n",
       "│                      │ lateral against the L.A. Raiders on December 26, 1993. It was      │\n",
       "│                      │ later popularized by wide receiver Robert Brooks. It's not known   │\n",
       "│                      │ precisely when the celebration was first coined the \"Lambeau       │\n",
       "│                      │ Leap\", but one of the first possible mentions was by broadcaster   │\n",
       "│                      │ Al Michaels, who mentioned during a Monday Night Football          │\n",
       "│                      │ broadcast in 1996, \"It's a new tradition in Green Bay, Robert      │\n",
       "│                      │ Brooks \"leaping\" into the stands.\" When the NFL banned excessive   │\n",
       "│                      │ celebrations in 2000, the Lambeau Leap was grandfathered into the  │\n",
       "│                      │ new rules, permitting it to continue. Occasionally, a visiting     │\n",
       "│                      │ player will attempt a Lambeau Leap, only to be denied by Packers   │\n",
       "│                      │ fans.                                                              │\n",
       "├──────────────────────┼────────────────────────────────────────────────────────────────────┤\n",
       "│<span style=\"font-weight: bold\"> Retrieved segment 1: </span>│ Stance (American football)                                         │\n",
       "│                      │                                                                    │\n",
       "│                      │ Stance is the position an American football player adopts when a   │\n",
       "│                      │ play begins. There are three common stances used by linemen:       │\n",
       "│                      │ two-point, three-point, and four-point. The stance names reference │\n",
       "│                      │ the number of points where a player's body is touching the ground  │\n",
       "│                      │ while down in the stance. Each technique has its own strengths and │\n",
       "│                      │ weaknesses; therefore, each one is used accordingly in different   │\n",
       "│                      │ situations. Furthermore, stances are taught and used differently   │\n",
       "│                      │ depending on the level of competition (little league football,     │\n",
       "│                      │ high school football, college football, etc.). In the National     │\n",
       "│                      │ Football League (NFL), the average amount of plays per game is     │\n",
       "│                      │ over 60 per team. This means that, in one game, a lineman playing  │\n",
       "│                      │ the entire time could enter a stance more than 60 times. However,  │\n",
       "│                      │ it is not likely to be the same stance every time. Furthermore, it │\n",
       "│                      │ is important to remember that the offensive team must remain still │\n",
       "│                      │ for one second prior to the ball being snapped. This means that    │\n",
       "│                      │ once an offensive player has become set in a stance, he must stay  │\n",
       "│                      │ in it until the ball is snapped and the play begins. Additional    │\n",
       "│                      │ motion can result in a false start penalty. Defensive players, on  │\n",
       "│                      │ the other hand, are permitted to shift as much as they want before │\n",
       "│                      │ a play.                                                            │\n",
       "├──────────────────────┼────────────────────────────────────────────────────────────────────┤\n",
       "│<span style=\"font-weight: bold\"> Retrieved segment 2: </span>│ Multibagger stock                                                  │\n",
       "│                      │                                                                    │\n",
       "│                      │ A multibagger stock is an equity stock which gives a return of     │\n",
       "│                      │ more than 100%. The term was coined by Peter Lynch in his 1988     │\n",
       "│                      │ book, \"One Up on Wall Street\" and comes from baseball where \"bags\" │\n",
       "│                      │ or \"bases\" that a runner reaches are the measure of the success of │\n",
       "│                      │ a play. For example, a ten bagger is a stock which gives returns   │\n",
       "│                      │ equal to 10 times the investment, while a twenty bagger stock      │\n",
       "│                      │ gives a return of 20 times. This term is especially common when    │\n",
       "│                      │ discussing high-growth industries and or emerging markets such as  │\n",
       "│                      │ the BRICS. As with most investment metrics, past performance is no │\n",
       "│                      │ guarantee of future returns, and multibag returns may be           │\n",
       "│                      │ indicative of either sustained growth or an investment bubble.     │\n",
       "│                      │ Examples of multibagger stocks on the NASDAQ in 2015 were:         │\n",
       "│                      │                                                                    │\n",
       "│                      │ Examples of multibagger stocks in India in 2015 were:              │\n",
       "├──────────────────────┼────────────────────────────────────────────────────────────────────┤\n",
       "│<span style=\"font-weight: bold\"> Retrieved segment 3: </span>│ There are two general schemes for defending against the pass:      │\n",
       "│                      │                                                                    │\n",
       "│                      │ There are times when a defense believes that the best way to stop  │\n",
       "│                      │ the offense is to rush the quarterback, which involves sending     │\n",
       "│                      │ several players charging at the line of scrimmage in an attempt to │\n",
       "│                      │ tackle the quarterback before he can throw the ball or hand it to  │\n",
       "│                      │ another player. Any player on the defense is allowed to rush the   │\n",
       "│                      │ quarterback, and many schemes have been developed over 50 years    │\n",
       "│                      │ that involve complicated or unusual blitz \"packages\". Defensive    │\n",
       "│                      │ strategies differ somewhat from offensive strategies in that,      │\n",
       "│                      │ unlike offenses that have very specific, detailed plans and        │\n",
       "│                      │ assignments for each player, defenses are more reactive, with each │\n",
       "│                      │ player's general goal being to \"stop the offense\" by tackling the  │\n",
       "│                      │ ball carrier, breaking up passing plays, taking the ball away from │\n",
       "│                      │ the offense, or sacking the quarterback. Whereas precision and     │\n",
       "│                      │ timing are among the most important parts of offensive strategy,   │\n",
       "│                      │ defensive strategies often emphasize aggressiveness and the        │\n",
       "│                      │ ability to react to plays as they develop. Nevertheless, there are │\n",
       "│                      │ many defensive strategies that have been developed over the years  │\n",
       "│                      │ that coaches use as a framework for their general defense, making  │\n",
       "│                      │ specific adjustments depending on the capabilities of their        │\n",
       "│                      │ players and the opponent they are facing. Some of the most         │\n",
       "│                      │ commonly known and used defensive strategies include:              │\n",
       "│                      │                                                                    │\n",
       "│                      │ A special team is the group of players who take the field during   │\n",
       "│                      │ kickoffs, free kicks, punts, and field goal attempts.              │\n",
       "├──────────────────────┼────────────────────────────────────────────────────────────────────┤\n",
       "│<span style=\"font-weight: bold\"> Retrieved segment 4: </span>│ Teams will use this strategy from time to time to confuse the      │\n",
       "│                      │ defense or force them to devoted more attention to possible        │\n",
       "│                      │ pass-catchers. Using a combination of passing plays and running    │\n",
       "│                      │ plays, the offense tries to gain the yards needed for a first      │\n",
       "│                      │ down, touchdown, or field goal. Over the years several football    │\n",
       "│                      │ coaches and offensive coordinators have developed some well-known  │\n",
       "│                      │ and widely used offensive strategies:                              │\n",
       "│                      │                                                                    │\n",
       "│                      │ Distinct from the offensive strategies or philosophies, which      │\n",
       "│                      │ govern how a team moves the ball down the field, whether a team    │\n",
       "│                      │ relies on downfield passes, short passes, inside runs, etc. are    │\n",
       "│                      │ the ways in which plays are called. These play calling systems     │\n",
       "│                      │ often developed alongside certain offensive strategies, though the │\n",
       "│                      │ systems themselves can work with any strategy. The differences     │\n",
       "│                      │ between the systems focus on the specific language used to         │\n",
       "│                      │ communicate plays to players. In the NFL, three basic systems      │\n",
       "│                      │ predominate:                                                       │\n",
       "│                      │                                                                    │\n",
       "│                      │ The goal of defensive strategy is to prevent the opposing offense  │\n",
       "│                      │ from gaining yards and scoring points, either by preventing the    │\n",
       "│                      │ offense from advancing the ball beyond the line of scrimmage or by │\n",
       "│                      │ the defense taking the ball away from the offense (referred to as  │\n",
       "│                      │ a turnover) and scoring points themselves. On defense, there are   │\n",
       "│                      │ three types of players: linemen, linebackers, and defensive backs  │\n",
       "│                      │ (also called secondary players).                                   │\n",
       "├──────────────────────┼────────────────────────────────────────────────────────────────────┤\n",
       "│<span style=\"font-weight: bold\"> Retrieved segment 5: </span>│ According to Football Outsiders, a quarterback hurry is the most   │\n",
       "│                      │ common form of pass pressure. In the 2009 NFL season, there were   │\n",
       "│                      │ 1,106 sacks and 3,268 hurries, and a hurried quarterback generally │\n",
       "│                      │ averaged fewer yards per pass play compared to the average pass    │\n",
       "│                      │ play. These records are from 1982 onwards, the year the NFL        │\n",
       "│                      │ started officially recording sacks.                                │\n",
       "├──────────────────────┼────────────────────────────────────────────────────────────────────┤\n",
       "│<span style=\"font-weight: bold\"> Retrieved segment 6: </span>│ In 2011, the Jets attempted to convert to a more pass-oriented     │\n",
       "│                      │ offense, which have become more widely used in the NFL, however,   │\n",
       "│                      │ the team struggled with this adjustment and reverted to their      │\n",
       "│                      │ former run-oriented offense by the middle of the season. His       │\n",
       "│                      │ defensive strategy, in contrast, tends to be more elaborate taking │\n",
       "│                      │ into consideration his experience in the field. There are six      │\n",
       "│                      │ different defensive formations utilized in football, but the two   │\n",
       "│                      │ commonly used formations are the 3–4 formation, with three         │\n",
       "│                      │ defensive lineman and four linebackers, and the 4–3 formation,     │\n",
       "│                      │ with four defensive lineman and three linebackers. The Jets        │\n",
       "│                      │ utilized the former of the two popular formations; however, Ryan   │\n",
       "│                      │ tended to employ all six formations in varying forms. Furthermore, │\n",
       "│                      │ he often calls audibles that have the defense line up in one       │\n",
       "│                      │ formation and switch to another so as to cloak their intentions    │\n",
       "│                      │ and confuse and pressure the opponent. As a testament to this      │\n",
       "│                      │ philosophy, Ryan is often willing to defer the coin toss to the    │\n",
       "│                      │ opponent so his team can begin the game playing on defense in      │\n",
       "│                      │ order to \"set the tone\" and generate turnovers. This concept has   │\n",
       "│                      │ been criticized by ESPN reporter John Clayton, who has found the   │\n",
       "│                      │ method to be ineffective league-wide.                              │\n",
       "├──────────────────────┼────────────────────────────────────────────────────────────────────┤\n",
       "│<span style=\"font-weight: bold\"> Retrieved segment 7: </span>│ Bump and run coverage                                              │\n",
       "│                      │                                                                    │\n",
       "│                      │ Bump and run coverage is a strategy often used by defensive backs  │\n",
       "│                      │ in American football in which a defensive player lines up directly │\n",
       "│                      │ in front of a wide receiver and tries to impede him with arms,     │\n",
       "│                      │ hands, or entire body and disrupt his intended route. This         │\n",
       "│                      │ originated in the American Football League in the 1960s, one of    │\n",
       "│                      │ whose earliest experts was Willie Brown of the Oakland Raiders.    │\n",
       "│                      │ Mel Blount of the Pittsburgh Steelers specialized in this coverage │\n",
       "│                      │ to such a point as to cause a rule change (see below) to make it   │\n",
       "│                      │ easier for receivers to run their routes and increase scoring.     │\n",
       "│                      │ This play works well against routes that require the receiver to   │\n",
       "│                      │ be in a certain spot at a certain time. The disadvantage, however, │\n",
       "│                      │ is that the receiver can get behind the cornerback for a big play. │\n",
       "│                      │ This varies from the more traditional defensive formation in which │\n",
       "│                      │ a defensive player will give the receiver a \"cushion\" of about 5   │\n",
       "│                      │ yards to prevent the receiver from getting behind him. In the NFL, │\n",
       "│                      │ a defensive back is allowed any sort of contact within the 5 yard  │\n",
       "│                      │ bump zone except for holding the receiver, otherwise the defensive │\n",
       "│                      │ back can be called for an illegal contact penalty, costing 5 yards │\n",
       "│                      │ and an automatic first down, enforced since 1978, and known        │\n",
       "│                      │ colloquially as the Mel Blount Rule.                               │\n",
       "├──────────────────────┼────────────────────────────────────────────────────────────────────┤\n",
       "│<span style=\"font-weight: bold\"> Retrieved segment 8: </span>│ Offside (sport)                                                    │\n",
       "│                      │                                                                    │\n",
       "│                      │ Offside, often pluralized as Offsides in American English, is a    │\n",
       "│                      │ rule used by several different team sports regulating aspects of   │\n",
       "│                      │ player positioning. It is particularly used in field sports with   │\n",
       "│                      │ rules deriving from the various codes of football, such as         │\n",
       "│                      │ association football, rugby union and rugby league, and in some    │\n",
       "│                      │ other sports e.g. ice hockey, field hockey and bandy. Offside      │\n",
       "│                      │ rules are generally designed to ensure that players play together  │\n",
       "│                      │ as a team, and do not consistently position one or a few players   │\n",
       "│                      │ near the opponent's goal to try to receive a \"Hail Mary pass\" for  │\n",
       "│                      │ an easy goal without opposing players nearby. However, the         │\n",
       "│                      │ application and enforcement of offside rules can be complicated,   │\n",
       "│                      │ and can sometimes be confusing for new players as well as for      │\n",
       "│                      │ spectators. The word \"offside\" comes from a military term for a    │\n",
       "│                      │ man trapped behind enemy lines, where he is said to be \"off the    │\n",
       "│                      │ strength of his side\". Offside rules date back to codes of         │\n",
       "│                      │ football developed at English public schools in the early          │\n",
       "│                      │ nineteenth century. These offside rules were often much stricter   │\n",
       "│                      │ than in modern games. In some of them, a player was \"off his side\" │\n",
       "│                      │ if he was standing in front of the ball. This was similar to the   │\n",
       "│                      │ current offside law in rugby, which penalizes any player between   │\n",
       "│                      │ the ball and the opponent's goal.                                  │\n",
       "├──────────────────────┼────────────────────────────────────────────────────────────────────┤\n",
       "│<span style=\"font-weight: bold\"> Retrieved segment 9: </span>│ NCAA continues to subtract sack yardage from individual rushing    │\n",
       "│                      │ totals. The term \"sack\" was first popularized by Hall of Fame      │\n",
       "│                      │ defensive end Deacon Jones in the 1960s, who felt that a sack      │\n",
       "│                      │ devastated the offense in the same way that a city was devastated  │\n",
       "│                      │ when it was sacked. According to former NFL coach Marv Levy, it    │\n",
       "│                      │ was Washington Redskins coach George Allen who actually coined the │\n",
       "│                      │ term when referring to Dallas Cowboys quarterback Craig Morton.    │\n",
       "│                      │ Allen purportedly stated before a game, \"Before we play those      │\n",
       "│                      │ Dallas Cowboys, we’re going to take that Morton salt and pour him  │\n",
       "│                      │ into a sack.\" Prior to \"sack\", the term \"dump\" was often used, and │\n",
       "│                      │ the NFL's statistical office recorded all sacks under \"dumping the │\n",
       "│                      │ passer\". The NFL only began to keep track of times passers lost    │\n",
       "│                      │ yardage in 1961 and no credit was given to the defensive player    │\n",
       "│                      │ responsible until 1982. Researcher John Turney of the Pro Football │\n",
       "│                      │ Researchers Association estimated that Jones recorded 173½ sacks   │\n",
       "│                      │ in his career. Controversial NFL rule changes made for the 2018    │\n",
       "│                      │ season prohibit tacklers landing on the quarterback after making a │\n",
       "│                      │ sack, with the punishment being a roughing the passer penalty. Of  │\n",
       "│                      │ all forms of defensive pressure against the opposition's passer,   │\n",
       "│                      │ sacks provide the most immediate impact by ending the offensive    │\n",
       "│                      │ play. However, quarterbacks sometimes avoid a sack by throwing an  │\n",
       "│                      │ incomplete pass or risking an interception.                        │\n",
       "├──────────────────────┼────────────────────────────────────────────────────────────────────┤\n",
       "│<span style=\"font-weight: bold\"> Answer:              </span>│ Keep the defense honest, get a feel for the pass rush, open up the │\n",
       "│                      │ passing game. An offense that's too one dimensional will fail. And │\n",
       "│                      │ those rushes up the middle can be busted wide open sometimes for   │\n",
       "│                      │ big yardage.                                                       │\n",
       "└──────────────────────┴────────────────────────────────────────────────────────────────────┘\n",
       "</pre>\n"
      ],
      "text/plain": [
       "<rich.jupyter.JupyterRenderable at 0x7fc262bb59d0>"
      ]
     },
     "metadata": {},
     "output_type": "display_data"
    },
    {
     "data": {
      "text/html": [
       "<pre style=\"white-space:pre;overflow-x:auto;line-height:normal;font-family:Menlo,'DejaVu Sans Mono',consolas,'Courier New',monospace\"><span style=\"font-style: italic\">                              0:[1/8] - Item from split `train`                              </span>\n",
       "┏━━━━━━━━━━━━━━━━━━━━━━┳━━━━━━━━━━━━━━━━━━━━━━━━━━━━━━━━━━━━━━━━━━━━━━━━━━━━━━━━━━━━━━━━━━━━┓\n",
       "┃<span style=\"font-weight: bold\"> Field                </span>┃<span style=\"font-weight: bold\"> Value                                                              </span>┃\n",
       "┡━━━━━━━━━━━━━━━━━━━━━━╇━━━━━━━━━━━━━━━━━━━━━━━━━━━━━━━━━━━━━━━━━━━━━━━━━━━━━━━━━━━━━━━━━━━━┩\n",
       "│<span style=\"font-weight: bold\"> Question:            </span>│ How do scholars \"resurrect\" lost languages based on only           │\n",
       "│                      │ unreadable writing?                                                │\n",
       "├──────────────────────┼────────────────────────────────────────────────────────────────────┤\n",
       "│<span style=\"font-weight: bold\"> Retrieved segment 0: </span>│ Rosetta Project                                                    │\n",
       "│                      │                                                                    │\n",
       "│                      │ The Rosetta Project is a global collaboration of language          │\n",
       "│                      │ specialists and native speakers working to develop a contemporary  │\n",
       "│                      │ version of the historic Rosetta Stone to last from 2000 to 12,000  │\n",
       "│                      │ AD; it is run by the Long Now Foundation. Its goal is a meaningful │\n",
       "│                      │ survey and near permanent archive of 1,500 languages. Some of      │\n",
       "│                      │ these languages have fewer than one thousand speakers left. Others │\n",
       "│                      │ are considered to be dying out because government centralization   │\n",
       "│                      │ and globalization are increasing the prevalence of English and     │\n",
       "│                      │ other major languages. The intention is to create a unique         │\n",
       "│                      │ platform for comparative linguistic research and education, as     │\n",
       "│                      │ well as a functional linguistic tool that might help in the        │\n",
       "│                      │ recovery or revitalisation of lost languages in the future. The    │\n",
       "│                      │ project is creating this broad language archive through an open    │\n",
       "│                      │ contribution, open review process similar to the strategy that     │\n",
       "│                      │ created the original \"Oxford English Dictionary\". The resulting    │\n",
       "│                      │ archive will be publicly available in three different media: a     │\n",
       "│                      │ HD-Rosetta micro-etched nickel alloy disc three inches (7.62 cm)   │\n",
       "│                      │ across with a 2,000 year life expectancy; a single volume          │\n",
       "│                      │ monumental reference book; and a growing online archive. Fifty to  │\n",
       "│                      │ ninety percent of the world's languages are predicted to disappear │\n",
       "│                      │ in the next century, many with little or no significant            │\n",
       "│                      │ documentation. Much linguistic description, especially the         │\n",
       "│                      │ description of languages with few speakers, remains hidden in      │\n",
       "│                      │ personal research files or poorly preserved in under-funded        │\n",
       "│                      │ archives.                                                          │\n",
       "├──────────────────────┼────────────────────────────────────────────────────────────────────┤\n",
       "│<span style=\"font-weight: bold\"> Retrieved segment 1: </span>│ Language was one of the features of Anglicisation in Ireland:      │\n",
       "│                      │ although it never died out and became an official language after   │\n",
       "│                      │ independence, Irish had lost its status as the island's principal  │\n",
       "│                      │ vernacular to become a minority language during the period of      │\n",
       "│                      │ English rule; similarly, in North America indigenous languages     │\n",
       "│                      │ have been replaced by those of the colonists. According to Ghil'ad │\n",
       "│                      │ Zuckermann, \"language reclamation will become increasingly         │\n",
       "│                      │ relevant as people seek to recover their cultural autonomy,        │\n",
       "│                      │ empower their spiritual and intellectual sovereignty, and improve  │\n",
       "│                      │ wellbeing. There are various ethical, aesthetic and utilitarian    │\n",
       "│                      │ benefits of language revival—for example, historical justice,      │\n",
       "│                      │ diversity and employability, respectively.\" Google launched the    │\n",
       "│                      │ Endangered Languages Project aimed at helping preserve languages   │\n",
       "│                      │ that are at risk of extinction. Its goal is to compile up-to-date  │\n",
       "│                      │ information about endangered languages and share the latest        │\n",
       "│                      │ research about them. Anthropologist Akira Yamamoto has identified  │\n",
       "│                      │ nine factors that he believes will help prevent language death:    │\n",
       "│                      │                                                                    │\n",
       "│                      │ Linguists distinguish between language \"death\" and the process     │\n",
       "│                      │ where a language becomes a \"dead language\" through normal language │\n",
       "│                      │ change, a linguistic phenomenon analogous to pseudoextinction.     │\n",
       "│                      │ This happens when a language in the course of its normal           │\n",
       "│                      │ development gradually morphs into something that is then           │\n",
       "│                      │ recognized as a separate, different language, leaving the old form │\n",
       "│                      │ with no native speakers.                                           │\n",
       "├──────────────────────┼────────────────────────────────────────────────────────────────────┤\n",
       "│<span style=\"font-weight: bold\"> Retrieved segment 2: </span>│ The Linguists                                                      │\n",
       "│                      │                                                                    │\n",
       "│                      │ The Linguists is an independent 2008 American documentary film     │\n",
       "│                      │ produced by Ironbound Films about language extinction and language │\n",
       "│                      │ documentation. It follows two linguists, Greg Anderson of the      │\n",
       "│                      │ Living Tongues Institute for Endangered Languages and David        │\n",
       "│                      │ Harrison of Swarthmore College, as they travel around the world to │\n",
       "│                      │ collect recordings of some of the last speakers of several         │\n",
       "│                      │ moribund (dying) languages: Chulym in Siberia; Chemehuevi in       │\n",
       "│                      │ Arizona, U.S.; Sora in Orissa, India; and Kallawaya in Bolivia.    │\n",
       "│                      │ Seth Kramer, one of the directors, describes how he first got the  │\n",
       "│                      │ idea for \"The Linguists\" when, in Vilnius, Lithuania, he could not │\n",
       "│                      │ read Yiddish inscriptions on a path in spite of his Jewish         │\n",
       "│                      │ heritage. He joined with Daniel A. Miller in 2003 to form          │\n",
       "│                      │ Ironbound Films, and received a $520,000 grant from the National   │\n",
       "│                      │ Science Foundation to support the film. Later in 2003, the         │\n",
       "│                      │ directors chose Anderson and Harrison to be the protagonists of    │\n",
       "│                      │ the film. In 2004, director Jeremy Newberger joined the project.   │\n",
       "│                      │ It took three years to film \"The Linguists\", and during this time  │\n",
       "│                      │ over 200 hours of film were collected. During this time, the cast  │\n",
       "│                      │ and crew travelled to numerous remote areas that one reporter      │\n",
       "│                      │ describes as \"godforsaken,\" and coped with physical ailments such  │\n",
       "│                      │ as altitude sickness.                                              │\n",
       "├──────────────────────┼────────────────────────────────────────────────────────────────────┤\n",
       "│<span style=\"font-weight: bold\"> Retrieved segment 3: </span>│ Cuneiform writing was gradually replaced by the Phoenician         │\n",
       "│                      │ alphabet during the Neo-Assyrian Empire (911–612 BC). By the       │\n",
       "│                      │ second century AD, the script had become extinct, its last traces  │\n",
       "│                      │ being found in Assyria and Babylonia, and all knowledge of how to  │\n",
       "│                      │ read it was lost until it began to be deciphered in the 19th       │\n",
       "│                      │ century. Between half a million and two million cuneiform tablets  │\n",
       "│                      │ are estimated to have been excavated in modern times, of which     │\n",
       "│                      │ only approximately 30,000–100,000 have been read or published. The │\n",
       "│                      │ British Museum holds the largest collection ( 130,000), followed   │\n",
       "│                      │ by the Vorderasiatisches Museum Berlin, the Louvre, the Istanbul   │\n",
       "│                      │ Archaeology Museums, the National Museum of Iraq, the Yale         │\n",
       "│                      │ Babylonian Collection ( 40,000) and Penn Museum. Most of these     │\n",
       "│                      │ have \"lain in these collections for a century without being        │\n",
       "│                      │ translated, studied or published\", as there are only a few hundred │\n",
       "│                      │ qualified cuneiformists in the world. The cuneiform writing system │\n",
       "│                      │ was in use for more than three millennia, through several stages   │\n",
       "│                      │ of development, from the 31st century BC down to the second        │\n",
       "│                      │ century AD. Ultimately, it was completely replaced by alphabetic   │\n",
       "│                      │ writing (in the general sense) in the course of the Roman era, and │\n",
       "│                      │ there are no cuneiform systems in current use.                     │\n",
       "├──────────────────────┼────────────────────────────────────────────────────────────────────┤\n",
       "│<span style=\"font-weight: bold\"> Retrieved segment 4: </span>│ Culturomics                                                        │\n",
       "│                      │                                                                    │\n",
       "│                      │ Culturomics is a form of computational lexicology that studies     │\n",
       "│                      │ human behavior and cultural trends through the quantitative        │\n",
       "│                      │ analysis of digitized texts. Researchers data mine large digital   │\n",
       "│                      │ archives to investigate cultural phenomena reflected in language   │\n",
       "│                      │ and word usage. The term is an American neologism first described  │\n",
       "│                      │ in a 2010 \"Science\" article called \"Quantitative Analysis of       │\n",
       "│                      │ Culture Using Millions of Digitized Books\", co-authored by Harvard │\n",
       "│                      │ researchers Jean-Baptiste Michel and Erez Lieberman Aiden. Michel  │\n",
       "│                      │ and Aiden helped create the Google Labs project Google Ngram       │\n",
       "│                      │ Viewer which uses n-grams to analyze the Google Books digital      │\n",
       "│                      │ library for cultural patterns in language use over time. Because   │\n",
       "│                      │ the Google Ngram data set is not an unbiased sample, and does not  │\n",
       "│                      │ include metadata, there are several pitfalls when using it to      │\n",
       "│                      │ study language or the popularity of terms. Medical literature      │\n",
       "│                      │ accounts for a large, but shifting, share of the corpus, which     │\n",
       "│                      │ does not take into account how often the literature is printed, or │\n",
       "│                      │ read. In a study called \"Culturomics 2.0\", Kalev H. Leetaru        │\n",
       "│                      │ examined news archives including print and broadcast media         │\n",
       "│                      │ (television and radio transcripts) for words that imparted tone or │\n",
       "│                      │ \"mood\" as well as geographic data. The research was able to        │\n",
       "│                      │ retroactively predict the 2011 Arab Spring and successfully        │\n",
       "│                      │ estimate the final location of Osama Bin Laden to within.          │\n",
       "├──────────────────────┼────────────────────────────────────────────────────────────────────┤\n",
       "│<span style=\"font-weight: bold\"> Retrieved segment 5: </span>│ Emmett L. Bennett Jr.                                              │\n",
       "│                      │                                                                    │\n",
       "│                      │ Emmett Leslie Bennett Jr. (July 12, 1918 – December 15, 2011) was  │\n",
       "│                      │ an American classicist and philologist whose systematic catalog of │\n",
       "│                      │ its symbols led to the solution of the mystery of reading and      │\n",
       "│                      │ interpreting Linear B, a 3,300-year-old syllabary used for writing │\n",
       "│                      │ Mycenaean Greek hundreds of years before the Greek alphabet was    │\n",
       "│                      │ developed. Archaeologist Arthur Evans had discovered Linear B in   │\n",
       "│                      │ 1900 during his excavations at Knossos on the Greek island of      │\n",
       "│                      │ Crete and spent decades trying to comprehend its writings until    │\n",
       "│                      │ his death in 1941. Bennett and Alice Kober cataloged the 80        │\n",
       "│                      │ symbols used in the script in his 1951 work \"The Pylos Tablets\",   │\n",
       "│                      │ which provided linguist John Chadwick and amateur scholar Michael  │\n",
       "│                      │ Ventris with the vital clues needed to finally decipher Linear B   │\n",
       "│                      │ in 1952. Bennett was born on July 12, 1918, in Minneapolis and     │\n",
       "│                      │ attended the University of Cincinnati, where he studied the        │\n",
       "│                      │ classics, earning bachelor's, master's and doctoral degrees, and   │\n",
       "│                      │ was a student of the American archaeologist Carl Blegen, who had   │\n",
       "│                      │ uncovered a series of tablets inscribed in Linear B during         │\n",
       "│                      │ excavations he had conducted at Pylos in 1939. Bennett worked as a │\n",
       "│                      │ cryptanalyst on the American effort decoding Japanese ciphers      │\n",
       "│                      │ during World War II, despite not knowing any Japanese.             │\n",
       "├──────────────────────┼────────────────────────────────────────────────────────────────────┤\n",
       "│<span style=\"font-weight: bold\"> Retrieved segment 6: </span>│ Magicians of the Gods                                              │\n",
       "│                      │                                                                    │\n",
       "│                      │ Magicians of the Gods: The Forgotten Wisdom of Earth's Lost        │\n",
       "│                      │ Civilisation is a 2015 book by British pseudoarchaeology writer    │\n",
       "│                      │ Graham Hancock. It is published by Thomas Dunne Books in the       │\n",
       "│                      │ United States and Coronet in the United Kingdom. An \"updated and   │\n",
       "│                      │ expanded\" paperback edition was released in 2017. A sequel to      │\n",
       "│                      │ Hancock's \"Fingerprints of the Gods\" (1995), the book is based on  │\n",
       "│                      │ the premise that there was a highly advanced \"lost civilisation\"   │\n",
       "│                      │ in prehistory that was destroyed in a global catastrophe. In       │\n",
       "│                      │ \"Magicians of the Gods\", Hancock seeks an explanation for this     │\n",
       "│                      │ catastrophe in the controversial Younger Dryas impact hypothesis,  │\n",
       "│                      │ suggesting that around 10,800 BC the earth was struck by the       │\n",
       "│                      │ fragments of a large comet, causing widespread destruction,        │\n",
       "│                      │ climate change, and sea level rise. He then recounts that the      │\n",
       "│                      │ survivors of this catastrophe, the titular \"Magicians\", dispersed  │\n",
       "│                      │ across the world to pass on the knowledge of their lost            │\n",
       "│                      │ civilisation. He links this to the construction of various ancient │\n",
       "│                      │ monuments, including Göbekli Tepe, Baalbek, and the Pyramids of    │\n",
       "│                      │ Giza, which Hancock claims are much older than mainstream          │\n",
       "│                      │ archaeologists say.                                                │\n",
       "├──────────────────────┼────────────────────────────────────────────────────────────────────┤\n",
       "│<span style=\"font-weight: bold\"> Retrieved segment 7: </span>│ Salvage ethnography                                                │\n",
       "│                      │                                                                    │\n",
       "│                      │ Salvage ethnography is the recording of the practices and folklore │\n",
       "│                      │ of cultures threatened with extinction, including as a result of   │\n",
       "│                      │ modernization. It is generally associated with the American        │\n",
       "│                      │ anthropologist Franz Boas; he and his students aimed to record     │\n",
       "│                      │ vanishing Native American cultures. Since the 1960s,               │\n",
       "│                      │ anthropologists have used the term as part of a critique of        │\n",
       "│                      │ 19th-century ethnography and early modern anthropology. The term   │\n",
       "│                      │ \"salvage ethnography\" was coined by Jacob W. Gruber, who           │\n",
       "│                      │ identified its emergence with 19th-century ethnographers           │\n",
       "│                      │ documenting the languages of peoples being conquered and colonized │\n",
       "│                      │ by European countries or the United States. According to Gruber,   │\n",
       "│                      │ one of the first official statements acknowledging that a major    │\n",
       "│                      │ effect of colonialism was the destruction of existing languages    │\n",
       "│                      │ and ways of life was \"The report of the British Select Committee   │\n",
       "│                      │ of Aborigines\" (1837). As a scholarly response, Gruber quotes      │\n",
       "│                      │ James Cowles Prichard's address before the British Association for │\n",
       "│                      │ the Advancement of Science in 1839, referring to the Old Testament │\n",
       "│                      │ tale of Cain and Abel:                                             │\n",
       "│                      │ Frances Densmore (1867–1957), an influential ethnomusicologist,    │\n",
       "│                      │ worked in the tradition of salvage ethnography. Densmore recorded  │\n",
       "│                      │ the songs and lyrics of Native Americans in an attempt to preserve │\n",
       "│                      │ them permanently.                                                  │\n",
       "├──────────────────────┼────────────────────────────────────────────────────────────────────┤\n",
       "│<span style=\"font-weight: bold\"> Retrieved segment 8: </span>│ In opposition to this idea, Michael Coe described \"epiphenomenal\"  │\n",
       "│                      │ as \"a ten penny word meaning that Maya writing is only of marginal │\n",
       "│                      │ application since it is secondary to those more primary            │\n",
       "│                      │ institutions—economics and society—so well studied by the dirt     │\n",
       "│                      │ archaeologists.\" Linda Schele noted following the conference that  │\n",
       "│                      │ this is like saying that the inscriptions of ancient Egypt—or the  │\n",
       "│                      │ writings of Greek philosophers or historians—do not reveal         │\n",
       "│                      │ anything important about their cultures. Most written documents in │\n",
       "│                      │ most cultures tell us about the elite, because in most cultures in │\n",
       "│                      │ the past, they were the ones who could write (or could have things │\n",
       "│                      │ written down by scribes or inscribed on monuments). Progress in    │\n",
       "│                      │ decipherment continues at a rapid pace, as of 2018. It is          │\n",
       "│                      │ generally agreed by scholars that over 90 percent of the Maya      │\n",
       "│                      │ texts can now be read with reasonable accuracy., at least one      │\n",
       "│                      │ phonetic glyph was known (or had been proposed) for each of the    │\n",
       "│                      │ syllables marked in this chart. /t’/ is rare. Based on verbal      │\n",
       "│                      │ inflection patterns, it would seem that a syllabogram for /wu/ did │\n",
       "│                      │ not exist rather than simply being unattested. /p’/ is not found,  │\n",
       "│                      │ and is thought to have been a later innovation in the Cholan and   │\n",
       "│                      │ Yucatec languages. Currently Maya script cannot be represented in  │\n",
       "│                      │ any computer character encoding.                                   │\n",
       "├──────────────────────┼────────────────────────────────────────────────────────────────────┤\n",
       "│<span style=\"font-weight: bold\"> Retrieved segment 9: </span>│ Language revitalization                                            │\n",
       "│                      │                                                                    │\n",
       "│                      │ Language revitalization, also referred to as language revival or   │\n",
       "│                      │ reversing language shift, is an attempt to halt or reverse the     │\n",
       "│                      │ decline of a language or to revive an extinct one. Those involved  │\n",
       "│                      │ can include parties such as linguists, cultural or community       │\n",
       "│                      │ groups, or governments. Some argue for a distinction between       │\n",
       "│                      │ language revival (the resurrection of a dead language with no      │\n",
       "│                      │ existing native speakers) and language revitalization (the rescue  │\n",
       "│                      │ of a \"dying\" language). It has been pointed out that there has     │\n",
       "│                      │ only been one successful instance of a complete language revival,  │\n",
       "│                      │ that of the Hebrew language, creating a new generation of native   │\n",
       "│                      │ speakers without any pre-existing native speakers as a model.      │\n",
       "│                      │ Languages targeted for language revitalization include those whose │\n",
       "│                      │ use and prominence is severely limited. Sometimes various tactics  │\n",
       "│                      │ of language revitalization can even be used to try to revive       │\n",
       "│                      │ extinct languages. Though the goals of language revitalization     │\n",
       "│                      │ vary greatly from case to case, they typically involve attempting  │\n",
       "│                      │ to expand the number of speakers and use of a language, or trying  │\n",
       "│                      │ to maintain the current level of use to protect the language from  │\n",
       "│                      │ extinction or language death. Reasons for revitalization vary. In  │\n",
       "│                      │ recent times alone, it is estimated that more than 2000 languages  │\n",
       "│                      │ have already become extinct.                                       │\n",
       "├──────────────────────┼────────────────────────────────────────────────────────────────────┤\n",
       "│<span style=\"font-weight: bold\"> Answer:              </span>│ In the case of the Rosetta stone, there were translations of the   │\n",
       "│                      │ same text in 3 different languages. Scholars were able to use that │\n",
       "│                      │ to determine words if they are used multiple times. For example,   │\n",
       "│                      │ if you have three sentences about bread, you can guess that one of │\n",
       "│                      │ the common words is bread.                                         │\n",
       "└──────────────────────┴────────────────────────────────────────────────────────────────────┘\n",
       "</pre>\n"
      ],
      "text/plain": [
       "<rich.jupyter.JupyterRenderable at 0x7fc262bb5160>"
      ]
     },
     "metadata": {},
     "output_type": "display_data"
    },
    {
     "data": {
      "text/html": [
       "<pre style=\"white-space:pre;overflow-x:auto;line-height:normal;font-family:Menlo,'DejaVu Sans Mono',consolas,'Courier New',monospace\"><span style=\"font-style: italic\">                              0:[2/8] - Item from split `train`                              </span>\n",
       "┏━━━━━━━━━━━━━━━━━━━━━━┳━━━━━━━━━━━━━━━━━━━━━━━━━━━━━━━━━━━━━━━━━━━━━━━━━━━━━━━━━━━━━━━━━━━━┓\n",
       "┃<span style=\"font-weight: bold\"> Field                </span>┃<span style=\"font-weight: bold\"> Value                                                              </span>┃\n",
       "┡━━━━━━━━━━━━━━━━━━━━━━╇━━━━━━━━━━━━━━━━━━━━━━━━━━━━━━━━━━━━━━━━━━━━━━━━━━━━━━━━━━━━━━━━━━━━┩\n",
       "│<span style=\"font-weight: bold\"> Question:            </span>│ Why do Americans pay for so much for healthcare, yet other         │\n",
       "│                      │ countries are able to get by without paying nearly as much?        │\n",
       "├──────────────────────┼────────────────────────────────────────────────────────────────────┤\n",
       "│<span style=\"font-weight: bold\"> Retrieved segment 0: </span>│ Increases were driven by the coverage expansion that began in 2014 │\n",
       "│                      │ as a result of the Affordable Care Act (i.e., more persons         │\n",
       "│                      │ demanding healthcare or more healthcare units consumed) as well as │\n",
       "│                      │ higher healthcare prices per unit. U.S. healthcare costs are       │\n",
       "│                      │ considerably higher than other countries as a share of GDP, among  │\n",
       "│                      │ other measures. According to the OECD, U.S. healthcare costs in    │\n",
       "│                      │ 2015 were 16.9% GDP, over 5% GDP higher than the next most         │\n",
       "│                      │ expensive OECD country. A gap of 5% GDP represents $1 trillion,    │\n",
       "│                      │ about $3,000 per person relative to the next most expensive        │\n",
       "│                      │ country. In other words, the U.S. would have to cut healthcare     │\n",
       "│                      │ costs by roughly one-third to be competitive with the next most    │\n",
       "│                      │ expensive country. Reasons for higher costs than other countries   │\n",
       "│                      │ including higher administrative costs, spending more for the same  │\n",
       "│                      │ services (i.e., higher prices per unit), receiving more medical    │\n",
       "│                      │ care (units) per capita than other countries, cost variation       │\n",
       "│                      │ across hospital regions without different results, higher levels   │\n",
       "│                      │ of per-capita income, and less active government intervention to   │\n",
       "│                      │ reduce costs. Spending is highly concentrated among sicker         │\n",
       "│                      │ patients. The Institute of Medicine reported in September 2012     │\n",
       "│                      │ that approximately $750B per year in U.S. health care costs are    │\n",
       "│                      │ avoidable or wasted.                                               │\n",
       "├──────────────────────┼────────────────────────────────────────────────────────────────────┤\n",
       "│<span style=\"font-weight: bold\"> Retrieved segment 1: </span>│ In addition to their premium contributions, most covered workers   │\n",
       "│                      │ face additional payments when they use health care services, in    │\n",
       "│                      │ the form of deductibles and copayments. Just less than 9% of the   │\n",
       "│                      │ population purchases individual health care insurance. Insurance   │\n",
       "│                      │ payments are a form of cost-sharing and risk management where each │\n",
       "│                      │ individual or their employer pays predictable monthly premiums.    │\n",
       "│                      │ This cost-spreading mechanism often picks up much of the cost of   │\n",
       "│                      │ health care, but individuals must often pay up-front a minimum     │\n",
       "│                      │ part of the total cost (a \"deductible\"), or a small part of the    │\n",
       "│                      │ cost of every procedure (a copayment). Private insurance accounts  │\n",
       "│                      │ for 35% of total health spending in the United States, by far the  │\n",
       "│                      │ largest share among OECD countries. Beside the United States,      │\n",
       "│                      │ Canada and France are the two other OECD countries where private   │\n",
       "│                      │ insurance represents more than 10% of total health spending.       │\n",
       "│                      │ Provider networks can be used to reduce costs by negotiating       │\n",
       "│                      │ favorable fees from providers, selecting cost effective providers, │\n",
       "│                      │ and creating financial incentives for providers to practice more   │\n",
       "│                      │ efficiently. A survey issued in 2009 by America's Health Insurance │\n",
       "│                      │ Plans found that patients going to out-of-network providers are    │\n",
       "│                      │ sometimes charged extremely high fees. Defying many analysts'      │\n",
       "│                      │ expectations, PPOs have gained market share at the expense of HMOs │\n",
       "│                      │ over the past decade.                                              │\n",
       "├──────────────────────┼────────────────────────────────────────────────────────────────────┤\n",
       "│<span style=\"font-weight: bold\"> Retrieved segment 2: </span>│ For those who obtain their insurance through their employer        │\n",
       "│                      │ (\"group market\"), a 2016 survey found that:                        │\n",
       "│                      │                                                                    │\n",
       "│                      │ For the \"non-group\" market, of which two-thirds are covered by the │\n",
       "│                      │ ACA exchanges, a survey of 2015 data found that:                   │\n",
       "│                      │                                                                    │\n",
       "│                      │ According to the OECD, U.S. prescription drug spending in 2015 was │\n",
       "│                      │ $1,162 per person on average, versus $807 for Canada, $766 for     │\n",
       "│                      │ Germany, $668 for France, and $497 for the UK. The reasons for     │\n",
       "│                      │ higher U.S. healthcare costs relative to other countries and over  │\n",
       "│                      │ time are debated by experts. U.S. healthcare costs in 2015 were    │\n",
       "│                      │ 16.9% GDP according to the OECD, over 5% GDP higher than the next  │\n",
       "│                      │ most expensive OECD country. With U.S. GDP of $19 trillion,        │\n",
       "│                      │ healthcare costs were about $3.2 trillion, or about $10,000 per    │\n",
       "│                      │ person in a country of 320 million people. A gap of 5% GDP         │\n",
       "│                      │ represents $1 trillion, about $3,000 per person relative to the    │\n",
       "│                      │ next most expensive country. In other words, the U.S. would have   │\n",
       "│                      │ to cut healthcare costs by roughly one-third ($1 trillion or       │\n",
       "│                      │ $3,000 per person on average) to be competitive with the next most │\n",
       "│                      │ expensive country.                                                 │\n",
       "├──────────────────────┼────────────────────────────────────────────────────────────────────┤\n",
       "│<span style=\"font-weight: bold\"> Retrieved segment 3: </span>│ Cost sharing reductions subsidy                                    │\n",
       "│                      │                                                                    │\n",
       "│                      │ The cost sharing reductions (CSR) subsidy is the smaller of two    │\n",
       "│                      │ subsidies paid under the Patient Protection and Affordable Care    │\n",
       "│                      │ Act (ACA) as part of the healthcare system in the United States.   │\n",
       "│                      │ The subsidies were paid from 2013 to 2017 to insurance companies   │\n",
       "│                      │ on behalf of eligible enrollees in the ACA to reduce co-payments   │\n",
       "│                      │ and deductibles. They were discontinued by Donald Trump in October │\n",
       "│                      │ 2017. The nature of the subsidy as discretionary spending (i.e.,   │\n",
       "│                      │ subject to annual appropriation by Congress) versus mandatory      │\n",
       "│                      │ (i.e., paid automatically to eligible parties) was challenged in   │\n",
       "│                      │ court by the Republican-controlled House of Representatives in     │\n",
       "│                      │ 2014, although payments continued when the ruling in favor of the  │\n",
       "│                      │ GOP was appealed by the Obama administration. The non-partisan     │\n",
       "│                      │ Congressional Budget Office (CBO) estimated that ending the        │\n",
       "│                      │ payments would increase insurance premiums on the ACA exchanges by │\n",
       "│                      │ around 20 percentage points, resulting in increases in the premium │\n",
       "│                      │ tax credit subsidies, thereby adding nearly $200 billion to the    │\n",
       "│                      │ budget deficits over the following decade. Critics argued the      │\n",
       "│                      │ decision was part of a wider strategy to \"sabotage\" the ACA.       │\n",
       "├──────────────────────┼────────────────────────────────────────────────────────────────────┤\n",
       "│<span style=\"font-weight: bold\"> Retrieved segment 4: </span>│ Jonathan Gruber (economist)                                        │\n",
       "│                      │                                                                    │\n",
       "│                      │ Jonathan Holmes Gruber (born September 30, 1965) is an American    │\n",
       "│                      │ professor of economics at the Massachusetts Institute of           │\n",
       "│                      │ Technology, where he has taught since 1992. He is also the         │\n",
       "│                      │ director of the Health Care Program at the National Bureau of      │\n",
       "│                      │ Economic Research, where he is a research associate. An associate  │\n",
       "│                      │ editor of both the \"Journal of Public Economics\" and the \"Journal  │\n",
       "│                      │ of Health Economics\", Gruber has been heavily involved in crafting │\n",
       "│                      │ public health policy. He has been described as a key architect of  │\n",
       "│                      │ both the 2006 Massachusetts health care reform, sometimes referred │\n",
       "│                      │ to as \"Romneycare\", and the 2010 Patient Protection and Affordable │\n",
       "│                      │ Care Act, sometimes referred to as the \"ACA\" and \"Obamacare\". He   │\n",
       "│                      │ became the focus of a media and political firestorm in late 2014   │\n",
       "│                      │ when videos surfaced in which he made controversial statements     │\n",
       "│                      │ about the legislative process, marketing strategies, and public    │\n",
       "│                      │ perception surrounding the passage of the ACA. Gruber was born on  │\n",
       "│                      │ September 30, 1965, the son of Martin Jay Gruber and Ellie Gruber. │\n",
       "│                      │ His father is Professor Emeritus of Finance at the New York        │\n",
       "│                      │ University Stern School of Business, having taught there for more  │\n",
       "│                      │ than 40 years. Jonathan Gruber was raised in the New York suburb   │\n",
       "│                      │ of Ridgewood, New Jersey.                                          │\n",
       "├──────────────────────┼────────────────────────────────────────────────────────────────────┤\n",
       "│<span style=\"font-weight: bold\"> Retrieved segment 5: </span>│ The U.S. system is often compared with that of its northern        │\n",
       "│                      │ neighbor, Canada (see Canadian and American health care systems    │\n",
       "│                      │ compared). Canada's system is largely publicly funded. In 2006,    │\n",
       "│                      │ Americans spent an estimated US$6,714 per capita on health care,   │\n",
       "│                      │ while Canadians spent US$3,678. This amounted to 15% percent of    │\n",
       "│                      │ U.S. GDP in that year, while Canada spent 10%. A study by Harvard  │\n",
       "│                      │ Medical School and the Canadian Institute for Health Information   │\n",
       "│                      │ determined that some 31% of U.S. health care dollars (more than    │\n",
       "│                      │ $1,000 per person per year) went to health care administrative     │\n",
       "│                      │ costs. Advocates argue that shifting the U.S. to a single-payer    │\n",
       "│                      │ health care system would provide universal coverage, give patients │\n",
       "│                      │ free choice of providers and hospitals, and guarantee              │\n",
       "│                      │ comprehensive coverage and equal access for all medically          │\n",
       "│                      │ necessary procedures, without increasing overall spending.         │\n",
       "│                      │ Shifting to a single-payer system would also eliminate oversight   │\n",
       "│                      │ by managed care reviewers, removing a potential impediment to the  │\n",
       "│                      │ doctor-patient relationship. Although studies indicate Democrats   │\n",
       "│                      │ tend to be more supportive of a single-payer system than           │\n",
       "│                      │ Republicans, none of the reform bills debated in the U.S. Congress │\n",
       "│                      │ when the Democrats had a majority from 2007–2010, included         │\n",
       "│                      │ proposals to implement a single payer health care system.          │\n",
       "├──────────────────────┼────────────────────────────────────────────────────────────────────┤\n",
       "│<span style=\"font-weight: bold\"> Retrieved segment 6: </span>│ Health care in the United States                                   │\n",
       "│                      │                                                                    │\n",
       "│                      │ Health care in the United States is provided by many distinct      │\n",
       "│                      │ organizations. Health care facilities are largely owned and        │\n",
       "│                      │ operated by private sector businesses. 58% of US community         │\n",
       "│                      │ hospitals are non-profit, 21% are government owned, and 21% are    │\n",
       "│                      │ for-profit. According to the World Health Organization (WHO), the  │\n",
       "│                      │ United States spent more on health care per capita ($9,403), and   │\n",
       "│                      │ more on health care as percentage of its GDP (17.1%), than any     │\n",
       "│                      │ other nation in 2014. Despite being among the top world economic   │\n",
       "│                      │ powers, the US remains the sole industrialized nation in the world │\n",
       "│                      │ without universal health care coverage. In 2013, 64% of health     │\n",
       "│                      │ spending was paid for by the government, and funded via programs   │\n",
       "│                      │ such as Medicare, Medicaid, the Children's Health Insurance        │\n",
       "│                      │ Program, and the Veterans Health Administration. People aged under │\n",
       "│                      │ 65 acquire insurance via their or a family member's employer, by   │\n",
       "│                      │ purchasing health insurance on their own, or are uninsured. Health │\n",
       "│                      │ insurance for public sector employees is primarily provided by the │\n",
       "│                      │ government in its role as employer. The United States life         │\n",
       "│                      │ expectancy is 78.6 years at birth, up from 75.2 years in 1990;     │\n",
       "│                      │ this ranks 42nd among 224 nations, and 22nd out of the 35          │\n",
       "│                      │ industrialized OECD countries, down from 20th in 1990.             │\n",
       "├──────────────────────┼────────────────────────────────────────────────────────────────────┤\n",
       "│<span style=\"font-weight: bold\"> Retrieved segment 7: </span>│ Another model of consumer driven healthcare is Health              │\n",
       "│                      │ Reimbursement Arrangements (HRAs), which are employer-funded, and  │\n",
       "│                      │ in which employers receive the tax benefits. By 2007, an estimated │\n",
       "│                      │ 3.8 million U.S. workers, about 5% of the covered workforce, were  │\n",
       "│                      │ enrolled in consumer-driven plans. About 10% of firms offered such │\n",
       "│                      │ plans to their workers, according to a study by the Kaiser Family  │\n",
       "│                      │ Foundation. In August 2008 the Atlanta Business Chronicle reported │\n",
       "│                      │ that enrollment in consumer-driven plans was increasing,           │\n",
       "│                      │ accounting for 13% of all plans offered by employers. In 2014,     │\n",
       "│                      │ when major portions of the Patient Protection and Affordable Care  │\n",
       "│                      │ Act are implemented in the United States, high deductible plans    │\n",
       "│                      │ and the concept of consumer-driven healthcare may become more      │\n",
       "│                      │ popular. Although new federal tax subsidies will help reduce       │\n",
       "│                      │ health insurance rates for many consumers, individuals and         │\n",
       "│                      │ families that do not qualify, are expected to consider Health      │\n",
       "│                      │ Savings Accounts (HSAs) if they do not have employer-sponsored     │\n",
       "│                      │ coverage. Other countries with experience in this type of health   │\n",
       "│                      │ insurance include China, Taiwan, Singapore and South Africa.       │\n",
       "│                      │ Researchers at the Carlson School of Management at the University  │\n",
       "│                      │ of Minnesota (Stephen T. Parente), Harvard University (Meredith    │\n",
       "│                      │ Rosenthal), University of Illinois at Chicago (Anthony LoSasso)    │\n",
       "│                      │ and RAND Health Insurance Experiment have examined results of      │\n",
       "│                      │ these plans.                                                       │\n",
       "├──────────────────────┼────────────────────────────────────────────────────────────────────┤\n",
       "│<span style=\"font-weight: bold\"> Retrieved segment 8: </span>│ A gap of 5% GDP represents $1 trillion, about $3,000 per person    │\n",
       "│                      │ relative to the next most expensive country. In other words, the   │\n",
       "│                      │ U.S. would have to cut healthcare costs by roughly one-third to be │\n",
       "│                      │ competitive with the next most expensive country. One analysis of  │\n",
       "│                      │ international spending levels in the year 2000 found that while    │\n",
       "│                      │ the U.S. spends more on health care than other countries in the    │\n",
       "│                      │ Organisation for Economic Co-operation and Development (OECD), the │\n",
       "│                      │ use of health care services in the U.S. is below the OECD median   │\n",
       "│                      │ by most measures. The authors of the study concluded that the      │\n",
       "│                      │ prices paid for health care services are much higher in the U.S.   │\n",
       "│                      │ Spending is highly concentrated among a relatively few patients.   │\n",
       "│                      │ The Kaiser Family Foundation reported that the concentration of    │\n",
       "│                      │ health care spending in the U.S. in 2010 was as follows:           │\n",
       "│                      │                                                                    │\n",
       "│                      │ Other studies have found similar results using AHRQ analysis.      │\n",
       "│                      │ Relative to the overall population, those who remained in the top  │\n",
       "│                      │ 10% of spenders between 2008 and 2009 were more likely to be in    │\n",
       "│                      │ fair or poor health, elderly, female, non-Hispanic whites and      │\n",
       "│                      │ those with public-only coverage. Those who remained in the bottom  │\n",
       "│                      │ half of spenders were more likely to be in excellent health,       │\n",
       "│                      │ children and young adults, men, Hispanics, and the uninsured.      │\n",
       "├──────────────────────┼────────────────────────────────────────────────────────────────────┤\n",
       "│<span style=\"font-weight: bold\"> Retrieved segment 9: </span>│ The authors based their modeling on the effect of combining these  │\n",
       "│                      │ changes with the implementation of universal coverage. The authors │\n",
       "│                      │ concluded that there are no magic bullets for controlling health   │\n",
       "│                      │ care costs, and that a multifaceted approach will be needed to     │\n",
       "│                      │ achieve meaningful progress. During February 2010, President Obama │\n",
       "│                      │ updated his reform proposal, with modifications to the bills that  │\n",
       "│                      │ had passed as of that time. Health spending accounted for 17.6% of │\n",
       "│                      │ GDP in the United States in 2010, down slightly from 2009 (17.7%)  │\n",
       "│                      │ and by far the highest share in the OECD, and a full eight         │\n",
       "│                      │ percentage points higher than the OECD average of 9.5%. Following  │\n",
       "│                      │ the United States were the Netherlands (at 12.0% of GDP), and      │\n",
       "│                      │ France and Germany (both at 11.6% of GDP). The United States spent │\n",
       "│                      │ $8,233 on health per capita in 2010, two-and-a-half times more     │\n",
       "│                      │ than the OECD average of $3,268 (adjusted for purchasing power     │\n",
       "│                      │ parity). Following the United States were Norway and Switzerland   │\n",
       "│                      │ which spent over $5,250 per capita. Americans spent more than      │\n",
       "│                      │ twice as much as relatively rich European countries such as        │\n",
       "│                      │ France, Sweden and the United Kingdom. The annual rate of cost     │\n",
       "│                      │ increases slowed during 2010 and 2011.                             │\n",
       "├──────────────────────┼────────────────────────────────────────────────────────────────────┤\n",
       "│<span style=\"font-weight: bold\"> Answer:              </span>│ First: health care isn't \"free\" anywhere. There may be no charge   │\n",
       "│                      │ to the patient, but somebody is paying for it.                     │\n",
       "│                      │                                                                    │\n",
       "│                      │ Second: insurance companies do not make up nearly as much of the   │\n",
       "│                      │ problem as people in the thread are suggesting. Their profits are  │\n",
       "│                      │ in the single-digit percentages, and their overhead is not nearly  │\n",
       "│                      │ so high as people think. Regardless, insurance company overhead    │\n",
       "│                      │ and profit are not nearly large enough to explain the price        │\n",
       "│                      │ differential.                                                      │\n",
       "│                      │                                                                    │\n",
       "│                      │ What does probably explain it is three things.                     │\n",
       "│                      │                                                                    │\n",
       "│                      │ First, though the US health care system is slightly more market    │\n",
       "│                      │ oriented than the system in most other countries, it's not really  │\n",
       "│                      │ a market system. In a market system, consumers know how much the   │\n",
       "│                      │ goods and services they buy cost before we buy them, giving us the │\n",
       "│                      │ ability to shop around on price and creating an incentive for      │\n",
       "│                      │ providers to compete on price. That simply isn't the case in US    │\n",
       "│                      │ health care. Even the providers usually don't have any flipping    │\n",
       "│                      │ clue how much their services cost, and even if they do they        │\n",
       "│                      │ usually can't tell you up front. No one is likely to know how much │\n",
       "│                      │ something costs until months after the procedure. Prices are       │\n",
       "│                      │ completely opaque, so there's every opportunity for bloat and      │\n",
       "│                      │ waste.                                                             │\n",
       "│                      │                                                                    │\n",
       "│                      │ But second, that introduces the possibility of pricing health care │\n",
       "│                      │ as if it were itself an insurance program rather than letting      │\n",
       "│                      │ insurance products do the work of risk sharing. Basically, the way │\n",
       "│                      │ insurance works is that everyone pays a bit more than they need to │\n",
       "│                      │ so that no one gets completely slammed by an unusually high        │\n",
       "│                      │ expense. This is how health insurance is supposed to work, and     │\n",
       "│                      │ there's nothing wrong with that. What's problematic is that in     │\n",
       "│                      │ addition to that kind of risk pooling, hospitals are doing some of │\n",
       "│                      │ their own. The reimbursement for Medicare patients is usually just │\n",
       "│                      │ barely enough for them to break even, and the reimbursement for    │\n",
       "│                      │ Medicaid patients is so low that hospitals almost invariably lose  │\n",
       "│                      │ money on them. And for the truly indigent, they usually wind up    │\n",
       "│                      │ not getting paid at all. That means that those of us with money    │\n",
       "│                      │ and/or private insurance wind up subsidizing those other patients. │\n",
       "│                      │ So not only are we paying into an insurance risk pool, protecting  │\n",
       "│                      │ ourselves and the other members of the pool from large losses, but │\n",
       "│                      │ we're making up the difference for the huge number of              │\n",
       "│                      │ Medicare/Medicaid/indigent patients who aren't paying their fair   │\n",
       "│                      │ share. And this is possible because pricing is completely opaque,  │\n",
       "│                      │ as described above.                                                │\n",
       "│                      │                                                                    │\n",
       "│                      │ Third, the above is made worse by the fact that some of the most   │\n",
       "│                      │ expensive care out there--management of chronic conditions,        │\n",
       "│                      │ long-term hospital stays, and cancer treatments--are mostly        │\n",
       "│                      │ Medicare issues, and most other countries are simply not willing   │\n",
       "│                      │ to spend what we do on those things. The US has, hands down, the   │\n",
       "│                      │ best cancer survival rates in the world. But that's very           │\n",
       "│                      │ expensive, and since Medicare isn't picking up the tab adequately, │\n",
       "│                      │ hospitals raise the prices on all of their other services to       │\n",
       "│                      │ compensate. Same goes for extended ICU stays for the very elderly. │\n",
       "│                      │ In Europe, such patients are frequently allowed to die a lot       │\n",
       "│                      │ sooner, which can save a quarter-million dollars in only a month   │\n",
       "│                      │ or two.                                                            │\n",
       "│                      │                                                                    │\n",
       "│                      │ So when you see that $50,000 bill for a simple surgery, understand │\n",
       "│                      │ that (1) the hospital isn't actually going to collect that, maybe  │\n",
       "│                      │ only $20,000 if it's lucky, and (2) a good chunk of that bill is   │\n",
       "│                      │ going to subsidize other patients who aren't paying what they need │\n",
       "│                      │ to pay.                                                            │\n",
       "│                      │                                                                    │\n",
       "│                      │ In short, it's a combination of factors, but the biggest ones are  │\n",
       "│                      │ the fact that though we're supposed to be acting in a market       │\n",
       "│                      │ system, there's no accurate price information, we've chosen to     │\n",
       "│                      │ spend a lot on care that other countries don't, but because        │\n",
       "│                      │ Medicare doesn't actually pay enough for that care, prices go up   │\n",
       "│                      │ across the board to compensate.                                    │\n",
       "└──────────────────────┴────────────────────────────────────────────────────────────────────┘\n",
       "</pre>\n"
      ],
      "text/plain": [
       "<rich.jupyter.JupyterRenderable at 0x7fc262bb5160>"
      ]
     },
     "metadata": {},
     "output_type": "display_data"
    }
   ],
   "source": [
    "for split in [\n",
    "# \"eval\", \n",
    "# \"test\", \n",
    "    \"train\"\n",
    "]:\n",
    "    ds_paths = splits_to_ds_paths[split]\n",
    "    \n",
    "    ###########################################################################\n",
    "    # Build and Distribute the DS\n",
    "    ###########################################################################\n",
    "    print(\"Building DS\")\n",
    "    ds = build_dataset(ds_paths, context_window_size, split, len(tf_utils.devices_to_use()))\n",
    "    dds = strategy.experimental_distribute_dataset(ds)\n",
    "    print(\"Created DS\")\n",
    "    \n",
    "    ###########################################################################\n",
    "    # Print elements of the DS\n",
    "    ###########################################################################\n",
    "    for major, dist_items in enumerate(toolz.take(2, dds)):\n",
    "        \n",
    "        turned_on_itself = [\n",
    "            Sample(None, None, None, None) for _ in range(len(tf_utils.devices_to_use()))\n",
    "        ]\n",
    "\n",
    "        for feature_key, v in dist_items.items():\n",
    "            if tf_utils.devices_to_use()[0].device_type == \"TPU\":\n",
    "                utils.check_isinstance(v, values.PerReplica)\n",
    "            else:\n",
    "                utils.check_isinstance(v, ops.EagerTensor)\n",
    "            \n",
    "            for i, vv in enumerate(v.values if isinstance(v, values.PerReplica) else [v]):\n",
    "                utils.check_equal(vv.shape[0], 1)\n",
    "                setattr(turned_on_itself[i], feature_key, vv[0])\n",
    "                \n",
    "        utils.check_equal(len(turned_on_itself), len(tf_utils.devices_to_use()))\n",
    "        for minor, item in enumerate(turned_on_itself):\n",
    "            if split == \"train\":\n",
    "                display_item(major + 1, minor + 1, len(tf_utils.devices_to_use()), tokenizer, item, split)\n",
    "\n"
   ]
  },
  {
   "cell_type": "code",
   "execution_count": null,
   "id": "together-hollow",
   "metadata": {},
   "outputs": [],
   "source": []
  }
 ],
 "metadata": {
  "kernelspec": {
   "display_name": "Python 3",
   "language": "python",
   "name": "python3"
  },
  "language_info": {
   "codemirror_mode": {
    "name": "ipython",
    "version": 3
   },
   "file_extension": ".py",
   "mimetype": "text/x-python",
   "name": "python",
   "nbconvert_exporter": "python",
   "pygments_lexer": "ipython3",
   "version": "3.8.8"
  }
 },
 "nbformat": 4,
 "nbformat_minor": 5
}
