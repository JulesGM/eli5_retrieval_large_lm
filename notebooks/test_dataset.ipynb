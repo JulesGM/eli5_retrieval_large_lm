{
 "cells": [
  {
   "cell_type": "code",
   "execution_count": 1,
   "id": "universal-fireplace",
   "metadata": {},
   "outputs": [
    {
     "name": "stdout",
     "output_type": "stream",
     "text": [
      "Requirement already satisfied: markdown_strings in /home/jules/anaconda/lib/python3.8/site-packages (3.3.0)\n"
     ]
    }
   ],
   "source": [
    "import collections\n",
    "import dataclasses\n",
    "import itertools\n",
    "import json\n",
    "import numpy as np\n",
    "import os\n",
    "import pathlib\n",
    "import socket\n",
    "import subprocess\n",
    "import sys\n",
    "import transformers\n",
    "from typing import *\n",
    "\n",
    "!pip install markdown_strings\n",
    "import markdown_strings\n",
    "from IPython.display import display, Markdown, Latex\n",
    "\n",
    "import rich\n",
    "import rich.console\n",
    "import rich.markdown\n",
    "import rich.table\n",
    "import shlex\n",
    "\n",
    "import tensorflow.python.framework.ops as ops\n",
    "import tensorflow as tf\n",
    "import tensorflow.python.distribute.values as values\n",
    "import toolz\n",
    "import tqdm.notebook as tqdm\n",
    "\n",
    "_PROJECT_DIRECTORY = pathlib.Path().resolve().parent\n",
    "sys.path.append(str(_PROJECT_DIRECTORY))\n",
    "import constants\n",
    "import task_specific\n",
    "import tf_utils\n",
    "import utils\n"
   ]
  },
  {
   "cell_type": "code",
   "execution_count": 2,
   "id": "popular-ensemble",
   "metadata": {},
   "outputs": [],
   "source": [
    "def normal(text, escape=False):\n",
    "    if escape:\n",
    "        text = markdown_strings.esc_format(text)\n",
    "    display(Markdown(text))\n",
    "\n",
    "def h1(text, escape=False):\n",
    "    if escape:\n",
    "        text = markdown_strings.esc_format(text)\n",
    "    display(Markdown(f\"# {text}\"))\n",
    "    \n",
    "def h2(text, escape=False):\n",
    "    if escape:\n",
    "        text = markdown_strings.esc_format(text)\n",
    "    display(Markdown(f\"#### {text}\"))\n",
    "    \n",
    "def quote(text, escape=True):\n",
    "    if escape:\n",
    "        text = markdown_strings.esc_format(text)\n",
    "    display(Markdown(markdown_strings.blockquote(text)))\n",
    "    \n",
    "def build_split_to_ds_paths(project_directory, num_paths_display):\n",
    "    h1(\"Getting filenames.\")\n",
    "    h2(\"Loading json config.\")\n",
    "    config_path = project_directory/\"configs\"/\"train_configs\"/\"tpu_gpt2_eli5_kilt.json\"\n",
    "    config = utils.from_json_file(config_path)\n",
    "    \n",
    "    h2(\"Calling `gsutil ls` on the dataset repo.\")\n",
    "    ds_path = config[\"tfr_prefix\"]\n",
    "    filenames = subprocess.check_output(f\"gsutil ls {ds_path}\", shell=True).decode().strip().split(\"\\n\")\n",
    "\n",
    "    h2(\"Printing a few paths:\")\n",
    "    normal(f\"There are actually {len(filenames)}.\")\n",
    "    normal(\" - \" + \"\\n - \".join(filenames[:num_paths_display]))\n",
    "    \n",
    "    h1(\"Building the `per_split` Path dict.\")\n",
    "    per_split = collections.defaultdict(list)\n",
    "    for path in tqdm.tqdm(filenames, desc=\"Building `per_split` dict.\"):\n",
    "        split = pathlib.Path(path).name.split(\"_\")[0]\n",
    "        per_split[split].append(path)\n",
    "\n",
    "    normal(\"Sorting the `per_split` lists.\")\n",
    "    for split in per_split:\n",
    "        # Ad-hoc split per file index\n",
    "        per_split[split].sort(key=lambda p: int(pathlib.Path(p).name.split(\"_\")[1].split(\".\")[0]))\n",
    "\n",
    "    normal(\"Len per split for the per_split dict:\")\n",
    "    \n",
    "    print({split: len(per_split[split]) for split in per_split})\n",
    "    \n",
    "    return per_split\n",
    "\n",
    "\n",
    "def build_dataset(paths, context_window_size, split, batch_size):\n",
    "    ds = tf.data.TFRecordDataset(paths)\n",
    "    description = {\n",
    "      constants.CTH5Fields.distances:\n",
    "          tf.io.FixedLenFeature((), tf.string),\n",
    "      constants.CTH5Fields.gpt2_retrieved_ids:\n",
    "          tf.io.FixedLenFeature((), tf.string),\n",
    "      constants.CTH5Fields.gpt2_question_ids_inputs:\n",
    "          tf.io.FixedLenFeature((), tf.string),\n",
    "    }\n",
    "    if split != constants.SplitChoices.test:\n",
    "        description[\n",
    "            constants.CTH5Fields.gpt2_answer_ids_inputs\n",
    "        ] = tf.io.FixedLenFeature((), tf.string)\n",
    "\n",
    "    feature_dtypes = {\n",
    "      constants.CTH5Fields.distances:\n",
    "          tf.float32,\n",
    "      constants.CTH5Fields.gpt2_retrieved_ids:\n",
    "          tf.int32,\n",
    "      constants.CTH5Fields.gpt2_question_ids_inputs:\n",
    "          tf.int32,\n",
    "    }\n",
    "    if split != constants.SplitChoices.test:\n",
    "        feature_dtypes[\n",
    "            constants.CTH5Fields.gpt2_answer_ids_inputs\n",
    "        ] = tf.int32\n",
    "\n",
    "    feature_shape = {\n",
    "      constants.CTH5Fields.distances:\n",
    "          (10,),\n",
    "      constants.CTH5Fields.gpt2_retrieved_ids:\n",
    "          (10, context_window_size,),\n",
    "      constants.CTH5Fields.gpt2_question_ids_inputs:\n",
    "          (context_window_size,),\n",
    "    }\n",
    "    if split != constants.SplitChoices.test:\n",
    "        feature_shape[constants.CTH5Fields.gpt2_answer_ids_inputs] = (\n",
    "            context_window_size\n",
    "        )\n",
    "\n",
    "    @tf.function\n",
    "    def parse(sample):\n",
    "        example = tf.io.parse_single_example(sample, description)\n",
    "        output = {}\n",
    "        for k, v in example.items():\n",
    "            output[k] = tf.io.parse_tensor(v, out_type=feature_dtypes[k])\n",
    "            output[k].set_shape(feature_shape[k])\n",
    "        return output\n",
    "\n",
    "    ds = ds.map(\n",
    "      parse,\n",
    "      num_parallel_calls=tf.data.experimental.AUTOTUNE,\n",
    "      deterministic=False\n",
    "      )\n",
    "    \n",
    "    ds = ds.batch(\n",
    "      batch_size,\n",
    "      drop_remainder=split != constants.SplitChoices.test\n",
    "      )\n",
    "\n",
    "    return ds\n",
    "\n",
    "\n",
    "def decode_line(tokenizer, line):\n",
    "    return tokenizer.decode([x for x in line if x >= 0])\n",
    "\n",
    "\n",
    "def is_all_neg(tensor):\n",
    "    if not isinstance(tensor, (np.ndarray, tf.Tensor, ops.EagerTensor)):\n",
    "        return all([x < 0 for x in tensor])\n",
    "    else:\n",
    "        return np.all(tensor < 0)\n",
    "    \n",
    "    \n",
    "def check_and_decode(feature_key, item, tokenizer):\n",
    "    feature = item[feature_key]\n",
    "    all_neg = is_all_neg(feature)\n",
    "    assert not all_neg, feature_key\n",
    "    return decode_line(tokenizer, feature)\n",
    "    \n",
    "    \n",
    "def display_item(major, minor, max_minor, tokenizer, item, split):    \n",
    "    item = vars(item)\n",
    "    ##################################################################################################################\n",
    "    # Produce information\n",
    "    ##################################################################################################################\n",
    "    question = check_and_decode(\n",
    "        constants.CTH5Fields.gpt2_question_ids_inputs,\n",
    "        item,\n",
    "        tokenizer\n",
    "    )\n",
    "    \n",
    "    answer = None\n",
    "    if split != \"test\":\n",
    "        feature_key = constants.CTH5Fields.gpt2_answer_ids_inputs\n",
    "        feature = item[feature_key]\n",
    "        answer = check_and_decode(feature_key, item, tokenizer)\n",
    "\n",
    "    retrieved_segments = []\n",
    "    for line in item[constants.CTH5Fields.gpt2_retrieved_ids]:\n",
    "        retrieved_segments.append(decode_line(tokenizer, line))\n",
    "\n",
    "    ##################################################################################################################\n",
    "    # Display\n",
    "    ##################################################################################################################\n",
    "    console = rich.console.Console()\n",
    "    table = rich.table.Table(title=f\"{major}:[{minor}/{max_minor}] - Item from split `{split}`\", show_lines=True)\n",
    "    table.add_column(\"Field\", style=\"bold\")\n",
    "    table.add_column(\"Value\")\n",
    "    table.add_row(\"Question:\", question)\n",
    "    for i, segment in enumerate(retrieved_segments):\n",
    "        table.add_row(f\"Retrieved segment {i}:\", segment)\n",
    "\n",
    "    if answer:\n",
    "        table.add_row(\"Answer:\", answer)\n",
    "    \n",
    "    console.print(table)\n",
    "    \n",
    "\n",
    "def check_all_unique(iterable):\n",
    "    \"\"\"Memory and computation scale in O(N) with N = len(iterable). \"\"\"\n",
    "    \n",
    "    iter_count = 0\n",
    "    set_ = set()\n",
    "    \n",
    "    for item in iterable:\n",
    "        iter_count += 1\n",
    "        set_.add(item) \n",
    "    \n",
    "    utils.check_equal(iter_count, len(set_))\n",
    "\n",
    "    \n",
    "@dataclasses.dataclass\n",
    "class Sample:\n",
    "    distances: tf.Tensor\n",
    "    gpt2_answer_ids: tf.Tensor\n",
    "    gpt2_question_ids: tf.Tensor\n",
    "    gpt2_retrieved_ids: tf.Tensor"
   ]
  },
  {
   "cell_type": "code",
   "execution_count": 3,
   "id": "immediate-posting",
   "metadata": {},
   "outputs": [
    {
     "name": "stderr",
     "output_type": "stream",
     "text": [
      "INFO:absl:Entering into master device scope: /job:worker/replica:0/task:0/device:CPU:0\n"
     ]
    },
    {
     "name": "stdout",
     "output_type": "stream",
     "text": [
      "INFO:tensorflow:Initializing the TPU system: lr-minus-8\n"
     ]
    },
    {
     "name": "stderr",
     "output_type": "stream",
     "text": [
      "INFO:tensorflow:Initializing the TPU system: lr-minus-8\n"
     ]
    },
    {
     "name": "stdout",
     "output_type": "stream",
     "text": [
      "INFO:tensorflow:Clearing out eager caches\n"
     ]
    },
    {
     "name": "stderr",
     "output_type": "stream",
     "text": [
      "INFO:tensorflow:Clearing out eager caches\n"
     ]
    },
    {
     "name": "stdout",
     "output_type": "stream",
     "text": [
      "INFO:tensorflow:Finished initializing TPU system.\n"
     ]
    },
    {
     "name": "stderr",
     "output_type": "stream",
     "text": [
      "INFO:tensorflow:Finished initializing TPU system.\n"
     ]
    },
    {
     "name": "stdout",
     "output_type": "stream",
     "text": [
      "INFO:tensorflow:Found TPU system:\n"
     ]
    },
    {
     "name": "stderr",
     "output_type": "stream",
     "text": [
      "INFO:tensorflow:Found TPU system:\n"
     ]
    },
    {
     "name": "stdout",
     "output_type": "stream",
     "text": [
      "INFO:tensorflow:*** Num TPU Cores: 8\n"
     ]
    },
    {
     "name": "stderr",
     "output_type": "stream",
     "text": [
      "INFO:tensorflow:*** Num TPU Cores: 8\n"
     ]
    },
    {
     "name": "stdout",
     "output_type": "stream",
     "text": [
      "INFO:tensorflow:*** Num TPU Workers: 1\n"
     ]
    },
    {
     "name": "stderr",
     "output_type": "stream",
     "text": [
      "INFO:tensorflow:*** Num TPU Workers: 1\n"
     ]
    },
    {
     "name": "stdout",
     "output_type": "stream",
     "text": [
      "INFO:tensorflow:*** Num TPU Cores Per Worker: 8\n"
     ]
    },
    {
     "name": "stderr",
     "output_type": "stream",
     "text": [
      "INFO:tensorflow:*** Num TPU Cores Per Worker: 8\n"
     ]
    },
    {
     "name": "stdout",
     "output_type": "stream",
     "text": [
      "INFO:tensorflow:*** Available Device: _DeviceAttributes(/job:localhost/replica:0/task:0/device:CPU:0, CPU, 0, 0)\n"
     ]
    },
    {
     "name": "stderr",
     "output_type": "stream",
     "text": [
      "INFO:tensorflow:*** Available Device: _DeviceAttributes(/job:localhost/replica:0/task:0/device:CPU:0, CPU, 0, 0)\n"
     ]
    },
    {
     "name": "stdout",
     "output_type": "stream",
     "text": [
      "INFO:tensorflow:*** Available Device: _DeviceAttributes(/job:worker/replica:0/task:0/device:CPU:0, CPU, 0, 0)\n"
     ]
    },
    {
     "name": "stderr",
     "output_type": "stream",
     "text": [
      "INFO:tensorflow:*** Available Device: _DeviceAttributes(/job:worker/replica:0/task:0/device:CPU:0, CPU, 0, 0)\n"
     ]
    },
    {
     "name": "stdout",
     "output_type": "stream",
     "text": [
      "INFO:tensorflow:*** Available Device: _DeviceAttributes(/job:worker/replica:0/task:0/device:TPU:0, TPU, 0, 0)\n"
     ]
    },
    {
     "name": "stderr",
     "output_type": "stream",
     "text": [
      "INFO:tensorflow:*** Available Device: _DeviceAttributes(/job:worker/replica:0/task:0/device:TPU:0, TPU, 0, 0)\n"
     ]
    },
    {
     "name": "stdout",
     "output_type": "stream",
     "text": [
      "INFO:tensorflow:*** Available Device: _DeviceAttributes(/job:worker/replica:0/task:0/device:TPU:1, TPU, 0, 0)\n"
     ]
    },
    {
     "name": "stderr",
     "output_type": "stream",
     "text": [
      "INFO:tensorflow:*** Available Device: _DeviceAttributes(/job:worker/replica:0/task:0/device:TPU:1, TPU, 0, 0)\n"
     ]
    },
    {
     "name": "stdout",
     "output_type": "stream",
     "text": [
      "INFO:tensorflow:*** Available Device: _DeviceAttributes(/job:worker/replica:0/task:0/device:TPU:2, TPU, 0, 0)\n"
     ]
    },
    {
     "name": "stderr",
     "output_type": "stream",
     "text": [
      "INFO:tensorflow:*** Available Device: _DeviceAttributes(/job:worker/replica:0/task:0/device:TPU:2, TPU, 0, 0)\n"
     ]
    },
    {
     "name": "stdout",
     "output_type": "stream",
     "text": [
      "INFO:tensorflow:*** Available Device: _DeviceAttributes(/job:worker/replica:0/task:0/device:TPU:3, TPU, 0, 0)\n"
     ]
    },
    {
     "name": "stderr",
     "output_type": "stream",
     "text": [
      "INFO:tensorflow:*** Available Device: _DeviceAttributes(/job:worker/replica:0/task:0/device:TPU:3, TPU, 0, 0)\n"
     ]
    },
    {
     "name": "stdout",
     "output_type": "stream",
     "text": [
      "INFO:tensorflow:*** Available Device: _DeviceAttributes(/job:worker/replica:0/task:0/device:TPU:4, TPU, 0, 0)\n"
     ]
    },
    {
     "name": "stderr",
     "output_type": "stream",
     "text": [
      "INFO:tensorflow:*** Available Device: _DeviceAttributes(/job:worker/replica:0/task:0/device:TPU:4, TPU, 0, 0)\n"
     ]
    },
    {
     "name": "stdout",
     "output_type": "stream",
     "text": [
      "INFO:tensorflow:*** Available Device: _DeviceAttributes(/job:worker/replica:0/task:0/device:TPU:5, TPU, 0, 0)\n"
     ]
    },
    {
     "name": "stderr",
     "output_type": "stream",
     "text": [
      "INFO:tensorflow:*** Available Device: _DeviceAttributes(/job:worker/replica:0/task:0/device:TPU:5, TPU, 0, 0)\n"
     ]
    },
    {
     "name": "stdout",
     "output_type": "stream",
     "text": [
      "INFO:tensorflow:*** Available Device: _DeviceAttributes(/job:worker/replica:0/task:0/device:TPU:6, TPU, 0, 0)\n"
     ]
    },
    {
     "name": "stderr",
     "output_type": "stream",
     "text": [
      "INFO:tensorflow:*** Available Device: _DeviceAttributes(/job:worker/replica:0/task:0/device:TPU:6, TPU, 0, 0)\n"
     ]
    },
    {
     "name": "stdout",
     "output_type": "stream",
     "text": [
      "INFO:tensorflow:*** Available Device: _DeviceAttributes(/job:worker/replica:0/task:0/device:TPU:7, TPU, 0, 0)\n"
     ]
    },
    {
     "name": "stderr",
     "output_type": "stream",
     "text": [
      "INFO:tensorflow:*** Available Device: _DeviceAttributes(/job:worker/replica:0/task:0/device:TPU:7, TPU, 0, 0)\n"
     ]
    },
    {
     "name": "stdout",
     "output_type": "stream",
     "text": [
      "INFO:tensorflow:*** Available Device: _DeviceAttributes(/job:worker/replica:0/task:0/device:TPU_SYSTEM:0, TPU_SYSTEM, 0, 0)\n"
     ]
    },
    {
     "name": "stderr",
     "output_type": "stream",
     "text": [
      "INFO:tensorflow:*** Available Device: _DeviceAttributes(/job:worker/replica:0/task:0/device:TPU_SYSTEM:0, TPU_SYSTEM, 0, 0)\n"
     ]
    },
    {
     "name": "stdout",
     "output_type": "stream",
     "text": [
      "INFO:tensorflow:*** Available Device: _DeviceAttributes(/job:worker/replica:0/task:0/device:XLA_CPU:0, XLA_CPU, 0, 0)\n"
     ]
    },
    {
     "name": "stderr",
     "output_type": "stream",
     "text": [
      "INFO:tensorflow:*** Available Device: _DeviceAttributes(/job:worker/replica:0/task:0/device:XLA_CPU:0, XLA_CPU, 0, 0)\n"
     ]
    },
    {
     "data": {
      "text/markdown": [
       "# Getting filenames."
      ],
      "text/plain": [
       "<IPython.core.display.Markdown object>"
      ]
     },
     "metadata": {},
     "output_type": "display_data"
    },
    {
     "data": {
      "text/markdown": [
       "#### Loading json config."
      ],
      "text/plain": [
       "<IPython.core.display.Markdown object>"
      ]
     },
     "metadata": {},
     "output_type": "display_data"
    },
    {
     "data": {
      "text/markdown": [
       "#### Calling `gsutil ls` on the dataset repo."
      ],
      "text/plain": [
       "<IPython.core.display.Markdown object>"
      ]
     },
     "metadata": {},
     "output_type": "display_data"
    },
    {
     "data": {
      "text/markdown": [
       "#### Printing a few paths:"
      ],
      "text/plain": [
       "<IPython.core.display.Markdown object>"
      ]
     },
     "metadata": {},
     "output_type": "display_data"
    },
    {
     "data": {
      "text/markdown": [
       "There are actually 8192."
      ],
      "text/plain": [
       "<IPython.core.display.Markdown object>"
      ]
     },
     "metadata": {},
     "output_type": "display_data"
    },
    {
     "data": {
      "text/markdown": [
       " - gs://julesgm-research-v3/tfrecord_query_cache/20210225-191356/eval_0.tfr\n",
       " - gs://julesgm-research-v3/tfrecord_query_cache/20210225-191356/eval_1.tfr\n",
       " - gs://julesgm-research-v3/tfrecord_query_cache/20210225-191356/eval_10.tfr\n",
       " - gs://julesgm-research-v3/tfrecord_query_cache/20210225-191356/eval_100.tfr\n",
       " - gs://julesgm-research-v3/tfrecord_query_cache/20210225-191356/eval_1000.tfr\n",
       " - gs://julesgm-research-v3/tfrecord_query_cache/20210225-191356/eval_1001.tfr\n",
       " - gs://julesgm-research-v3/tfrecord_query_cache/20210225-191356/eval_1002.tfr\n",
       " - gs://julesgm-research-v3/tfrecord_query_cache/20210225-191356/eval_1003.tfr\n",
       " - gs://julesgm-research-v3/tfrecord_query_cache/20210225-191356/eval_1004.tfr\n",
       " - gs://julesgm-research-v3/tfrecord_query_cache/20210225-191356/eval_1005.tfr"
      ],
      "text/plain": [
       "<IPython.core.display.Markdown object>"
      ]
     },
     "metadata": {},
     "output_type": "display_data"
    },
    {
     "data": {
      "text/markdown": [
       "# Building the `per_split` Path dict."
      ],
      "text/plain": [
       "<IPython.core.display.Markdown object>"
      ]
     },
     "metadata": {},
     "output_type": "display_data"
    },
    {
     "data": {
      "application/vnd.jupyter.widget-view+json": {
       "model_id": "c4ebbf9d61d14a1b8dc02d7fbaa4233d",
       "version_major": 2,
       "version_minor": 0
      },
      "text/plain": [
       "HBox(children=(FloatProgress(value=0.0, description='Building `per_split` dict.', max=8192.0, style=ProgressSt…"
      ]
     },
     "metadata": {},
     "output_type": "display_data"
    },
    {
     "name": "stdout",
     "output_type": "stream",
     "text": [
      "\n"
     ]
    },
    {
     "data": {
      "text/markdown": [
       "Sorting the `per_split` lists."
      ],
      "text/plain": [
       "<IPython.core.display.Markdown object>"
      ]
     },
     "metadata": {},
     "output_type": "display_data"
    },
    {
     "data": {
      "text/markdown": [
       "Len per split for the per_split dict:"
      ],
      "text/plain": [
       "<IPython.core.display.Markdown object>"
      ]
     },
     "metadata": {},
     "output_type": "display_data"
    },
    {
     "name": "stdout",
     "output_type": "stream",
     "text": [
      "{'eval': 2048, 'test': 2048, 'train': 2048, 'validation': 2048}\n",
      "Making sure all paths are unique\n",
      "eval\n"
     ]
    },
    {
     "data": {
      "application/vnd.jupyter.widget-view+json": {
       "model_id": "fad8d44feb514a46aa1d44073f9ecb86",
       "version_major": 2,
       "version_minor": 0
      },
      "text/plain": [
       "HBox(children=(FloatProgress(value=0.0, max=2048.0), HTML(value='')))"
      ]
     },
     "metadata": {},
     "output_type": "display_data"
    },
    {
     "name": "stdout",
     "output_type": "stream",
     "text": [
      "\n",
      "test\n"
     ]
    },
    {
     "data": {
      "application/vnd.jupyter.widget-view+json": {
       "model_id": "12339ca3744d49ab99bc467849db7be1",
       "version_major": 2,
       "version_minor": 0
      },
      "text/plain": [
       "HBox(children=(FloatProgress(value=0.0, max=2048.0), HTML(value='')))"
      ]
     },
     "metadata": {},
     "output_type": "display_data"
    },
    {
     "name": "stdout",
     "output_type": "stream",
     "text": [
      "\n",
      "train\n"
     ]
    },
    {
     "data": {
      "application/vnd.jupyter.widget-view+json": {
       "model_id": "a0f03f128b0249f0835dde6b9b0c793e",
       "version_major": 2,
       "version_minor": 0
      },
      "text/plain": [
       "HBox(children=(FloatProgress(value=0.0, max=2048.0), HTML(value='')))"
      ]
     },
     "metadata": {},
     "output_type": "display_data"
    },
    {
     "name": "stdout",
     "output_type": "stream",
     "text": [
      "\n",
      "validation\n"
     ]
    },
    {
     "data": {
      "application/vnd.jupyter.widget-view+json": {
       "model_id": "2f5b7ed9a09d411d850902a7d41deae3",
       "version_major": 2,
       "version_minor": 0
      },
      "text/plain": [
       "HBox(children=(FloatProgress(value=0.0, max=2048.0), HTML(value='')))"
      ]
     },
     "metadata": {},
     "output_type": "display_data"
    },
    {
     "name": "stdout",
     "output_type": "stream",
     "text": [
      "\n"
     ]
    }
   ],
   "source": [
    "###############################################################################\n",
    "# Long configuration stuff\n",
    "###############################################################################\n",
    "\n",
    "#------------------------------------------------------------------------------\n",
    "# Flags\n",
    "#------------------------------------------------------------------------------\n",
    "_MAX_QTY = None\n",
    "_MODEL_TYPE = \"distilgpt2\"\n",
    "_EXPECTED_SIZES = dict(train=272634, eval=1507, test=600)\n",
    "_NUM_PATHS_DISPLAY = 10\n",
    "_NUM_REPLICAS = 8\n",
    "_ACCEL_TYPE = \"TPU\"\n",
    "_ZONE = \"europe-west4-a\"\n",
    "\n",
    "def check_still_got_tpus():\n",
    "    tpu_name = socket.gethostname()\n",
    "    instance_count = subprocess.check_output(\n",
    "        f\"gcloud compute tpus list --zone {shlex.quote(_ZONE)} \"\n",
    "        f\"| grep {shlex.quote(tpu_name)} | wc -l\", shell=True\n",
    "    ).decode().strip()\n",
    "    assert instance_count == \"1\", (\n",
    "        f\"instance count: {instance_count}\"\n",
    "    )\n",
    "    \n",
    "#------------------------------------------------------------------------------\n",
    "# TPU Stuff\n",
    "#------------------------------------------------------------------------------\n",
    "if _ACCEL_TYPE == \"TPU\":\n",
    "    tpu_name = socket.gethostname()\n",
    "    check_still_got_tpus()\n",
    "    \n",
    "    tpu_setup = tf_utils.init_tpus(socket.gethostname())\n",
    "    utils.check_equal(tf_utils.devices_to_use()[0].device_type, \"TPU\")\n",
    "    utils.check_equal(len(tf_utils.devices_to_use()), 8)\n",
    "    strategy = tf.distribute.TPUStrategy(tpu_setup.resolver)\n",
    "elif _ACCEL_TYPE == \"CPU\":\n",
    "    device = tf_utils.devices_to_use()[0]\n",
    "    utils.check_equal(len(tf_utils.devices_to_use()), 1)\n",
    "    utils.check_equal(device.device_type, \"CPU\")\n",
    "    strategy = tf.distribute.OneDeviceStrategy(device)\n",
    "    \n",
    "else:\n",
    "    raise RuntimeError(_ACCEL_TYPE)\n",
    "    \n",
    "    \n",
    "#------------------------------------------------------------------------------\n",
    "# Huggingface Stuff\n",
    "#------------------------------------------------------------------------------\n",
    "model_config = transformers.AutoConfig.from_pretrained(_MODEL_TYPE)\n",
    "tokenizer = transformers.GPT2TokenizerFast.from_pretrained(_MODEL_TYPE)\n",
    "splits_to_ds_paths = build_split_to_ds_paths(_PROJECT_DIRECTORY, _NUM_PATHS_DISPLAY)\n",
    "print(\"Making sure all paths are unique\")\n",
    "for k, v in splits_to_ds_paths.items():\n",
    "    print(k)\n",
    "    check_all_unique(tqdm.tqdm(v))\n",
    "context_window_size = model_config.n_ctx"
   ]
  },
  {
   "cell_type": "code",
   "execution_count": 4,
   "id": "sized-express",
   "metadata": {},
   "outputs": [],
   "source": [
    "check_still_got_tpus()\n",
    "maybe_retrieve_and_merge = {\n",
    "    split: task_specific._make_maybe_retrieve_and_merge_fn(\n",
    "        tokenizer=tokenizer,\n",
    "        context_size=context_window_size,\n",
    "        ds_split=split,\n",
    "        approach_type=\"cached_pretok\",  # FLAG_APPROACH_TYPE.value\n",
    "        use_helper_words=True,  # FLAG_USE_HELPER_WORDS\n",
    "        retriever=None,  # pylint: disable=unused-argument\n",
    "        temperature=0.03,\n",
    "        num_retrievals=5,\n",
    "        enable_debug_checks=False,\n",
    "        max_length_generation=350,\n",
    "        tf_function_kwargs=None,\n",
    ") for split in [\"train\"]}"
   ]
  },
  {
   "cell_type": "raw",
   "id": "formal-convenience",
   "metadata": {},
   "source": [
    "assert tf_utils.devices_to_use()[0].device_type == \"TPU\", (\n",
    "    f_utils.devices_to_use()[0].device_type)\n",
    "assert isinstance(strategy, tf.distribute.TPUStrategy), (\n",
    "    strategy)\n",
    "\n",
    "for split in [\n",
    "# \"eval\", \n",
    "# \"test\", \n",
    "    \"train\"\n",
    "]:\n",
    "    ds_paths = splits_to_ds_paths[split]\n",
    "    \n",
    "    ###########################################################################\n",
    "    # Build and Distribute the DS\n",
    "    ###########################################################################\n",
    "    print(\"Building DS\")\n",
    "    ds = build_dataset(ds_paths, context_window_size, split, len(tf_utils.devices_to_use()))\n",
    "    dds = strategy.experimental_distribute_dataset(ds)\n",
    "    print(\"Created DS\")\n",
    "    \n",
    "    ###########################################################################\n",
    "    # Print elements of the DS\n",
    "    ###########################################################################\n",
    "    for major, dist_items in enumerate(toolz.take(1, dds)):\n",
    "        \n",
    "        turned_on_itself = [\n",
    "            Sample(None, None, None, None) for _ in range(len(tf_utils.devices_to_use()))\n",
    "        ]\n",
    "\n",
    "        for feature_key, v in dist_items.items():\n",
    "            if tf_utils.devices_to_use()[0].device_type == \"TPU\":\n",
    "                utils.check_isinstance(v, values.PerReplica)\n",
    "            else:\n",
    "                utils.check_isinstance(v, ops.EagerTensor)\n",
    "            \n",
    "            for i, vv in enumerate(v.values if isinstance(v, values.PerReplica) else [v]):\n",
    "                utils.check_equal(vv.shape[0], 1)\n",
    "                setattr(turned_on_itself[i], feature_key, vv[0])\n",
    "                \n",
    "        utils.check_equal(len(turned_on_itself), len(tf_utils.devices_to_use()))\n",
    "        for minor, item in enumerate(turned_on_itself):\n",
    "            if split == \"train\":\n",
    "                display_item(\n",
    "                    major + 1, \n",
    "                    minor + 1, \n",
    "                    len(tf_utils.devices_to_use()), \n",
    "                    tokenizer, \n",
    "                    item, \n",
    "                    split\n",
    "                )\n",
    "\n"
   ]
  },
  {
   "cell_type": "code",
   "execution_count": 5,
   "id": "figured-module",
   "metadata": {},
   "outputs": [
    {
     "name": "stdout",
     "output_type": "stream",
     "text": [
      "Building DS\n",
      "Created DS\n",
      "['distances', 'gpt2_answer_ids', 'gpt2_question_ids', 'gpt2_retrieved_ids']\n",
      "0: Keep the defense honest, get a feel for the pass rush, open up the passing game. An offense that's too one dimensional will fail. And those rushes up the middle can be busted wide open sometimes for big yardage.\n",
      "1: In the case of the Rosetta stone, there were translations of the same text in 3 different languages. Scholars were able to use that to determine words if they are used multiple times. For example, if you have three sentences about bread, you can guess that one of the common words is bread.\n",
      "2: First: health care isn't \"free\" anywhere. There may be no charge to the patient, but somebody is paying for it.\n",
      "\n",
      "Second: insurance companies do not make up nearly as much of the problem as people in the thread are suggesting. Their profits are in the single-digit percentages, and their overhead is not nearly so high as people think. Regardless, insurance company overhead and profit are not nearly large enough to explain the price differential.\n",
      "\n",
      "What does probably explain it is three things. \n",
      "\n",
      "First, though the US health care system is slightly more market oriented than the system in most other countries, it's not really a market system. In a market system, consumers know how much the goods and services they buy cost before we buy them, giving us the ability to shop around on price and creating an incentive for providers to compete on price. That simply isn't the case in US health care. Even the providers usually don't have any flipping clue how much their services cost, and even if they do they usually can't tell you up front. No one is likely to know how much something costs until months after the procedure. Prices are completely opaque, so there's every opportunity for bloat and waste.\n",
      "\n",
      "But second, that introduces the possibility of pricing health care as if it were itself an insurance program rather than letting insurance products do the work of risk sharing. Basically, the way insurance works is that everyone pays a bit more than they need to so that no one gets completely slammed by an unusually high expense. This is how health insurance is supposed to work, and there's nothing wrong with that. What's problematic is that in addition to that kind of risk pooling, hospitals are doing some of their own. The reimbursement for Medicare patients is usually just barely enough for them to break even, and the reimbursement for Medicaid patients is so low that hospitals almost invariably lose money on them. And for the truly indigent, they usually wind up not getting paid at all. That means that those of us with money and/or private insurance wind up subsidizing those other patients. So not only are we paying into an insurance risk pool, protecting ourselves and the other members of the pool from large losses, but we're making up the difference for the huge number of Medicare/Medicaid/indigent patients who aren't paying their fair share. And this is possible because pricing is completely opaque, as described above.\n",
      "\n",
      "Third, the above is made worse by the fact that some of the most expensive care out there--management of chronic conditions, long-term hospital stays, and cancer treatments--are mostly Medicare issues, and most other countries are simply not willing to spend what we do on those things. The US has, hands down, the best cancer survival rates in the world. But that's very expensive, and since Medicare isn't picking up the tab adequately, hospitals raise the prices on all of their other services to compensate. Same goes for extended ICU stays for the very elderly. In Europe, such patients are frequently allowed to die a lot sooner, which can save a quarter-million dollars in only a month or two. \n",
      "\n",
      "So when you see that $50,000 bill for a simple surgery, understand that (1) the hospital isn't actually going to collect that, maybe only $20,000 if it's lucky, and (2) a good chunk of that bill is going to subsidize other patients who aren't paying what they need to pay. \n",
      "\n",
      "In short, it's a combination of factors, but the biggest ones are the fact that though we're supposed to be acting in a market system, there's no accurate price information, we've chosen to spend a lot on care that other countries don't, but because Medicare doesn't actually pay enough for that care, prices go up across the board to compensate.\n",
      "3: humans need glasses to see fine detail, like letters.  in a hunter gatherer sense, 99% of peoples vision is probably sufficient.  i suspect there are plenty of animals that would want glasses if they were intelligent enough to know they were missing out on something.  but since most land animals have a highly developed sense of smell compared to humans, they probably dont care.\n",
      "4: Cold sores are the herpes virus ‘erupting’ from nerve endings. Unlike a cut that forms a scab, a cold sore blister is quite deep as it comes from deep in the layer of the skin. This is why it takes a while to heal.\n",
      "5: It appears blue because it is specifically tinted blue to keep the sun out of your eyes without significantly impacting visibility.\n",
      "6: [Slightly NSFW.](_URL_0_)  \n",
      "  \n",
      "Since it's a serious crime that is inter-state, the federal government will likely step in.   \n",
      "  \n",
      "Also, it's a national monument and in Indian Reservation territory, even more reason for it to be the FBI.  \n",
      "  \n",
      "Double also, simply searching Google about this (\"four corners jurisdiction\") brought up an ELI5 post about this as the top result.\n",
      "7: > What is a scientific **explanation** for \"The Hum\" phenomena that the low-frequency, **unexplainable** noise that is heard throughout the world?\n",
      "\n",
      "You just answered your own question.  There is currently no explanation.\n"
     ]
    }
   ],
   "source": [
    "assert tf_utils.devices_to_use()[0].device_type == \"TPU\", (\n",
    "    f_utils.devices_to_use()[0].device_type)\n",
    "assert isinstance(strategy, tf.distribute.TPUStrategy), (\n",
    "    strategy)\n",
    "check_still_got_tpus()\n",
    "\n",
    "\n",
    "for split in [\n",
    "  # \"eval\", \n",
    "  # \"test\", \n",
    "    \"train\"\n",
    "]:\n",
    "    ds_paths = splits_to_ds_paths[split]\n",
    "    \n",
    "    ###########################################################################\n",
    "    # Build and Distribute the DS\n",
    "    ###########################################################################\n",
    "    print(\"Building DS\")\n",
    "    ds = build_dataset(\n",
    "        ds_paths, \n",
    "        context_window_size, \n",
    "        split, \n",
    "        len(tf_utils.devices_to_use())\n",
    "    )\n",
    "    ds.map(maybe_retrieve_and_merge[split])\n",
    "    dds = strategy.experimental_distribute_dataset(ds)\n",
    "    print(\"Created DS\")\n",
    "    \n",
    "    ####################################\n",
    "    for major, dist_items in enumerate(toolz.take(1, dds)):\n",
    "        print(list(dist_items.keys()))\n",
    "        for i, val in enumerate(\n",
    "            dist_items[\"gpt2_answer_ids\"].values\n",
    "        ):\n",
    "            vals = val.numpy().tolist()[0]\n",
    "            sentence = tokenizer.decode(\n",
    "                list(filter(lambda x: x >= 0, val.numpy().tolist()[0]))\n",
    "            )\n",
    "            print(f\"{i}: {sentence}\")\n",
    "            \n"
   ]
  },
  {
   "cell_type": "code",
   "execution_count": null,
   "id": "scientific-brick",
   "metadata": {},
   "outputs": [],
   "source": []
  }
 ],
 "metadata": {
  "kernelspec": {
   "display_name": "Python 3",
   "language": "python",
   "name": "python3"
  },
  "language_info": {
   "codemirror_mode": {
    "name": "ipython",
    "version": 3
   },
   "file_extension": ".py",
   "mimetype": "text/x-python",
   "name": "python",
   "nbconvert_exporter": "python",
   "pygments_lexer": "ipython3",
   "version": "3.8.8"
  }
 },
 "nbformat": 4,
 "nbformat_minor": 5
}
