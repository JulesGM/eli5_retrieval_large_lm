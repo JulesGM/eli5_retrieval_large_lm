{
 "cells": [
  {
   "cell_type": "code",
   "execution_count": 26,
   "id": "terminal-gazette",
   "metadata": {},
   "outputs": [
    {
     "name": "stdout",
     "output_type": "stream",
     "text": [
      "Requirement already satisfied: markdown_strings in /home/jules/anaconda/lib/python3.8/site-packages (3.3.0)\r\n"
     ]
    }
   ],
   "source": [
    "import collections\n",
    "import dataclasses\n",
    "import itertools\n",
    "import json\n",
    "import numpy as np\n",
    "import os\n",
    "import pathlib\n",
    "import socket\n",
    "import subprocess\n",
    "import sys\n",
    "import transformers\n",
    "from typing import *\n",
    "\n",
    "!pip install markdown_strings\n",
    "import markdown_strings\n",
    "from IPython.display import display, Markdown, Latex\n",
    "\n",
    "import rich\n",
    "import rich.console\n",
    "import rich.markdown\n",
    "import rich.table\n",
    "\n",
    "import tensorflow.python.framework.ops as ops\n",
    "import tensorflow as tf\n",
    "import tensorflow.python.distribute.values as values\n",
    "import tqdm.notebook as tqdm\n",
    "\n",
    "_PROJECT_DIRECTORY = pathlib.Path().resolve().parent\n",
    "sys.path.append(str(_PROJECT_DIRECTORY))\n",
    "import constants\n",
    "import utils\n",
    "import tf_utils"
   ]
  },
  {
   "cell_type": "code",
   "execution_count": 27,
   "id": "careful-player",
   "metadata": {},
   "outputs": [],
   "source": [
    "def normal(text, escape=False):\n",
    "    if escape:\n",
    "        text = markdown_strings.esc_format(text)\n",
    "    display(Markdown(text))\n",
    "\n",
    "def h1(text, escape=False):\n",
    "    if escape:\n",
    "        text = markdown_strings.esc_format(text)\n",
    "    display(Markdown(f\"# {text}\"))\n",
    "    \n",
    "def h2(text, escape=False):\n",
    "    if escape:\n",
    "        text = markdown_strings.esc_format(text)\n",
    "    display(Markdown(f\"#### {text}\"))\n",
    "    \n",
    "def quote(text, escape=True):\n",
    "    if escape:\n",
    "        text = markdown_strings.esc_format(text)\n",
    "    display(Markdown(markdown_strings.blockquote(text)))"
   ]
  },
  {
   "cell_type": "code",
   "execution_count": 28,
   "id": "checked-present",
   "metadata": {},
   "outputs": [],
   "source": [
    "def build_per_split(num_paths_display):\n",
    "    h1(\"Getting filenames.\")\n",
    "    h2(\"Loading json config.\")\n",
    "    config_path = _PROJECT_DIRECTORY/\"configs\"/\"train_configs\"/\"tpu_gpt2_eli5_kilt.json\"\n",
    "    config = utils.from_json_file(config_path)\n",
    "    h2(\"Calling `gsutil ls` on the dataset repo.\")\n",
    "    ds_path = config[\"tfr_prefix\"]\n",
    "    filenames = subprocess.check_output(f\"gsutil ls {ds_path}\", shell=True).decode().strip().split(\"\\n\")\n",
    "    h2(\"A few paths:\")\n",
    "    normal(f\"There are actually {len(filenames)}.\")\n",
    "    normal(\" - \" + \"\\n - \".join(filenames[:num_paths_display]))\n",
    "    \n",
    "\n",
    "    h1(\"Building the `per_split` Path dict.\")\n",
    "    per_split = collections.defaultdict(list)\n",
    "    for path in tqdm.tqdm(filenames, desc=\"Building `per_split` dict.\"):\n",
    "        split = pathlib.Path(path).name.split(\"_\")[0]\n",
    "        per_split[split].append(path)\n",
    "\n",
    "    normal(\"Sorting the `per_split` lists.\")\n",
    "    for split in per_split:\n",
    "        # Ad-hoc split per file index\n",
    "        per_split[split].sort(key=lambda p: int(pathlib.Path(p).name.split(\"_\")[1].split(\".\")[0]))\n",
    "\n",
    "    normal(\"Len per split for the per_split dict:\")\n",
    "    print({split: len(per_split[split]) for split in per_split})\n",
    "    return per_split"
   ]
  },
  {
   "cell_type": "code",
   "execution_count": 29,
   "id": "later-sally",
   "metadata": {},
   "outputs": [],
   "source": [
    "def build_dataset(paths, context_window_size, split):\n",
    "    ds = tf.data.TFRecordDataset(paths)\n",
    "\n",
    "\n",
    "    description = {\n",
    "      constants.CTH5Fields.distances:\n",
    "          tf.io.FixedLenFeature((), tf.string),\n",
    "      constants.CTH5Fields.gpt2_retrieved_ids:\n",
    "          tf.io.FixedLenFeature((), tf.string),\n",
    "      constants.CTH5Fields.gpt2_question_ids_inputs:\n",
    "          tf.io.FixedLenFeature((), tf.string),\n",
    "    }\n",
    "    if split != constants.SplitChoices.test:\n",
    "        description[\n",
    "            constants.CTH5Fields.gpt2_answer_ids_inputs\n",
    "        ] = tf.io.FixedLenFeature((), tf.string)\n",
    "\n",
    "    feature_dtypes = {\n",
    "      constants.CTH5Fields.distances:\n",
    "          tf.float32,\n",
    "      constants.CTH5Fields.gpt2_retrieved_ids:\n",
    "          tf.int32,\n",
    "      constants.CTH5Fields.gpt2_question_ids_inputs:\n",
    "          tf.int32,\n",
    "    }\n",
    "    if split != constants.SplitChoices.test:\n",
    "        feature_dtypes[\n",
    "            constants.CTH5Fields.gpt2_answer_ids_inputs\n",
    "        ] = tf.int32\n",
    "\n",
    "    feature_shape = {\n",
    "      constants.CTH5Fields.distances:\n",
    "          (10,),\n",
    "      constants.CTH5Fields.gpt2_retrieved_ids:\n",
    "          (10, context_window_size,),\n",
    "      constants.CTH5Fields.gpt2_question_ids_inputs:\n",
    "          (context_window_size,),\n",
    "    }\n",
    "    if split != constants.SplitChoices.test:\n",
    "        feature_shape[constants.CTH5Fields.gpt2_answer_ids_inputs] = (\n",
    "            context_window_size\n",
    "        )\n",
    "\n",
    "    @tf.function\n",
    "    def parse(sample):\n",
    "        example = tf.io.parse_single_example(sample, description)\n",
    "        output = {}\n",
    "        for k, v in example.items():\n",
    "            output[k] = tf.io.parse_tensor(v, out_type=feature_dtypes[k])\n",
    "            output[k].set_shape(feature_shape[k])\n",
    "        return output\n",
    "\n",
    "    ds = ds.map(\n",
    "      parse,\n",
    "      num_parallel_calls=tf.data.experimental.AUTOTUNE,\n",
    "      deterministic=False\n",
    "      )\n",
    "    return ds\n"
   ]
  },
  {
   "cell_type": "code",
   "execution_count": 30,
   "id": "measured-option",
   "metadata": {
    "scrolled": false
   },
   "outputs": [],
   "source": [
    "def decode_line(tokenizer, line):\n",
    "    return tokenizer.decode([x for x in line if x >= 0])\n",
    "\n",
    "def count(paths, context_window_size, split, tokenizer, min_length=7):\n",
    "    ds = build_dataset(paths, context_window_size, split)\n",
    "    i = 0    \n",
    "    feature_lengths = collections.defaultdict(lambda: collections.defaultdict(int))\n",
    "    \n",
    "    for item in tqdm.tqdm(ds, desc=f\"Counting items for split `{split}`\"):\n",
    "        i += 1\n",
    "        for feature_key, feature in item.items():\n",
    "            \n",
    "            if feature_key in {\n",
    "                constants.CTH5Fields.gpt2_question_ids_inputs, constants.CTH5Fields.gpt2_answer_ids_inputs\n",
    "            }:\n",
    "                length = np.sum(feature >= 0)\n",
    "                feature_lengths[feature_key][length] += 1\n",
    "#                 if length <= min_length:\n",
    "#                     normal(f\"{split} - `{feature_key}`: {decode_line(tokenizer, feature)}\")\n",
    "\n",
    "    for k, v in feature_lengths.items():\n",
    "        print(f\"{split} - {k}: \")\n",
    "        sorted_ = sorted(v.items(), key=lambda x: x[0])\n",
    "        print(sorted_)\n",
    "    return i\n",
    "\n",
    "\n",
    "def main_count():\n",
    "    _MAX_QTY = None\n",
    "    _MODEL_TYPE = \"gpt2-xl\"\n",
    "    _MODEL_CONFIG = transformers.AutoConfig.from_pretrained(\"distilgpt2\")\n",
    "    _CONTEXT_WINDOW_SIZE = _MODEL_CONFIG.n_ctx\n",
    "    _EXPECTED_SIZES = dict(train=272634, eval=1507, test=600)\n",
    "    _NUM_PATHS_DISPLAY = 10\n",
    "    \n",
    "    tokenizer = transformers.AutoTokenizer.from_pretrained(_MODEL_TYPE)\n",
    "    per_split = build_per_split(_NUM_PATHS_DISPLAY)\n",
    "\n",
    "    for split in [\"eval\", \"test\", \"train\"]:\n",
    "        to_test = per_split[split][:_MAX_QTY]\n",
    "        paths = tf.data.Dataset.from_tensor_slices(to_test)\n",
    "        count(paths, _CONTEXT_WINDOW_SIZE, split, tokenizer)\n"
   ]
  },
  {
   "cell_type": "code",
   "execution_count": 31,
   "id": "rotary-marking",
   "metadata": {
    "scrolled": false
   },
   "outputs": [],
   "source": [
    "def is_all_neg(tensor):\n",
    "    if not isinstance(tensor, (np.ndarray, tf.Tensor, ops.EagerTensor)):\n",
    "        return all([x < 0 for x in tensor])\n",
    "    else:\n",
    "        return np.all(tensor < 0)\n",
    "    \n",
    "def check_and_decode(feature_key, item, tokenizer):\n",
    "    feature = item[feature_key]\n",
    "    all_neg = is_all_neg(feature)\n",
    "    assert not all_neg, feature_key\n",
    "    return decode_line(tokenizer, feature)\n",
    "    \n",
    "def display_item(tokenizer, item, split):    \n",
    "    item = vars(item)\n",
    "    ##################################################################################################################\n",
    "    # Produce information\n",
    "    ##################################################################################################################\n",
    "    question = check_and_decode(\n",
    "        constants.CTH5Fields.gpt2_question_ids_inputs,\n",
    "        item,\n",
    "        tokenizer\n",
    "    )\n",
    "    \n",
    "    answer = None\n",
    "    if split != \"test\":\n",
    "        feature_key = constants.CTH5Fields.gpt2_answer_ids_inputs\n",
    "        feature = item[feature_key]\n",
    "        answer = check_and_decode(feature_key, item, tokenizer)\n",
    "\n",
    "    retrieved_segments = []\n",
    "    for line in item[constants.CTH5Fields.gpt2_retrieved_ids]:\n",
    "        retrieved_segments.append(decode_line(tokenizer, line))\n",
    "\n",
    "    ##################################################################################################################\n",
    "    # Display\n",
    "    ##################################################################################################################\n",
    "    console = rich.console.Console()\n",
    "    table = rich.table.Table(title=f\"Item from split `{split}`\", show_lines=True)\n",
    "    table.add_column(\"Field\", style=\"bold\")\n",
    "    table.add_column(\"Value\")\n",
    "    table.add_row(\"Question:\", question)\n",
    "    for i, segment in enumerate(retrieved_segments):\n",
    "        table.add_row(f\"Retrieved segment {i}:\", segment)\n",
    "\n",
    "    if answer:\n",
    "        table.add_row(\"Answer:\", answer)\n",
    "    \n",
    "    console.print(table)\n",
    "\n",
    "    \n",
    "@dataclasses.dataclass\n",
    "class Sample:\n",
    "    distances: tf.Tensor\n",
    "    gpt2_answer_ids: tf.Tensor\n",
    "    gpt2_question_ids: tf.Tensor\n",
    "    gpt2_retrieved_ids: tf.Tensor"
   ]
  },
  {
   "cell_type": "code",
   "execution_count": 32,
   "id": "affecting-spread",
   "metadata": {},
   "outputs": [
    {
     "name": "stdout",
     "output_type": "stream",
     "text": [
      "WARNING:tensorflow:TPU system jules has already been initialized. Reinitializing the TPU can cause previously created variables on TPU to be lost.\n"
     ]
    },
    {
     "name": "stderr",
     "output_type": "stream",
     "text": [
      "WARNING:tensorflow:TPU system jules has already been initialized. Reinitializing the TPU can cause previously created variables on TPU to be lost.\n"
     ]
    },
    {
     "name": "stdout",
     "output_type": "stream",
     "text": [
      "INFO:tensorflow:Initializing the TPU system: jules\n"
     ]
    },
    {
     "name": "stderr",
     "output_type": "stream",
     "text": [
      "INFO:tensorflow:Initializing the TPU system: jules\n"
     ]
    },
    {
     "name": "stdout",
     "output_type": "stream",
     "text": [
      "INFO:tensorflow:Clearing out eager caches\n"
     ]
    },
    {
     "name": "stderr",
     "output_type": "stream",
     "text": [
      "INFO:tensorflow:Clearing out eager caches\n"
     ]
    },
    {
     "name": "stdout",
     "output_type": "stream",
     "text": [
      "INFO:tensorflow:Finished initializing TPU system.\n"
     ]
    },
    {
     "name": "stderr",
     "output_type": "stream",
     "text": [
      "INFO:tensorflow:Finished initializing TPU system.\n"
     ]
    },
    {
     "data": {
      "text/markdown": [
       "# Getting filenames."
      ],
      "text/plain": [
       "<IPython.core.display.Markdown object>"
      ]
     },
     "metadata": {},
     "output_type": "display_data"
    },
    {
     "data": {
      "text/markdown": [
       "#### Loading json config."
      ],
      "text/plain": [
       "<IPython.core.display.Markdown object>"
      ]
     },
     "metadata": {},
     "output_type": "display_data"
    },
    {
     "data": {
      "text/markdown": [
       "#### Calling `gsutil ls` on the dataset repo."
      ],
      "text/plain": [
       "<IPython.core.display.Markdown object>"
      ]
     },
     "metadata": {},
     "output_type": "display_data"
    },
    {
     "data": {
      "text/markdown": [
       "#### A few paths:"
      ],
      "text/plain": [
       "<IPython.core.display.Markdown object>"
      ]
     },
     "metadata": {},
     "output_type": "display_data"
    },
    {
     "data": {
      "text/markdown": [
       "There are actually 8192."
      ],
      "text/plain": [
       "<IPython.core.display.Markdown object>"
      ]
     },
     "metadata": {},
     "output_type": "display_data"
    },
    {
     "data": {
      "text/markdown": [
       " - gs://julesgm-research-v3/tfrecord_query_cache/20210225-191356/eval_0.tfr\n",
       " - gs://julesgm-research-v3/tfrecord_query_cache/20210225-191356/eval_1.tfr\n",
       " - gs://julesgm-research-v3/tfrecord_query_cache/20210225-191356/eval_10.tfr\n",
       " - gs://julesgm-research-v3/tfrecord_query_cache/20210225-191356/eval_100.tfr\n",
       " - gs://julesgm-research-v3/tfrecord_query_cache/20210225-191356/eval_1000.tfr\n",
       " - gs://julesgm-research-v3/tfrecord_query_cache/20210225-191356/eval_1001.tfr\n",
       " - gs://julesgm-research-v3/tfrecord_query_cache/20210225-191356/eval_1002.tfr\n",
       " - gs://julesgm-research-v3/tfrecord_query_cache/20210225-191356/eval_1003.tfr\n",
       " - gs://julesgm-research-v3/tfrecord_query_cache/20210225-191356/eval_1004.tfr\n",
       " - gs://julesgm-research-v3/tfrecord_query_cache/20210225-191356/eval_1005.tfr"
      ],
      "text/plain": [
       "<IPython.core.display.Markdown object>"
      ]
     },
     "metadata": {},
     "output_type": "display_data"
    },
    {
     "data": {
      "text/markdown": [
       "# Building the `per_split` Path dict."
      ],
      "text/plain": [
       "<IPython.core.display.Markdown object>"
      ]
     },
     "metadata": {},
     "output_type": "display_data"
    },
    {
     "data": {
      "application/vnd.jupyter.widget-view+json": {
       "model_id": "909c78ab36f749728a4e44d0624b5085",
       "version_major": 2,
       "version_minor": 0
      },
      "text/plain": [
       "HBox(children=(FloatProgress(value=0.0, description='Building `per_split` dict.', max=8192.0, style=ProgressSt…"
      ]
     },
     "metadata": {},
     "output_type": "display_data"
    },
    {
     "name": "stdout",
     "output_type": "stream",
     "text": [
      "\n"
     ]
    },
    {
     "data": {
      "text/markdown": [
       "Sorting the `per_split` lists."
      ],
      "text/plain": [
       "<IPython.core.display.Markdown object>"
      ]
     },
     "metadata": {},
     "output_type": "display_data"
    },
    {
     "data": {
      "text/markdown": [
       "Len per split for the per_split dict:"
      ],
      "text/plain": [
       "<IPython.core.display.Markdown object>"
      ]
     },
     "metadata": {},
     "output_type": "display_data"
    },
    {
     "name": "stdout",
     "output_type": "stream",
     "text": [
      "{'eval': 2048, 'test': 2048, 'train': 2048, 'validation': 2048}\n",
      "INFO:tensorflow:Found TPU system:\n"
     ]
    },
    {
     "name": "stderr",
     "output_type": "stream",
     "text": [
      "INFO:tensorflow:Found TPU system:\n"
     ]
    },
    {
     "name": "stdout",
     "output_type": "stream",
     "text": [
      "INFO:tensorflow:*** Num TPU Cores: 8\n"
     ]
    },
    {
     "name": "stderr",
     "output_type": "stream",
     "text": [
      "INFO:tensorflow:*** Num TPU Cores: 8\n"
     ]
    },
    {
     "name": "stdout",
     "output_type": "stream",
     "text": [
      "INFO:tensorflow:*** Num TPU Workers: 1\n"
     ]
    },
    {
     "name": "stderr",
     "output_type": "stream",
     "text": [
      "INFO:tensorflow:*** Num TPU Workers: 1\n"
     ]
    },
    {
     "name": "stdout",
     "output_type": "stream",
     "text": [
      "INFO:tensorflow:*** Num TPU Cores Per Worker: 8\n"
     ]
    },
    {
     "name": "stderr",
     "output_type": "stream",
     "text": [
      "INFO:tensorflow:*** Num TPU Cores Per Worker: 8\n"
     ]
    },
    {
     "name": "stdout",
     "output_type": "stream",
     "text": [
      "INFO:tensorflow:*** Available Device: _DeviceAttributes(/job:localhost/replica:0/task:0/device:CPU:0, CPU, 0, 0)\n"
     ]
    },
    {
     "name": "stderr",
     "output_type": "stream",
     "text": [
      "INFO:tensorflow:*** Available Device: _DeviceAttributes(/job:localhost/replica:0/task:0/device:CPU:0, CPU, 0, 0)\n"
     ]
    },
    {
     "name": "stdout",
     "output_type": "stream",
     "text": [
      "INFO:tensorflow:*** Available Device: _DeviceAttributes(/job:worker/replica:0/task:0/device:CPU:0, CPU, 0, 0)\n"
     ]
    },
    {
     "name": "stderr",
     "output_type": "stream",
     "text": [
      "INFO:tensorflow:*** Available Device: _DeviceAttributes(/job:worker/replica:0/task:0/device:CPU:0, CPU, 0, 0)\n"
     ]
    },
    {
     "name": "stdout",
     "output_type": "stream",
     "text": [
      "INFO:tensorflow:*** Available Device: _DeviceAttributes(/job:worker/replica:0/task:0/device:TPU:0, TPU, 0, 0)\n"
     ]
    },
    {
     "name": "stderr",
     "output_type": "stream",
     "text": [
      "INFO:tensorflow:*** Available Device: _DeviceAttributes(/job:worker/replica:0/task:0/device:TPU:0, TPU, 0, 0)\n"
     ]
    },
    {
     "name": "stdout",
     "output_type": "stream",
     "text": [
      "INFO:tensorflow:*** Available Device: _DeviceAttributes(/job:worker/replica:0/task:0/device:TPU:1, TPU, 0, 0)\n"
     ]
    },
    {
     "name": "stderr",
     "output_type": "stream",
     "text": [
      "INFO:tensorflow:*** Available Device: _DeviceAttributes(/job:worker/replica:0/task:0/device:TPU:1, TPU, 0, 0)\n"
     ]
    },
    {
     "name": "stdout",
     "output_type": "stream",
     "text": [
      "INFO:tensorflow:*** Available Device: _DeviceAttributes(/job:worker/replica:0/task:0/device:TPU:2, TPU, 0, 0)\n"
     ]
    },
    {
     "name": "stderr",
     "output_type": "stream",
     "text": [
      "INFO:tensorflow:*** Available Device: _DeviceAttributes(/job:worker/replica:0/task:0/device:TPU:2, TPU, 0, 0)\n"
     ]
    },
    {
     "name": "stdout",
     "output_type": "stream",
     "text": [
      "INFO:tensorflow:*** Available Device: _DeviceAttributes(/job:worker/replica:0/task:0/device:TPU:3, TPU, 0, 0)\n"
     ]
    },
    {
     "name": "stderr",
     "output_type": "stream",
     "text": [
      "INFO:tensorflow:*** Available Device: _DeviceAttributes(/job:worker/replica:0/task:0/device:TPU:3, TPU, 0, 0)\n"
     ]
    },
    {
     "name": "stdout",
     "output_type": "stream",
     "text": [
      "INFO:tensorflow:*** Available Device: _DeviceAttributes(/job:worker/replica:0/task:0/device:TPU:4, TPU, 0, 0)\n"
     ]
    },
    {
     "name": "stderr",
     "output_type": "stream",
     "text": [
      "INFO:tensorflow:*** Available Device: _DeviceAttributes(/job:worker/replica:0/task:0/device:TPU:4, TPU, 0, 0)\n"
     ]
    },
    {
     "name": "stdout",
     "output_type": "stream",
     "text": [
      "INFO:tensorflow:*** Available Device: _DeviceAttributes(/job:worker/replica:0/task:0/device:TPU:5, TPU, 0, 0)\n"
     ]
    },
    {
     "name": "stderr",
     "output_type": "stream",
     "text": [
      "INFO:tensorflow:*** Available Device: _DeviceAttributes(/job:worker/replica:0/task:0/device:TPU:5, TPU, 0, 0)\n"
     ]
    },
    {
     "name": "stdout",
     "output_type": "stream",
     "text": [
      "INFO:tensorflow:*** Available Device: _DeviceAttributes(/job:worker/replica:0/task:0/device:TPU:6, TPU, 0, 0)\n"
     ]
    },
    {
     "name": "stderr",
     "output_type": "stream",
     "text": [
      "INFO:tensorflow:*** Available Device: _DeviceAttributes(/job:worker/replica:0/task:0/device:TPU:6, TPU, 0, 0)\n"
     ]
    },
    {
     "name": "stdout",
     "output_type": "stream",
     "text": [
      "INFO:tensorflow:*** Available Device: _DeviceAttributes(/job:worker/replica:0/task:0/device:TPU:7, TPU, 0, 0)\n"
     ]
    },
    {
     "name": "stderr",
     "output_type": "stream",
     "text": [
      "INFO:tensorflow:*** Available Device: _DeviceAttributes(/job:worker/replica:0/task:0/device:TPU:7, TPU, 0, 0)\n"
     ]
    },
    {
     "name": "stdout",
     "output_type": "stream",
     "text": [
      "INFO:tensorflow:*** Available Device: _DeviceAttributes(/job:worker/replica:0/task:0/device:TPU_SYSTEM:0, TPU_SYSTEM, 0, 0)\n"
     ]
    },
    {
     "name": "stderr",
     "output_type": "stream",
     "text": [
      "INFO:tensorflow:*** Available Device: _DeviceAttributes(/job:worker/replica:0/task:0/device:TPU_SYSTEM:0, TPU_SYSTEM, 0, 0)\n"
     ]
    },
    {
     "name": "stdout",
     "output_type": "stream",
     "text": [
      "INFO:tensorflow:*** Available Device: _DeviceAttributes(/job:worker/replica:0/task:0/device:XLA_CPU:0, XLA_CPU, 0, 0)\n"
     ]
    },
    {
     "name": "stderr",
     "output_type": "stream",
     "text": [
      "INFO:tensorflow:*** Available Device: _DeviceAttributes(/job:worker/replica:0/task:0/device:XLA_CPU:0, XLA_CPU, 0, 0)\n"
     ]
    }
   ],
   "source": [
    "# Init TPUs\n",
    "tpu_setup = tf_utils.init_tpus(socket.gethostname())\n",
    "utils.check_equal(tf_utils.devices_to_use()[0].device_type, \"TPU\")\n",
    "\n",
    "# Prep dataset\n",
    "_MAX_QTY = None\n",
    "_MODEL_TYPE = \"gpt2-xl\"\n",
    "_MODEL_CONFIG = transformers.AutoConfig.from_pretrained(\"distilgpt2\")\n",
    "_CONTEXT_WINDOW_SIZE = _MODEL_CONFIG.n_ctx\n",
    "_EXPECTED_SIZES = dict(train=272634, eval=1507, test=600)\n",
    "_NUM_PATHS_DISPLAY = 10\n",
    "_NUM_ITEMS_TO_SHOW = 1\n",
    "_NUM_REPLICAS = 8\n",
    "\n",
    "tokenizer = transformers.AutoTokenizer.from_pretrained(_MODEL_TYPE)\n",
    "per_split = build_per_split(_NUM_PATHS_DISPLAY)\n",
    "\n",
    "strategy = tf.distribute.TPUStrategy(tpu_setup.resolver)\n",
    "console = rich.console.Console()"
   ]
  },
  {
   "cell_type": "code",
   "execution_count": 33,
   "id": "assisted-praise",
   "metadata": {
    "scrolled": false
   },
   "outputs": [
    {
     "data": {
      "text/html": [
       "<pre style=\"white-space:pre;overflow-x:auto;line-height:normal;font-family:Menlo,'DejaVu Sans Mono',consolas,'Courier New',monospace\"><span style=\"color: #008000; text-decoration-color: #008000\">distances</span>\n",
       "</pre>\n"
      ],
      "text/plain": [
       "<rich.jupyter.JupyterRenderable at 0x7f0c3c5d79d0>"
      ]
     },
     "metadata": {},
     "output_type": "display_data"
    },
    {
     "data": {
      "text/html": [
       "<pre style=\"white-space:pre;overflow-x:auto;line-height:normal;font-family:Menlo,'DejaVu Sans Mono',consolas,'Courier New',monospace\"><span style=\"color: #008000; text-decoration-color: #008000\">gpt2_answer_ids</span>\n",
       "</pre>\n"
      ],
      "text/plain": [
       "<rich.jupyter.JupyterRenderable at 0x7f0c3c6addc0>"
      ]
     },
     "metadata": {},
     "output_type": "display_data"
    },
    {
     "data": {
      "text/html": [
       "<pre style=\"white-space:pre;overflow-x:auto;line-height:normal;font-family:Menlo,'DejaVu Sans Mono',consolas,'Courier New',monospace\"><span style=\"color: #008000; text-decoration-color: #008000\">gpt2_question_ids</span>\n",
       "</pre>\n"
      ],
      "text/plain": [
       "<rich.jupyter.JupyterRenderable at 0x7f0c3c715ca0>"
      ]
     },
     "metadata": {},
     "output_type": "display_data"
    },
    {
     "data": {
      "text/html": [
       "<pre style=\"white-space:pre;overflow-x:auto;line-height:normal;font-family:Menlo,'DejaVu Sans Mono',consolas,'Courier New',monospace\"><span style=\"color: #008000; text-decoration-color: #008000\">gpt2_retrieved_ids</span>\n",
       "</pre>\n"
      ],
      "text/plain": [
       "<rich.jupyter.JupyterRenderable at 0x7f0c3c5ccfd0>"
      ]
     },
     "metadata": {},
     "output_type": "display_data"
    },
    {
     "data": {
      "text/html": [
       "<pre style=\"white-space:pre;overflow-x:auto;line-height:normal;font-family:Menlo,'DejaVu Sans Mono',consolas,'Courier New',monospace\"><span style=\"font-style: italic\">                                   Item from split `train`                                   </span>\n",
       "┏━━━━━━━━━━━━━━━━━━━━━━┳━━━━━━━━━━━━━━━━━━━━━━━━━━━━━━━━━━━━━━━━━━━━━━━━━━━━━━━━━━━━━━━━━━━━┓\n",
       "┃<span style=\"font-weight: bold\"> Field                </span>┃<span style=\"font-weight: bold\"> Value                                                              </span>┃\n",
       "┡━━━━━━━━━━━━━━━━━━━━━━╇━━━━━━━━━━━━━━━━━━━━━━━━━━━━━━━━━━━━━━━━━━━━━━━━━━━━━━━━━━━━━━━━━━━━┩\n",
       "│<span style=\"font-weight: bold\"> Question:            </span>│ in football whats the point of wasting the first two plays with a  │\n",
       "│                      │ rush - up the middle - not regular rush plays i get those          │\n",
       "├──────────────────────┼────────────────────────────────────────────────────────────────────┤\n",
       "│<span style=\"font-weight: bold\"> Retrieved segment 0: </span>│ Although the Packers have won only five of their last ten playoff  │\n",
       "│                      │ games at Lambeau Field, their overall home post-season record is a │\n",
       "│                      │ respectable 16–5. The stadium has hosted five championship         │\n",
       "│                      │ contests: three NFL title games in 1961, 1965 and 1967 (the \"Ice   │\n",
       "│                      │ Bowl\"); two NFC championships after the 1996 and 2007 seasons.     │\n",
       "│                      │ Many Packer players will jump into the end zone stands after       │\n",
       "│                      │ scoring a touchdown, in a celebration affectionately known as the  │\n",
       "│                      │ \"Lambeau Leap\". The Lambeau Leap was invented by safety LeRoy      │\n",
       "│                      │ Butler, who scored after a Reggie White fumble recovery and        │\n",
       "│                      │ lateral against the L.A. Raiders on December 26, 1993. It was      │\n",
       "│                      │ later popularized by wide receiver Robert Brooks. It's not known   │\n",
       "│                      │ precisely when the celebration was first coined the \"Lambeau       │\n",
       "│                      │ Leap\", but one of the first possible mentions was by broadcaster   │\n",
       "│                      │ Al Michaels, who mentioned during a Monday Night Football          │\n",
       "│                      │ broadcast in 1996, \"It's a new tradition in Green Bay, Robert      │\n",
       "│                      │ Brooks \"leaping\" into the stands.\" When the NFL banned excessive   │\n",
       "│                      │ celebrations in 2000, the Lambeau Leap was grandfathered into the  │\n",
       "│                      │ new rules, permitting it to continue. Occasionally, a visiting     │\n",
       "│                      │ player will attempt a Lambeau Leap, only to be denied by Packers   │\n",
       "│                      │ fans.                                                              │\n",
       "├──────────────────────┼────────────────────────────────────────────────────────────────────┤\n",
       "│<span style=\"font-weight: bold\"> Retrieved segment 1: </span>│ Stance (American football)                                         │\n",
       "│                      │                                                                    │\n",
       "│                      │ Stance is the position an American football player adopts when a   │\n",
       "│                      │ play begins. There are three common stances used by linemen:       │\n",
       "│                      │ two-point, three-point, and four-point. The stance names reference │\n",
       "│                      │ the number of points where a player's body is touching the ground  │\n",
       "│                      │ while down in the stance. Each technique has its own strengths and │\n",
       "│                      │ weaknesses; therefore, each one is used accordingly in different   │\n",
       "│                      │ situations. Furthermore, stances are taught and used differently   │\n",
       "│                      │ depending on the level of competition (little league football,     │\n",
       "│                      │ high school football, college football, etc.). In the National     │\n",
       "│                      │ Football League (NFL), the average amount of plays per game is     │\n",
       "│                      │ over 60 per team. This means that, in one game, a lineman playing  │\n",
       "│                      │ the entire time could enter a stance more than 60 times. However,  │\n",
       "│                      │ it is not likely to be the same stance every time. Furthermore, it │\n",
       "│                      │ is important to remember that the offensive team must remain still │\n",
       "│                      │ for one second prior to the ball being snapped. This means that    │\n",
       "│                      │ once an offensive player has become set in a stance, he must stay  │\n",
       "│                      │ in it until the ball is snapped and the play begins. Additional    │\n",
       "│                      │ motion can result in a false start penalty. Defensive players, on  │\n",
       "│                      │ the other hand, are permitted to shift as much as they want before │\n",
       "│                      │ a play.                                                            │\n",
       "├──────────────────────┼────────────────────────────────────────────────────────────────────┤\n",
       "│<span style=\"font-weight: bold\"> Answer:              </span>│ Keep the defense honest, get a feel for the pass rush, open up the │\n",
       "│                      │ passing game. An offense that's too one dimensional will fail. And │\n",
       "│                      │ those rushes up the middle can be busted wide open sometimes for   │\n",
       "│                      │ big yardage.                                                       │\n",
       "└──────────────────────┴────────────────────────────────────────────────────────────────────┘\n",
       "</pre>\n"
      ],
      "text/plain": [
       "<rich.jupyter.JupyterRenderable at 0x7f0c3c5e9b80>"
      ]
     },
     "metadata": {},
     "output_type": "display_data"
    },
    {
     "data": {
      "text/html": [
       "<pre style=\"white-space:pre;overflow-x:auto;line-height:normal;font-family:Menlo,'DejaVu Sans Mono',consolas,'Courier New',monospace\"><span style=\"font-style: italic\">                                   Item from split `train`                                   </span>\n",
       "┏━━━━━━━━━━━━━━━━━━━━━━┳━━━━━━━━━━━━━━━━━━━━━━━━━━━━━━━━━━━━━━━━━━━━━━━━━━━━━━━━━━━━━━━━━━━━┓\n",
       "┃<span style=\"font-weight: bold\"> Field                </span>┃<span style=\"font-weight: bold\"> Value                                                              </span>┃\n",
       "┡━━━━━━━━━━━━━━━━━━━━━━╇━━━━━━━━━━━━━━━━━━━━━━━━━━━━━━━━━━━━━━━━━━━━━━━━━━━━━━━━━━━━━━━━━━━━┩\n",
       "│<span style=\"font-weight: bold\"> Question:            </span>│ in football whats the point of wasting the first two plays with a  │\n",
       "│                      │ rush - up the middle - not regular rush plays i get those          │\n",
       "├──────────────────────┼────────────────────────────────────────────────────────────────────┤\n",
       "│<span style=\"font-weight: bold\"> Retrieved segment 0: </span>│ Although the Packers have won only five of their last ten playoff  │\n",
       "│                      │ games at Lambeau Field, their overall home post-season record is a │\n",
       "│                      │ respectable 16–5. The stadium has hosted five championship         │\n",
       "│                      │ contests: three NFL title games in 1961, 1965 and 1967 (the \"Ice   │\n",
       "│                      │ Bowl\"); two NFC championships after the 1996 and 2007 seasons.     │\n",
       "│                      │ Many Packer players will jump into the end zone stands after       │\n",
       "│                      │ scoring a touchdown, in a celebration affectionately known as the  │\n",
       "│                      │ \"Lambeau Leap\". The Lambeau Leap was invented by safety LeRoy      │\n",
       "│                      │ Butler, who scored after a Reggie White fumble recovery and        │\n",
       "│                      │ lateral against the L.A. Raiders on December 26, 1993. It was      │\n",
       "│                      │ later popularized by wide receiver Robert Brooks. It's not known   │\n",
       "│                      │ precisely when the celebration was first coined the \"Lambeau       │\n",
       "│                      │ Leap\", but one of the first possible mentions was by broadcaster   │\n",
       "│                      │ Al Michaels, who mentioned during a Monday Night Football          │\n",
       "│                      │ broadcast in 1996, \"It's a new tradition in Green Bay, Robert      │\n",
       "│                      │ Brooks \"leaping\" into the stands.\" When the NFL banned excessive   │\n",
       "│                      │ celebrations in 2000, the Lambeau Leap was grandfathered into the  │\n",
       "│                      │ new rules, permitting it to continue. Occasionally, a visiting     │\n",
       "│                      │ player will attempt a Lambeau Leap, only to be denied by Packers   │\n",
       "│                      │ fans.                                                              │\n",
       "├──────────────────────┼────────────────────────────────────────────────────────────────────┤\n",
       "│<span style=\"font-weight: bold\"> Retrieved segment 1: </span>│ Stance (American football)                                         │\n",
       "│                      │                                                                    │\n",
       "│                      │ Stance is the position an American football player adopts when a   │\n",
       "│                      │ play begins. There are three common stances used by linemen:       │\n",
       "│                      │ two-point, three-point, and four-point. The stance names reference │\n",
       "│                      │ the number of points where a player's body is touching the ground  │\n",
       "│                      │ while down in the stance. Each technique has its own strengths and │\n",
       "│                      │ weaknesses; therefore, each one is used accordingly in different   │\n",
       "│                      │ situations. Furthermore, stances are taught and used differently   │\n",
       "│                      │ depending on the level of competition (little league football,     │\n",
       "│                      │ high school football, college football, etc.). In the National     │\n",
       "│                      │ Football League (NFL), the average amount of plays per game is     │\n",
       "│                      │ over 60 per team. This means that, in one game, a lineman playing  │\n",
       "│                      │ the entire time could enter a stance more than 60 times. However,  │\n",
       "│                      │ it is not likely to be the same stance every time. Furthermore, it │\n",
       "│                      │ is important to remember that the offensive team must remain still │\n",
       "│                      │ for one second prior to the ball being snapped. This means that    │\n",
       "│                      │ once an offensive player has become set in a stance, he must stay  │\n",
       "│                      │ in it until the ball is snapped and the play begins. Additional    │\n",
       "│                      │ motion can result in a false start penalty. Defensive players, on  │\n",
       "│                      │ the other hand, are permitted to shift as much as they want before │\n",
       "│                      │ a play.                                                            │\n",
       "├──────────────────────┼────────────────────────────────────────────────────────────────────┤\n",
       "│<span style=\"font-weight: bold\"> Answer:              </span>│ Keep the defense honest, get a feel for the pass rush, open up the │\n",
       "│                      │ passing game. An offense that's too one dimensional will fail. And │\n",
       "│                      │ those rushes up the middle can be busted wide open sometimes for   │\n",
       "│                      │ big yardage.                                                       │\n",
       "└──────────────────────┴────────────────────────────────────────────────────────────────────┘\n",
       "</pre>\n"
      ],
      "text/plain": [
       "<rich.jupyter.JupyterRenderable at 0x7f0c4a6e7eb0>"
      ]
     },
     "metadata": {},
     "output_type": "display_data"
    },
    {
     "data": {
      "text/html": [
       "<pre style=\"white-space:pre;overflow-x:auto;line-height:normal;font-family:Menlo,'DejaVu Sans Mono',consolas,'Courier New',monospace\"><span style=\"font-style: italic\">                                   Item from split `train`                                   </span>\n",
       "┏━━━━━━━━━━━━━━━━━━━━━━┳━━━━━━━━━━━━━━━━━━━━━━━━━━━━━━━━━━━━━━━━━━━━━━━━━━━━━━━━━━━━━━━━━━━━┓\n",
       "┃<span style=\"font-weight: bold\"> Field                </span>┃<span style=\"font-weight: bold\"> Value                                                              </span>┃\n",
       "┡━━━━━━━━━━━━━━━━━━━━━━╇━━━━━━━━━━━━━━━━━━━━━━━━━━━━━━━━━━━━━━━━━━━━━━━━━━━━━━━━━━━━━━━━━━━━┩\n",
       "│<span style=\"font-weight: bold\"> Question:            </span>│ in football whats the point of wasting the first two plays with a  │\n",
       "│                      │ rush - up the middle - not regular rush plays i get those          │\n",
       "├──────────────────────┼────────────────────────────────────────────────────────────────────┤\n",
       "│<span style=\"font-weight: bold\"> Retrieved segment 0: </span>│ Although the Packers have won only five of their last ten playoff  │\n",
       "│                      │ games at Lambeau Field, their overall home post-season record is a │\n",
       "│                      │ respectable 16–5. The stadium has hosted five championship         │\n",
       "│                      │ contests: three NFL title games in 1961, 1965 and 1967 (the \"Ice   │\n",
       "│                      │ Bowl\"); two NFC championships after the 1996 and 2007 seasons.     │\n",
       "│                      │ Many Packer players will jump into the end zone stands after       │\n",
       "│                      │ scoring a touchdown, in a celebration affectionately known as the  │\n",
       "│                      │ \"Lambeau Leap\". The Lambeau Leap was invented by safety LeRoy      │\n",
       "│                      │ Butler, who scored after a Reggie White fumble recovery and        │\n",
       "│                      │ lateral against the L.A. Raiders on December 26, 1993. It was      │\n",
       "│                      │ later popularized by wide receiver Robert Brooks. It's not known   │\n",
       "│                      │ precisely when the celebration was first coined the \"Lambeau       │\n",
       "│                      │ Leap\", but one of the first possible mentions was by broadcaster   │\n",
       "│                      │ Al Michaels, who mentioned during a Monday Night Football          │\n",
       "│                      │ broadcast in 1996, \"It's a new tradition in Green Bay, Robert      │\n",
       "│                      │ Brooks \"leaping\" into the stands.\" When the NFL banned excessive   │\n",
       "│                      │ celebrations in 2000, the Lambeau Leap was grandfathered into the  │\n",
       "│                      │ new rules, permitting it to continue. Occasionally, a visiting     │\n",
       "│                      │ player will attempt a Lambeau Leap, only to be denied by Packers   │\n",
       "│                      │ fans.                                                              │\n",
       "├──────────────────────┼────────────────────────────────────────────────────────────────────┤\n",
       "│<span style=\"font-weight: bold\"> Retrieved segment 1: </span>│ Stance (American football)                                         │\n",
       "│                      │                                                                    │\n",
       "│                      │ Stance is the position an American football player adopts when a   │\n",
       "│                      │ play begins. There are three common stances used by linemen:       │\n",
       "│                      │ two-point, three-point, and four-point. The stance names reference │\n",
       "│                      │ the number of points where a player's body is touching the ground  │\n",
       "│                      │ while down in the stance. Each technique has its own strengths and │\n",
       "│                      │ weaknesses; therefore, each one is used accordingly in different   │\n",
       "│                      │ situations. Furthermore, stances are taught and used differently   │\n",
       "│                      │ depending on the level of competition (little league football,     │\n",
       "│                      │ high school football, college football, etc.). In the National     │\n",
       "│                      │ Football League (NFL), the average amount of plays per game is     │\n",
       "│                      │ over 60 per team. This means that, in one game, a lineman playing  │\n",
       "│                      │ the entire time could enter a stance more than 60 times. However,  │\n",
       "│                      │ it is not likely to be the same stance every time. Furthermore, it │\n",
       "│                      │ is important to remember that the offensive team must remain still │\n",
       "│                      │ for one second prior to the ball being snapped. This means that    │\n",
       "│                      │ once an offensive player has become set in a stance, he must stay  │\n",
       "│                      │ in it until the ball is snapped and the play begins. Additional    │\n",
       "│                      │ motion can result in a false start penalty. Defensive players, on  │\n",
       "│                      │ the other hand, are permitted to shift as much as they want before │\n",
       "│                      │ a play.                                                            │\n",
       "├──────────────────────┼────────────────────────────────────────────────────────────────────┤\n",
       "│<span style=\"font-weight: bold\"> Answer:              </span>│ Keep the defense honest, get a feel for the pass rush, open up the │\n",
       "│                      │ passing game. An offense that's too one dimensional will fail. And │\n",
       "│                      │ those rushes up the middle can be busted wide open sometimes for   │\n",
       "│                      │ big yardage.                                                       │\n",
       "└──────────────────────┴────────────────────────────────────────────────────────────────────┘\n",
       "</pre>\n"
      ],
      "text/plain": [
       "<rich.jupyter.JupyterRenderable at 0x7f0c4a853d00>"
      ]
     },
     "metadata": {},
     "output_type": "display_data"
    },
    {
     "data": {
      "text/html": [
       "<pre style=\"white-space:pre;overflow-x:auto;line-height:normal;font-family:Menlo,'DejaVu Sans Mono',consolas,'Courier New',monospace\"><span style=\"font-style: italic\">                                   Item from split `train`                                   </span>\n",
       "┏━━━━━━━━━━━━━━━━━━━━━━┳━━━━━━━━━━━━━━━━━━━━━━━━━━━━━━━━━━━━━━━━━━━━━━━━━━━━━━━━━━━━━━━━━━━━┓\n",
       "┃<span style=\"font-weight: bold\"> Field                </span>┃<span style=\"font-weight: bold\"> Value                                                              </span>┃\n",
       "┡━━━━━━━━━━━━━━━━━━━━━━╇━━━━━━━━━━━━━━━━━━━━━━━━━━━━━━━━━━━━━━━━━━━━━━━━━━━━━━━━━━━━━━━━━━━━┩\n",
       "│<span style=\"font-weight: bold\"> Question:            </span>│ in football whats the point of wasting the first two plays with a  │\n",
       "│                      │ rush - up the middle - not regular rush plays i get those          │\n",
       "├──────────────────────┼────────────────────────────────────────────────────────────────────┤\n",
       "│<span style=\"font-weight: bold\"> Retrieved segment 0: </span>│ Although the Packers have won only five of their last ten playoff  │\n",
       "│                      │ games at Lambeau Field, their overall home post-season record is a │\n",
       "│                      │ respectable 16–5. The stadium has hosted five championship         │\n",
       "│                      │ contests: three NFL title games in 1961, 1965 and 1967 (the \"Ice   │\n",
       "│                      │ Bowl\"); two NFC championships after the 1996 and 2007 seasons.     │\n",
       "│                      │ Many Packer players will jump into the end zone stands after       │\n",
       "│                      │ scoring a touchdown, in a celebration affectionately known as the  │\n",
       "│                      │ \"Lambeau Leap\". The Lambeau Leap was invented by safety LeRoy      │\n",
       "│                      │ Butler, who scored after a Reggie White fumble recovery and        │\n",
       "│                      │ lateral against the L.A. Raiders on December 26, 1993. It was      │\n",
       "│                      │ later popularized by wide receiver Robert Brooks. It's not known   │\n",
       "│                      │ precisely when the celebration was first coined the \"Lambeau       │\n",
       "│                      │ Leap\", but one of the first possible mentions was by broadcaster   │\n",
       "│                      │ Al Michaels, who mentioned during a Monday Night Football          │\n",
       "│                      │ broadcast in 1996, \"It's a new tradition in Green Bay, Robert      │\n",
       "│                      │ Brooks \"leaping\" into the stands.\" When the NFL banned excessive   │\n",
       "│                      │ celebrations in 2000, the Lambeau Leap was grandfathered into the  │\n",
       "│                      │ new rules, permitting it to continue. Occasionally, a visiting     │\n",
       "│                      │ player will attempt a Lambeau Leap, only to be denied by Packers   │\n",
       "│                      │ fans.                                                              │\n",
       "├──────────────────────┼────────────────────────────────────────────────────────────────────┤\n",
       "│<span style=\"font-weight: bold\"> Retrieved segment 1: </span>│ Stance (American football)                                         │\n",
       "│                      │                                                                    │\n",
       "│                      │ Stance is the position an American football player adopts when a   │\n",
       "│                      │ play begins. There are three common stances used by linemen:       │\n",
       "│                      │ two-point, three-point, and four-point. The stance names reference │\n",
       "│                      │ the number of points where a player's body is touching the ground  │\n",
       "│                      │ while down in the stance. Each technique has its own strengths and │\n",
       "│                      │ weaknesses; therefore, each one is used accordingly in different   │\n",
       "│                      │ situations. Furthermore, stances are taught and used differently   │\n",
       "│                      │ depending on the level of competition (little league football,     │\n",
       "│                      │ high school football, college football, etc.). In the National     │\n",
       "│                      │ Football League (NFL), the average amount of plays per game is     │\n",
       "│                      │ over 60 per team. This means that, in one game, a lineman playing  │\n",
       "│                      │ the entire time could enter a stance more than 60 times. However,  │\n",
       "│                      │ it is not likely to be the same stance every time. Furthermore, it │\n",
       "│                      │ is important to remember that the offensive team must remain still │\n",
       "│                      │ for one second prior to the ball being snapped. This means that    │\n",
       "│                      │ once an offensive player has become set in a stance, he must stay  │\n",
       "│                      │ in it until the ball is snapped and the play begins. Additional    │\n",
       "│                      │ motion can result in a false start penalty. Defensive players, on  │\n",
       "│                      │ the other hand, are permitted to shift as much as they want before │\n",
       "│                      │ a play.                                                            │\n",
       "├──────────────────────┼────────────────────────────────────────────────────────────────────┤\n",
       "│<span style=\"font-weight: bold\"> Answer:              </span>│ Keep the defense honest, get a feel for the pass rush, open up the │\n",
       "│                      │ passing game. An offense that's too one dimensional will fail. And │\n",
       "│                      │ those rushes up the middle can be busted wide open sometimes for   │\n",
       "│                      │ big yardage.                                                       │\n",
       "└──────────────────────┴────────────────────────────────────────────────────────────────────┘\n",
       "</pre>\n"
      ],
      "text/plain": [
       "<rich.jupyter.JupyterRenderable at 0x7f0c4a853d00>"
      ]
     },
     "metadata": {},
     "output_type": "display_data"
    },
    {
     "ename": "AssertionError",
     "evalue": "gpt2_question_ids",
     "output_type": "error",
     "traceback": [
      "\u001b[0;31m---------------------------------------------------------------------------\u001b[0m",
      "\u001b[0;31mAssertionError\u001b[0m                            Traceback (most recent call last)",
      "\u001b[0;32m<ipython-input-33-2cb39dc33ef1>\u001b[0m in \u001b[0;36m<module>\u001b[0;34m\u001b[0m\n\u001b[1;32m     23\u001b[0m             \u001b[0;32mif\u001b[0m \u001b[0msplit\u001b[0m \u001b[0;34m==\u001b[0m \u001b[0;34m\"train\"\u001b[0m\u001b[0;34m:\u001b[0m\u001b[0;34m\u001b[0m\u001b[0;34m\u001b[0m\u001b[0m\n\u001b[1;32m     24\u001b[0m                 \u001b[0;32mfor\u001b[0m \u001b[0mk\u001b[0m\u001b[0;34m,\u001b[0m \u001b[0mv\u001b[0m \u001b[0;32min\u001b[0m \u001b[0mvars\u001b[0m\u001b[0;34m(\u001b[0m\u001b[0mitem\u001b[0m\u001b[0;34m)\u001b[0m\u001b[0;34m.\u001b[0m\u001b[0mitems\u001b[0m\u001b[0;34m(\u001b[0m\u001b[0;34m)\u001b[0m\u001b[0;34m:\u001b[0m\u001b[0;34m\u001b[0m\u001b[0;34m\u001b[0m\u001b[0m\n\u001b[0;32m---> 25\u001b[0;31m                     \u001b[0mdisplay_item\u001b[0m\u001b[0;34m(\u001b[0m\u001b[0mtokenizer\u001b[0m\u001b[0;34m,\u001b[0m \u001b[0mitem\u001b[0m\u001b[0;34m,\u001b[0m \u001b[0msplit\u001b[0m\u001b[0;34m)\u001b[0m\u001b[0;34m\u001b[0m\u001b[0;34m\u001b[0m\u001b[0m\n\u001b[0m\u001b[1;32m     26\u001b[0m \u001b[0;34m\u001b[0m\u001b[0m\n",
      "\u001b[0;32m<ipython-input-31-1483121bc9b5>\u001b[0m in \u001b[0;36mdisplay_item\u001b[0;34m(tokenizer, item, split)\u001b[0m\n\u001b[1;32m     16\u001b[0m     \u001b[0;31m# Produce information\u001b[0m\u001b[0;34m\u001b[0m\u001b[0;34m\u001b[0m\u001b[0;34m\u001b[0m\u001b[0m\n\u001b[1;32m     17\u001b[0m     \u001b[0;31m##################################################################################################################\u001b[0m\u001b[0;34m\u001b[0m\u001b[0;34m\u001b[0m\u001b[0;34m\u001b[0m\u001b[0m\n\u001b[0;32m---> 18\u001b[0;31m     question = check_and_decode(\n\u001b[0m\u001b[1;32m     19\u001b[0m         \u001b[0mconstants\u001b[0m\u001b[0;34m.\u001b[0m\u001b[0mCTH5Fields\u001b[0m\u001b[0;34m.\u001b[0m\u001b[0mgpt2_question_ids_inputs\u001b[0m\u001b[0;34m,\u001b[0m\u001b[0;34m\u001b[0m\u001b[0;34m\u001b[0m\u001b[0m\n\u001b[1;32m     20\u001b[0m         \u001b[0mitem\u001b[0m\u001b[0;34m,\u001b[0m\u001b[0;34m\u001b[0m\u001b[0;34m\u001b[0m\u001b[0m\n",
      "\u001b[0;32m<ipython-input-31-1483121bc9b5>\u001b[0m in \u001b[0;36mcheck_and_decode\u001b[0;34m(feature_key, item, tokenizer)\u001b[0m\n\u001b[1;32m      8\u001b[0m     \u001b[0mfeature\u001b[0m \u001b[0;34m=\u001b[0m \u001b[0mitem\u001b[0m\u001b[0;34m[\u001b[0m\u001b[0mfeature_key\u001b[0m\u001b[0;34m]\u001b[0m\u001b[0;34m\u001b[0m\u001b[0;34m\u001b[0m\u001b[0m\n\u001b[1;32m      9\u001b[0m     \u001b[0mall_neg\u001b[0m \u001b[0;34m=\u001b[0m \u001b[0mis_all_neg\u001b[0m\u001b[0;34m(\u001b[0m\u001b[0mfeature\u001b[0m\u001b[0;34m)\u001b[0m\u001b[0;34m\u001b[0m\u001b[0;34m\u001b[0m\u001b[0m\n\u001b[0;32m---> 10\u001b[0;31m     \u001b[0;32massert\u001b[0m \u001b[0;32mnot\u001b[0m \u001b[0mall_neg\u001b[0m\u001b[0;34m,\u001b[0m \u001b[0mfeature_key\u001b[0m\u001b[0;34m\u001b[0m\u001b[0;34m\u001b[0m\u001b[0m\n\u001b[0m\u001b[1;32m     11\u001b[0m     \u001b[0;32mreturn\u001b[0m \u001b[0mdecode_line\u001b[0m\u001b[0;34m(\u001b[0m\u001b[0mtokenizer\u001b[0m\u001b[0;34m,\u001b[0m \u001b[0mfeature\u001b[0m\u001b[0;34m)\u001b[0m\u001b[0;34m\u001b[0m\u001b[0;34m\u001b[0m\u001b[0m\n\u001b[1;32m     12\u001b[0m \u001b[0;34m\u001b[0m\u001b[0m\n",
      "\u001b[0;31mAssertionError\u001b[0m: gpt2_question_ids"
     ]
    }
   ],
   "source": [
    "for split in [\n",
    "# \"eval\", \n",
    "# \"test\", \n",
    "    \"train\"\n",
    "]:\n",
    "    # Load the DS\n",
    "    paths_to_test = per_split[split][:_MAX_QTY]\n",
    "    paths_ds = tf.data.Dataset.from_tensor_slices(paths_to_test)\n",
    "    ds = build_dataset(paths_ds, _CONTEXT_WINDOW_SIZE, split)\n",
    "    # Distribute\n",
    "    dds = strategy.experimental_distribute_dataset(ds)\n",
    "    for dist_items in itertools.islice(dds, 0, _NUM_ITEMS_TO_SHOW):\n",
    "        turned_on_itself = [Sample(None, None, None, None) \n",
    "                            for _ in range(_NUM_REPLICAS)]\n",
    "\n",
    "        for feature_key, v in dist_items.items():\n",
    "            console.print(feature_key, style=\"green\")\n",
    "            utils.check_isinstance(v, values.PerReplica)\n",
    "            for i, vv in enumerate(v.values):\n",
    "                setattr(turned_on_itself[i], feature_key, vv)\n",
    "\n",
    "        for item in turned_on_itself:\n",
    "            if split == \"train\":\n",
    "                for k, v in vars(item).items():\n",
    "                    display_item(tokenizer, item, split)\n",
    "\n"
   ]
  },
  {
   "cell_type": "code",
   "execution_count": null,
   "id": "improving-tractor",
   "metadata": {},
   "outputs": [],
   "source": []
  },
  {
   "cell_type": "code",
   "execution_count": null,
   "id": "cubic-compiler",
   "metadata": {},
   "outputs": [],
   "source": []
  }
 ],
 "metadata": {
  "kernelspec": {
   "display_name": "Python 3",
   "language": "python",
   "name": "python3"
  },
  "language_info": {
   "codemirror_mode": {
    "name": "ipython",
    "version": 3
   },
   "file_extension": ".py",
   "mimetype": "text/x-python",
   "name": "python",
   "nbconvert_exporter": "python",
   "pygments_lexer": "ipython3",
   "version": "3.8.8"
  }
 },
 "nbformat": 4,
 "nbformat_minor": 5
}
