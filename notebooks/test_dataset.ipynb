{
 "cells": [
  {
   "cell_type": "code",
   "execution_count": 1,
   "id": "terminal-gazette",
   "metadata": {},
   "outputs": [],
   "source": [
    "import collections\n",
    "import itertools\n",
    "import json\n",
    "import numpy as np\n",
    "import os\n",
    "import pathlib\n",
    "import subprocess\n",
    "import sys\n",
    "import transformers\n",
    "from typing import *\n",
    "\n",
    "import markdown_strings\n",
    "from IPython.display import display, Markdown, Latex\n",
    "\n",
    "try:\n",
    "    from rich import pretty\n",
    "    pretty.install()\n",
    "    from rich import print\n",
    "except ImportError:\n",
    "    pass\n",
    "\n",
    "import tensorflow as tf\n",
    "import tqdm.notebook as tqdm\n",
    "\n",
    "_PROJECT_DIRECTORY = pathlib.Path().resolve().parent\n",
    "sys.path.append(str(_PROJECT_DIRECTORY))\n",
    "import constants\n",
    "import utils"
   ]
  },
  {
   "cell_type": "code",
   "execution_count": 2,
   "id": "careful-player",
   "metadata": {},
   "outputs": [],
   "source": [
    "def normal(text, escape=False):\n",
    "    if escape:\n",
    "        text = markdown_strings.esc_format(text)\n",
    "    display(Markdown(text))\n",
    "\n",
    "def h1(text, escape=False):\n",
    "    if escape:\n",
    "        text = markdown_strings.esc_format(text)\n",
    "    display(Markdown(f\"# {text}\"))\n",
    "    \n",
    "def h2(text, escape=False):\n",
    "    if escape:\n",
    "        text = markdown_strings.esc_format(text)\n",
    "    display(Markdown(f\"#### {text}\"))\n",
    "    \n",
    "def quote(text, escape=True):\n",
    "    if escape:\n",
    "        text = markdown_strings.esc_format(text)\n",
    "    display(Markdown(markdown_strings.blockquote(text)))"
   ]
  },
  {
   "cell_type": "code",
   "execution_count": 3,
   "id": "checked-present",
   "metadata": {},
   "outputs": [],
   "source": [
    "def build_per_split(num_paths_display):\n",
    "    h1(\"Getting filenames.\")\n",
    "    h2(\"Loading json config.\")\n",
    "    config_path = _PROJECT_DIRECTORY/\"configs\"/\"train_configs\"/\"tpu_gpt2_eli5_kilt.json\"\n",
    "    config = utils.from_json_file(config_path)\n",
    "    h2(\"Calling `gsutil ls` on the dataset repo.\")\n",
    "    ds_path = config[\"tfr_prefix\"]\n",
    "    filenames = subprocess.check_output(\n",
    "        f\"gsutil ls {ds_path}\", shell=True\n",
    "    ).decode().strip().split(\"\\n\")\n",
    "    h2(\"A few paths:\")\n",
    "    normal(f\"There are actually {len(filenames)}.\")\n",
    "    normal(\" - \" + \"\\n - \".join(filenames[:num_paths_display]))\n",
    "    \n",
    "\n",
    "    h1(\"Building the `per_split` Path dict.\")\n",
    "    per_split = collections.defaultdict(list)\n",
    "    for path in tqdm.tqdm(filenames, desc=\"Building `per_split` dict.\"):\n",
    "        split = pathlib.Path(path).name.split(\"_\")[0]\n",
    "        per_split[split].append(path)\n",
    "\n",
    "    normal(\"Sorting the `per_split` lists.\")\n",
    "    for split in per_split:\n",
    "        # Ad-hoc split per file index\n",
    "        per_split[split].sort(\n",
    "            key=lambda p: int(pathlib.Path(p).name.split(\"_\")[1].split(\".\")[0])\n",
    "        )\n",
    "\n",
    "    normal(\"Len per split for the per_split dict:\")\n",
    "    print({split: len(per_split[split]) for split in per_split})\n",
    "    return per_split"
   ]
  },
  {
   "cell_type": "code",
   "execution_count": 4,
   "id": "later-sally",
   "metadata": {},
   "outputs": [],
   "source": [
    "def build_dataset(paths, context_window_size, split):\n",
    "    ds = tf.data.TFRecordDataset(paths)\n",
    "\n",
    "\n",
    "    description = {\n",
    "      constants.CTH5Fields.distances:\n",
    "          tf.io.FixedLenFeature((), tf.string),\n",
    "      constants.CTH5Fields.gpt2_retrieved_ids:\n",
    "          tf.io.FixedLenFeature((), tf.string),\n",
    "      constants.CTH5Fields.gpt2_question_ids_inputs:\n",
    "          tf.io.FixedLenFeature((), tf.string),\n",
    "    }\n",
    "    if split != constants.SplitChoices.test:\n",
    "        description[\n",
    "            constants.CTH5Fields.gpt2_answer_ids_inputs\n",
    "        ] = tf.io.FixedLenFeature((), tf.string)\n",
    "\n",
    "    feature_dtypes = {\n",
    "      constants.CTH5Fields.distances:\n",
    "          tf.float32,\n",
    "      constants.CTH5Fields.gpt2_retrieved_ids:\n",
    "          tf.int32,\n",
    "      constants.CTH5Fields.gpt2_question_ids_inputs:\n",
    "          tf.int32,\n",
    "    }\n",
    "    if split != constants.SplitChoices.test:\n",
    "        feature_dtypes[\n",
    "            constants.CTH5Fields.gpt2_answer_ids_inputs\n",
    "        ] = tf.int32\n",
    "\n",
    "    feature_shape = {\n",
    "      constants.CTH5Fields.distances:\n",
    "          (10,),\n",
    "      constants.CTH5Fields.gpt2_retrieved_ids:\n",
    "          (10, context_window_size,),\n",
    "      constants.CTH5Fields.gpt2_question_ids_inputs:\n",
    "          (context_window_size,),\n",
    "    }\n",
    "    if split != constants.SplitChoices.test:\n",
    "        feature_shape[constants.CTH5Fields.gpt2_answer_ids_inputs] = (\n",
    "            context_window_size\n",
    "        )\n",
    "\n",
    "    @tf.function\n",
    "    def parse(sample):\n",
    "        example = tf.io.parse_single_example(sample, description)\n",
    "        output = {}\n",
    "        for k, v in example.items():\n",
    "            output[k] = tf.io.parse_tensor(v, out_type=feature_dtypes[k])\n",
    "            output[k].set_shape(feature_shape[k])\n",
    "        return output\n",
    "\n",
    "    ds = ds.map(\n",
    "      parse,\n",
    "      num_parallel_calls=tf.data.experimental.AUTOTUNE,\n",
    "      deterministic=False\n",
    "      )\n",
    "    return ds\n"
   ]
  },
  {
   "cell_type": "code",
   "execution_count": null,
   "id": "measured-option",
   "metadata": {
    "scrolled": false
   },
   "outputs": [
    {
     "data": {
      "text/markdown": [
       "# Getting filenames."
      ]
     },
     "metadata": {},
     "output_type": "display_data"
    },
    {
     "data": {
      "text/markdown": [
       "#### Loading json config."
      ]
     },
     "metadata": {},
     "output_type": "display_data"
    },
    {
     "data": {
      "text/markdown": [
       "#### Calling `gsutil ls` on the dataset repo."
      ]
     },
     "metadata": {},
     "output_type": "display_data"
    },
    {
     "data": {
      "text/markdown": [
       "#### A few paths:"
      ]
     },
     "metadata": {},
     "output_type": "display_data"
    },
    {
     "data": {
      "text/markdown": [
       "There are actually 8192."
      ]
     },
     "metadata": {},
     "output_type": "display_data"
    },
    {
     "data": {
      "text/markdown": [
       " - gs://julesgm-research-v3/tfrecord_query_cache/20210225-191356/eval_0.tfr\n",
       " - gs://julesgm-research-v3/tfrecord_query_cache/20210225-191356/eval_1.tfr\n",
       " - gs://julesgm-research-v3/tfrecord_query_cache/20210225-191356/eval_10.tfr\n",
       " - gs://julesgm-research-v3/tfrecord_query_cache/20210225-191356/eval_100.tfr\n",
       " - gs://julesgm-research-v3/tfrecord_query_cache/20210225-191356/eval_1000.tfr\n",
       " - gs://julesgm-research-v3/tfrecord_query_cache/20210225-191356/eval_1001.tfr\n",
       " - gs://julesgm-research-v3/tfrecord_query_cache/20210225-191356/eval_1002.tfr\n",
       " - gs://julesgm-research-v3/tfrecord_query_cache/20210225-191356/eval_1003.tfr\n",
       " - gs://julesgm-research-v3/tfrecord_query_cache/20210225-191356/eval_1004.tfr\n",
       " - gs://julesgm-research-v3/tfrecord_query_cache/20210225-191356/eval_1005.tfr"
      ]
     },
     "metadata": {},
     "output_type": "display_data"
    },
    {
     "data": {
      "text/markdown": [
       "# Building the `per_split` Path dict."
      ]
     },
     "metadata": {},
     "output_type": "display_data"
    },
    {
     "data": {
      "application/vnd.jupyter.widget-view+json": {
       "model_id": "cbdeab69ff4f456ebc30f9523fffd972",
       "version_major": 2,
       "version_minor": 0
      },
      "text/plain": [
       "HBox(children=(FloatProgress(value=0.0, description='Building `per_split` dict.', max=8192.0, style=ProgressSt…"
      ]
     },
     "metadata": {},
     "output_type": "display_data"
    },
    {
     "name": "stdout",
     "output_type": "stream",
     "text": [
      "\n"
     ]
    },
    {
     "data": {
      "text/markdown": [
       "Sorting the `per_split` lists."
      ]
     },
     "metadata": {},
     "output_type": "display_data"
    },
    {
     "data": {
      "text/markdown": [
       "Len per split for the per_split dict:"
      ]
     },
     "metadata": {},
     "output_type": "display_data"
    },
    {
     "data": {
      "text/html": [
       "<pre style=\"white-space:pre;overflow-x:auto;line-height:normal;font-family:Menlo,'DejaVu Sans Mono',consolas,'Courier New',monospace\"><span style=\"font-weight: bold\">{</span><span style=\"color: #008000; text-decoration-color: #008000\">'eval'</span>: <span style=\"color: #000080; text-decoration-color: #000080; font-weight: bold\">2048</span>, <span style=\"color: #008000; text-decoration-color: #008000\">'test'</span>: <span style=\"color: #000080; text-decoration-color: #000080; font-weight: bold\">2048</span>, <span style=\"color: #008000; text-decoration-color: #008000\">'train'</span>: <span style=\"color: #000080; text-decoration-color: #000080; font-weight: bold\">2048</span>, <span style=\"color: #008000; text-decoration-color: #008000\">'validation'</span>: <span style=\"color: #000080; text-decoration-color: #000080; font-weight: bold\">2048</span><span style=\"font-weight: bold\">}</span>\n",
       "</pre>\n"
      ]
     },
     "metadata": {},
     "output_type": "display_data"
    },
    {
     "data": {
      "application/vnd.jupyter.widget-view+json": {
       "model_id": "6a408ca566664da1a649aac102e75193",
       "version_major": 2,
       "version_minor": 0
      },
      "text/plain": [
       "HBox(children=(FloatProgress(value=1.0, bar_style='info', description='Counting items for split `eval`', layou…"
      ]
     },
     "metadata": {},
     "output_type": "display_data"
    }
   ],
   "source": [
    "def decode_line(tokenizer, line):\n",
    "    return tokenizer.decode([x for x in line if x >= 0])\n",
    "\n",
    "def count(paths, context_window_size, split, tokenizer, min_length=7):\n",
    "    ds = build_dataset(paths, context_window_size, split)\n",
    "    i = 0    \n",
    "    feature_lengths = collections.defaultdict(\n",
    "        lambda: collections.defaultdict(int)\n",
    "    )\n",
    "    \n",
    "    for item in tqdm.tqdm(ds, desc=f\"Counting items for split `{split}`\"):\n",
    "        i += 1\n",
    "        for feature_key, feature in item.items():\n",
    "            \n",
    "            if feature_key in {\n",
    "                constants.CTH5Fields.gpt2_question_ids_inputs,\n",
    "                constants.CTH5Fields.gpt2_answer_ids_inputs\n",
    "            }:\n",
    "                length = np.sum(feature >= 0)\n",
    "                feature_lengths[feature_key][length] += 1\n",
    "#                 if length <= min_length:\n",
    "#                     normal(f\"{split} - `{feature_key}`: {decode_line(tokenizer, feature)}\")\n",
    "\n",
    "    for k, v in feature_lengths.items():\n",
    "        print(f\"{split} - {k}: \")\n",
    "        sorted_ = sorted(v.items(), key=lambda x: x[0])\n",
    "        print(sorted_)\n",
    "    return i\n",
    "\n",
    "\n",
    "def main():\n",
    "    _MAX_QTY = None\n",
    "    _MODEL_TYPE = \"gpt2-xl\"\n",
    "    _MODEL_CONFIG = transformers.AutoConfig.from_pretrained(\"distilgpt2\")\n",
    "    _CONTEXT_WINDOW_SIZE = _MODEL_CONFIG.n_ctx\n",
    "    _EXPECTED_SIZES = dict(train=272634, eval=1507, test=600)\n",
    "    _NUM_PATHS_DISPLAY = 10\n",
    "    \n",
    "    tokenizer = transformers.AutoTokenizer.from_pretrained(_MODEL_TYPE)\n",
    "    per_split = build_per_split(_NUM_PATHS_DISPLAY)\n",
    "\n",
    "    for split in [\"eval\", \"test\", \"train\"]:\n",
    "        to_test = per_split[split][:_MAX_QTY]\n",
    "        paths = tf.data.Dataset.from_tensor_slices(to_test)\n",
    "        count(paths, _CONTEXT_WINDOW_SIZE, split, tokenizer)\n",
    "main()\n",
    "\n",
    "def display_item(item, split):\n",
    "    h2(\"Question:\")\n",
    "    quote(decode_line(item[constants.CTH5Fields.gpt2_question_ids_inputs]))\n",
    "\n",
    "    if split != \"test\":\n",
    "        h2(\"Answer:\")\n",
    "        quote(decode_line(item[constants.CTH5Fields.gpt2_answer_ids_inputs]))\n",
    "\n",
    "    h2(\"Retrieved segments:\")\n",
    "    for line in item[constants.CTH5Fields.gpt2_retrieved_ids]:\n",
    "        quote(decode_line(line))\n",
    "\n"
   ]
  },
  {
   "cell_type": "code",
   "execution_count": null,
   "id": "mediterranean-swing",
   "metadata": {},
   "outputs": [],
   "source": []
  }
 ],
 "metadata": {
  "kernelspec": {
   "display_name": "Python 3",
   "language": "python",
   "name": "python3"
  },
  "language_info": {
   "codemirror_mode": {
    "name": "ipython",
    "version": 3
   },
   "file_extension": ".py",
   "mimetype": "text/x-python",
   "name": "python",
   "nbconvert_exporter": "python",
   "pygments_lexer": "ipython3",
   "version": "3.8.8"
  }
 },
 "nbformat": 4,
 "nbformat_minor": 5
}