{
 "cells": [
  {
   "cell_type": "code",
   "execution_count": 1,
   "id": "chubby-stress",
   "metadata": {},
   "outputs": [
    {
     "name": "stdout",
     "output_type": "stream",
     "text": [
      "stdlib\n",
      "3rd party\n",
      "custom\n",
      "done\n"
     ]
    }
   ],
   "source": [
    "import collections\n",
    "import dataclasses\n",
    "import itertools\n",
    "import json\n",
    "import os\n",
    "import pathlib\n",
    "import re\n",
    "import shlex\n",
    "import socket\n",
    "import subprocess\n",
    "import sys\n",
    "from typing import *\n",
    "print(\"stdlib\", flush=True)\n",
    "\n",
    "import markdown_strings\n",
    "import numpy as np\n",
    "from IPython.display import display, Markdown, Latex\n",
    "import rich\n",
    "import rich.console\n",
    "import rich.markdown\n",
    "import rich.table\n",
    "import tensorflow.python.framework.ops as ops\n",
    "import tensorflow as tf\n",
    "import tensorflow.python.distribute.values as values\n",
    "import toolz\n",
    "import tqdm.notebook as tqdm\n",
    "import transformers\n",
    "print(\"3rd party\", flush=True)\n",
    "\n",
    "_PROJECT_DIRECTORY = pathlib.Path().resolve().parent\n",
    "sys.path.append(str(_PROJECT_DIRECTORY))\n",
    "import constants\n",
    "# import task_specific\n",
    "import tf_utils\n",
    "import utils\n",
    "print(\"custom\", flush=True)\n",
    "\n",
    "\n",
    "\n",
    "#------------------------------------------------------------------------------\n",
    "# Flags\n",
    "#------------------------------------------------------------------------------\n",
    "_MAX_QTY = None\n",
    "_MODEL_TYPE = \"distilgpt2\"\n",
    "_EXPECTED_SIZES = dict(train=272634, eval=1507, test=600)\n",
    "_NUM_PATHS_DISPLAY = 10\n",
    "_NUM_REPLICAS = 8\n",
    "_ACCEL_TYPE = \"TPU\"\n",
    "_ZONE = \"europe-west4-a\"\n",
    "_APPROACH_TYPE = \"naked_lm\" # \"cached_pretok\"\n",
    "\n",
    "print(\"done\")"
   ]
  },
  {
   "cell_type": "code",
   "execution_count": 2,
   "id": "occasional-notion",
   "metadata": {},
   "outputs": [
    {
     "name": "stdout",
     "output_type": "stream",
     "text": [
      "done\n"
     ]
    }
   ],
   "source": [
    "@tf.function\n",
    "def _tokenize_and_concat_while_loop(\n",
    "    all_retrieved_tokens,\n",
    "    indices,\n",
    "    num_retrieved,\n",
    "    batch_size,\n",
    "):\n",
    "  \"\"\"Tokenizes and puts together the retrievals, per batch unit.\"\"\"\n",
    "  def condition(\n",
    "      index,\n",
    "      _  # pylint: disable=unused-argument\n",
    "  ):\n",
    "    return tf.less(index, num_retrieved)\n",
    "\n",
    "  def body(\n",
    "      index,\n",
    "      concat_tokens,\n",
    "  ):\n",
    "\n",
    "    addition = tf.gather(all_retrieved_tokens, indices[:, index], batch_dims=1)\n",
    "\n",
    "    concat_tokens = tf.concat([\n",
    "        concat_tokens, addition\n",
    "    ], axis=1)\n",
    "\n",
    "    return index + 1, concat_tokens\n",
    "\n",
    "  if batch_size is None:\n",
    "    raise RuntimeError(\"batch_size is `None`. This should not happen.\")\n",
    "\n",
    "  return tf.while_loop(\n",
    "      condition, body, [\n",
    "          0, tf.RaggedTensor.from_tensor(\n",
    "              tf.zeros(\n",
    "                  shape=(batch_size, 0),\n",
    "                  dtype=tf.int32\n",
    "              ),\n",
    "          )\n",
    "      ])[1]\n",
    "\n",
    "\n",
    "def _prepare_samples_w_retrieval(\n",
    "    split,\n",
    "    batch_size,\n",
    "    question_ids_inputs,\n",
    "    answer_ids_inputs,\n",
    "    gpt2_tokenized_retrieved,\n",
    "    distances,\n",
    "    num_retrievals,\n",
    "    temperature,\n",
    "    context_size,\n",
    "    enable_debug_checks,\n",
    "    use_helper_words,\n",
    "    helper_word_token_ids,\n",
    "    max_generation_length\n",
    "):\n",
    "  \"\"\"Prepares the samples that use retrieval.\"\"\"\n",
    "  assert (split == constants.SplitChoices.test) == (\n",
    "      answer_ids_inputs is None\n",
    "  ), (split == constants.SplitChoices.test, answer_ids_inputs)\n",
    "  # If and only if\n",
    "\n",
    "  is_not_test = split != constants.SplitChoices.test\n",
    "\n",
    "  if not isinstance(question_ids_inputs, tf.RaggedTensor):\n",
    "    question_ids_inputs = tf.RaggedTensor.from_tensor(\n",
    "        question_ids_inputs,\n",
    "        padding=constants.RAGGED_PADDING_ID\n",
    "    )\n",
    "\n",
    "  if enable_debug_checks:\n",
    "    asserts = []\n",
    "    asserts.append(\n",
    "        tf.Assert(\n",
    "            tf.math.reduce_all(\n",
    "                question_ids_inputs != constants.RAGGED_PADDING_ID,\n",
    "            ),\n",
    "            [question_ids_inputs.to_tensor()]\n",
    "        )\n",
    "    )\n",
    "    if is_not_test:\n",
    "      asserts.append(\n",
    "          tf.Assert(\n",
    "              tf.math.reduce_all(\n",
    "                  answer_ids_inputs != constants.RAGGED_PADDING_ID,\n",
    "              ),\n",
    "              [answer_ids_inputs.to_tensor()]\n",
    "          )\n",
    "      )\n",
    "    with tf.control_dependencies(asserts):\n",
    "      question_ids_inputs = tf.identity(question_ids_inputs)\n",
    "\n",
    "  # These checks are at graph composition time, so OK\n",
    "  utils.check_isinstance(question_ids_inputs, tf.RaggedTensor)\n",
    "\n",
    "  if is_not_test:\n",
    "    utils.check_isinstance(answer_ids_inputs, tf.RaggedTensor)\n",
    "\n",
    "  ##############################################################################\n",
    "  # Sample from the possible retrievals\n",
    "  ##############################################################################\n",
    "  # Choose the indices\n",
    "  indices = tf_utils.sample_without_replacement(\n",
    "      distances / temperature, num_retrievals\n",
    "  )\n",
    "\n",
    "  # Concatenate the retrievals\n",
    "  concat_retrieved = _tokenize_and_concat_while_loop(\n",
    "      gpt2_tokenized_retrieved,\n",
    "      indices=indices,\n",
    "      batch_size=batch_size,\n",
    "      num_retrieved=num_retrievals,\n",
    "  )\n",
    "\n",
    "  # Add Context and Answer Helper Words\n",
    "  if use_helper_words:\n",
    "    concat_retrieved = tf.concat([\n",
    "        helper_word_token_ids[\"context\"],\n",
    "        concat_retrieved,\n",
    "    ], axis=1)\n",
    "\n",
    "  # Cut the lengths down to max_lens_retrieval.\n",
    "  # The eventual length of the [\"question\"] helper_tokens is included in\n",
    "  # question_ids_inputs.\n",
    "  if is_not_test:\n",
    "    max_lens_retrieval = (\n",
    "        context_size * tf.ones(\n",
    "            shape=(batch_size,),\n",
    "            dtype=tf.int64,\n",
    "        )\n",
    "        - (question_ids_inputs.row_lengths() +\n",
    "           # We always generate the same length of text.\n",
    "           max_generation_length +  # answer_ids_inputs.row_lengths() +\n",
    "           (helper_word_token_ids[\"answer\"].shape[1] if use_helper_words else 0)\n",
    "           )\n",
    "    )\n",
    "\n",
    "  else:\n",
    "    max_lens_retrieval = (\n",
    "        context_size * tf.ones(\n",
    "            shape=(batch_size,),\n",
    "            dtype=tf.int64,\n",
    "        ) - (question_ids_inputs.row_lengths()  +\n",
    "             max_generation_length +\n",
    "             (helper_word_token_ids[\"answer\"].shape[1]\n",
    "              if use_helper_words else 0\n",
    "              )\n",
    "             )\n",
    "    )\n",
    "\n",
    "  concat_retrieved = tf.ragged.boolean_mask(\n",
    "      concat_retrieved,\n",
    "      (\n",
    "          tf.ragged.range(concat_retrieved.row_lengths()) <\n",
    "          tf.expand_dims(max_lens_retrieval, axis=1)\n",
    "      )\n",
    "  )\n",
    "\n",
    "  if enable_debug_checks:\n",
    "    asserts = [\n",
    "        tf.Assert(\n",
    "            tf.math.reduce_all(max_lens_retrieval < context_size),\n",
    "            [max_lens_retrieval, context_size]\n",
    "        ),\n",
    "    ]\n",
    "    with tf.control_dependencies(asserts):\n",
    "      concat_retrieved = tf.identity(concat_retrieved)\n",
    "\n",
    "  if use_helper_words:\n",
    "    if is_not_test:\n",
    "      new_input_ids = tf.concat(\n",
    "          [question_ids_inputs,\n",
    "           concat_retrieved,\n",
    "           helper_word_token_ids[\"answer\"],\n",
    "           answer_ids_inputs\n",
    "           ],\n",
    "          axis=1\n",
    "      )\n",
    "      new_label_ids = tf.concat(\n",
    "          [-100 * tf.ones_like(question_ids_inputs),\n",
    "           -100 * tf.ones_like(concat_retrieved),\n",
    "           -100 * tf.ones_like(helper_word_token_ids[\"answer\"]),\n",
    "           answer_ids_inputs\n",
    "           ],\n",
    "          axis=1\n",
    "      )\n",
    "    else:\n",
    "      new_input_ids = tf.concat(\n",
    "          [question_ids_inputs,\n",
    "           concat_retrieved,\n",
    "           helper_word_token_ids[\"answer\"],\n",
    "           ],\n",
    "          axis=1\n",
    "      )\n",
    "  else:\n",
    "    if is_not_test:\n",
    "      new_input_ids = tf.concat(\n",
    "          [question_ids_inputs,\n",
    "           concat_retrieved,\n",
    "           answer_ids_inputs\n",
    "           ],\n",
    "          axis=1\n",
    "      )\n",
    "      new_label_ids = tf.concat(\n",
    "          [-100 * tf.ones_like(question_ids_inputs),\n",
    "           -100 * tf.ones_like(concat_retrieved),\n",
    "           answer_ids_inputs\n",
    "           ],\n",
    "          axis=1\n",
    "      )\n",
    "    else:\n",
    "      new_input_ids = tf.concat(\n",
    "          [question_ids_inputs,\n",
    "           concat_retrieved,\n",
    "           ],\n",
    "          axis=1\n",
    "      )\n",
    "  return new_input_ids, new_label_ids if is_not_test else None\n",
    "\n",
    "print(\"done\")"
   ]
  },
  {
   "cell_type": "code",
   "execution_count": 3,
   "id": "proprietary-sudan",
   "metadata": {},
   "outputs": [
    {
     "name": "stdout",
     "output_type": "stream",
     "text": [
      "done\n"
     ]
    }
   ],
   "source": [
    "def _make_maybe_retrieve_and_merge_fn(\n",
    "    *,\n",
    "    tokenizer,\n",
    "    context_size,\n",
    "    ds_split,\n",
    "    approach_type,  # FLAG_APPROACH_TYPE.value\n",
    "    use_helper_words,  # FLAG_USE_HELPER_WORDS\n",
    "    retriever,  # pylint: disable=unused-argument\n",
    "    temperature,\n",
    "    num_retrievals,\n",
    "    enable_debug_checks,\n",
    "    max_length_generation,\n",
    "    tf_function_kwargs = None,\n",
    "):\n",
    "  \"\"\"Build the `maybe_retrieve_and_merge` closure.\"\"\"\n",
    "  tf_function_kwargs = {} if tf_function_kwargs is None else tf_function_kwargs\n",
    "  not_test_split = ds_split != constants.SplitChoices.test\n",
    "\n",
    "#   @tf.function(**tf_function_kwargs)\n",
    "  def maybe_retrieve_and_merge(\n",
    "      batch,\n",
    "  ):\n",
    "    \"\"\"Retrieve if needed, then finalize the prep. for model consumption.\"\"\"\n",
    "\n",
    "    batch_size = tf.shape(batch[\n",
    "        constants.CTH5Fields.gpt2_question_ids_inputs\n",
    "    ])[0]\n",
    "\n",
    "    # Prepare the question ids inputs\n",
    "    question_ids_inputs = batch[constants.CTH5Fields.gpt2_question_ids_inputs]\n",
    "    question_ids_inputs = tf.RaggedTensor.from_tensor(\n",
    "        question_ids_inputs,\n",
    "        padding=constants.RAGGED_PADDING_ID\n",
    "    )\n",
    "\n",
    "    # Prepare the answer ids inputs\n",
    "    answer_ids_inputs = None\n",
    "    answer_ids_labels = None\n",
    "    if not_test_split:\n",
    "      answer_ids_inputs = batch[constants.CTH5Fields.gpt2_answer_ids_inputs]\n",
    "      answer_ids_inputs = tf.RaggedTensor.from_tensor(\n",
    "          answer_ids_inputs,\n",
    "          padding=constants.RAGGED_PADDING_ID\n",
    "      )\n",
    "      answer_ids_labels = answer_ids_inputs\n",
    "\n",
    "    ############################################################################\n",
    "    # Prepare the helper words\n",
    "    ############################################################################\n",
    "    helper_word_token_ids = None\n",
    "    if use_helper_words:\n",
    "\n",
    "      helper_text = {\n",
    "          \"question\": \"Question:\\n\",\n",
    "          \"context\": \"\\nContext:\\n\",\n",
    "          \"answer\": \"\\nAnswer:\\n\"\n",
    "      }\n",
    "\n",
    "      helper_word_token_ids = {}\n",
    "      for k in helper_text:\n",
    "        ids = tf.constant(tokenizer.encode(helper_text[k]), dtype=tf.int32)\n",
    "        ids = tf.repeat(tf.expand_dims(ids, 0), batch_size, axis=0)\n",
    "        helper_word_token_ids[k] = ids\n",
    "      question_ids_inputs = tf.concat(\n",
    "          [helper_word_token_ids[\"question\"], question_ids_inputs],\n",
    "          axis=1\n",
    "      )\n",
    "\n",
    "    ##########################################################################\n",
    "    # Cached Retrievals.\n",
    "    ##########################################################################\n",
    "    label_ids = None\n",
    "    if approach_type == constants.ApproachTypeChoices.cached_pretok:\n",
    "      bpe_indices_gpt2 = batch[constants.CTH5Fields.gpt2_retrieved_ids]\n",
    "      bpe_indices_gpt2 = tf.RaggedTensor.from_tensor(\n",
    "          bpe_indices_gpt2,\n",
    "          ragged_rank=2,\n",
    "          padding=constants.RAGGED_PADDING_ID\n",
    "      )\n",
    "\n",
    "      distances = batch[constants.CTH5Fields.distances]\n",
    "      input_ids, label_ids = _prepare_samples_w_retrieval(\n",
    "          split=ds_split,\n",
    "          batch_size=batch_size,\n",
    "          question_ids_inputs=question_ids_inputs,\n",
    "          answer_ids_inputs=(\n",
    "              answer_ids_inputs if not_test_split else None\n",
    "          ),\n",
    "          gpt2_tokenized_retrieved=bpe_indices_gpt2,\n",
    "          num_retrievals=num_retrievals,\n",
    "          temperature=temperature,\n",
    "          context_size=context_size,\n",
    "          enable_debug_checks=enable_debug_checks,\n",
    "          distances=distances,\n",
    "          max_generation_length=max_length_generation,\n",
    "          helper_word_token_ids=(\n",
    "              helper_word_token_ids if use_helper_words else None\n",
    "          ),\n",
    "          use_helper_words=use_helper_words,\n",
    "      )\n",
    "\n",
    "    elif approach_type == constants.ApproachTypeChoices.naked_lm:\n",
    "      ##########################################################################\n",
    "      # Without Retrievals\n",
    "      ##########################################################################\n",
    "      if use_helper_words:\n",
    "        question_ids_inputs = tf.concat([\n",
    "            question_ids_inputs,\n",
    "            helper_word_token_ids[\"answer\"],\n",
    "        ], axis=1)\n",
    "\n",
    "      question_ids_labels = tf.ones_like(\n",
    "          question_ids_inputs\n",
    "      ) * constants.PPL_MASK_ID\n",
    "\n",
    "      if not_test_split:\n",
    "        input_ids = tf.concat((question_ids_inputs, answer_ids_inputs),\n",
    "                              axis=1)\n",
    "        label_ids = tf.concat((question_ids_labels, answer_ids_labels),\n",
    "                              axis=1)\n",
    "      else:\n",
    "        input_ids = question_ids_inputs\n",
    "    else:\n",
    "      raise RuntimeError(\"Unnsupported approach_type value\"\n",
    "                         f\" {approach_type}\")\n",
    "\n",
    "    ############################################################################\n",
    "    # Finalize the preparation\n",
    "    ############################################################################\n",
    "    # Convert to dense tensors\n",
    "    input_ids = input_ids.to_tensor(tokenizer.eos_token_id)\n",
    "\n",
    "    if not_test_split:\n",
    "      final_eos = tf.RaggedTensor.from_tensor(\n",
    "          tokenizer.eos_token_id * tf.ones([batch_size, 1], dtype=tf.int32)\n",
    "      )\n",
    "      label_ids = tf.concat([label_ids, final_eos], axis=1)\n",
    "      label_ids = label_ids.to_tensor(constants.PPL_MASK_ID)\n",
    "\n",
    "    # All samples need to have at least one token != -100 (PPL_MASK_ID)\n",
    "    if enable_debug_checks and not_test_split:\n",
    "      not_any_padding = tf.reduce_any(\n",
    "          label_ids != constants.PPL_MASK_ID, axis=1\n",
    "      )\n",
    "      none_has_padding = tf.math.reduce_all(\n",
    "          not_any_padding\n",
    "      )\n",
    "      qty_doesnt_have_padding = tf.reduce_sum(\n",
    "          tf.cast(not_any_padding))\n",
    "\n",
    "      check_no_padding = tf.Assert(\n",
    "          none_has_padding,\n",
    "          [qty_doesnt_have_padding]\n",
    "      )\n",
    "      with tf.control_dependencies([check_no_padding]):\n",
    "        label_ids = tf.identity(label_ids)\n",
    "\n",
    "    # Limit size\n",
    "    input_ids = input_ids[:, :context_size]\n",
    "    if not_test_split:\n",
    "      label_ids = label_ids[:, :context_size]\n",
    "\n",
    "    ############################################################################\n",
    "    # Pad `input_ids` and `label_ids` to context_size\n",
    "    ############################################################################\n",
    "    # Prepare the ones\n",
    "    pad_qty = tf.math.maximum(\n",
    "        0, tf.constant(context_size) - tf.shape(input_ids)[1]\n",
    "    )\n",
    "    padding_ones = tf.ones(\n",
    "        [batch_size, pad_qty],\n",
    "        dtype=input_ids.dtype\n",
    "    )\n",
    "    # Pad the inputs\n",
    "    input_padding = tokenizer.eos_token_id * padding_ones\n",
    "    input_ids = tf.concat((input_ids, input_padding), axis=1)\n",
    "\n",
    "    # Pad the labels labels\n",
    "    if not_test_split:\n",
    "      pad_qty = tf.math.maximum(\n",
    "          0, tf.constant(context_size) - tf.shape(label_ids)[1]\n",
    "      )\n",
    "      padding_ones = tf.ones(\n",
    "          [batch_size, pad_qty],\n",
    "          dtype=input_ids.dtype\n",
    "      )\n",
    "      label_padding = -100 * padding_ones\n",
    "      label_ids = tf.concat((label_ids, label_padding), axis=1)\n",
    "\n",
    "    # Make checks\n",
    "    if enable_debug_checks:\n",
    "      control_dependencies = []\n",
    "      control_dependencies.append(tf.Assert(\n",
    "          tf.math.reduce_all(input_ids != -1),\n",
    "          [input_ids],\n",
    "          name=\"NoMinusOnesInputs\"\n",
    "      ))\n",
    "      if not_test_split:\n",
    "        control_dependencies.append(tf.Assert(\n",
    "            tf.math.reduce_all(label_ids != -1),\n",
    "            [label_ids],\n",
    "            name=\"NoMinusOnesLabel\"\n",
    "        ))\n",
    "        control_dependencies.append(tf.Assert(\n",
    "            tf.logical_not(\n",
    "                tf.math.reduce_any(\n",
    "                    tf.math.reduce_all(label_ids != -100, axis=1)\n",
    "                )\n",
    "            ),\n",
    "            [label_ids],\n",
    "            name=\"NotAllMinusOneHundred\"\n",
    "        ))\n",
    "      with tf.control_dependencies(control_dependencies):\n",
    "        input_ids = tf.identity(input_ids)\n",
    "\n",
    "    return dict(\n",
    "        input_ids=input_ids,\n",
    "        label_ids=label_ids if not_test_split else None\n",
    "    )\n",
    "\n",
    "  return maybe_retrieve_and_merge\n",
    "\n",
    "print(\"done\")"
   ]
  },
  {
   "cell_type": "code",
   "execution_count": 4,
   "id": "black-resistance",
   "metadata": {},
   "outputs": [
    {
     "name": "stdout",
     "output_type": "stream",
     "text": [
      "done\n"
     ]
    }
   ],
   "source": [
    "def normal(text, escape=False):\n",
    "    if escape:\n",
    "        text = markdown_strings.esc_format(text)\n",
    "    display(Markdown(text))\n",
    "\n",
    "    \n",
    "def h1(text, escape=False):\n",
    "    if escape:\n",
    "        text = markdown_strings.esc_format(text)\n",
    "    display(Markdown(f\"# {text}\"))\n",
    "    \n",
    "    \n",
    "def h2(text, escape=False):\n",
    "    if escape:\n",
    "        text = markdown_strings.esc_format(text)\n",
    "    display(Markdown(f\"#### {text}\"))\n",
    "    \n",
    "    \n",
    "def quote(text, escape=True):\n",
    "    if escape:\n",
    "        text = markdown_strings.esc_format(text)\n",
    "    display(Markdown(markdown_strings.blockquote(text)))\n",
    "    \n",
    "    \n",
    "def build_split_to_ds_paths(project_directory, num_paths_display):\n",
    "    h1(\"Getting filenames.\")\n",
    "    h2(\"Loading json config.\")\n",
    "    config_path = project_directory/\"configs\"/\"train_configs\"/\"tpu_gpt2_eli5_kilt.json\"\n",
    "    config = utils.from_json_file(config_path)\n",
    "    \n",
    "    h2(\"Calling `gsutil ls` on the dataset repo.\")\n",
    "    ds_path = config[\"tfr_prefix\"]\n",
    "    filenames = subprocess.check_output(f\"gsutil ls {ds_path}\", shell=True).decode().strip().split(\"\\n\")\n",
    "\n",
    "    h2(\"Printing a few paths:\")\n",
    "    normal(f\"There are actually {len(filenames)}.\")\n",
    "    normal(\" - \" + \"\\n - \".join(filenames[:num_paths_display]))\n",
    "    \n",
    "    h1(\"Building the `per_split` Path dict.\")\n",
    "    per_split = collections.defaultdict(list)\n",
    "    for path in tqdm.tqdm(filenames, desc=\"Building `per_split` dict.\"):\n",
    "        split = pathlib.Path(path).name.split(\"_\")[0]\n",
    "        per_split[split].append(path)\n",
    "\n",
    "    normal(\"Sorting the `per_split` lists.\")\n",
    "    for split in per_split:\n",
    "        # Ad-hoc split per file index\n",
    "        per_split[split].sort(key=lambda p: int(pathlib.Path(p).name.split(\"_\")[1].split(\".\")[0]))\n",
    "\n",
    "    normal(\"Len per split for the per_split dict:\")\n",
    "    \n",
    "    print({split: len(per_split[split]) for split in per_split})\n",
    "    \n",
    "    return per_split\n",
    "\n",
    "\n",
    "def build_dataset(paths, context_window_size, split, batch_size):\n",
    "    ds = tf.data.TFRecordDataset(paths)\n",
    "    description = {\n",
    "      constants.CTH5Fields.distances:\n",
    "          tf.io.FixedLenFeature((), tf.string),\n",
    "      constants.CTH5Fields.gpt2_retrieved_ids:\n",
    "          tf.io.FixedLenFeature((), tf.string),\n",
    "      constants.CTH5Fields.gpt2_question_ids_inputs:\n",
    "          tf.io.FixedLenFeature((), tf.string),\n",
    "    }\n",
    "    if split != constants.SplitChoices.test:\n",
    "        description[\n",
    "            constants.CTH5Fields.gpt2_answer_ids_inputs\n",
    "        ] = tf.io.FixedLenFeature((), tf.string)\n",
    "\n",
    "    feature_dtypes = {\n",
    "      constants.CTH5Fields.distances:\n",
    "          tf.float32,\n",
    "      constants.CTH5Fields.gpt2_retrieved_ids:\n",
    "          tf.int32,\n",
    "      constants.CTH5Fields.gpt2_question_ids_inputs:\n",
    "          tf.int32,\n",
    "    }\n",
    "    if split != constants.SplitChoices.test:\n",
    "        feature_dtypes[\n",
    "            constants.CTH5Fields.gpt2_answer_ids_inputs\n",
    "        ] = tf.int32\n",
    "\n",
    "    feature_shape = {\n",
    "      constants.CTH5Fields.distances:\n",
    "          (10,),\n",
    "      constants.CTH5Fields.gpt2_retrieved_ids:\n",
    "          (10, context_window_size,),\n",
    "      constants.CTH5Fields.gpt2_question_ids_inputs:\n",
    "          (context_window_size,),\n",
    "    }\n",
    "    if split != constants.SplitChoices.test:\n",
    "        feature_shape[constants.CTH5Fields.gpt2_answer_ids_inputs] = (\n",
    "            context_window_size\n",
    "        )\n",
    "\n",
    "    @tf.function\n",
    "    def parse(sample):\n",
    "        example = tf.io.parse_single_example(sample, description)\n",
    "        output = {}\n",
    "        for k, v in example.items():\n",
    "            output[k] = tf.io.parse_tensor(v, out_type=feature_dtypes[k])\n",
    "            output[k].set_shape(feature_shape[k])\n",
    "        return output\n",
    "\n",
    "    ds = ds.map(\n",
    "      parse,\n",
    "      num_parallel_calls=tf.data.experimental.AUTOTUNE,\n",
    "      deterministic=False\n",
    "      )\n",
    "    \n",
    "    ds = ds.batch(\n",
    "      batch_size,\n",
    "      drop_remainder=split != constants.SplitChoices.test\n",
    "      )\n",
    "\n",
    "    return ds\n",
    "\n",
    "\n",
    "def decode_line(tokenizer, line):\n",
    "    return tokenizer.decode([x for x in line if x >= 0])\n",
    "\n",
    "\n",
    "def is_all_neg(tensor):\n",
    "    if not isinstance(tensor, (np.ndarray, tf.Tensor, ops.EagerTensor)):\n",
    "        return all([x < 0 for x in tensor])\n",
    "    else:\n",
    "        return np.all(tensor < 0)\n",
    "    \n",
    "    \n",
    "def check_and_decode(feature_key, item, tokenizer):\n",
    "    feature = item[feature_key]\n",
    "    all_neg = is_all_neg(feature)\n",
    "    assert not all_neg, feature_key\n",
    "    return decode_line(tokenizer, feature)\n",
    "    \n",
    "    \n",
    "def display_item(major, minor, max_minor, tokenizer, item, split):    \n",
    "    item = vars(item)\n",
    "    ##################################################################################################################\n",
    "    # Produce information\n",
    "    ##################################################################################################################\n",
    "    question = check_and_decode(\n",
    "        constants.CTH5Fields.gpt2_question_ids_inputs,\n",
    "        item,\n",
    "        tokenizer\n",
    "    )\n",
    "    \n",
    "    answer = None\n",
    "    if split != \"test\":\n",
    "        feature_key = constants.CTH5Fields.gpt2_answer_ids_inputs\n",
    "        feature = item[feature_key]\n",
    "        answer = check_and_decode(feature_key, item, tokenizer)\n",
    "\n",
    "    retrieved_segments = []\n",
    "    for line in item[constants.CTH5Fields.gpt2_retrieved_ids]:\n",
    "        retrieved_segments.append(decode_line(tokenizer, line))\n",
    "\n",
    "    ##################################################################################################################\n",
    "    # Display\n",
    "    ##################################################################################################################\n",
    "    console = rich.console.Console()\n",
    "    table = rich.table.Table(title=f\"{major}:[{minor}/{max_minor}] - Item from split `{split}`\", show_lines=True)\n",
    "    table.add_column(\"Field\", style=\"bold\")\n",
    "    table.add_column(\"Value\")\n",
    "    table.add_row(\"Question:\", question)\n",
    "    for i, segment in enumerate(retrieved_segments):\n",
    "        table.add_row(f\"Retrieved segment {i}:\", segment)\n",
    "\n",
    "    if answer:\n",
    "        table.add_row(\"Answer:\", answer)\n",
    "    \n",
    "    console.print(table)\n",
    "    \n",
    "    \n",
    "\n",
    "def check_all_unique(iterable):\n",
    "    \"\"\"Memory and computation scale in O(N) with N = len(iterable). \"\"\"\n",
    "    \n",
    "    iter_count = 0\n",
    "    set_ = set()\n",
    "    \n",
    "    for item in iterable:\n",
    "        iter_count += 1\n",
    "        set_.add(item) \n",
    "    \n",
    "    utils.check_equal(iter_count, len(set_))\n",
    "\n",
    "    \n",
    "\n",
    "def check_still_got_tpus():\n",
    "    tpu_name = socket.gethostname()\n",
    "    instance_count = subprocess.check_output(\n",
    "        f\"gcloud compute tpus list --zone {shlex.quote(_ZONE)} \"\n",
    "        f\"| grep {shlex.quote(tpu_name)} | wc -l\", shell=True\n",
    "    ).decode().strip()\n",
    "    assert instance_count == \"1\", (\n",
    "        f\"instance count: {instance_count}\"\n",
    "    )\n",
    "    \n",
    "    \n",
    "    \n",
    "def check_setup_is_as_expected(strategy):\n",
    "    if _ACCEL_TYPE == \"TPU\":\n",
    "        assert tf_utils.devices_to_use()[0].device_type == \"TPU\", (\n",
    "        f_utils.devices_to_use()[0].device_type\n",
    "        )\n",
    "        assert isinstance(strategy, tf.distribute.TPUStrategy), (\n",
    "            strategy\n",
    "        )\n",
    "        check_still_got_tpus()\n",
    "    elif _ACCEL_TYPE == \"CPU\":\n",
    "        pass\n",
    "    else:\n",
    "        raise ValueError(_ACCEL_TYPE)\n",
    "    \n",
    "    rich.print(f\"[blue] < Things are good : {_ACCEL_TYPE} > [/]\")\n",
    "    \n",
    "    \n",
    "    \n",
    "@dataclasses.dataclass\n",
    "class Sample:\n",
    "    distances: tf.Tensor\n",
    "    gpt2_answer_ids: tf.Tensor\n",
    "    gpt2_question_ids: tf.Tensor\n",
    "    gpt2_retrieved_ids: tf.Tensor\n",
    "\n",
    "        \n",
    "print(\"done\")"
   ]
  },
  {
   "cell_type": "code",
   "execution_count": 5,
   "id": "suspended-question",
   "metadata": {},
   "outputs": [
    {
     "name": "stderr",
     "output_type": "stream",
     "text": [
      "INFO:absl:Entering into master device scope: /job:worker/replica:0/task:0/device:CPU:0\n"
     ]
    },
    {
     "name": "stdout",
     "output_type": "stream",
     "text": [
      "INFO:tensorflow:Initializing the TPU system: jules\n"
     ]
    },
    {
     "name": "stderr",
     "output_type": "stream",
     "text": [
      "INFO:tensorflow:Initializing the TPU system: jules\n"
     ]
    },
    {
     "name": "stdout",
     "output_type": "stream",
     "text": [
      "INFO:tensorflow:Clearing out eager caches\n"
     ]
    },
    {
     "name": "stderr",
     "output_type": "stream",
     "text": [
      "INFO:tensorflow:Clearing out eager caches\n"
     ]
    },
    {
     "name": "stdout",
     "output_type": "stream",
     "text": [
      "INFO:tensorflow:Finished initializing TPU system.\n"
     ]
    },
    {
     "name": "stderr",
     "output_type": "stream",
     "text": [
      "INFO:tensorflow:Finished initializing TPU system.\n"
     ]
    },
    {
     "name": "stdout",
     "output_type": "stream",
     "text": [
      "INFO:tensorflow:Found TPU system:\n"
     ]
    },
    {
     "name": "stderr",
     "output_type": "stream",
     "text": [
      "INFO:tensorflow:Found TPU system:\n"
     ]
    },
    {
     "name": "stdout",
     "output_type": "stream",
     "text": [
      "INFO:tensorflow:*** Num TPU Cores: 8\n"
     ]
    },
    {
     "name": "stderr",
     "output_type": "stream",
     "text": [
      "INFO:tensorflow:*** Num TPU Cores: 8\n"
     ]
    },
    {
     "name": "stdout",
     "output_type": "stream",
     "text": [
      "INFO:tensorflow:*** Num TPU Workers: 1\n"
     ]
    },
    {
     "name": "stderr",
     "output_type": "stream",
     "text": [
      "INFO:tensorflow:*** Num TPU Workers: 1\n"
     ]
    },
    {
     "name": "stdout",
     "output_type": "stream",
     "text": [
      "INFO:tensorflow:*** Num TPU Cores Per Worker: 8\n"
     ]
    },
    {
     "name": "stderr",
     "output_type": "stream",
     "text": [
      "INFO:tensorflow:*** Num TPU Cores Per Worker: 8\n"
     ]
    },
    {
     "name": "stdout",
     "output_type": "stream",
     "text": [
      "INFO:tensorflow:*** Available Device: _DeviceAttributes(/job:localhost/replica:0/task:0/device:CPU:0, CPU, 0, 0)\n"
     ]
    },
    {
     "name": "stderr",
     "output_type": "stream",
     "text": [
      "INFO:tensorflow:*** Available Device: _DeviceAttributes(/job:localhost/replica:0/task:0/device:CPU:0, CPU, 0, 0)\n"
     ]
    },
    {
     "name": "stdout",
     "output_type": "stream",
     "text": [
      "INFO:tensorflow:*** Available Device: _DeviceAttributes(/job:worker/replica:0/task:0/device:CPU:0, CPU, 0, 0)\n"
     ]
    },
    {
     "name": "stderr",
     "output_type": "stream",
     "text": [
      "INFO:tensorflow:*** Available Device: _DeviceAttributes(/job:worker/replica:0/task:0/device:CPU:0, CPU, 0, 0)\n"
     ]
    },
    {
     "name": "stdout",
     "output_type": "stream",
     "text": [
      "INFO:tensorflow:*** Available Device: _DeviceAttributes(/job:worker/replica:0/task:0/device:TPU:0, TPU, 0, 0)\n"
     ]
    },
    {
     "name": "stderr",
     "output_type": "stream",
     "text": [
      "INFO:tensorflow:*** Available Device: _DeviceAttributes(/job:worker/replica:0/task:0/device:TPU:0, TPU, 0, 0)\n"
     ]
    },
    {
     "name": "stdout",
     "output_type": "stream",
     "text": [
      "INFO:tensorflow:*** Available Device: _DeviceAttributes(/job:worker/replica:0/task:0/device:TPU:1, TPU, 0, 0)\n"
     ]
    },
    {
     "name": "stderr",
     "output_type": "stream",
     "text": [
      "INFO:tensorflow:*** Available Device: _DeviceAttributes(/job:worker/replica:0/task:0/device:TPU:1, TPU, 0, 0)\n"
     ]
    },
    {
     "name": "stdout",
     "output_type": "stream",
     "text": [
      "INFO:tensorflow:*** Available Device: _DeviceAttributes(/job:worker/replica:0/task:0/device:TPU:2, TPU, 0, 0)\n"
     ]
    },
    {
     "name": "stderr",
     "output_type": "stream",
     "text": [
      "INFO:tensorflow:*** Available Device: _DeviceAttributes(/job:worker/replica:0/task:0/device:TPU:2, TPU, 0, 0)\n"
     ]
    },
    {
     "name": "stdout",
     "output_type": "stream",
     "text": [
      "INFO:tensorflow:*** Available Device: _DeviceAttributes(/job:worker/replica:0/task:0/device:TPU:3, TPU, 0, 0)\n"
     ]
    },
    {
     "name": "stderr",
     "output_type": "stream",
     "text": [
      "INFO:tensorflow:*** Available Device: _DeviceAttributes(/job:worker/replica:0/task:0/device:TPU:3, TPU, 0, 0)\n"
     ]
    },
    {
     "name": "stdout",
     "output_type": "stream",
     "text": [
      "INFO:tensorflow:*** Available Device: _DeviceAttributes(/job:worker/replica:0/task:0/device:TPU:4, TPU, 0, 0)\n"
     ]
    },
    {
     "name": "stderr",
     "output_type": "stream",
     "text": [
      "INFO:tensorflow:*** Available Device: _DeviceAttributes(/job:worker/replica:0/task:0/device:TPU:4, TPU, 0, 0)\n"
     ]
    },
    {
     "name": "stdout",
     "output_type": "stream",
     "text": [
      "INFO:tensorflow:*** Available Device: _DeviceAttributes(/job:worker/replica:0/task:0/device:TPU:5, TPU, 0, 0)\n"
     ]
    },
    {
     "name": "stderr",
     "output_type": "stream",
     "text": [
      "INFO:tensorflow:*** Available Device: _DeviceAttributes(/job:worker/replica:0/task:0/device:TPU:5, TPU, 0, 0)\n"
     ]
    },
    {
     "name": "stdout",
     "output_type": "stream",
     "text": [
      "INFO:tensorflow:*** Available Device: _DeviceAttributes(/job:worker/replica:0/task:0/device:TPU:6, TPU, 0, 0)\n"
     ]
    },
    {
     "name": "stderr",
     "output_type": "stream",
     "text": [
      "INFO:tensorflow:*** Available Device: _DeviceAttributes(/job:worker/replica:0/task:0/device:TPU:6, TPU, 0, 0)\n"
     ]
    },
    {
     "name": "stdout",
     "output_type": "stream",
     "text": [
      "INFO:tensorflow:*** Available Device: _DeviceAttributes(/job:worker/replica:0/task:0/device:TPU:7, TPU, 0, 0)\n"
     ]
    },
    {
     "name": "stderr",
     "output_type": "stream",
     "text": [
      "INFO:tensorflow:*** Available Device: _DeviceAttributes(/job:worker/replica:0/task:0/device:TPU:7, TPU, 0, 0)\n"
     ]
    },
    {
     "name": "stdout",
     "output_type": "stream",
     "text": [
      "INFO:tensorflow:*** Available Device: _DeviceAttributes(/job:worker/replica:0/task:0/device:TPU_SYSTEM:0, TPU_SYSTEM, 0, 0)\n"
     ]
    },
    {
     "name": "stderr",
     "output_type": "stream",
     "text": [
      "INFO:tensorflow:*** Available Device: _DeviceAttributes(/job:worker/replica:0/task:0/device:TPU_SYSTEM:0, TPU_SYSTEM, 0, 0)\n"
     ]
    },
    {
     "name": "stdout",
     "output_type": "stream",
     "text": [
      "INFO:tensorflow:*** Available Device: _DeviceAttributes(/job:worker/replica:0/task:0/device:XLA_CPU:0, XLA_CPU, 0, 0)\n"
     ]
    },
    {
     "name": "stderr",
     "output_type": "stream",
     "text": [
      "INFO:tensorflow:*** Available Device: _DeviceAttributes(/job:worker/replica:0/task:0/device:XLA_CPU:0, XLA_CPU, 0, 0)\n"
     ]
    },
    {
     "data": {
      "text/markdown": [
       "# Getting filenames."
      ],
      "text/plain": [
       "<IPython.core.display.Markdown object>"
      ]
     },
     "metadata": {},
     "output_type": "display_data"
    },
    {
     "data": {
      "text/markdown": [
       "#### Loading json config."
      ],
      "text/plain": [
       "<IPython.core.display.Markdown object>"
      ]
     },
     "metadata": {},
     "output_type": "display_data"
    },
    {
     "data": {
      "text/markdown": [
       "#### Calling `gsutil ls` on the dataset repo."
      ],
      "text/plain": [
       "<IPython.core.display.Markdown object>"
      ]
     },
     "metadata": {},
     "output_type": "display_data"
    },
    {
     "data": {
      "text/markdown": [
       "#### Printing a few paths:"
      ],
      "text/plain": [
       "<IPython.core.display.Markdown object>"
      ]
     },
     "metadata": {},
     "output_type": "display_data"
    },
    {
     "data": {
      "text/markdown": [
       "There are actually 8192."
      ],
      "text/plain": [
       "<IPython.core.display.Markdown object>"
      ]
     },
     "metadata": {},
     "output_type": "display_data"
    },
    {
     "data": {
      "text/markdown": [
       " - gs://julesgm-research-v3/tfrecord_query_cache/20210225-191356/eval_0.tfr\n",
       " - gs://julesgm-research-v3/tfrecord_query_cache/20210225-191356/eval_1.tfr\n",
       " - gs://julesgm-research-v3/tfrecord_query_cache/20210225-191356/eval_10.tfr\n",
       " - gs://julesgm-research-v3/tfrecord_query_cache/20210225-191356/eval_100.tfr\n",
       " - gs://julesgm-research-v3/tfrecord_query_cache/20210225-191356/eval_1000.tfr\n",
       " - gs://julesgm-research-v3/tfrecord_query_cache/20210225-191356/eval_1001.tfr\n",
       " - gs://julesgm-research-v3/tfrecord_query_cache/20210225-191356/eval_1002.tfr\n",
       " - gs://julesgm-research-v3/tfrecord_query_cache/20210225-191356/eval_1003.tfr\n",
       " - gs://julesgm-research-v3/tfrecord_query_cache/20210225-191356/eval_1004.tfr\n",
       " - gs://julesgm-research-v3/tfrecord_query_cache/20210225-191356/eval_1005.tfr"
      ],
      "text/plain": [
       "<IPython.core.display.Markdown object>"
      ]
     },
     "metadata": {},
     "output_type": "display_data"
    },
    {
     "data": {
      "text/markdown": [
       "# Building the `per_split` Path dict."
      ],
      "text/plain": [
       "<IPython.core.display.Markdown object>"
      ]
     },
     "metadata": {},
     "output_type": "display_data"
    },
    {
     "data": {
      "application/vnd.jupyter.widget-view+json": {
       "model_id": "11675575b8fd48ecb82e2a4d9736c978",
       "version_major": 2,
       "version_minor": 0
      },
      "text/plain": [
       "HBox(children=(FloatProgress(value=0.0, description='Building `per_split` dict.', max=8192.0, style=ProgressSt…"
      ]
     },
     "metadata": {},
     "output_type": "display_data"
    },
    {
     "name": "stdout",
     "output_type": "stream",
     "text": [
      "\n"
     ]
    },
    {
     "data": {
      "text/markdown": [
       "Sorting the `per_split` lists."
      ],
      "text/plain": [
       "<IPython.core.display.Markdown object>"
      ]
     },
     "metadata": {},
     "output_type": "display_data"
    },
    {
     "data": {
      "text/markdown": [
       "Len per split for the per_split dict:"
      ],
      "text/plain": [
       "<IPython.core.display.Markdown object>"
      ]
     },
     "metadata": {},
     "output_type": "display_data"
    },
    {
     "name": "stdout",
     "output_type": "stream",
     "text": [
      "{'eval': 2048, 'test': 2048, 'train': 2048, 'validation': 2048}\n",
      "Making sure all paths are unique\n",
      "eval\n"
     ]
    },
    {
     "data": {
      "application/vnd.jupyter.widget-view+json": {
       "model_id": "2409b867fbb9427292dcb48a03362096",
       "version_major": 2,
       "version_minor": 0
      },
      "text/plain": [
       "HBox(children=(FloatProgress(value=0.0, max=2048.0), HTML(value='')))"
      ]
     },
     "metadata": {},
     "output_type": "display_data"
    },
    {
     "name": "stdout",
     "output_type": "stream",
     "text": [
      "\n",
      "test\n"
     ]
    },
    {
     "data": {
      "application/vnd.jupyter.widget-view+json": {
       "model_id": "da7c8d84eee24c78bb8db77dfda8b7d5",
       "version_major": 2,
       "version_minor": 0
      },
      "text/plain": [
       "HBox(children=(FloatProgress(value=0.0, max=2048.0), HTML(value='')))"
      ]
     },
     "metadata": {},
     "output_type": "display_data"
    },
    {
     "name": "stdout",
     "output_type": "stream",
     "text": [
      "\n",
      "train\n"
     ]
    },
    {
     "data": {
      "application/vnd.jupyter.widget-view+json": {
       "model_id": "31b3668953a243ed93eb673022de221c",
       "version_major": 2,
       "version_minor": 0
      },
      "text/plain": [
       "HBox(children=(FloatProgress(value=0.0, max=2048.0), HTML(value='')))"
      ]
     },
     "metadata": {},
     "output_type": "display_data"
    },
    {
     "name": "stdout",
     "output_type": "stream",
     "text": [
      "\n",
      "validation\n"
     ]
    },
    {
     "data": {
      "application/vnd.jupyter.widget-view+json": {
       "model_id": "3d909a1b920440d6a8838f6ab127c012",
       "version_major": 2,
       "version_minor": 0
      },
      "text/plain": [
       "HBox(children=(FloatProgress(value=0.0, max=2048.0), HTML(value='')))"
      ]
     },
     "metadata": {},
     "output_type": "display_data"
    },
    {
     "name": "stdout",
     "output_type": "stream",
     "text": [
      "\n",
      "done\n"
     ]
    }
   ],
   "source": [
    "###############################################################################\n",
    "# Long configuration stuff\n",
    "###############################################################################\n",
    "\n",
    "    \n",
    "#------------------------------------------------------------------------------\n",
    "# TPU Stuff\n",
    "#------------------------------------------------------------------------------\n",
    "if _ACCEL_TYPE == \"TPU\":\n",
    "    tpu_name = socket.gethostname()\n",
    "    check_still_got_tpus()\n",
    "    tpu_setup = tf_utils.init_tpus(socket.gethostname())\n",
    "    utils.check_equal(tf_utils.devices_to_use()[0].device_type, \"TPU\")\n",
    "    utils.check_equal(len(tf_utils.devices_to_use()), 8)\n",
    "    strategy = tf.distribute.TPUStrategy(tpu_setup.resolver)\n",
    "    \n",
    "elif _ACCEL_TYPE == \"CPU\":\n",
    "    device = tf_utils.devices_to_use()[0]\n",
    "    utils.check_equal(len(tf_utils.devices_to_use()), 1)\n",
    "    utils.check_equal(device.device_type, \"CPU\")\n",
    "    strategy = tf.distribute.OneDeviceStrategy(device)\n",
    "    \n",
    "else:\n",
    "    raise RuntimeError(_ACCEL_TYPE)\n",
    "    \n",
    "    \n",
    "#------------------------------------------------------------------------------\n",
    "# Huggingface Stuff\n",
    "#------------------------------------------------------------------------------\n",
    "model_config = transformers.AutoConfig.from_pretrained(_MODEL_TYPE)\n",
    "tokenizer = transformers.GPT2TokenizerFast.from_pretrained(_MODEL_TYPE)\n",
    "splits_to_ds_paths = build_split_to_ds_paths(_PROJECT_DIRECTORY, _NUM_PATHS_DISPLAY)\n",
    "print(\"Making sure all paths are unique\")\n",
    "for k, v in splits_to_ds_paths.items():\n",
    "    print(k)\n",
    "    check_all_unique(tqdm.tqdm(v))\n",
    "context_window_size = model_config.n_ctx\n",
    "\n",
    "print(\"done\")"
   ]
  },
  {
   "cell_type": "code",
   "execution_count": 6,
   "id": "demographic-growth",
   "metadata": {},
   "outputs": [
    {
     "name": "stdout",
     "output_type": "stream",
     "text": [
      "done\n"
     ]
    }
   ],
   "source": [
    "check_still_got_tpus()\n",
    "maybe_retrieve_and_merge = {\n",
    "    split: _make_maybe_retrieve_and_merge_fn(\n",
    "        tokenizer=tokenizer,\n",
    "        context_size=context_window_size,\n",
    "        ds_split=split,\n",
    "        approach_type=_APPROACH_TYPE,  # FLAG_APPROACH_TYPE.value\n",
    "        use_helper_words=True,  # FLAG_USE_HELPER_WORDS\n",
    "        retriever=None,  # pylint: disable=unused-argument\n",
    "        temperature=0.03,\n",
    "        num_retrievals=5,\n",
    "        enable_debug_checks=False,\n",
    "        max_length_generation=350,\n",
    "        tf_function_kwargs=None,\n",
    ") for split in [\"train\"]}\n",
    "\n",
    "print(\"done\")\n",
    "\n",
    "\n",
    "def prepare_special_token(bpe_id):\n",
    "    if bpe_id == tokenizer.eos_token_id:\n",
    "        return f\" << eos >> \"\n",
    "    if bpe_id < 0:\n",
    "        return f\" << {x} >> \"\n",
    "    else:\n",
    "        raise ValueError(bpe_id)\n",
    "    \n",
    "\n",
    "    \n",
    "def filter_and_decode(tokenizer, token_ids):\n",
    "    return tokenizer.decode([\n",
    "        x for x in token_ids if x >= 0 and x != tokenizer.eos_token_id\n",
    "    ])\n",
    "    \n",
    "    \n",
    "def format_output_text(text, mode=\"normal\"):\n",
    "    if mode == \"normal\":\n",
    "        boldify_words = [\"Question:\", \"Answer:\", \"Context:\"]\n",
    "        for word in boldify_words:\n",
    "            text = text.replace(word, f\"\\n\\n**{word}**\")\n",
    "            text = re.sub(r\"\\n{3, +}\", \"\\n\\n\", text)\n",
    "    elif mode == \"plain\":\n",
    "        return text\n",
    "    else:\n",
    "        raise RuntimeError(mode)\n",
    "    rich.jupyter.print(text)\n",
    "    \n",
    "    return text.strip()\n",
    "        "
   ]
  },
  {
   "cell_type": "raw",
   "id": "animal-stand",
   "metadata": {},
   "source": [
    "\n",
    "for split in [\n",
    "# \"eval\", \n",
    "# \"test\", \n",
    "    \"train\"\n",
    "]:\n",
    "    ds_paths = splits_to_ds_paths[split]\n",
    "    \n",
    "    ###########################################################################\n",
    "    # Build and Distribute the DS\n",
    "    ###########################################################################\n",
    "    print(\"Building DS\")\n",
    "    ds = build_dataset(ds_paths, context_window_size, split, len(tf_utils.devices_to_use()))\n",
    "    dds = strategy.experimental_distribute_dataset(ds)\n",
    "    print(\"Created DS\")\n",
    "    \n",
    "    ###########################################################################\n",
    "    # Print elements of the DS\n",
    "    ###########################################################################\n",
    "    for major, dist_items in enumerate(toolz.take(1, dds)):\n",
    "        \n",
    "        turned_on_itself = [\n",
    "            Sample(None, None, None, None) for _ in range(len(tf_utils.devices_to_use()))\n",
    "        ]\n",
    "\n",
    "        for feature_key, v in dist_items.items():\n",
    "            if tf_utils.devices_to_use()[0].device_type == \"TPU\":\n",
    "                utils.check_isinstance(v, values.PerReplica)\n",
    "            else:\n",
    "                utils.check_isinstance(v, ops.EagerTensor)\n",
    "            \n",
    "            for i, vv in enumerate(v.values if isinstance(v, values.PerReplica) else [v]):\n",
    "                utils.check_equal(vv.shape[0], 1)\n",
    "                setattr(turned_on_itself[i], feature_key, vv[0])\n",
    "                \n",
    "        utils.check_equal(len(turned_on_itself), len(tf_utils.devices_to_use()))\n",
    "        for minor, item in enumerate(turned_on_itself):\n",
    "            if split == \"train\":\n",
    "                display_item(\n",
    "                    major + 1, \n",
    "                    minor + 1, \n",
    "                    len(tf_utils.devices_to_use()), \n",
    "                    tokenizer, \n",
    "                    item, \n",
    "                    split\n",
    "                )\n",
    "\n",
    "print(\"done\")"
   ]
  },
  {
   "cell_type": "code",
   "execution_count": 7,
   "id": "crucial-liberal",
   "metadata": {},
   "outputs": [
    {
     "name": "stdout",
     "output_type": "stream",
     "text": [
      "Starting\n"
     ]
    },
    {
     "data": {
      "text/html": [
       "<pre style=\"white-space:pre;overflow-x:auto;line-height:normal;font-family:Menlo,'DejaVu Sans Mono',consolas,'Courier New',monospace\"><span style=\"color: #000080; text-decoration-color: #000080\"> </span><span style=\"color: #000080; text-decoration-color: #000080; font-weight: bold\">&lt;</span><span style=\"color: #000080; text-decoration-color: #000080\"> Things are good : TPU </span><span style=\"color: #000080; text-decoration-color: #000080; font-weight: bold\">&gt;</span><span style=\"color: #000080; text-decoration-color: #000080\"> </span>\n",
       "</pre>\n"
      ],
      "text/plain": [
       "<rich.jupyter.JupyterRenderable at 0x7f1d5fe414c0>"
      ]
     },
     "metadata": {},
     "output_type": "display_data"
    },
    {
     "name": "stdout",
     "output_type": "stream",
     "text": [
      "Checked\n",
      "Building DS\n",
      "Starting loop.\n"
     ]
    },
    {
     "ename": "UnavailableError",
     "evalue": "Socket closed\nAdditional GRPC error information from remote target /job:worker/replica:0/task:0:\n:{\"created\":\"@1617243730.211673429\",\"description\":\"Error received from peer ipv4:10.79.32.74:8470\",\"file\":\"external/com_github_grpc_grpc/src/core/lib/surface/call.cc\",\"file_line\":1056,\"grpc_message\":\"Socket closed\",\"grpc_status\":14}",
     "output_type": "error",
     "traceback": [
      "\u001b[0;31m---------------------------------------------------------------------------\u001b[0m",
      "\u001b[0;31mUnavailableError\u001b[0m                          Traceback (most recent call last)",
      "\u001b[0;32m<ipython-input-7-256a124bc13d>\u001b[0m in \u001b[0;36m<module>\u001b[0;34m\u001b[0m\n\u001b[1;32m     29\u001b[0m \u001b[0;34m\u001b[0m\u001b[0m\n\u001b[1;32m     30\u001b[0m     \u001b[0mprint\u001b[0m\u001b[0;34m(\u001b[0m\u001b[0;34m\"Starting loop.\"\u001b[0m\u001b[0;34m,\u001b[0m \u001b[0mflush\u001b[0m\u001b[0;34m=\u001b[0m\u001b[0;32mTrue\u001b[0m\u001b[0;34m)\u001b[0m\u001b[0;34m\u001b[0m\u001b[0;34m\u001b[0m\u001b[0m\n\u001b[0;32m---> 31\u001b[0;31m     \u001b[0;32mfor\u001b[0m \u001b[0mmajor\u001b[0m\u001b[0;34m,\u001b[0m \u001b[0mdist_items\u001b[0m \u001b[0;32min\u001b[0m \u001b[0menumerate\u001b[0m\u001b[0;34m(\u001b[0m\u001b[0mtoolz\u001b[0m\u001b[0;34m.\u001b[0m\u001b[0mtake\u001b[0m\u001b[0;34m(\u001b[0m\u001b[0;36m1\u001b[0m \u001b[0;32mif\u001b[0m \u001b[0m_ACCEL_TYPE\u001b[0m \u001b[0;34m==\u001b[0m \u001b[0;34m\"TPU\"\u001b[0m \u001b[0;32melse\u001b[0m \u001b[0;36m8\u001b[0m\u001b[0;34m,\u001b[0m \u001b[0mdds\u001b[0m\u001b[0;34m)\u001b[0m\u001b[0;34m)\u001b[0m\u001b[0;34m:\u001b[0m\u001b[0;34m\u001b[0m\u001b[0;34m\u001b[0m\u001b[0m\n\u001b[0m\u001b[1;32m     32\u001b[0m \u001b[0;34m\u001b[0m\u001b[0m\n\u001b[1;32m     33\u001b[0m         \u001b[0mis_distributed\u001b[0m \u001b[0;34m=\u001b[0m \u001b[0misinstance\u001b[0m\u001b[0;34m(\u001b[0m\u001b[0mdist_items\u001b[0m\u001b[0;34m[\u001b[0m\u001b[0;34m\"input_ids\"\u001b[0m\u001b[0;34m]\u001b[0m\u001b[0;34m,\u001b[0m  \u001b[0mvalues\u001b[0m\u001b[0;34m.\u001b[0m\u001b[0mPerReplica\u001b[0m\u001b[0;34m)\u001b[0m\u001b[0;34m\u001b[0m\u001b[0;34m\u001b[0m\u001b[0m\n",
      "\u001b[0;32m~/anaconda/lib/python3.8/site-packages/tensorflow/python/distribute/input_lib.py\u001b[0m in \u001b[0;36m__next__\u001b[0;34m(self)\u001b[0m\n\u001b[1;32m    630\u001b[0m   \u001b[0;32mdef\u001b[0m \u001b[0m__next__\u001b[0m\u001b[0;34m(\u001b[0m\u001b[0mself\u001b[0m\u001b[0;34m)\u001b[0m\u001b[0;34m:\u001b[0m\u001b[0;34m\u001b[0m\u001b[0;34m\u001b[0m\u001b[0m\n\u001b[1;32m    631\u001b[0m     \u001b[0;32mtry\u001b[0m\u001b[0;34m:\u001b[0m\u001b[0;34m\u001b[0m\u001b[0;34m\u001b[0m\u001b[0m\n\u001b[0;32m--> 632\u001b[0;31m       \u001b[0;32mreturn\u001b[0m \u001b[0mself\u001b[0m\u001b[0;34m.\u001b[0m\u001b[0mget_next\u001b[0m\u001b[0;34m(\u001b[0m\u001b[0;34m)\u001b[0m\u001b[0;34m\u001b[0m\u001b[0;34m\u001b[0m\u001b[0m\n\u001b[0m\u001b[1;32m    633\u001b[0m     \u001b[0;32mexcept\u001b[0m \u001b[0merrors\u001b[0m\u001b[0;34m.\u001b[0m\u001b[0mOutOfRangeError\u001b[0m\u001b[0;34m:\u001b[0m\u001b[0;34m\u001b[0m\u001b[0;34m\u001b[0m\u001b[0m\n\u001b[1;32m    634\u001b[0m       \u001b[0;32mraise\u001b[0m \u001b[0mStopIteration\u001b[0m\u001b[0;34m\u001b[0m\u001b[0;34m\u001b[0m\u001b[0m\n",
      "\u001b[0;32m~/anaconda/lib/python3.8/site-packages/tensorflow/python/distribute/input_lib.py\u001b[0m in \u001b[0;36mget_next\u001b[0;34m(self, name)\u001b[0m\n\u001b[1;32m    674\u001b[0m       \u001b[0;32mreturn\u001b[0m \u001b[0mdata\u001b[0m\u001b[0;34m\u001b[0m\u001b[0;34m\u001b[0m\u001b[0m\n\u001b[1;32m    675\u001b[0m \u001b[0;34m\u001b[0m\u001b[0m\n\u001b[0;32m--> 676\u001b[0;31m     global_has_value, replicas = _get_next_as_optional(\n\u001b[0m\u001b[1;32m    677\u001b[0m         self, self._strategy, return_per_replica=False)\n\u001b[1;32m    678\u001b[0m     \u001b[0mresults\u001b[0m \u001b[0;34m=\u001b[0m \u001b[0;34m[\u001b[0m\u001b[0;34m]\u001b[0m\u001b[0;34m\u001b[0m\u001b[0;34m\u001b[0m\u001b[0m\n",
      "\u001b[0;32m~/anaconda/lib/python3.8/site-packages/tensorflow/python/distribute/input_lib.py\u001b[0m in \u001b[0;36m_get_next_as_optional\u001b[0;34m(iterator, strategy, return_per_replica)\u001b[0m\n\u001b[1;32m    547\u001b[0m     \u001b[0;32mwith\u001b[0m \u001b[0mops\u001b[0m\u001b[0;34m.\u001b[0m\u001b[0mdevice\u001b[0m\u001b[0;34m(\u001b[0m\u001b[0mworker\u001b[0m\u001b[0;34m)\u001b[0m\u001b[0;34m:\u001b[0m\u001b[0;34m\u001b[0m\u001b[0;34m\u001b[0m\u001b[0m\n\u001b[1;32m    548\u001b[0m       worker_has_value, next_element = (\n\u001b[0;32m--> 549\u001b[0;31m           iterator._iterators[i].get_next_as_list())  # pylint: disable=protected-access\n\u001b[0m\u001b[1;32m    550\u001b[0m       \u001b[0;31m# Collective all-reduce requires explicit devices for inputs.\u001b[0m\u001b[0;34m\u001b[0m\u001b[0;34m\u001b[0m\u001b[0;34m\u001b[0m\u001b[0m\n\u001b[1;32m    551\u001b[0m       \u001b[0;32mwith\u001b[0m \u001b[0mops\u001b[0m\u001b[0;34m.\u001b[0m\u001b[0mdevice\u001b[0m\u001b[0;34m(\u001b[0m\u001b[0;34m\"/cpu:0\"\u001b[0m\u001b[0;34m)\u001b[0m\u001b[0;34m:\u001b[0m\u001b[0;34m\u001b[0m\u001b[0;34m\u001b[0m\u001b[0m\n",
      "\u001b[0;32m~/anaconda/lib/python3.8/site-packages/tensorflow/python/distribute/input_lib.py\u001b[0m in \u001b[0;36mget_next_as_list\u001b[0;34m(***failed resolving arguments***)\u001b[0m\n\u001b[1;32m   1652\u001b[0m           \u001b[0;31m# pylint: disable=unnecessary-lambda\u001b[0m\u001b[0;34m\u001b[0m\u001b[0;34m\u001b[0m\u001b[0;34m\u001b[0m\u001b[0m\n\u001b[1;32m   1653\u001b[0m           \u001b[0;31m# pylint: disable=cell-var-from-loop\u001b[0m\u001b[0;34m\u001b[0m\u001b[0;34m\u001b[0m\u001b[0;34m\u001b[0m\u001b[0m\n\u001b[0;32m-> 1654\u001b[0;31m           real_data = control_flow_ops.cond(\n\u001b[0m\u001b[1;32m   1655\u001b[0m               \u001b[0mdata\u001b[0m\u001b[0;34m.\u001b[0m\u001b[0mhas_value\u001b[0m\u001b[0;34m(\u001b[0m\u001b[0;34m)\u001b[0m\u001b[0;34m,\u001b[0m\u001b[0;34m\u001b[0m\u001b[0;34m\u001b[0m\u001b[0m\n\u001b[1;32m   1656\u001b[0m               \u001b[0;32mlambda\u001b[0m\u001b[0;34m:\u001b[0m \u001b[0mdata\u001b[0m\u001b[0;34m.\u001b[0m\u001b[0mget_value\u001b[0m\u001b[0;34m(\u001b[0m\u001b[0;34m)\u001b[0m\u001b[0;34m,\u001b[0m\u001b[0;34m\u001b[0m\u001b[0;34m\u001b[0m\u001b[0m\n",
      "\u001b[0;32m~/anaconda/lib/python3.8/site-packages/tensorflow/python/util/dispatch.py\u001b[0m in \u001b[0;36mwrapper\u001b[0;34m(*args, **kwargs)\u001b[0m\n\u001b[1;32m    199\u001b[0m     \u001b[0;34m\"\"\"Call target, and fall back on dispatchers if there is a TypeError.\"\"\"\u001b[0m\u001b[0;34m\u001b[0m\u001b[0;34m\u001b[0m\u001b[0m\n\u001b[1;32m    200\u001b[0m     \u001b[0;32mtry\u001b[0m\u001b[0;34m:\u001b[0m\u001b[0;34m\u001b[0m\u001b[0;34m\u001b[0m\u001b[0m\n\u001b[0;32m--> 201\u001b[0;31m       \u001b[0;32mreturn\u001b[0m \u001b[0mtarget\u001b[0m\u001b[0;34m(\u001b[0m\u001b[0;34m*\u001b[0m\u001b[0margs\u001b[0m\u001b[0;34m,\u001b[0m \u001b[0;34m**\u001b[0m\u001b[0mkwargs\u001b[0m\u001b[0;34m)\u001b[0m\u001b[0;34m\u001b[0m\u001b[0;34m\u001b[0m\u001b[0m\n\u001b[0m\u001b[1;32m    202\u001b[0m     \u001b[0;32mexcept\u001b[0m \u001b[0;34m(\u001b[0m\u001b[0mTypeError\u001b[0m\u001b[0;34m,\u001b[0m \u001b[0mValueError\u001b[0m\u001b[0;34m)\u001b[0m\u001b[0;34m:\u001b[0m\u001b[0;34m\u001b[0m\u001b[0;34m\u001b[0m\u001b[0m\n\u001b[1;32m    203\u001b[0m       \u001b[0;31m# Note: convert_to_eager_tensor currently raises a ValueError, not a\u001b[0m\u001b[0;34m\u001b[0m\u001b[0;34m\u001b[0m\u001b[0;34m\u001b[0m\u001b[0m\n",
      "\u001b[0;32m~/anaconda/lib/python3.8/site-packages/tensorflow/python/util/deprecation.py\u001b[0m in \u001b[0;36mnew_func\u001b[0;34m(*args, **kwargs)\u001b[0m\n\u001b[1;32m    536\u001b[0m                 \u001b[0;34m'in a future version'\u001b[0m \u001b[0;32mif\u001b[0m \u001b[0mdate\u001b[0m \u001b[0;32mis\u001b[0m \u001b[0;32mNone\u001b[0m \u001b[0;32melse\u001b[0m \u001b[0;34m(\u001b[0m\u001b[0;34m'after %s'\u001b[0m \u001b[0;34m%\u001b[0m \u001b[0mdate\u001b[0m\u001b[0;34m)\u001b[0m\u001b[0;34m,\u001b[0m\u001b[0;34m\u001b[0m\u001b[0;34m\u001b[0m\u001b[0m\n\u001b[1;32m    537\u001b[0m                 instructions)\n\u001b[0;32m--> 538\u001b[0;31m       \u001b[0;32mreturn\u001b[0m \u001b[0mfunc\u001b[0m\u001b[0;34m(\u001b[0m\u001b[0;34m*\u001b[0m\u001b[0margs\u001b[0m\u001b[0;34m,\u001b[0m \u001b[0;34m**\u001b[0m\u001b[0mkwargs\u001b[0m\u001b[0;34m)\u001b[0m\u001b[0;34m\u001b[0m\u001b[0;34m\u001b[0m\u001b[0m\n\u001b[0m\u001b[1;32m    539\u001b[0m \u001b[0;34m\u001b[0m\u001b[0m\n\u001b[1;32m    540\u001b[0m     doc = _add_deprecated_arg_notice_to_docstring(\n",
      "\u001b[0;32m~/anaconda/lib/python3.8/site-packages/tensorflow/python/ops/control_flow_ops.py\u001b[0m in \u001b[0;36mcond\u001b[0;34m(pred, true_fn, false_fn, strict, name, fn1, fn2)\u001b[0m\n\u001b[1;32m   1205\u001b[0m   \u001b[0;32mwith\u001b[0m \u001b[0mops\u001b[0m\u001b[0;34m.\u001b[0m\u001b[0mname_scope\u001b[0m\u001b[0;34m(\u001b[0m\u001b[0mname\u001b[0m\u001b[0;34m,\u001b[0m \u001b[0;34m\"cond\"\u001b[0m\u001b[0;34m,\u001b[0m \u001b[0;34m[\u001b[0m\u001b[0mpred\u001b[0m\u001b[0;34m]\u001b[0m\u001b[0;34m)\u001b[0m\u001b[0;34m:\u001b[0m\u001b[0;34m\u001b[0m\u001b[0;34m\u001b[0m\u001b[0m\n\u001b[1;32m   1206\u001b[0m     \u001b[0;32mif\u001b[0m \u001b[0mcontext\u001b[0m\u001b[0;34m.\u001b[0m\u001b[0mexecuting_eagerly\u001b[0m\u001b[0;34m(\u001b[0m\u001b[0;34m)\u001b[0m\u001b[0;34m:\u001b[0m\u001b[0;34m\u001b[0m\u001b[0;34m\u001b[0m\u001b[0m\n\u001b[0;32m-> 1207\u001b[0;31m       \u001b[0;32mif\u001b[0m \u001b[0mpred\u001b[0m\u001b[0;34m:\u001b[0m\u001b[0;34m\u001b[0m\u001b[0;34m\u001b[0m\u001b[0m\n\u001b[0m\u001b[1;32m   1208\u001b[0m         \u001b[0mresult\u001b[0m \u001b[0;34m=\u001b[0m \u001b[0mtrue_fn\u001b[0m\u001b[0;34m(\u001b[0m\u001b[0;34m)\u001b[0m\u001b[0;34m\u001b[0m\u001b[0;34m\u001b[0m\u001b[0m\n\u001b[1;32m   1209\u001b[0m       \u001b[0;32melse\u001b[0m\u001b[0;34m:\u001b[0m\u001b[0;34m\u001b[0m\u001b[0;34m\u001b[0m\u001b[0m\n",
      "\u001b[0;32m~/anaconda/lib/python3.8/site-packages/tensorflow/python/framework/ops.py\u001b[0m in \u001b[0;36m__bool__\u001b[0;34m(self)\u001b[0m\n\u001b[1;32m    990\u001b[0m \u001b[0;34m\u001b[0m\u001b[0m\n\u001b[1;32m    991\u001b[0m   \u001b[0;32mdef\u001b[0m \u001b[0m__bool__\u001b[0m\u001b[0;34m(\u001b[0m\u001b[0mself\u001b[0m\u001b[0;34m)\u001b[0m\u001b[0;34m:\u001b[0m\u001b[0;34m\u001b[0m\u001b[0;34m\u001b[0m\u001b[0m\n\u001b[0;32m--> 992\u001b[0;31m     \u001b[0;32mreturn\u001b[0m \u001b[0mbool\u001b[0m\u001b[0;34m(\u001b[0m\u001b[0mself\u001b[0m\u001b[0;34m.\u001b[0m\u001b[0m_numpy\u001b[0m\u001b[0;34m(\u001b[0m\u001b[0;34m)\u001b[0m\u001b[0;34m)\u001b[0m\u001b[0;34m\u001b[0m\u001b[0;34m\u001b[0m\u001b[0m\n\u001b[0m\u001b[1;32m    993\u001b[0m \u001b[0;34m\u001b[0m\u001b[0m\n\u001b[1;32m    994\u001b[0m   \u001b[0m__nonzero__\u001b[0m \u001b[0;34m=\u001b[0m \u001b[0m__bool__\u001b[0m\u001b[0;34m\u001b[0m\u001b[0;34m\u001b[0m\u001b[0m\n",
      "\u001b[0;32m~/anaconda/lib/python3.8/site-packages/tensorflow/python/framework/ops.py\u001b[0m in \u001b[0;36m_numpy\u001b[0;34m(self)\u001b[0m\n\u001b[1;32m   1037\u001b[0m       \u001b[0;32mreturn\u001b[0m \u001b[0mself\u001b[0m\u001b[0;34m.\u001b[0m\u001b[0m_numpy_internal\u001b[0m\u001b[0;34m(\u001b[0m\u001b[0;34m)\u001b[0m\u001b[0;34m\u001b[0m\u001b[0;34m\u001b[0m\u001b[0m\n\u001b[1;32m   1038\u001b[0m     \u001b[0;32mexcept\u001b[0m \u001b[0mcore\u001b[0m\u001b[0;34m.\u001b[0m\u001b[0m_NotOkStatusException\u001b[0m \u001b[0;32mas\u001b[0m \u001b[0me\u001b[0m\u001b[0;34m:\u001b[0m  \u001b[0;31m# pylint: disable=protected-access\u001b[0m\u001b[0;34m\u001b[0m\u001b[0;34m\u001b[0m\u001b[0m\n\u001b[0;32m-> 1039\u001b[0;31m       \u001b[0msix\u001b[0m\u001b[0;34m.\u001b[0m\u001b[0mraise_from\u001b[0m\u001b[0;34m(\u001b[0m\u001b[0mcore\u001b[0m\u001b[0;34m.\u001b[0m\u001b[0m_status_to_exception\u001b[0m\u001b[0;34m(\u001b[0m\u001b[0me\u001b[0m\u001b[0;34m.\u001b[0m\u001b[0mcode\u001b[0m\u001b[0;34m,\u001b[0m \u001b[0me\u001b[0m\u001b[0;34m.\u001b[0m\u001b[0mmessage\u001b[0m\u001b[0;34m)\u001b[0m\u001b[0;34m,\u001b[0m \u001b[0;32mNone\u001b[0m\u001b[0;34m)\u001b[0m  \u001b[0;31m# pylint: disable=protected-access\u001b[0m\u001b[0;34m\u001b[0m\u001b[0;34m\u001b[0m\u001b[0m\n\u001b[0m\u001b[1;32m   1040\u001b[0m \u001b[0;34m\u001b[0m\u001b[0m\n\u001b[1;32m   1041\u001b[0m   \u001b[0;34m@\u001b[0m\u001b[0mproperty\u001b[0m\u001b[0;34m\u001b[0m\u001b[0;34m\u001b[0m\u001b[0m\n",
      "\u001b[0;32m~/anaconda/lib/python3.8/site-packages/six.py\u001b[0m in \u001b[0;36mraise_from\u001b[0;34m(value, from_value)\u001b[0m\n",
      "\u001b[0;31mUnavailableError\u001b[0m: Socket closed\nAdditional GRPC error information from remote target /job:worker/replica:0/task:0:\n:{\"created\":\"@1617243730.211673429\",\"description\":\"Error received from peer ipv4:10.79.32.74:8470\",\"file\":\"external/com_github_grpc_grpc/src/core/lib/surface/call.cc\",\"file_line\":1056,\"grpc_message\":\"Socket closed\",\"grpc_status\":14}"
     ]
    }
   ],
   "source": [
    "print(\"Starting\", flush=True)\n",
    "check_setup_is_as_expected(strategy)\n",
    "console = rich.console.Console()\n",
    "vocab = tokenizer.get_vocab()\n",
    "inversed_vocab = {v: k for k, v in vocab.items()}\n",
    "print(\"Checked\", flush=True)\n",
    "\n",
    "\n",
    "\n",
    "for split in [\n",
    "  # \"eval\", \n",
    "  # \"test\", \n",
    "    \"train\"\n",
    "]:\n",
    "    ds_paths = splits_to_ds_paths[split]\n",
    "    ###########################################################################\n",
    "    # Build and Distribute the DS\n",
    "    ###########################################################################\n",
    "    print(\"Building DS\")\n",
    "    ds = build_dataset(\n",
    "        ds_paths, \n",
    "        context_window_size, \n",
    "        split, \n",
    "        len(tf_utils.devices_to_use())\n",
    "    )\n",
    "    \n",
    "    ds = ds.map(maybe_retrieve_and_merge[split])\n",
    "    dds = strategy.experimental_distribute_dataset(ds)\n",
    "    \n",
    "    print(\"Starting loop.\", flush=True)\n",
    "    for major, dist_items in enumerate(toolz.take(1 if _ACCEL_TYPE == \"TPU\" else 8, dds)):\n",
    "        \n",
    "        is_distributed = isinstance(dist_items[\"input_ids\"],  values.PerReplica)\n",
    "        utils.check_equal(is_distributed, isinstance(dist_items[\"label_ids\"],  values.PerReplica))\n",
    "        \n",
    "        print(\"inputs, labels loop\", flush=True)\n",
    "        for inputs, labels in zip(\n",
    "            dist_items[\"input_ids\"].values if is_distributed else [dist_items[\"input_ids\"]], \n",
    "            dist_items[\"label_ids\"].values if is_distributed else [dist_items[\"label_ids\"]]\n",
    "        ):\n",
    "            print(type(dist_items[\"input_ids\"]), flush=True)\n",
    "            utils.check_equal(inputs.shape[0], 1)\n",
    "            utils.check_equal(labels.shape[0], 1)\n",
    "            inputs = inputs[0]\n",
    "            labels = labels[0]\n",
    "            \n",
    "            # table = rich.table.Table(\"Type\", \"Value\", show_header=False, show_lines=True)\n",
    "            # table.add_row(f\"[bold]Inputs[/]\", format_output_text(filter_and_decode(tokenizer, inputs)))\n",
    "            # table.add_row(f\"[bold]Labels:[/]\", format_output_text(filter_and_decode(tokenizer, labels)))\n",
    "            # rich.jupyter.print(table)\n",
    "                        \n",
    "            table = rich.table.Table(show_header=False, show_lines=True)\n",
    "            for index, input_token, label_token in zip(\n",
    "                    list(map(str, range(context_window_size))),\n",
    "                    [inversed_vocab.get(x, f\"<< {x} >>\") for x in inputs.numpy().tolist()],\n",
    "                    [inversed_vocab.get(x, f\"<< {x} >>\") for x in labels.numpy().tolist()]\n",
    "                ):\n",
    "                table.add_row(index, input_token, label_token)\n",
    "\n",
    "            rich.jupyter.print(table)\n",
    "            \n",
    "\n",
    "print(\"done\")"
   ]
  },
  {
   "cell_type": "code",
   "execution_count": null,
   "id": "black-mortality",
   "metadata": {},
   "outputs": [],
   "source": []
  }
 ],
 "metadata": {
  "kernelspec": {
   "display_name": "Python 3",
   "language": "python",
   "name": "python3"
  },
  "language_info": {
   "codemirror_mode": {
    "name": "ipython",
    "version": 3
   },
   "file_extension": ".py",
   "mimetype": "text/x-python",
   "name": "python",
   "nbconvert_exporter": "python",
   "pygments_lexer": "ipython3",
   "version": "3.8.8"
  }
 },
 "nbformat": 4,
 "nbformat_minor": 5
}
