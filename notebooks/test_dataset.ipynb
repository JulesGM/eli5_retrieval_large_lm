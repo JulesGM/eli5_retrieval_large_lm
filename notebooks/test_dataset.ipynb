{
 "cells": [
  {
   "cell_type": "code",
   "execution_count": 1,
   "id": "overhead-facing",
   "metadata": {},
   "outputs": [
    {
     "name": "stdout",
     "output_type": "stream",
     "text": [
      "stdlib\n",
      "3rd party\n",
      "custom\n",
      "done\n"
     ]
    }
   ],
   "source": [
    "import collections\n",
    "import dataclasses\n",
    "import itertools\n",
    "import json\n",
    "import os\n",
    "import pathlib\n",
    "import shlex\n",
    "import socket\n",
    "import subprocess\n",
    "import sys\n",
    "from typing import *\n",
    "print(\"stdlib\", flush=True)\n",
    "\n",
    "import markdown_strings\n",
    "import numpy as np\n",
    "from IPython.display import display, Markdown, Latex\n",
    "import rich\n",
    "import rich.console\n",
    "import rich.markdown\n",
    "import rich.table\n",
    "import tensorflow.python.framework.ops as ops\n",
    "import tensorflow as tf\n",
    "import tensorflow.python.distribute.values as values\n",
    "import toolz\n",
    "import tqdm.notebook as tqdm\n",
    "import transformers\n",
    "print(\"3rd party\", flush=True)\n",
    "\n",
    "_PROJECT_DIRECTORY = pathlib.Path().resolve().parent\n",
    "sys.path.append(str(_PROJECT_DIRECTORY))\n",
    "import constants\n",
    "# import task_specific\n",
    "import tf_utils\n",
    "import utils\n",
    "print(\"custom\", flush=True)\n",
    "\n",
    "\n",
    "\n",
    "#------------------------------------------------------------------------------\n",
    "# Flags\n",
    "#------------------------------------------------------------------------------\n",
    "_MAX_QTY = None\n",
    "_MODEL_TYPE = \"distilgpt2\"\n",
    "_EXPECTED_SIZES = dict(train=272634, eval=1507, test=600)\n",
    "_NUM_PATHS_DISPLAY = 10\n",
    "_NUM_REPLICAS = 8\n",
    "_ACCEL_TYPE = \"TPU\"\n",
    "_ZONE = \"europe-west4-a\"\n",
    "_APPROACH_TYPE = \"cached_pretok\"\n",
    "\n",
    "print(\"done\")"
   ]
  },
  {
   "cell_type": "code",
   "execution_count": 2,
   "id": "entire-blind",
   "metadata": {},
   "outputs": [
    {
     "name": "stdout",
     "output_type": "stream",
     "text": [
      "done\n"
     ]
    }
   ],
   "source": [
    "def _tokenize_and_concat_while_loop(\n",
    "    all_retrieved_tokens,\n",
    "    indices,\n",
    "    num_retrieved,\n",
    "    batch_size,\n",
    "):\n",
    "  \"\"\"Tokenizes and puts together the retrievals, per batch unit.\"\"\"\n",
    "  def condition(\n",
    "      index,\n",
    "      _  # pylint: disable=unused-argument\n",
    "  ):\n",
    "    return tf.less(index, num_retrieved)\n",
    "\n",
    "  def body(\n",
    "      index,\n",
    "      concat_tokens,\n",
    "  ):\n",
    "\n",
    "    addition = tf.gather(all_retrieved_tokens, indices[:, index], batch_dims=1)\n",
    "\n",
    "    concat_tokens = tf.concat([\n",
    "        concat_tokens, addition\n",
    "    ], axis=1)\n",
    "\n",
    "    return index + 1, concat_tokens\n",
    "\n",
    "  if batch_size is None:\n",
    "    raise RuntimeError(\"batch_size is `None`. This should not happen.\")\n",
    "\n",
    "  return tf.while_loop(\n",
    "      condition, body, [\n",
    "          0, tf.RaggedTensor.from_tensor(\n",
    "              tf.zeros(\n",
    "                  shape=(batch_size, 0),\n",
    "                  dtype=tf.int32\n",
    "              ),\n",
    "          )\n",
    "      ])[1]\n",
    "\n",
    "\n",
    "def _prepare_samples_w_retrieval(\n",
    "    split,\n",
    "    batch_size,\n",
    "    question_ids_inputs,\n",
    "    answer_ids_inputs,\n",
    "    gpt2_tokenized_retrieved,\n",
    "    distances,\n",
    "    num_retrievals,\n",
    "    temperature,\n",
    "    context_size,\n",
    "    enable_debug_checks,\n",
    "    use_helper_words,\n",
    "    helper_word_token_ids,\n",
    "    max_generation_length\n",
    "):\n",
    "  \"\"\"Prepares the samples that use retrieval.\"\"\"\n",
    "  assert (split == constants.SplitChoices.test) == (\n",
    "      answer_ids_inputs is None\n",
    "  ), (split == constants.SplitChoices.test, answer_ids_inputs)\n",
    "  # If and only if\n",
    "\n",
    "  is_not_test = split != constants.SplitChoices.test\n",
    "\n",
    "  if not isinstance(question_ids_inputs, tf.RaggedTensor):\n",
    "    question_ids_inputs = tf.RaggedTensor.from_tensor(\n",
    "        question_ids_inputs,\n",
    "        padding=constants.RAGGED_PADDING_ID\n",
    "    )\n",
    "\n",
    "  if enable_debug_checks:\n",
    "    asserts = []\n",
    "    asserts.append(\n",
    "        tf.Assert(\n",
    "            tf.math.reduce_all(\n",
    "                question_ids_inputs != constants.RAGGED_PADDING_ID,\n",
    "            ),\n",
    "            [question_ids_inputs.to_tensor()]\n",
    "        )\n",
    "    )\n",
    "    if is_not_test:\n",
    "      asserts.append(\n",
    "          tf.Assert(\n",
    "              tf.math.reduce_all(\n",
    "                  answer_ids_inputs != constants.RAGGED_PADDING_ID,\n",
    "              ),\n",
    "              [answer_ids_inputs.to_tensor()]\n",
    "          )\n",
    "      )\n",
    "    with tf.control_dependencies(asserts):\n",
    "      question_ids_inputs = tf.identity(question_ids_inputs)\n",
    "\n",
    "  # These checks are at graph composition time, so OK\n",
    "  utils.check_isinstance(question_ids_inputs, tf.RaggedTensor)\n",
    "\n",
    "  if is_not_test:\n",
    "    utils.check_isinstance(answer_ids_inputs, tf.RaggedTensor)\n",
    "\n",
    "  ##############################################################################\n",
    "  # Sample from the possible retrievals\n",
    "  ##############################################################################\n",
    "  # Choose the indices\n",
    "  indices = tf_utils.sample_without_replacement(\n",
    "      distances / temperature, num_retrievals\n",
    "  )\n",
    "\n",
    "  # Concatenate the retrievals\n",
    "  concat_retrieved = _tokenize_and_concat_while_loop(\n",
    "      gpt2_tokenized_retrieved,\n",
    "      indices=indices,\n",
    "      batch_size=batch_size,\n",
    "      num_retrieved=num_retrievals,\n",
    "  )\n",
    "\n",
    "  # Add Context and Answer Helper Words\n",
    "  if use_helper_words:\n",
    "    concat_retrieved = tf.concat([\n",
    "        helper_word_token_ids[\"context\"],\n",
    "        concat_retrieved,\n",
    "    ], axis=1)\n",
    "\n",
    "  # Cut the lengths down to max_lens_retrieval.\n",
    "  # The eventual length of the [\"question\"] helper_tokens is included in\n",
    "  # question_ids_inputs.\n",
    "  if is_not_test:\n",
    "    max_lens_retrieval = (\n",
    "        context_size * tf.ones(\n",
    "            shape=(batch_size,),\n",
    "            dtype=tf.int64,\n",
    "        )\n",
    "        - (question_ids_inputs.row_lengths() +\n",
    "           # We always generate the same length of text.\n",
    "           max_generation_length +  # answer_ids_inputs.row_lengths() +\n",
    "           (helper_word_token_ids[\"answer\"].shape[1] if use_helper_words else 0)\n",
    "           )\n",
    "    )\n",
    "\n",
    "  else:\n",
    "    max_lens_retrieval = (\n",
    "        context_size * tf.ones(\n",
    "            shape=(batch_size,),\n",
    "            dtype=tf.int64,\n",
    "        ) - (question_ids_inputs.row_lengths()  +\n",
    "             max_generation_length +\n",
    "             (helper_word_token_ids[\"answer\"].shape[1]\n",
    "              if use_helper_words else 0\n",
    "              )\n",
    "             )\n",
    "    )\n",
    "\n",
    "  concat_retrieved = tf.ragged.boolean_mask(\n",
    "      concat_retrieved,\n",
    "      (\n",
    "          tf.ragged.range(concat_retrieved.row_lengths()) <\n",
    "          tf.expand_dims(max_lens_retrieval, axis=1)\n",
    "      )\n",
    "  )\n",
    "\n",
    "  if enable_debug_checks:\n",
    "    asserts = [\n",
    "        tf.Assert(\n",
    "            tf.math.reduce_all(max_lens_retrieval < context_size),\n",
    "            [max_lens_retrieval, context_size]\n",
    "        ),\n",
    "    ]\n",
    "    with tf.control_dependencies(asserts):\n",
    "      concat_retrieved = tf.identity(concat_retrieved)\n",
    "\n",
    "  if use_helper_words:\n",
    "    if is_not_test:\n",
    "      new_input_ids = tf.concat(\n",
    "          [question_ids_inputs,\n",
    "           concat_retrieved,\n",
    "           helper_word_token_ids[\"answer\"],\n",
    "           answer_ids_inputs\n",
    "           ],\n",
    "          axis=1\n",
    "      )\n",
    "      new_label_ids = tf.concat(\n",
    "          [-100 * tf.ones_like(question_ids_inputs),\n",
    "           -100 * tf.ones_like(concat_retrieved),\n",
    "           -100 * tf.ones_like(helper_word_token_ids[\"answer\"]),\n",
    "           answer_ids_inputs\n",
    "           ],\n",
    "          axis=1\n",
    "      )\n",
    "    else:\n",
    "      new_input_ids = tf.concat(\n",
    "          [question_ids_inputs,\n",
    "           concat_retrieved,\n",
    "           helper_word_token_ids[\"answer\"],\n",
    "           ],\n",
    "          axis=1\n",
    "      )\n",
    "  else:\n",
    "    if is_not_test:\n",
    "      new_input_ids = tf.concat(\n",
    "          [question_ids_inputs,\n",
    "           concat_retrieved,\n",
    "           answer_ids_inputs\n",
    "           ],\n",
    "          axis=1\n",
    "      )\n",
    "      new_label_ids = tf.concat(\n",
    "          [-100 * tf.ones_like(question_ids_inputs),\n",
    "           -100 * tf.ones_like(concat_retrieved),\n",
    "           answer_ids_inputs\n",
    "           ],\n",
    "          axis=1\n",
    "      )\n",
    "    else:\n",
    "      new_input_ids = tf.concat(\n",
    "          [question_ids_inputs,\n",
    "           concat_retrieved,\n",
    "           ],\n",
    "          axis=1\n",
    "      )\n",
    "  return new_input_ids, new_label_ids if is_not_test else None\n",
    "\n",
    "print(\"done\")"
   ]
  },
  {
   "cell_type": "code",
   "execution_count": 3,
   "id": "transsexual-transcript",
   "metadata": {},
   "outputs": [
    {
     "name": "stdout",
     "output_type": "stream",
     "text": [
      "done\n"
     ]
    }
   ],
   "source": [
    "def _make_maybe_retrieve_and_merge_fn(\n",
    "    *,\n",
    "    tokenizer,\n",
    "    context_size,\n",
    "    ds_split,\n",
    "    approach_type,  # FLAG_APPROACH_TYPE.value\n",
    "    use_helper_words,  # FLAG_USE_HELPER_WORDS\n",
    "    retriever,  # pylint: disable=unused-argument\n",
    "    temperature,\n",
    "    num_retrievals,\n",
    "    enable_debug_checks,\n",
    "    max_length_generation,\n",
    "    tf_function_kwargs = None,\n",
    "):\n",
    "  \"\"\"Build the `maybe_retrieve_and_merge` closure.\"\"\"\n",
    "  tf_function_kwargs = {} if tf_function_kwargs is None else tf_function_kwargs\n",
    "  not_test_split = ds_split != constants.SplitChoices.test\n",
    "\n",
    "#   @tf.function(**tf_function_kwargs)\n",
    "  def maybe_retrieve_and_merge(\n",
    "      batch,\n",
    "  ):\n",
    "    \"\"\"Retrieve if needed, then finalize the prep. for model consumption.\"\"\"\n",
    "\n",
    "    batch_size = tf.shape(batch[\n",
    "        constants.CTH5Fields.gpt2_question_ids_inputs\n",
    "    ])[0]\n",
    "\n",
    "    # Prepare the question ids inputs\n",
    "    question_ids_inputs = batch[constants.CTH5Fields.gpt2_question_ids_inputs]\n",
    "    question_ids_inputs = tf.RaggedTensor.from_tensor(\n",
    "        question_ids_inputs,\n",
    "        padding=constants.RAGGED_PADDING_ID\n",
    "    )\n",
    "\n",
    "    # Prepare the answer ids inputs\n",
    "    answer_ids_inputs = None\n",
    "    answer_ids_labels = None\n",
    "    if not_test_split:\n",
    "      answer_ids_inputs = batch[constants.CTH5Fields.gpt2_answer_ids_inputs]\n",
    "      answer_ids_inputs = tf.RaggedTensor.from_tensor(\n",
    "          answer_ids_inputs,\n",
    "          padding=constants.RAGGED_PADDING_ID\n",
    "      )\n",
    "      answer_ids_labels = answer_ids_inputs\n",
    "\n",
    "    ############################################################################\n",
    "    # Prepare the helper words\n",
    "    ############################################################################\n",
    "    helper_word_token_ids = None\n",
    "    if use_helper_words:\n",
    "\n",
    "      helper_text = {\n",
    "          \"question\": \"Question:\\n\",\n",
    "          \"context\": \"\\nContext:\\n\",\n",
    "          \"answer\": \"\\nAnswer:\\n\"\n",
    "      }\n",
    "\n",
    "      helper_word_token_ids = {}\n",
    "      for k in helper_text:\n",
    "        ids = tf.constant(tokenizer.encode(helper_text[k]), dtype=tf.int32)\n",
    "        ids = tf.repeat(tf.expand_dims(ids, 0), batch_size, axis=0)\n",
    "        helper_word_token_ids[k] = ids\n",
    "      question_ids_inputs = tf.concat(\n",
    "          [helper_word_token_ids[\"question\"], question_ids_inputs],\n",
    "          axis=1\n",
    "      )\n",
    "\n",
    "    ##########################################################################\n",
    "    # Cached Retrievals.\n",
    "    ##########################################################################\n",
    "    label_ids = None\n",
    "    if approach_type == constants.ApproachTypeChoices.cached_pretok:\n",
    "      bpe_indices_gpt2 = batch[constants.CTH5Fields.gpt2_retrieved_ids]\n",
    "      bpe_indices_gpt2 = tf.RaggedTensor.from_tensor(\n",
    "          bpe_indices_gpt2,\n",
    "          ragged_rank=2,\n",
    "          padding=constants.RAGGED_PADDING_ID\n",
    "      )\n",
    "\n",
    "      distances = batch[constants.CTH5Fields.distances]\n",
    "      input_ids, label_ids = _prepare_samples_w_retrieval(\n",
    "          split=ds_split,\n",
    "          batch_size=batch_size,\n",
    "          question_ids_inputs=question_ids_inputs,\n",
    "          answer_ids_inputs=(\n",
    "              answer_ids_inputs if not_test_split else None\n",
    "          ),\n",
    "          gpt2_tokenized_retrieved=bpe_indices_gpt2,\n",
    "          num_retrievals=num_retrievals,\n",
    "          temperature=temperature,\n",
    "          context_size=context_size,\n",
    "          enable_debug_checks=enable_debug_checks,\n",
    "          distances=distances,\n",
    "          max_generation_length=max_length_generation,\n",
    "          helper_word_token_ids=(\n",
    "              helper_word_token_ids if use_helper_words else None\n",
    "          ),\n",
    "          use_helper_words=use_helper_words,\n",
    "      )\n",
    "\n",
    "    elif approach_type == constants.ApproachTypeChoices.naked_lm:\n",
    "      ##########################################################################\n",
    "      # Without Retrievals\n",
    "      ##########################################################################\n",
    "      if use_helper_words:\n",
    "        question_ids_inputs = tf.concat([\n",
    "            question_ids_inputs,\n",
    "            helper_word_token_ids[\"answer\"],\n",
    "        ], axis=1)\n",
    "\n",
    "      question_ids_labels = tf.ones_like(\n",
    "          question_ids_inputs\n",
    "      ) * constants.PPL_MASK_ID\n",
    "\n",
    "      if not_test_split:\n",
    "        input_ids = tf.concat((question_ids_inputs, answer_ids_inputs),\n",
    "                              axis=1)\n",
    "        label_ids = tf.concat((question_ids_labels, answer_ids_labels),\n",
    "                              axis=1)\n",
    "      else:\n",
    "        input_ids = question_ids_inputs\n",
    "    else:\n",
    "      raise RuntimeError(\"Unnsupported approach_type value\"\n",
    "                         f\" {approach_type}\")\n",
    "\n",
    "    ############################################################################\n",
    "    # Finalize the preparation\n",
    "    ############################################################################\n",
    "    # Convert to dense tensors\n",
    "    input_ids = input_ids.to_tensor(tokenizer.eos_token_id)\n",
    "\n",
    "    if not_test_split:\n",
    "      final_eos = tf.RaggedTensor.from_tensor(\n",
    "          tokenizer.eos_token_id * tf.ones([batch_size, 1], dtype=tf.int32)\n",
    "      )\n",
    "      label_ids = tf.concat([label_ids, final_eos], axis=1)\n",
    "      label_ids = label_ids.to_tensor(constants.PPL_MASK_ID)\n",
    "\n",
    "    # All samples need to have at least one token != -100 (PPL_MASK_ID)\n",
    "    if enable_debug_checks and not_test_split:\n",
    "      not_any_padding = tf.reduce_any(\n",
    "          label_ids != constants.PPL_MASK_ID, axis=1\n",
    "      )\n",
    "      none_has_padding = tf.math.reduce_all(\n",
    "          not_any_padding\n",
    "      )\n",
    "      qty_doesnt_have_padding = tf.reduce_sum(\n",
    "          tf.cast(not_any_padding))\n",
    "\n",
    "      check_no_padding = tf.Assert(\n",
    "          none_has_padding,\n",
    "          [qty_doesnt_have_padding]\n",
    "      )\n",
    "      with tf.control_dependencies([check_no_padding]):\n",
    "        label_ids = tf.identity(label_ids)\n",
    "\n",
    "    # Limit size\n",
    "    input_ids = input_ids[:, :context_size]\n",
    "    if not_test_split:\n",
    "      label_ids = label_ids[:, :context_size]\n",
    "\n",
    "    ############################################################################\n",
    "    # Pad `input_ids` and `label_ids` to context_size\n",
    "    ############################################################################\n",
    "    # Prepare the ones\n",
    "    pad_qty = tf.math.maximum(\n",
    "        0, tf.constant(context_size) - tf.shape(input_ids)[1]\n",
    "    )\n",
    "    padding_ones = tf.ones(\n",
    "        [batch_size, pad_qty],\n",
    "        dtype=input_ids.dtype\n",
    "    )\n",
    "    # Pad the inputs\n",
    "    input_padding = tokenizer.eos_token_id * padding_ones\n",
    "    input_ids = tf.concat((input_ids, input_padding), axis=1)\n",
    "\n",
    "    # Pad the labels labels\n",
    "    if not_test_split:\n",
    "      pad_qty = tf.math.maximum(\n",
    "          0, tf.constant(context_size) - tf.shape(label_ids)[1]\n",
    "      )\n",
    "      padding_ones = tf.ones(\n",
    "          [batch_size, pad_qty],\n",
    "          dtype=input_ids.dtype\n",
    "      )\n",
    "      label_padding = -100 * padding_ones\n",
    "      label_ids = tf.concat((label_ids, label_padding), axis=1)\n",
    "\n",
    "    # Make checks\n",
    "    if enable_debug_checks:\n",
    "      control_dependencies = []\n",
    "      control_dependencies.append(tf.Assert(\n",
    "          tf.math.reduce_all(input_ids != -1),\n",
    "          [input_ids],\n",
    "          name=\"NoMinusOnesInputs\"\n",
    "      ))\n",
    "      if not_test_split:\n",
    "        control_dependencies.append(tf.Assert(\n",
    "            tf.math.reduce_all(label_ids != -1),\n",
    "            [label_ids],\n",
    "            name=\"NoMinusOnesLabel\"\n",
    "        ))\n",
    "        control_dependencies.append(tf.Assert(\n",
    "            tf.logical_not(\n",
    "                tf.math.reduce_any(\n",
    "                    tf.math.reduce_all(label_ids != -100, axis=1)\n",
    "                )\n",
    "            ),\n",
    "            [label_ids],\n",
    "            name=\"NotAllMinusOneHundred\"\n",
    "        ))\n",
    "      with tf.control_dependencies(control_dependencies):\n",
    "        input_ids = tf.identity(input_ids)\n",
    "\n",
    "    return dict(\n",
    "        input_ids=input_ids,\n",
    "        label_ids=label_ids if not_test_split else None\n",
    "    )\n",
    "\n",
    "  return maybe_retrieve_and_merge\n",
    "\n",
    "print(\"done\")"
   ]
  },
  {
   "cell_type": "code",
   "execution_count": 4,
   "id": "posted-advance",
   "metadata": {},
   "outputs": [
    {
     "name": "stdout",
     "output_type": "stream",
     "text": [
      "done\n"
     ]
    }
   ],
   "source": [
    "def normal(text, escape=False):\n",
    "    if escape:\n",
    "        text = markdown_strings.esc_format(text)\n",
    "    display(Markdown(text))\n",
    "\n",
    "    \n",
    "def h1(text, escape=False):\n",
    "    if escape:\n",
    "        text = markdown_strings.esc_format(text)\n",
    "    display(Markdown(f\"# {text}\"))\n",
    "    \n",
    "    \n",
    "def h2(text, escape=False):\n",
    "    if escape:\n",
    "        text = markdown_strings.esc_format(text)\n",
    "    display(Markdown(f\"#### {text}\"))\n",
    "    \n",
    "    \n",
    "def quote(text, escape=True):\n",
    "    if escape:\n",
    "        text = markdown_strings.esc_format(text)\n",
    "    display(Markdown(markdown_strings.blockquote(text)))\n",
    "    \n",
    "    \n",
    "def build_split_to_ds_paths(project_directory, num_paths_display):\n",
    "    h1(\"Getting filenames.\")\n",
    "    h2(\"Loading json config.\")\n",
    "    config_path = project_directory/\"configs\"/\"train_configs\"/\"tpu_gpt2_eli5_kilt.json\"\n",
    "    config = utils.from_json_file(config_path)\n",
    "    \n",
    "    h2(\"Calling `gsutil ls` on the dataset repo.\")\n",
    "    ds_path = config[\"tfr_prefix\"]\n",
    "    filenames = subprocess.check_output(f\"gsutil ls {ds_path}\", shell=True).decode().strip().split(\"\\n\")\n",
    "\n",
    "    h2(\"Printing a few paths:\")\n",
    "    normal(f\"There are actually {len(filenames)}.\")\n",
    "    normal(\" - \" + \"\\n - \".join(filenames[:num_paths_display]))\n",
    "    \n",
    "    h1(\"Building the `per_split` Path dict.\")\n",
    "    per_split = collections.defaultdict(list)\n",
    "    for path in tqdm.tqdm(filenames, desc=\"Building `per_split` dict.\"):\n",
    "        split = pathlib.Path(path).name.split(\"_\")[0]\n",
    "        per_split[split].append(path)\n",
    "\n",
    "    normal(\"Sorting the `per_split` lists.\")\n",
    "    for split in per_split:\n",
    "        # Ad-hoc split per file index\n",
    "        per_split[split].sort(key=lambda p: int(pathlib.Path(p).name.split(\"_\")[1].split(\".\")[0]))\n",
    "\n",
    "    normal(\"Len per split for the per_split dict:\")\n",
    "    \n",
    "    print({split: len(per_split[split]) for split in per_split})\n",
    "    \n",
    "    return per_split\n",
    "\n",
    "\n",
    "def build_dataset(paths, context_window_size, split, batch_size):\n",
    "    ds = tf.data.TFRecordDataset(paths)\n",
    "    description = {\n",
    "      constants.CTH5Fields.distances:\n",
    "          tf.io.FixedLenFeature((), tf.string),\n",
    "      constants.CTH5Fields.gpt2_retrieved_ids:\n",
    "          tf.io.FixedLenFeature((), tf.string),\n",
    "      constants.CTH5Fields.gpt2_question_ids_inputs:\n",
    "          tf.io.FixedLenFeature((), tf.string),\n",
    "    }\n",
    "    if split != constants.SplitChoices.test:\n",
    "        description[\n",
    "            constants.CTH5Fields.gpt2_answer_ids_inputs\n",
    "        ] = tf.io.FixedLenFeature((), tf.string)\n",
    "\n",
    "    feature_dtypes = {\n",
    "      constants.CTH5Fields.distances:\n",
    "          tf.float32,\n",
    "      constants.CTH5Fields.gpt2_retrieved_ids:\n",
    "          tf.int32,\n",
    "      constants.CTH5Fields.gpt2_question_ids_inputs:\n",
    "          tf.int32,\n",
    "    }\n",
    "    if split != constants.SplitChoices.test:\n",
    "        feature_dtypes[\n",
    "            constants.CTH5Fields.gpt2_answer_ids_inputs\n",
    "        ] = tf.int32\n",
    "\n",
    "    feature_shape = {\n",
    "      constants.CTH5Fields.distances:\n",
    "          (10,),\n",
    "      constants.CTH5Fields.gpt2_retrieved_ids:\n",
    "          (10, context_window_size,),\n",
    "      constants.CTH5Fields.gpt2_question_ids_inputs:\n",
    "          (context_window_size,),\n",
    "    }\n",
    "    if split != constants.SplitChoices.test:\n",
    "        feature_shape[constants.CTH5Fields.gpt2_answer_ids_inputs] = (\n",
    "            context_window_size\n",
    "        )\n",
    "\n",
    "    @tf.function\n",
    "    def parse(sample):\n",
    "        example = tf.io.parse_single_example(sample, description)\n",
    "        output = {}\n",
    "        for k, v in example.items():\n",
    "            output[k] = tf.io.parse_tensor(v, out_type=feature_dtypes[k])\n",
    "            output[k].set_shape(feature_shape[k])\n",
    "        return output\n",
    "\n",
    "    ds = ds.map(\n",
    "      parse,\n",
    "      num_parallel_calls=tf.data.experimental.AUTOTUNE,\n",
    "      deterministic=False\n",
    "      )\n",
    "    \n",
    "    ds = ds.batch(\n",
    "      batch_size,\n",
    "      drop_remainder=split != constants.SplitChoices.test\n",
    "      )\n",
    "\n",
    "    return ds\n",
    "\n",
    "\n",
    "def decode_line(tokenizer, line):\n",
    "    return tokenizer.decode([x for x in line if x >= 0])\n",
    "\n",
    "\n",
    "def is_all_neg(tensor):\n",
    "    if not isinstance(tensor, (np.ndarray, tf.Tensor, ops.EagerTensor)):\n",
    "        return all([x < 0 for x in tensor])\n",
    "    else:\n",
    "        return np.all(tensor < 0)\n",
    "    \n",
    "    \n",
    "def check_and_decode(feature_key, item, tokenizer):\n",
    "    feature = item[feature_key]\n",
    "    all_neg = is_all_neg(feature)\n",
    "    assert not all_neg, feature_key\n",
    "    return decode_line(tokenizer, feature)\n",
    "    \n",
    "    \n",
    "def display_item(major, minor, max_minor, tokenizer, item, split):    \n",
    "    item = vars(item)\n",
    "    ##################################################################################################################\n",
    "    # Produce information\n",
    "    ##################################################################################################################\n",
    "    question = check_and_decode(\n",
    "        constants.CTH5Fields.gpt2_question_ids_inputs,\n",
    "        item,\n",
    "        tokenizer\n",
    "    )\n",
    "    \n",
    "    answer = None\n",
    "    if split != \"test\":\n",
    "        feature_key = constants.CTH5Fields.gpt2_answer_ids_inputs\n",
    "        feature = item[feature_key]\n",
    "        answer = check_and_decode(feature_key, item, tokenizer)\n",
    "\n",
    "    retrieved_segments = []\n",
    "    for line in item[constants.CTH5Fields.gpt2_retrieved_ids]:\n",
    "        retrieved_segments.append(decode_line(tokenizer, line))\n",
    "\n",
    "    ##################################################################################################################\n",
    "    # Display\n",
    "    ##################################################################################################################\n",
    "    console = rich.console.Console()\n",
    "    table = rich.table.Table(title=f\"{major}:[{minor}/{max_minor}] - Item from split `{split}`\", show_lines=True)\n",
    "    table.add_column(\"Field\", style=\"bold\")\n",
    "    table.add_column(\"Value\")\n",
    "    table.add_row(\"Question:\", question)\n",
    "    for i, segment in enumerate(retrieved_segments):\n",
    "        table.add_row(f\"Retrieved segment {i}:\", segment)\n",
    "\n",
    "    if answer:\n",
    "        table.add_row(\"Answer:\", answer)\n",
    "    \n",
    "    console.print(table)\n",
    "    \n",
    "    \n",
    "\n",
    "def check_all_unique(iterable):\n",
    "    \"\"\"Memory and computation scale in O(N) with N = len(iterable). \"\"\"\n",
    "    \n",
    "    iter_count = 0\n",
    "    set_ = set()\n",
    "    \n",
    "    for item in iterable:\n",
    "        iter_count += 1\n",
    "        set_.add(item) \n",
    "    \n",
    "    utils.check_equal(iter_count, len(set_))\n",
    "\n",
    "    \n",
    "\n",
    "def check_still_got_tpus():\n",
    "    tpu_name = socket.gethostname()\n",
    "    instance_count = subprocess.check_output(\n",
    "        f\"gcloud compute tpus list --zone {shlex.quote(_ZONE)} \"\n",
    "        f\"| grep {shlex.quote(tpu_name)} | wc -l\", shell=True\n",
    "    ).decode().strip()\n",
    "    assert instance_count == \"1\", (\n",
    "        f\"instance count: {instance_count}\"\n",
    "    )\n",
    "    \n",
    "    \n",
    "    \n",
    "def check_setup_is_as_expected(strategy):\n",
    "    if _ACCEL_TYPE == \"TPU\":\n",
    "        assert tf_utils.devices_to_use()[0].device_type == \"TPU\", (\n",
    "        f_utils.devices_to_use()[0].device_type\n",
    "        )\n",
    "        assert isinstance(strategy, tf.distribute.TPUStrategy), (\n",
    "            strategy\n",
    "        )\n",
    "        check_still_got_tpus()\n",
    "    elif _ACCEL_TYPE == \"CPU\":\n",
    "        pass\n",
    "    else:\n",
    "        raise ValueError(_ACCEL_TYPE)\n",
    "    \n",
    "    rich.print(f\"[blue] < Things are good : {_ACCEL_TYPE} > [/]\")\n",
    "    \n",
    "    \n",
    "    \n",
    "@dataclasses.dataclass\n",
    "class Sample:\n",
    "    distances: tf.Tensor\n",
    "    gpt2_answer_ids: tf.Tensor\n",
    "    gpt2_question_ids: tf.Tensor\n",
    "    gpt2_retrieved_ids: tf.Tensor\n",
    "\n",
    "        \n",
    "print(\"done\")"
   ]
  },
  {
   "cell_type": "code",
   "execution_count": 5,
   "id": "knowing-period",
   "metadata": {},
   "outputs": [
    {
     "name": "stderr",
     "output_type": "stream",
     "text": [
      "INFO:absl:Entering into master device scope: /job:worker/replica:0/task:0/device:CPU:0\n"
     ]
    },
    {
     "name": "stdout",
     "output_type": "stream",
     "text": [
      "INFO:tensorflow:Initializing the TPU system: jules\n"
     ]
    },
    {
     "name": "stderr",
     "output_type": "stream",
     "text": [
      "INFO:tensorflow:Initializing the TPU system: jules\n"
     ]
    },
    {
     "name": "stdout",
     "output_type": "stream",
     "text": [
      "INFO:tensorflow:Clearing out eager caches\n"
     ]
    },
    {
     "name": "stderr",
     "output_type": "stream",
     "text": [
      "INFO:tensorflow:Clearing out eager caches\n"
     ]
    },
    {
     "name": "stdout",
     "output_type": "stream",
     "text": [
      "INFO:tensorflow:Finished initializing TPU system.\n"
     ]
    },
    {
     "name": "stderr",
     "output_type": "stream",
     "text": [
      "INFO:tensorflow:Finished initializing TPU system.\n"
     ]
    },
    {
     "name": "stdout",
     "output_type": "stream",
     "text": [
      "INFO:tensorflow:Found TPU system:\n"
     ]
    },
    {
     "name": "stderr",
     "output_type": "stream",
     "text": [
      "INFO:tensorflow:Found TPU system:\n"
     ]
    },
    {
     "name": "stdout",
     "output_type": "stream",
     "text": [
      "INFO:tensorflow:*** Num TPU Cores: 8\n"
     ]
    },
    {
     "name": "stderr",
     "output_type": "stream",
     "text": [
      "INFO:tensorflow:*** Num TPU Cores: 8\n"
     ]
    },
    {
     "name": "stdout",
     "output_type": "stream",
     "text": [
      "INFO:tensorflow:*** Num TPU Workers: 1\n"
     ]
    },
    {
     "name": "stderr",
     "output_type": "stream",
     "text": [
      "INFO:tensorflow:*** Num TPU Workers: 1\n"
     ]
    },
    {
     "name": "stdout",
     "output_type": "stream",
     "text": [
      "INFO:tensorflow:*** Num TPU Cores Per Worker: 8\n"
     ]
    },
    {
     "name": "stderr",
     "output_type": "stream",
     "text": [
      "INFO:tensorflow:*** Num TPU Cores Per Worker: 8\n"
     ]
    },
    {
     "name": "stdout",
     "output_type": "stream",
     "text": [
      "INFO:tensorflow:*** Available Device: _DeviceAttributes(/job:localhost/replica:0/task:0/device:CPU:0, CPU, 0, 0)\n"
     ]
    },
    {
     "name": "stderr",
     "output_type": "stream",
     "text": [
      "INFO:tensorflow:*** Available Device: _DeviceAttributes(/job:localhost/replica:0/task:0/device:CPU:0, CPU, 0, 0)\n"
     ]
    },
    {
     "name": "stdout",
     "output_type": "stream",
     "text": [
      "INFO:tensorflow:*** Available Device: _DeviceAttributes(/job:worker/replica:0/task:0/device:CPU:0, CPU, 0, 0)\n"
     ]
    },
    {
     "name": "stderr",
     "output_type": "stream",
     "text": [
      "INFO:tensorflow:*** Available Device: _DeviceAttributes(/job:worker/replica:0/task:0/device:CPU:0, CPU, 0, 0)\n"
     ]
    },
    {
     "name": "stdout",
     "output_type": "stream",
     "text": [
      "INFO:tensorflow:*** Available Device: _DeviceAttributes(/job:worker/replica:0/task:0/device:TPU:0, TPU, 0, 0)\n"
     ]
    },
    {
     "name": "stderr",
     "output_type": "stream",
     "text": [
      "INFO:tensorflow:*** Available Device: _DeviceAttributes(/job:worker/replica:0/task:0/device:TPU:0, TPU, 0, 0)\n"
     ]
    },
    {
     "name": "stdout",
     "output_type": "stream",
     "text": [
      "INFO:tensorflow:*** Available Device: _DeviceAttributes(/job:worker/replica:0/task:0/device:TPU:1, TPU, 0, 0)\n"
     ]
    },
    {
     "name": "stderr",
     "output_type": "stream",
     "text": [
      "INFO:tensorflow:*** Available Device: _DeviceAttributes(/job:worker/replica:0/task:0/device:TPU:1, TPU, 0, 0)\n"
     ]
    },
    {
     "name": "stdout",
     "output_type": "stream",
     "text": [
      "INFO:tensorflow:*** Available Device: _DeviceAttributes(/job:worker/replica:0/task:0/device:TPU:2, TPU, 0, 0)\n"
     ]
    },
    {
     "name": "stderr",
     "output_type": "stream",
     "text": [
      "INFO:tensorflow:*** Available Device: _DeviceAttributes(/job:worker/replica:0/task:0/device:TPU:2, TPU, 0, 0)\n"
     ]
    },
    {
     "name": "stdout",
     "output_type": "stream",
     "text": [
      "INFO:tensorflow:*** Available Device: _DeviceAttributes(/job:worker/replica:0/task:0/device:TPU:3, TPU, 0, 0)\n"
     ]
    },
    {
     "name": "stderr",
     "output_type": "stream",
     "text": [
      "INFO:tensorflow:*** Available Device: _DeviceAttributes(/job:worker/replica:0/task:0/device:TPU:3, TPU, 0, 0)\n"
     ]
    },
    {
     "name": "stdout",
     "output_type": "stream",
     "text": [
      "INFO:tensorflow:*** Available Device: _DeviceAttributes(/job:worker/replica:0/task:0/device:TPU:4, TPU, 0, 0)\n"
     ]
    },
    {
     "name": "stderr",
     "output_type": "stream",
     "text": [
      "INFO:tensorflow:*** Available Device: _DeviceAttributes(/job:worker/replica:0/task:0/device:TPU:4, TPU, 0, 0)\n"
     ]
    },
    {
     "name": "stdout",
     "output_type": "stream",
     "text": [
      "INFO:tensorflow:*** Available Device: _DeviceAttributes(/job:worker/replica:0/task:0/device:TPU:5, TPU, 0, 0)\n"
     ]
    },
    {
     "name": "stderr",
     "output_type": "stream",
     "text": [
      "INFO:tensorflow:*** Available Device: _DeviceAttributes(/job:worker/replica:0/task:0/device:TPU:5, TPU, 0, 0)\n"
     ]
    },
    {
     "name": "stdout",
     "output_type": "stream",
     "text": [
      "INFO:tensorflow:*** Available Device: _DeviceAttributes(/job:worker/replica:0/task:0/device:TPU:6, TPU, 0, 0)\n"
     ]
    },
    {
     "name": "stderr",
     "output_type": "stream",
     "text": [
      "INFO:tensorflow:*** Available Device: _DeviceAttributes(/job:worker/replica:0/task:0/device:TPU:6, TPU, 0, 0)\n"
     ]
    },
    {
     "name": "stdout",
     "output_type": "stream",
     "text": [
      "INFO:tensorflow:*** Available Device: _DeviceAttributes(/job:worker/replica:0/task:0/device:TPU:7, TPU, 0, 0)\n"
     ]
    },
    {
     "name": "stderr",
     "output_type": "stream",
     "text": [
      "INFO:tensorflow:*** Available Device: _DeviceAttributes(/job:worker/replica:0/task:0/device:TPU:7, TPU, 0, 0)\n"
     ]
    },
    {
     "name": "stdout",
     "output_type": "stream",
     "text": [
      "INFO:tensorflow:*** Available Device: _DeviceAttributes(/job:worker/replica:0/task:0/device:TPU_SYSTEM:0, TPU_SYSTEM, 0, 0)\n"
     ]
    },
    {
     "name": "stderr",
     "output_type": "stream",
     "text": [
      "INFO:tensorflow:*** Available Device: _DeviceAttributes(/job:worker/replica:0/task:0/device:TPU_SYSTEM:0, TPU_SYSTEM, 0, 0)\n"
     ]
    },
    {
     "name": "stdout",
     "output_type": "stream",
     "text": [
      "INFO:tensorflow:*** Available Device: _DeviceAttributes(/job:worker/replica:0/task:0/device:XLA_CPU:0, XLA_CPU, 0, 0)\n"
     ]
    },
    {
     "name": "stderr",
     "output_type": "stream",
     "text": [
      "INFO:tensorflow:*** Available Device: _DeviceAttributes(/job:worker/replica:0/task:0/device:XLA_CPU:0, XLA_CPU, 0, 0)\n"
     ]
    },
    {
     "data": {
      "text/markdown": [
       "# Getting filenames."
      ],
      "text/plain": [
       "<IPython.core.display.Markdown object>"
      ]
     },
     "metadata": {},
     "output_type": "display_data"
    },
    {
     "data": {
      "text/markdown": [
       "#### Loading json config."
      ],
      "text/plain": [
       "<IPython.core.display.Markdown object>"
      ]
     },
     "metadata": {},
     "output_type": "display_data"
    },
    {
     "data": {
      "text/markdown": [
       "#### Calling `gsutil ls` on the dataset repo."
      ],
      "text/plain": [
       "<IPython.core.display.Markdown object>"
      ]
     },
     "metadata": {},
     "output_type": "display_data"
    },
    {
     "data": {
      "text/markdown": [
       "#### Printing a few paths:"
      ],
      "text/plain": [
       "<IPython.core.display.Markdown object>"
      ]
     },
     "metadata": {},
     "output_type": "display_data"
    },
    {
     "data": {
      "text/markdown": [
       "There are actually 8192."
      ],
      "text/plain": [
       "<IPython.core.display.Markdown object>"
      ]
     },
     "metadata": {},
     "output_type": "display_data"
    },
    {
     "data": {
      "text/markdown": [
       " - gs://julesgm-research-v3/tfrecord_query_cache/20210225-191356/eval_0.tfr\n",
       " - gs://julesgm-research-v3/tfrecord_query_cache/20210225-191356/eval_1.tfr\n",
       " - gs://julesgm-research-v3/tfrecord_query_cache/20210225-191356/eval_10.tfr\n",
       " - gs://julesgm-research-v3/tfrecord_query_cache/20210225-191356/eval_100.tfr\n",
       " - gs://julesgm-research-v3/tfrecord_query_cache/20210225-191356/eval_1000.tfr\n",
       " - gs://julesgm-research-v3/tfrecord_query_cache/20210225-191356/eval_1001.tfr\n",
       " - gs://julesgm-research-v3/tfrecord_query_cache/20210225-191356/eval_1002.tfr\n",
       " - gs://julesgm-research-v3/tfrecord_query_cache/20210225-191356/eval_1003.tfr\n",
       " - gs://julesgm-research-v3/tfrecord_query_cache/20210225-191356/eval_1004.tfr\n",
       " - gs://julesgm-research-v3/tfrecord_query_cache/20210225-191356/eval_1005.tfr"
      ],
      "text/plain": [
       "<IPython.core.display.Markdown object>"
      ]
     },
     "metadata": {},
     "output_type": "display_data"
    },
    {
     "data": {
      "text/markdown": [
       "# Building the `per_split` Path dict."
      ],
      "text/plain": [
       "<IPython.core.display.Markdown object>"
      ]
     },
     "metadata": {},
     "output_type": "display_data"
    },
    {
     "data": {
      "application/vnd.jupyter.widget-view+json": {
       "model_id": "3d8a8b7590d942acae234a0ba86f8ac3",
       "version_major": 2,
       "version_minor": 0
      },
      "text/plain": [
       "HBox(children=(FloatProgress(value=0.0, description='Building `per_split` dict.', max=8192.0, style=ProgressSt…"
      ]
     },
     "metadata": {},
     "output_type": "display_data"
    },
    {
     "name": "stdout",
     "output_type": "stream",
     "text": [
      "\n"
     ]
    },
    {
     "data": {
      "text/markdown": [
       "Sorting the `per_split` lists."
      ],
      "text/plain": [
       "<IPython.core.display.Markdown object>"
      ]
     },
     "metadata": {},
     "output_type": "display_data"
    },
    {
     "data": {
      "text/markdown": [
       "Len per split for the per_split dict:"
      ],
      "text/plain": [
       "<IPython.core.display.Markdown object>"
      ]
     },
     "metadata": {},
     "output_type": "display_data"
    },
    {
     "name": "stdout",
     "output_type": "stream",
     "text": [
      "{'eval': 2048, 'test': 2048, 'train': 2048, 'validation': 2048}\n",
      "Making sure all paths are unique\n",
      "eval\n"
     ]
    },
    {
     "data": {
      "application/vnd.jupyter.widget-view+json": {
       "model_id": "1c13a3154851484998a367d3254aa1b1",
       "version_major": 2,
       "version_minor": 0
      },
      "text/plain": [
       "HBox(children=(FloatProgress(value=0.0, max=2048.0), HTML(value='')))"
      ]
     },
     "metadata": {},
     "output_type": "display_data"
    },
    {
     "name": "stdout",
     "output_type": "stream",
     "text": [
      "\n",
      "test\n"
     ]
    },
    {
     "data": {
      "application/vnd.jupyter.widget-view+json": {
       "model_id": "5d7510dd8ea54675aa3fab763ca7e4da",
       "version_major": 2,
       "version_minor": 0
      },
      "text/plain": [
       "HBox(children=(FloatProgress(value=0.0, max=2048.0), HTML(value='')))"
      ]
     },
     "metadata": {},
     "output_type": "display_data"
    },
    {
     "name": "stdout",
     "output_type": "stream",
     "text": [
      "\n",
      "train\n"
     ]
    },
    {
     "data": {
      "application/vnd.jupyter.widget-view+json": {
       "model_id": "1b3c7d7b151a4e5cafac7674a26d74f6",
       "version_major": 2,
       "version_minor": 0
      },
      "text/plain": [
       "HBox(children=(FloatProgress(value=0.0, max=2048.0), HTML(value='')))"
      ]
     },
     "metadata": {},
     "output_type": "display_data"
    },
    {
     "name": "stdout",
     "output_type": "stream",
     "text": [
      "\n",
      "validation\n"
     ]
    },
    {
     "data": {
      "application/vnd.jupyter.widget-view+json": {
       "model_id": "2a3d64c1350f445bb014435355428e66",
       "version_major": 2,
       "version_minor": 0
      },
      "text/plain": [
       "HBox(children=(FloatProgress(value=0.0, max=2048.0), HTML(value='')))"
      ]
     },
     "metadata": {},
     "output_type": "display_data"
    },
    {
     "name": "stdout",
     "output_type": "stream",
     "text": [
      "\n",
      "done\n"
     ]
    }
   ],
   "source": [
    "###############################################################################\n",
    "# Long configuration stuff\n",
    "###############################################################################\n",
    "\n",
    "    \n",
    "#------------------------------------------------------------------------------\n",
    "# TPU Stuff\n",
    "#------------------------------------------------------------------------------\n",
    "if _ACCEL_TYPE == \"TPU\":\n",
    "    tpu_name = socket.gethostname()\n",
    "    check_still_got_tpus()\n",
    "    tpu_setup = tf_utils.init_tpus(socket.gethostname())\n",
    "    utils.check_equal(tf_utils.devices_to_use()[0].device_type, \"TPU\")\n",
    "    utils.check_equal(len(tf_utils.devices_to_use()), 8)\n",
    "    strategy = tf.distribute.TPUStrategy(tpu_setup.resolver)\n",
    "    \n",
    "elif _ACCEL_TYPE == \"CPU\":\n",
    "    device = tf_utils.devices_to_use()[0]\n",
    "    utils.check_equal(len(tf_utils.devices_to_use()), 1)\n",
    "    utils.check_equal(device.device_type, \"CPU\")\n",
    "    strategy = tf.distribute.OneDeviceStrategy(device)\n",
    "    \n",
    "else:\n",
    "    raise RuntimeError(_ACCEL_TYPE)\n",
    "    \n",
    "    \n",
    "#------------------------------------------------------------------------------\n",
    "# Huggingface Stuff\n",
    "#------------------------------------------------------------------------------\n",
    "model_config = transformers.AutoConfig.from_pretrained(_MODEL_TYPE)\n",
    "tokenizer = transformers.GPT2TokenizerFast.from_pretrained(_MODEL_TYPE)\n",
    "splits_to_ds_paths = build_split_to_ds_paths(_PROJECT_DIRECTORY, _NUM_PATHS_DISPLAY)\n",
    "print(\"Making sure all paths are unique\")\n",
    "for k, v in splits_to_ds_paths.items():\n",
    "    print(k)\n",
    "    check_all_unique(tqdm.tqdm(v))\n",
    "context_window_size = model_config.n_ctx\n",
    "\n",
    "print(\"done\")"
   ]
  },
  {
   "cell_type": "code",
   "execution_count": 6,
   "id": "wanted-chosen",
   "metadata": {},
   "outputs": [
    {
     "name": "stdout",
     "output_type": "stream",
     "text": [
      "done\n"
     ]
    }
   ],
   "source": [
    "check_still_got_tpus()\n",
    "maybe_retrieve_and_merge = {\n",
    "    split: _make_maybe_retrieve_and_merge_fn(\n",
    "        tokenizer=tokenizer,\n",
    "        context_size=context_window_size,\n",
    "        ds_split=split,\n",
    "        approach_type=_APPROACH_TYPE,  # FLAG_APPROACH_TYPE.value\n",
    "        use_helper_words=True,  # FLAG_USE_HELPER_WORDS\n",
    "        retriever=None,  # pylint: disable=unused-argument\n",
    "        temperature=0.03,\n",
    "        num_retrievals=5,\n",
    "        enable_debug_checks=False,\n",
    "        max_length_generation=350,\n",
    "        tf_function_kwargs=None,\n",
    ") for split in [\"train\"]}\n",
    "\n",
    "print(\"done\")"
   ]
  },
  {
   "cell_type": "raw",
   "id": "local-andorra",
   "metadata": {},
   "source": [
    "\n",
    "for split in [\n",
    "# \"eval\", \n",
    "# \"test\", \n",
    "    \"train\"\n",
    "]:\n",
    "    ds_paths = splits_to_ds_paths[split]\n",
    "    \n",
    "    ###########################################################################\n",
    "    # Build and Distribute the DS\n",
    "    ###########################################################################\n",
    "    print(\"Building DS\")\n",
    "    ds = build_dataset(ds_paths, context_window_size, split, len(tf_utils.devices_to_use()))\n",
    "    dds = strategy.experimental_distribute_dataset(ds)\n",
    "    print(\"Created DS\")\n",
    "    \n",
    "    ###########################################################################\n",
    "    # Print elements of the DS\n",
    "    ###########################################################################\n",
    "    for major, dist_items in enumerate(toolz.take(1, dds)):\n",
    "        \n",
    "        turned_on_itself = [\n",
    "            Sample(None, None, None, None) for _ in range(len(tf_utils.devices_to_use()))\n",
    "        ]\n",
    "\n",
    "        for feature_key, v in dist_items.items():\n",
    "            if tf_utils.devices_to_use()[0].device_type == \"TPU\":\n",
    "                utils.check_isinstance(v, values.PerReplica)\n",
    "            else:\n",
    "                utils.check_isinstance(v, ops.EagerTensor)\n",
    "            \n",
    "            for i, vv in enumerate(v.values if isinstance(v, values.PerReplica) else [v]):\n",
    "                utils.check_equal(vv.shape[0], 1)\n",
    "                setattr(turned_on_itself[i], feature_key, vv[0])\n",
    "                \n",
    "        utils.check_equal(len(turned_on_itself), len(tf_utils.devices_to_use()))\n",
    "        for minor, item in enumerate(turned_on_itself):\n",
    "            if split == \"train\":\n",
    "                display_item(\n",
    "                    major + 1, \n",
    "                    minor + 1, \n",
    "                    len(tf_utils.devices_to_use()), \n",
    "                    tokenizer, \n",
    "                    item, \n",
    "                    split\n",
    "                )\n",
    "\n",
    "print(\"done\")"
   ]
  },
  {
   "cell_type": "code",
   "execution_count": 7,
   "id": "atomic-trunk",
   "metadata": {},
   "outputs": [
    {
     "data": {
      "text/html": [
       "<pre style=\"white-space:pre;overflow-x:auto;line-height:normal;font-family:Menlo,'DejaVu Sans Mono',consolas,'Courier New',monospace\"><span style=\"color: #000080; text-decoration-color: #000080\"> </span><span style=\"color: #000080; text-decoration-color: #000080; font-weight: bold\">&lt;</span><span style=\"color: #000080; text-decoration-color: #000080\"> Things are good : TPU </span><span style=\"color: #000080; text-decoration-color: #000080; font-weight: bold\">&gt;</span><span style=\"color: #000080; text-decoration-color: #000080\"> </span>\n",
       "</pre>\n"
      ],
      "text/plain": [
       "<rich.jupyter.JupyterRenderable at 0x7f47770caa60>"
      ]
     },
     "metadata": {},
     "output_type": "display_data"
    },
    {
     "name": "stdout",
     "output_type": "stream",
     "text": [
      "Building DS\n",
      "Starting loop.\n",
      "LOOPED ONCE.\n",
      "<class 'tensorflow.python.distribute.values.PerReplica'>\n",
      "Keys: ['input_ids', 'label_ids']\n",
      "\n",
      "<class 'tensorflow.python.distribute.values.PerReplica'>\n"
     ]
    },
    {
     "data": {
      "text/html": [
       "<pre style=\"white-space:pre;overflow-x:auto;line-height:normal;font-family:Menlo,'DejaVu Sans Mono',consolas,'Courier New',monospace\">\n",
       "\n",
       "**Question:**\n",
       "in football whats the point of wasting the first two plays with a rush - up the middle - not \n",
       "regular rush plays i get those\n",
       "\n",
       "\n",
       "**Context:**\n",
       "Although the Packers have won only five of their last ten playoff games at Lambeau Field, \n",
       "their overall home post-season record is a respectable <span style=\"color: #008080; text-decoration-color: #008080; font-weight: bold\">16</span>–<span style=\"color: #008080; text-decoration-color: #008080; font-weight: bold\">5</span>. The stadium has hosted five \n",
       "championship contests: three NFL title games in <span style=\"color: #008080; text-decoration-color: #008080; font-weight: bold\">1961</span>, <span style=\"color: #008080; text-decoration-color: #008080; font-weight: bold\">1965</span> and <span style=\"color: #008080; text-decoration-color: #008080; font-weight: bold\">1967</span> <span style=\"font-weight: bold\">(</span>the <span style=\"color: #008000; text-decoration-color: #008000\">\"Ice Bowl\"</span><span style=\"font-weight: bold\">)</span>; two NFC\n",
       "championships after the <span style=\"color: #008080; text-decoration-color: #008080; font-weight: bold\">1996</span> and <span style=\"color: #008080; text-decoration-color: #008080; font-weight: bold\">2007</span> seasons. Many Packer players will jump into the end \n",
       "zone stands after scoring a touchdown, in a celebration affectionately known as the <span style=\"color: #008000; text-decoration-color: #008000\">\"Lambeau </span>\n",
       "<span style=\"color: #008000; text-decoration-color: #008000\">Leap\"</span>. The Lambeau Leap was invented by safety LeRoy Butler, who scored after a Reggie White \n",
       "fumble recovery and lateral against the L.A. Raiders on December <span style=\"color: #008080; text-decoration-color: #008080; font-weight: bold\">26</span>, <span style=\"color: #008080; text-decoration-color: #008080; font-weight: bold\">1993</span>. It was later \n",
       "popularized by wide receiver Robert Brooks. It's not known precisely when the celebration was\n",
       "first coined the <span style=\"color: #008000; text-decoration-color: #008000\">\"Lambeau Leap\"</span>, but one of the first possible mentions was by broadcaster Al\n",
       "Michaels, who mentioned during a Monday Night Football broadcast in <span style=\"color: #008080; text-decoration-color: #008080; font-weight: bold\">1996</span>, <span style=\"color: #008000; text-decoration-color: #008000\">\"It's a new </span>\n",
       "<span style=\"color: #008000; text-decoration-color: #008000\">tradition in Green Bay, Robert Brooks \"</span>leaping\" into the stands.\" When the NFL banned \n",
       "excessive celebrations in <span style=\"color: #008080; text-decoration-color: #008080; font-weight: bold\">2000</span>, the Lambeau Leap was grandfathered into the new rules, \n",
       "permitting it to continue. Occasionally, a visiting player will attempt a Lambeau Leap, only \n",
       "to be denied by Packers fans.According to Football Outsiders, a quarterback hurry is the most\n",
       "common form of pass pressure. In the <span style=\"color: #008080; text-decoration-color: #008080; font-weight: bold\">2009</span> NFL season, there were <span style=\"color: #008080; text-decoration-color: #008080; font-weight: bold\">1</span>,<span style=\"color: #008080; text-decoration-color: #008080; font-weight: bold\">106</span> sacks and <span style=\"color: #008080; text-decoration-color: #008080; font-weight: bold\">3</span>,<span style=\"color: #008080; text-decoration-color: #008080; font-weight: bold\">268</span> \n",
       "hurries, and a hurried quarterback generally averaged fewer yards per pass play compared to \n",
       "the average pass play. These records are from <span style=\"color: #008080; text-decoration-color: #008080; font-weight: bold\">1982</span> onwards, the year the NFL started \n",
       "officially recording sacks.There are two general schemes for defending against the pass:\n",
       "\n",
       "There are times when a defense believes that the best way to stop the offense is to rush the \n",
       "quarterback, which involves sending several players charging at the line of scrimmage in an \n",
       "attempt to tackle the quarterback before he can throw the ball or hand it to another player. \n",
       "Any player on the defense is allowed to rush the quarterback, and many schemes have been \n",
       "developed over <span style=\"color: #008080; text-decoration-color: #008080; font-weight: bold\">50</span> years that involve complicated or unusual blitz <span style=\"color: #008000; text-decoration-color: #008000\">\"packages\"</span>. Defensive \n",
       "strategies differ somewhat from offensive strategies in that, unlike offenses that have very \n",
       "specific, detailed plans and assignments for each player, defenses are more reactive, with \n",
       "each player's general goal being to <span style=\"color: #008000; text-decoration-color: #008000\">\"stop the offense\"</span> by tackling the ball carrier, breaking\n",
       "up passing plays, taking the ball away from the offense, or sacking the quarterback. Whereas \n",
       "precision and timing are among the most important parts of offensive strategy, defensive \n",
       "strategies often emphasize aggressiveness and the ability to react to plays as they develop. \n",
       "Nevertheless, there are many defensive strategies that have been developed over the years \n",
       "that coaches use as a framework for their general defense, making specific adjustments \n",
       "depending on the capabilities of their players and the opponent they are facing. Some of the \n",
       "most commonly known and used defensive strategies include:\n",
       "\n",
       "A special team is the group of players who take the field during kickoffs, free kicks, punts,\n",
       "and field goal attempts.Multibagger stock\n",
       "\n",
       "A multibagger stock is an equity stock which gives a return of more than <span style=\"color: #008080; text-decoration-color: #008080; font-weight: bold\">100</span>%. The term was \n",
       "coined by Peter Lynch in\n",
       "\n",
       "\n",
       "**Answer:**\n",
       "Keep the defense honest, get a feel for the pass rush, open up the passing game. An offense \n",
       "that's too one dimensional will fail. And those rushes up the middle can be busted wide open \n",
       "sometimes for big yardage.\n",
       "</pre>\n"
      ],
      "text/plain": [
       "<rich.jupyter.JupyterRenderable at 0x7f477c11f790>"
      ]
     },
     "metadata": {},
     "output_type": "display_data"
    },
    {
     "data": {
      "text/html": [
       "<pre style=\"white-space:pre;overflow-x:auto;line-height:normal;font-family:Menlo,'DejaVu Sans Mono',consolas,'Courier New',monospace\">Keep the defense honest, get a feel for the pass rush, open up the passing game. An offense \n",
       "that's too one dimensional will fail. And those rushes up the middle can be busted wide open \n",
       "sometimes for big yardage.\n",
       "</pre>\n"
      ],
      "text/plain": [
       "<rich.jupyter.JupyterRenderable at 0x7f477c12ee80>"
      ]
     },
     "metadata": {},
     "output_type": "display_data"
    },
    {
     "data": {
      "text/html": [
       "<pre style=\"white-space:pre;overflow-x:auto;line-height:normal;font-family:Menlo,'DejaVu Sans Mono',consolas,'Courier New',monospace\">┏━━━━━━━━━┳━━━━━━━━━━━━━━━━━━━━━━━━━━━━━━━━━━━━━━━━━━━━━━━━━━━━━━━━━━━━━━━━━━━━━━━━━━━━━━━━━┓\n",
       "┃ <span style=\"font-weight: bold\">Inputs</span>  ┃ **Question:**                                                                   ┃\n",
       "┃         ┃ in football whats the point of wasting the first two plays with a rush - up the ┃\n",
       "┃         ┃ middle - not regular rush plays i get those                                     ┃\n",
       "┃         ┃                                                                                 ┃\n",
       "┃         ┃                                                                                 ┃\n",
       "┃         ┃ **Context:**                                                                    ┃\n",
       "┃         ┃ Although the Packers have won only five of their last ten playoff games at      ┃\n",
       "┃         ┃ Lambeau Field, their overall home post-season record is a respectable 16–5. The ┃\n",
       "┃         ┃ stadium has hosted five championship contests: three NFL title games in 1961,   ┃\n",
       "┃         ┃ 1965 and 1967 (the \"Ice Bowl\"); two NFC championships after the 1996 and 2007   ┃\n",
       "┃         ┃ seasons. Many Packer players will jump into the end zone stands after scoring a ┃\n",
       "┃         ┃ touchdown, in a celebration affectionately known as the \"Lambeau Leap\". The     ┃\n",
       "┃         ┃ Lambeau Leap was invented by safety LeRoy Butler, who scored after a Reggie     ┃\n",
       "┃         ┃ White fumble recovery and lateral against the L.A. Raiders on December 26,      ┃\n",
       "┃         ┃ 1993. It was later popularized by wide receiver Robert Brooks. It's not known   ┃\n",
       "┃         ┃ precisely when the celebration was first coined the \"Lambeau Leap\", but one of  ┃\n",
       "┃         ┃ the first possible mentions was by broadcaster Al Michaels, who mentioned       ┃\n",
       "┃         ┃ during a Monday Night Football broadcast in 1996, \"It's a new tradition in      ┃\n",
       "┃         ┃ Green Bay, Robert Brooks \"leaping\" into the stands.\" When the NFL banned        ┃\n",
       "┃         ┃ excessive celebrations in 2000, the Lambeau Leap was grandfathered into the new ┃\n",
       "┃         ┃ rules, permitting it to continue. Occasionally, a visiting player will attempt  ┃\n",
       "┃         ┃ a Lambeau Leap, only to be denied by Packers fans.According to Football         ┃\n",
       "┃         ┃ Outsiders, a quarterback hurry is the most common form of pass pressure. In the ┃\n",
       "┃         ┃ 2009 NFL season, there were 1,106 sacks and 3,268 hurries, and a hurried        ┃\n",
       "┃         ┃ quarterback generally averaged fewer yards per pass play compared to the        ┃\n",
       "┃         ┃ average pass play. These records are from 1982 onwards, the year the NFL        ┃\n",
       "┃         ┃ started officially recording sacks.There are two general schemes for defending  ┃\n",
       "┃         ┃ against the pass:                                                               ┃\n",
       "┃         ┃                                                                                 ┃\n",
       "┃         ┃ There are times when a defense believes that the best way to stop the offense   ┃\n",
       "┃         ┃ is to rush the quarterback, which involves sending several players charging at  ┃\n",
       "┃         ┃ the line of scrimmage in an attempt to tackle the quarterback before he can     ┃\n",
       "┃         ┃ throw the ball or hand it to another player. Any player on the defense is       ┃\n",
       "┃         ┃ allowed to rush the quarterback, and many schemes have been developed over 50   ┃\n",
       "┃         ┃ years that involve complicated or unusual blitz \"packages\". Defensive           ┃\n",
       "┃         ┃ strategies differ somewhat from offensive strategies in that, unlike offenses   ┃\n",
       "┃         ┃ that have very specific, detailed plans and assignments for each player,        ┃\n",
       "┃         ┃ defenses are more reactive, with each player's general goal being to \"stop the  ┃\n",
       "┃         ┃ offense\" by tackling the ball carrier, breaking up passing plays, taking the    ┃\n",
       "┃         ┃ ball away from the offense, or sacking the quarterback. Whereas precision and   ┃\n",
       "┃         ┃ timing are among the most important parts of offensive strategy, defensive      ┃\n",
       "┃         ┃ strategies often emphasize aggressiveness and the ability to react to plays as  ┃\n",
       "┃         ┃ they develop. Nevertheless, there are many defensive strategies that have been  ┃\n",
       "┃         ┃ developed over the years that coaches use as a framework for their general      ┃\n",
       "┃         ┃ defense, making specific adjustments depending on the capabilities of their     ┃\n",
       "┃         ┃ players and the opponent they are facing. Some of the most commonly known and   ┃\n",
       "┃         ┃ used defensive strategies include:                                              ┃\n",
       "┃         ┃                                                                                 ┃\n",
       "┃         ┃ A special team is the group of players who take the field during kickoffs, free ┃\n",
       "┃         ┃ kicks, punts, and field goal attempts.Multibagger stock                         ┃\n",
       "┃         ┃                                                                                 ┃\n",
       "┃         ┃ A multibagger stock is an equity stock which gives a return of more than 100%.  ┃\n",
       "┃         ┃ The term was coined by Peter Lynch in                                           ┃\n",
       "┃         ┃                                                                                 ┃\n",
       "┃         ┃                                                                                 ┃\n",
       "┃         ┃ **Answer:**                                                                     ┃\n",
       "┃         ┃ Keep the defense honest, get a feel for the pass rush, open up the passing      ┃\n",
       "┃         ┃ game. An offense that's too one dimensional will fail. And those rushes up the  ┃\n",
       "┃         ┃ middle can be busted wide open sometimes for big yardage.                       ┃\n",
       "├─────────┼─────────────────────────────────────────────────────────────────────────────────┤\n",
       "│ <span style=\"font-weight: bold\">Labels:</span> │ Keep the defense honest, get a feel for the pass rush, open up the passing      │\n",
       "│         │ game. An offense that's too one dimensional will fail. And those rushes up the  │\n",
       "│         │ middle can be busted wide open sometimes for big yardage.                       │\n",
       "└─────────┴─────────────────────────────────────────────────────────────────────────────────┘\n",
       "</pre>\n"
      ],
      "text/plain": [
       "<rich.jupyter.JupyterRenderable at 0x7f477c12ee80>"
      ]
     },
     "metadata": {},
     "output_type": "display_data"
    },
    {
     "name": "stdout",
     "output_type": "stream",
     "text": [
      "<class 'tensorflow.python.distribute.values.PerReplica'>\n"
     ]
    },
    {
     "data": {
      "text/html": [
       "<pre style=\"white-space:pre;overflow-x:auto;line-height:normal;font-family:Menlo,'DejaVu Sans Mono',consolas,'Courier New',monospace\">\n",
       "\n",
       "**Question:**\n",
       "How do scholars <span style=\"color: #008000; text-decoration-color: #008000\">\"resurrect\"</span> lost languages based on only unreadable writing?\n",
       "\n",
       "\n",
       "**Context:**\n",
       "Rosetta Project\n",
       "\n",
       "The Rosetta Project is a global collaboration of language specialists and native speakers \n",
       "working to develop a contemporary version of the historic Rosetta Stone to last from <span style=\"color: #008080; text-decoration-color: #008080; font-weight: bold\">2000</span> to \n",
       "<span style=\"color: #008080; text-decoration-color: #008080; font-weight: bold\">12</span>,<span style=\"color: #008080; text-decoration-color: #008080; font-weight: bold\">000</span> AD; it is run by the Long Now Foundation. Its goal is a meaningful survey and near \n",
       "permanent archive of <span style=\"color: #008080; text-decoration-color: #008080; font-weight: bold\">1</span>,<span style=\"color: #008080; text-decoration-color: #008080; font-weight: bold\">500</span> languages. Some of these languages have fewer than one thousand \n",
       "speakers left. Others are considered to be dying out because government centralization and \n",
       "globalization are increasing the prevalence of English and other major languages. The \n",
       "intention is to create a unique platform for comparative linguistic research and education, \n",
       "as well as a functional linguistic tool that might help in the recovery or revitalisation of \n",
       "lost languages in the future. The project is creating this broad language archive through an \n",
       "open contribution, open review process similar to the strategy that created the original \n",
       "<span style=\"color: #008000; text-decoration-color: #008000\">\"Oxford English Dictionary\"</span>. The resulting archive will be publicly available in three \n",
       "different media: a HD-Rosetta micro-etched nickel alloy disc three inches <span style=\"font-weight: bold\">(</span><span style=\"color: #008080; text-decoration-color: #008080; font-weight: bold\">7.62</span> cm<span style=\"font-weight: bold\">)</span> across \n",
       "with a <span style=\"color: #008080; text-decoration-color: #008080; font-weight: bold\">2</span>,<span style=\"color: #008080; text-decoration-color: #008080; font-weight: bold\">000</span> year life expectancy; a single volume monumental reference book; and a growing \n",
       "online archive. Fifty to ninety percent of the world's languages are predicted to disappear \n",
       "in the next century, many with little or no significant documentation. Much linguistic \n",
       "description, especially the description of languages with few speakers, remains hidden in \n",
       "personal research files or poorly preserved in under-funded archives.The Linguists\n",
       "\n",
       "The Linguists is an independent <span style=\"color: #008080; text-decoration-color: #008080; font-weight: bold\">2008</span> American documentary film produced by Ironbound Films \n",
       "about language extinction and language documentation. It follows two linguists, Greg Anderson\n",
       "of the Living Tongues Institute for Endangered Languages and David Harrison of Swarthmore \n",
       "College, as they travel around the world to collect recordings of some of the last speakers \n",
       "of several moribund <span style=\"font-weight: bold\">(</span>dying<span style=\"font-weight: bold\">)</span> languages: Chulym in Siberia; Chemehuevi in Arizona, U.S.; Sora \n",
       "in Orissa, India; and Kallawaya in Bolivia. Seth Kramer, one of the directors, describes how \n",
       "he first got the idea for <span style=\"color: #008000; text-decoration-color: #008000\">\"The Linguists\"</span> when, in Vilnius, Lithuania, he could not read \n",
       "Yiddish inscriptions on a path in spite of his Jewish heritage. He joined with Daniel A. \n",
       "Miller in <span style=\"color: #008080; text-decoration-color: #008080; font-weight: bold\">2003</span> to form Ironbound Films, and received a $<span style=\"color: #008080; text-decoration-color: #008080; font-weight: bold\">520</span>,<span style=\"color: #008080; text-decoration-color: #008080; font-weight: bold\">000</span> grant from the National \n",
       "Science Foundation to support the film. Later in <span style=\"color: #008080; text-decoration-color: #008080; font-weight: bold\">2003</span>, the directors chose Anderson and \n",
       "Harrison to be the protagonists of the film. In <span style=\"color: #008080; text-decoration-color: #008080; font-weight: bold\">2004</span>, director Jeremy Newberger joined the \n",
       "project. It took three years to film <span style=\"color: #008000; text-decoration-color: #008000\">\"The Linguists\"</span>, and during this time over <span style=\"color: #008080; text-decoration-color: #008080; font-weight: bold\">200</span> hours of \n",
       "film were collected. During this time, the cast and crew travelled to numerous remote areas \n",
       "that one reporter describes as <span style=\"color: #008000; text-decoration-color: #008000\">\"godforsaken,\"</span> and coped with physical ailments such as \n",
       "altitude sickness.Language was one of the features of Anglicisation in Ireland: although it \n",
       "never died out and became an official language after independence, Irish had lost its status \n",
       "as the island's principal vernacular to become a minority language during the period of \n",
       "English rule; similarly, in North America indigenous languages have been replaced by those of\n",
       "the colonists. According to Ghil'ad Zuckermann, \"language reclamation\n",
       "\n",
       "\n",
       "**Answer:**\n",
       "In the case of the Rosetta stone, there were translations of the same text in <span style=\"color: #008080; text-decoration-color: #008080; font-weight: bold\">3</span> different \n",
       "languages. Scholars were able to use that to determine words if they are used multiple times.\n",
       "For example, if you have three sentences about bread, you can guess that one of the common \n",
       "words is bread.\n",
       "</pre>\n"
      ],
      "text/plain": [
       "<rich.jupyter.JupyterRenderable at 0x7f47771606d0>"
      ]
     },
     "metadata": {},
     "output_type": "display_data"
    },
    {
     "data": {
      "text/html": [
       "<pre style=\"white-space:pre;overflow-x:auto;line-height:normal;font-family:Menlo,'DejaVu Sans Mono',consolas,'Courier New',monospace\">In the case of the Rosetta stone, there were translations of the same text in <span style=\"color: #008080; text-decoration-color: #008080; font-weight: bold\">3</span> different \n",
       "languages. Scholars were able to use that to determine words if they are used multiple times.\n",
       "For example, if you have three sentences about bread, you can guess that one of the common \n",
       "words is bread.\n",
       "</pre>\n"
      ],
      "text/plain": [
       "<rich.jupyter.JupyterRenderable at 0x7f477c3d4070>"
      ]
     },
     "metadata": {},
     "output_type": "display_data"
    },
    {
     "data": {
      "text/html": [
       "<pre style=\"white-space:pre;overflow-x:auto;line-height:normal;font-family:Menlo,'DejaVu Sans Mono',consolas,'Courier New',monospace\">┏━━━━━━━━━┳━━━━━━━━━━━━━━━━━━━━━━━━━━━━━━━━━━━━━━━━━━━━━━━━━━━━━━━━━━━━━━━━━━━━━━━━━━━━━━━━━┓\n",
       "┃ <span style=\"font-weight: bold\">Inputs</span>  ┃ **Question:**                                                                   ┃\n",
       "┃         ┃ How do scholars \"resurrect\" lost languages based on only unreadable writing?    ┃\n",
       "┃         ┃                                                                                 ┃\n",
       "┃         ┃                                                                                 ┃\n",
       "┃         ┃ **Context:**                                                                    ┃\n",
       "┃         ┃ Rosetta Project                                                                 ┃\n",
       "┃         ┃                                                                                 ┃\n",
       "┃         ┃ The Rosetta Project is a global collaboration of language specialists and       ┃\n",
       "┃         ┃ native speakers working to develop a contemporary version of the historic       ┃\n",
       "┃         ┃ Rosetta Stone to last from 2000 to 12,000 AD; it is run by the Long Now         ┃\n",
       "┃         ┃ Foundation. Its goal is a meaningful survey and near permanent archive of 1,500 ┃\n",
       "┃         ┃ languages. Some of these languages have fewer than one thousand speakers left.  ┃\n",
       "┃         ┃ Others are considered to be dying out because government centralization and     ┃\n",
       "┃         ┃ globalization are increasing the prevalence of English and other major          ┃\n",
       "┃         ┃ languages. The intention is to create a unique platform for comparative         ┃\n",
       "┃         ┃ linguistic research and education, as well as a functional linguistic tool that ┃\n",
       "┃         ┃ might help in the recovery or revitalisation of lost languages in the future.   ┃\n",
       "┃         ┃ The project is creating this broad language archive through an open             ┃\n",
       "┃         ┃ contribution, open review process similar to the strategy that created the      ┃\n",
       "┃         ┃ original \"Oxford English Dictionary\". The resulting archive will be publicly    ┃\n",
       "┃         ┃ available in three different media: a HD-Rosetta micro-etched nickel alloy disc ┃\n",
       "┃         ┃ three inches (7.62 cm) across with a 2,000 year life expectancy; a single       ┃\n",
       "┃         ┃ volume monumental reference book; and a growing online archive. Fifty to ninety ┃\n",
       "┃         ┃ percent of the world's languages are predicted to disappear in the next         ┃\n",
       "┃         ┃ century, many with little or no significant documentation. Much linguistic      ┃\n",
       "┃         ┃ description, especially the description of languages with few speakers, remains ┃\n",
       "┃         ┃ hidden in personal research files or poorly preserved in under-funded           ┃\n",
       "┃         ┃ archives.The Linguists                                                          ┃\n",
       "┃         ┃                                                                                 ┃\n",
       "┃         ┃ The Linguists is an independent 2008 American documentary film produced by      ┃\n",
       "┃         ┃ Ironbound Films about language extinction and language documentation. It        ┃\n",
       "┃         ┃ follows two linguists, Greg Anderson of the Living Tongues Institute for        ┃\n",
       "┃         ┃ Endangered Languages and David Harrison of Swarthmore College, as they travel   ┃\n",
       "┃         ┃ around the world to collect recordings of some of the last speakers of several  ┃\n",
       "┃         ┃ moribund (dying) languages: Chulym in Siberia; Chemehuevi in Arizona, U.S.;     ┃\n",
       "┃         ┃ Sora in Orissa, India; and Kallawaya in Bolivia. Seth Kramer, one of the        ┃\n",
       "┃         ┃ directors, describes how he first got the idea for \"The Linguists\" when, in     ┃\n",
       "┃         ┃ Vilnius, Lithuania, he could not read Yiddish inscriptions on a path in spite   ┃\n",
       "┃         ┃ of his Jewish heritage. He joined with Daniel A. Miller in 2003 to form         ┃\n",
       "┃         ┃ Ironbound Films, and received a $520,000 grant from the National Science        ┃\n",
       "┃         ┃ Foundation to support the film. Later in 2003, the directors chose Anderson and ┃\n",
       "┃         ┃ Harrison to be the protagonists of the film. In 2004, director Jeremy Newberger ┃\n",
       "┃         ┃ joined the project. It took three years to film \"The Linguists\", and during     ┃\n",
       "┃         ┃ this time over 200 hours of film were collected. During this time, the cast and ┃\n",
       "┃         ┃ crew travelled to numerous remote areas that one reporter describes as          ┃\n",
       "┃         ┃ \"godforsaken,\" and coped with physical ailments such as altitude                ┃\n",
       "┃         ┃ sickness.Language was one of the features of Anglicisation in Ireland: although ┃\n",
       "┃         ┃ it never died out and became an official language after independence, Irish had ┃\n",
       "┃         ┃ lost its status as the island's principal vernacular to become a minority       ┃\n",
       "┃         ┃ language during the period of English rule; similarly, in North America         ┃\n",
       "┃         ┃ indigenous languages have been replaced by those of the colonists. According to ┃\n",
       "┃         ┃ Ghil'ad Zuckermann, \"language reclamation                                       ┃\n",
       "┃         ┃                                                                                 ┃\n",
       "┃         ┃                                                                                 ┃\n",
       "┃         ┃ **Answer:**                                                                     ┃\n",
       "┃         ┃ In the case of the Rosetta stone, there were translations of the same text in 3 ┃\n",
       "┃         ┃ different languages. Scholars were able to use that to determine words if they  ┃\n",
       "┃         ┃ are used multiple times. For example, if you have three sentences about bread,  ┃\n",
       "┃         ┃ you can guess that one of the common words is bread.                            ┃\n",
       "├─────────┼─────────────────────────────────────────────────────────────────────────────────┤\n",
       "│ <span style=\"font-weight: bold\">Labels:</span> │ In the case of the Rosetta stone, there were translations of the same text in 3 │\n",
       "│         │ different languages. Scholars were able to use that to determine words if they  │\n",
       "│         │ are used multiple times. For example, if you have three sentences about bread,  │\n",
       "│         │ you can guess that one of the common words is bread.                            │\n",
       "└─────────┴─────────────────────────────────────────────────────────────────────────────────┘\n",
       "</pre>\n"
      ],
      "text/plain": [
       "<rich.jupyter.JupyterRenderable at 0x7f47643109a0>"
      ]
     },
     "metadata": {},
     "output_type": "display_data"
    },
    {
     "name": "stdout",
     "output_type": "stream",
     "text": [
      "<class 'tensorflow.python.distribute.values.PerReplica'>\n"
     ]
    },
    {
     "data": {
      "text/html": [
       "<pre style=\"white-space:pre;overflow-x:auto;line-height:normal;font-family:Menlo,'DejaVu Sans Mono',consolas,'Courier New',monospace\">\n",
       "\n",
       "**Question:**\n",
       "Why do Americans pay for so much for healthcare, yet other countries are able to get by \n",
       "without paying nearly as much?\n",
       "\n",
       "\n",
       "**Context:**\n",
       "In addition to their premium contributions, most covered workers face additional payments \n",
       "when they use health care services, in the form of deductibles and copayments. Just less than\n",
       "<span style=\"color: #008080; text-decoration-color: #008080; font-weight: bold\">9</span>% of the population purchases individual health care insurance. Insurance payments are a \n",
       "form of cost-sharing and risk management where each individual or their employer pays \n",
       "predictable monthly premiums. This cost-spreading mechanism often picks up much of the cost \n",
       "of health care, but individuals must often pay up-front a minimum part of the total cost <span style=\"font-weight: bold\">(</span>a \n",
       "<span style=\"color: #008000; text-decoration-color: #008000\">\"deductible\"</span><span style=\"font-weight: bold\">)</span>, or a small part of the cost of every procedure <span style=\"font-weight: bold\">(</span>a copayment<span style=\"font-weight: bold\">)</span>. Private \n",
       "insurance accounts for <span style=\"color: #008080; text-decoration-color: #008080; font-weight: bold\">35</span>% of total health spending in the United States, by far the largest \n",
       "share among OECD countries. Beside the United States, Canada and France are the two other \n",
       "OECD countries where private insurance represents more than <span style=\"color: #008080; text-decoration-color: #008080; font-weight: bold\">10</span>% of total health spending. \n",
       "Provider networks can be used to reduce costs by negotiating favorable fees from providers, \n",
       "selecting cost effective providers, and creating financial incentives for providers to \n",
       "practice more efficiently. A survey issued in <span style=\"color: #008080; text-decoration-color: #008080; font-weight: bold\">2009</span> by America's Health Insurance Plans found \n",
       "that patients going to out-of-network providers are sometimes charged extremely high fees. \n",
       "Defying many analysts' expectations, PPOs have gained market share at the expense of HMOs \n",
       "over the past decade.Increases were driven by the coverage expansion that began in <span style=\"color: #008080; text-decoration-color: #008080; font-weight: bold\">2014</span> as a \n",
       "result of the Affordable Care Act <span style=\"font-weight: bold\">(</span>i.e., more persons demanding healthcare or more healthcare\n",
       "units consumed<span style=\"font-weight: bold\">)</span> as well as higher healthcare prices per unit. U.S. healthcare costs are \n",
       "considerably higher than other countries as a share of GDP, among other measures. According \n",
       "to the OECD, U.S. healthcare costs in <span style=\"color: #008080; text-decoration-color: #008080; font-weight: bold\">2015</span> were <span style=\"color: #008080; text-decoration-color: #008080; font-weight: bold\">16.9</span>% GDP, over <span style=\"color: #008080; text-decoration-color: #008080; font-weight: bold\">5</span>% GDP higher than the next \n",
       "most expensive OECD country. A gap of <span style=\"color: #008080; text-decoration-color: #008080; font-weight: bold\">5</span>% GDP represents $<span style=\"color: #008080; text-decoration-color: #008080; font-weight: bold\">1</span> trillion, about $<span style=\"color: #008080; text-decoration-color: #008080; font-weight: bold\">3</span>,<span style=\"color: #008080; text-decoration-color: #008080; font-weight: bold\">000</span> per person \n",
       "relative to the next most expensive country. In other words, the U.S. would have to cut \n",
       "healthcare costs by roughly one-third to be competitive with the next most expensive country.\n",
       "Reasons for higher costs than other countries including higher administrative costs, spending\n",
       "more for the same services <span style=\"font-weight: bold\">(</span>i.e., higher prices per unit<span style=\"font-weight: bold\">)</span>, receiving more medical care \n",
       "<span style=\"font-weight: bold\">(</span>units<span style=\"font-weight: bold\">)</span> per capita than other countries, cost variation across hospital regions without \n",
       "different results, higher levels of per-capita income, and less active government \n",
       "intervention to reduce costs. Spending is highly concentrated among sicker patients. The \n",
       "Institute of Medicine reported in September <span style=\"color: #008080; text-decoration-color: #008080; font-weight: bold\">2012</span> that approximately $750B per year in U.S. \n",
       "health care costs are avoidable or wasted.Another model of consumer driven healthcare is \n",
       "Health Reimbursement Arrangements <span style=\"font-weight: bold\">(</span>HRAs<span style=\"font-weight: bold\">)</span>, which are employer-funded, and in which employers \n",
       "receive the tax benefits. By <span style=\"color: #008080; text-decoration-color: #008080; font-weight: bold\">2007</span>, an estimated <span style=\"color: #008080; text-decoration-color: #008080; font-weight: bold\">3.8</span> million U.S. workers, about <span style=\"color: #008080; text-decoration-color: #008080; font-weight: bold\">5</span>% of the \n",
       "covered workforce, were enrolled in consumer-driven plans. About <span style=\"color: #008080; text-decoration-color: #008080; font-weight: bold\">10</span>% of firms offered such \n",
       "plans to their workers, according to a study by the Kaiser Family Foundation. In August <span style=\"color: #008080; text-decoration-color: #008080; font-weight: bold\">2008</span> \n",
       "the Atlanta Business Chronicle reported that enrollment in consumer-driven plans was \n",
       "increasing, accounting for <span style=\"color: #008080; text-decoration-color: #008080; font-weight: bold\">13</span>% of all plans offered by employers. In <span style=\"color: #008080; text-decoration-color: #008080; font-weight: bold\">2014</span>\n",
       "\n",
       "\n",
       "**Answer:**\n",
       "First: health care isn't <span style=\"color: #008000; text-decoration-color: #008000\">\"free\"</span> anywhere. There may be no charge to the patient, but somebody\n",
       "is paying for it.\n",
       "\n",
       "Second: insurance companies do not make up nearly as much of the problem as people in the \n",
       "thread are suggesting. Their profits are in the single-digit percentages, and their overhead \n",
       "is not nearly so high as people think. Regardless, insurance company overhead and profit are \n",
       "not nearly large enough to explain the price differential.\n",
       "\n",
       "What does probably explain it is three things. \n",
       "\n",
       "First, though the US health care system is slightly more market oriented than the system in \n",
       "most other countries, it's not really a market system. In a market system, consumers know how\n",
       "much the goods and services they buy cost before we buy them, giving us the ability to shop \n",
       "around on price and creating an incentive for providers to compete on price. That simply \n",
       "isn't the case in US health care. Even the providers usually don't have any flipping clue how\n",
       "much their services cost, and even if they do they usually can't tell you up front. No one is\n",
       "likely to know how much something costs until months after the procedure. Prices are \n",
       "completely opaque, so there's every opportunity for bloat and waste.\n",
       "\n",
       "But second, that introduces the possibility of pricing health care as if it were itself an \n",
       "insurance program rather than letting insurance products do the work of risk sharing. \n",
       "Basically, the way insurance works is that everyone pays a bit more than they need to so that\n",
       "no one gets completely slammed by an unusually high expense. This is how health insurance is \n",
       "supposed to work, and there's nothing wrong with that. What's problematic is that in addition\n",
       "to that kind of risk pooling, hospitals are doing some of their\n",
       "</pre>\n"
      ],
      "text/plain": [
       "<rich.jupyter.JupyterRenderable at 0x7f477c2d27f0>"
      ]
     },
     "metadata": {},
     "output_type": "display_data"
    },
    {
     "data": {
      "text/html": [
       "<pre style=\"white-space:pre;overflow-x:auto;line-height:normal;font-family:Menlo,'DejaVu Sans Mono',consolas,'Courier New',monospace\">First: health care isn't <span style=\"color: #008000; text-decoration-color: #008000\">\"free\"</span> anywhere. There may be no charge to the patient, but somebody\n",
       "is paying for it.\n",
       "\n",
       "Second: insurance companies do not make up nearly as much of the problem as people in the \n",
       "thread are suggesting. Their profits are in the single-digit percentages, and their overhead \n",
       "is not nearly so high as people think. Regardless, insurance company overhead and profit are \n",
       "not nearly large enough to explain the price differential.\n",
       "\n",
       "What does probably explain it is three things. \n",
       "\n",
       "First, though the US health care system is slightly more market oriented than the system in \n",
       "most other countries, it's not really a market system. In a market system, consumers know how\n",
       "much the goods and services they buy cost before we buy them, giving us the ability to shop \n",
       "around on price and creating an incentive for providers to compete on price. That simply \n",
       "isn't the case in US health care. Even the providers usually don't have any flipping clue how\n",
       "much their services cost, and even if they do they usually can't tell you up front. No one is\n",
       "likely to know how much something costs until months after the procedure. Prices are \n",
       "completely opaque, so there's every opportunity for bloat and waste.\n",
       "\n",
       "But second, that introduces the possibility of pricing health care as if it were itself an \n",
       "insurance program rather than letting insurance products do the work of risk sharing. \n",
       "Basically, the way insurance works is that everyone pays a bit more than they need to so that\n",
       "no one gets completely slammed by an unusually high expense. This is how health insurance is \n",
       "supposed to work, and there's nothing wrong with that. What's problematic is that in addition\n",
       "to that kind of risk pooling, hospitals are doing some of their\n",
       "</pre>\n"
      ],
      "text/plain": [
       "<rich.jupyter.JupyterRenderable at 0x7f477c107a30>"
      ]
     },
     "metadata": {},
     "output_type": "display_data"
    },
    {
     "data": {
      "text/html": [
       "<pre style=\"white-space:pre;overflow-x:auto;line-height:normal;font-family:Menlo,'DejaVu Sans Mono',consolas,'Courier New',monospace\">┏━━━━━━━━━┳━━━━━━━━━━━━━━━━━━━━━━━━━━━━━━━━━━━━━━━━━━━━━━━━━━━━━━━━━━━━━━━━━━━━━━━━━━━━━━━━━┓\n",
       "┃ <span style=\"font-weight: bold\">Inputs</span>  ┃ **Question:**                                                                   ┃\n",
       "┃         ┃ Why do Americans pay for so much for healthcare, yet other countries are able   ┃\n",
       "┃         ┃ to get by without paying nearly as much?                                        ┃\n",
       "┃         ┃                                                                                 ┃\n",
       "┃         ┃                                                                                 ┃\n",
       "┃         ┃ **Context:**                                                                    ┃\n",
       "┃         ┃ In addition to their premium contributions, most covered workers face           ┃\n",
       "┃         ┃ additional payments when they use health care services, in the form of          ┃\n",
       "┃         ┃ deductibles and copayments. Just less than 9% of the population purchases       ┃\n",
       "┃         ┃ individual health care insurance. Insurance payments are a form of cost-sharing ┃\n",
       "┃         ┃ and risk management where each individual or their employer pays predictable    ┃\n",
       "┃         ┃ monthly premiums. This cost-spreading mechanism often picks up much of the cost ┃\n",
       "┃         ┃ of health care, but individuals must often pay up-front a minimum part of the   ┃\n",
       "┃         ┃ total cost (a \"deductible\"), or a small part of the cost of every procedure (a  ┃\n",
       "┃         ┃ copayment). Private insurance accounts for 35% of total health spending in the  ┃\n",
       "┃         ┃ United States, by far the largest share among OECD countries. Beside the United ┃\n",
       "┃         ┃ States, Canada and France are the two other OECD countries where private        ┃\n",
       "┃         ┃ insurance represents more than 10% of total health spending. Provider networks  ┃\n",
       "┃         ┃ can be used to reduce costs by negotiating favorable fees from providers,       ┃\n",
       "┃         ┃ selecting cost effective providers, and creating financial incentives for       ┃\n",
       "┃         ┃ providers to practice more efficiently. A survey issued in 2009 by America's    ┃\n",
       "┃         ┃ Health Insurance Plans found that patients going to out-of-network providers    ┃\n",
       "┃         ┃ are sometimes charged extremely high fees. Defying many analysts' expectations, ┃\n",
       "┃         ┃ PPOs have gained market share at the expense of HMOs over the past              ┃\n",
       "┃         ┃ decade.Increases were driven by the coverage expansion that began in 2014 as a  ┃\n",
       "┃         ┃ result of the Affordable Care Act (i.e., more persons demanding healthcare or   ┃\n",
       "┃         ┃ more healthcare units consumed) as well as higher healthcare prices per unit.   ┃\n",
       "┃         ┃ U.S. healthcare costs are considerably higher than other countries as a share   ┃\n",
       "┃         ┃ of GDP, among other measures. According to the OECD, U.S. healthcare costs in   ┃\n",
       "┃         ┃ 2015 were 16.9% GDP, over 5% GDP higher than the next most expensive OECD       ┃\n",
       "┃         ┃ country. A gap of 5% GDP represents $1 trillion, about $3,000 per person        ┃\n",
       "┃         ┃ relative to the next most expensive country. In other words, the U.S. would     ┃\n",
       "┃         ┃ have to cut healthcare costs by roughly one-third to be competitive with the    ┃\n",
       "┃         ┃ next most expensive country. Reasons for higher costs than other countries      ┃\n",
       "┃         ┃ including higher administrative costs, spending more for the same services      ┃\n",
       "┃         ┃ (i.e., higher prices per unit), receiving more medical care (units) per capita  ┃\n",
       "┃         ┃ than other countries, cost variation across hospital regions without different  ┃\n",
       "┃         ┃ results, higher levels of per-capita income, and less active government         ┃\n",
       "┃         ┃ intervention to reduce costs. Spending is highly concentrated among sicker      ┃\n",
       "┃         ┃ patients. The Institute of Medicine reported in September 2012 that             ┃\n",
       "┃         ┃ approximately $750B per year in U.S. health care costs are avoidable or         ┃\n",
       "┃         ┃ wasted.Another model of consumer driven healthcare is Health Reimbursement      ┃\n",
       "┃         ┃ Arrangements (HRAs), which are employer-funded, and in which employers receive  ┃\n",
       "┃         ┃ the tax benefits. By 2007, an estimated 3.8 million U.S. workers, about 5% of   ┃\n",
       "┃         ┃ the covered workforce, were enrolled in consumer-driven plans. About 10% of     ┃\n",
       "┃         ┃ firms offered such plans to their workers, according to a study by the Kaiser   ┃\n",
       "┃         ┃ Family Foundation. In August 2008 the Atlanta Business Chronicle reported that  ┃\n",
       "┃         ┃ enrollment in consumer-driven plans was increasing, accounting for 13% of all   ┃\n",
       "┃         ┃ plans offered by employers. In 2014                                             ┃\n",
       "┃         ┃                                                                                 ┃\n",
       "┃         ┃                                                                                 ┃\n",
       "┃         ┃ **Answer:**                                                                     ┃\n",
       "┃         ┃ First: health care isn't \"free\" anywhere. There may be no charge to the         ┃\n",
       "┃         ┃ patient, but somebody is paying for it.                                         ┃\n",
       "┃         ┃                                                                                 ┃\n",
       "┃         ┃ Second: insurance companies do not make up nearly as much of the problem as     ┃\n",
       "┃         ┃ people in the thread are suggesting. Their profits are in the single-digit      ┃\n",
       "┃         ┃ percentages, and their overhead is not nearly so high as people think.          ┃\n",
       "┃         ┃ Regardless, insurance company overhead and profit are not nearly large enough   ┃\n",
       "┃         ┃ to explain the price differential.                                              ┃\n",
       "┃         ┃                                                                                 ┃\n",
       "┃         ┃ What does probably explain it is three things.                                  ┃\n",
       "┃         ┃                                                                                 ┃\n",
       "┃         ┃ First, though the US health care system is slightly more market oriented than   ┃\n",
       "┃         ┃ the system in most other countries, it's not really a market system. In a       ┃\n",
       "┃         ┃ market system, consumers know how much the goods and services they buy cost     ┃\n",
       "┃         ┃ before we buy them, giving us the ability to shop around on price and creating  ┃\n",
       "┃         ┃ an incentive for providers to compete on price. That simply isn't the case in   ┃\n",
       "┃         ┃ US health care. Even the providers usually don't have any flipping clue how     ┃\n",
       "┃         ┃ much their services cost, and even if they do they usually can't tell you up    ┃\n",
       "┃         ┃ front. No one is likely to know how much something costs until months after the ┃\n",
       "┃         ┃ procedure. Prices are completely opaque, so there's every opportunity for bloat ┃\n",
       "┃         ┃ and waste.                                                                      ┃\n",
       "┃         ┃                                                                                 ┃\n",
       "┃         ┃ But second, that introduces the possibility of pricing health care as if it     ┃\n",
       "┃         ┃ were itself an insurance program rather than letting insurance products do the  ┃\n",
       "┃         ┃ work of risk sharing. Basically, the way insurance works is that everyone pays  ┃\n",
       "┃         ┃ a bit more than they need to so that no one gets completely slammed by an       ┃\n",
       "┃         ┃ unusually high expense. This is how health insurance is supposed to work, and   ┃\n",
       "┃         ┃ there's nothing wrong with that. What's problematic is that in addition to that ┃\n",
       "┃         ┃ kind of risk pooling, hospitals are doing some of their                         ┃\n",
       "├─────────┼─────────────────────────────────────────────────────────────────────────────────┤\n",
       "│ <span style=\"font-weight: bold\">Labels:</span> │ First: health care isn't \"free\" anywhere. There may be no charge to the         │\n",
       "│         │ patient, but somebody is paying for it.                                         │\n",
       "│         │                                                                                 │\n",
       "│         │ Second: insurance companies do not make up nearly as much of the problem as     │\n",
       "│         │ people in the thread are suggesting. Their profits are in the single-digit      │\n",
       "│         │ percentages, and their overhead is not nearly so high as people think.          │\n",
       "│         │ Regardless, insurance company overhead and profit are not nearly large enough   │\n",
       "│         │ to explain the price differential.                                              │\n",
       "│         │                                                                                 │\n",
       "│         │ What does probably explain it is three things.                                  │\n",
       "│         │                                                                                 │\n",
       "│         │ First, though the US health care system is slightly more market oriented than   │\n",
       "│         │ the system in most other countries, it's not really a market system. In a       │\n",
       "│         │ market system, consumers know how much the goods and services they buy cost     │\n",
       "│         │ before we buy them, giving us the ability to shop around on price and creating  │\n",
       "│         │ an incentive for providers to compete on price. That simply isn't the case in   │\n",
       "│         │ US health care. Even the providers usually don't have any flipping clue how     │\n",
       "│         │ much their services cost, and even if they do they usually can't tell you up    │\n",
       "│         │ front. No one is likely to know how much something costs until months after the │\n",
       "│         │ procedure. Prices are completely opaque, so there's every opportunity for bloat │\n",
       "│         │ and waste.                                                                      │\n",
       "│         │                                                                                 │\n",
       "│         │ But second, that introduces the possibility of pricing health care as if it     │\n",
       "│         │ were itself an insurance program rather than letting insurance products do the  │\n",
       "│         │ work of risk sharing. Basically, the way insurance works is that everyone pays  │\n",
       "│         │ a bit more than they need to so that no one gets completely slammed by an       │\n",
       "│         │ unusually high expense. This is how health insurance is supposed to work, and   │\n",
       "│         │ there's nothing wrong with that. What's problematic is that in addition to that │\n",
       "│         │ kind of risk pooling, hospitals are doing some of their                         │\n",
       "└─────────┴─────────────────────────────────────────────────────────────────────────────────┘\n",
       "</pre>\n"
      ],
      "text/plain": [
       "<rich.jupyter.JupyterRenderable at 0x7f477c069220>"
      ]
     },
     "metadata": {},
     "output_type": "display_data"
    },
    {
     "name": "stdout",
     "output_type": "stream",
     "text": [
      "<class 'tensorflow.python.distribute.values.PerReplica'>\n"
     ]
    },
    {
     "data": {
      "text/html": [
       "<pre style=\"white-space:pre;overflow-x:auto;line-height:normal;font-family:Menlo,'DejaVu Sans Mono',consolas,'Courier New',monospace\">\n",
       "\n",
       "**Question:**\n",
       "Why are vision problems so common in humans?\n",
       "\n",
       "\n",
       "**Context:**\n",
       "Evolution of human colour vision\n",
       "\n",
       "Evolution of human colour vision over time: humans <span style=\"font-weight: bold\">(</span><span style=\"color: #008000; text-decoration-color: #008000\">\"homo sapiens\"</span><span style=\"font-weight: bold\">)</span> have developed a \n",
       "trichromatic view of the world in comparison to a majority of other mammals that only see the\n",
       "world from a dichromatic view. Early human ancestors are believed to have viewed the world \n",
       "using UV vision as far back as <span style=\"color: #008080; text-decoration-color: #008080; font-weight: bold\">90</span> million years ago. It is thought that the shift to \n",
       "trichromatic vision capabilities and the ability to see blue light have evolved as an \n",
       "adaptive trait over time. It is believed that due to a number of environmental factors, \n",
       "ancestral humans lived with limited colour vision. This is believed to have also been \n",
       "influenced by life styles, including being predominantly nocturnal. There is little data \n",
       "indicating the advantages of UV vision in early human ancestors. Early human ultraviolet \n",
       "vision, or ultraviolet sensitivity, included sensitivity in the wavelength ranges between <span style=\"color: #008080; text-decoration-color: #008080; font-weight: bold\">400</span>\n",
       "and <span style=\"color: #008080; text-decoration-color: #008080; font-weight: bold\">10</span>. These wavelengths are shorter than visible light but longer than X-rays. In some rare\n",
       "cases, some modern day humans can see within the UV spectrum at wavelengths close to <span style=\"color: #008080; text-decoration-color: #008080; font-weight: bold\">310</span>. In \n",
       "other animals that possess UV vision such as birds, ultraviolet sensitivity can be \n",
       "advantageous for courtship and reproductive success. This is because some birds have feathers\n",
       "with certain favourable colourations that can not be distinguished by human vision outside of\n",
       "the UV spectrum.Screening adults without symptoms is of uncertain benefit. Diagnosis is by an\n",
       "eye exam. The World Health Organization <span style=\"font-weight: bold\">(</span>WHO<span style=\"font-weight: bold\">)</span> estimates that <span style=\"color: #008080; text-decoration-color: #008080; font-weight: bold\">80</span>% of visual impairment is \n",
       "either preventable or curable with treatment. This includes cataracts, the infections river \n",
       "blindness and trachoma, glaucoma, diabetic retinopathy, uncorrected refractive errors, and \n",
       "some cases of childhood blindness. Many people with significant visual impairment benefit \n",
       "from vision rehabilitation, changes in their environment, and assistive devices. As of <span style=\"color: #008080; text-decoration-color: #008080; font-weight: bold\">2015</span> \n",
       "there were <span style=\"color: #008080; text-decoration-color: #008080; font-weight: bold\">940</span> million people with some degree of vision loss. <span style=\"color: #008080; text-decoration-color: #008080; font-weight: bold\">246</span> million had low vision and\n",
       "<span style=\"color: #008080; text-decoration-color: #008080; font-weight: bold\">39</span> million were blind. The majority of people with poor vision are in the developing world \n",
       "and are over the age of <span style=\"color: #008080; text-decoration-color: #008080; font-weight: bold\">50</span> years. Rates of visual impairment have decreased since the 1990s. \n",
       "Visual impairments have considerable economic costs both directly due to the cost of \n",
       "treatment and indirectly due to decreased ability to work. The definition of visual \n",
       "impairment is reduced vision not corrected by glasses or contact lenses. The World Health \n",
       "Organization uses the following classifications of visual impairment. When the vision in the \n",
       "better eye with best possible glasses correction is:\n",
       "\n",
       "\n",
       "Blindness is defined by the World Health Organization as vision in a person's best eye with \n",
       "best correction of less than <span style=\"color: #008080; text-decoration-color: #008080; font-weight: bold\">20</span>/<span style=\"color: #008080; text-decoration-color: #008080; font-weight: bold\">500</span> or a visual field of less than <span style=\"color: #008080; text-decoration-color: #008080; font-weight: bold\">10</span> degrees.AMD Alliance \n",
       "International\n",
       "\n",
       "AMD Alliance International is a non-profit coalition of the world’s leading vision, seniors \n",
       "and research organizations working to raise awareness of age-related macular degeneration, \n",
       "understanding of available options for prevention, early detection, treatment, rehabilitation\n",
       "and support services. It is the only international organization in the world that \n",
       "concentrates exclusively on age related macular degeneration, the leading cause of vision \n",
       "loss in the developed world. AMD is an eye condition that\n",
       "causes loss of central vision,\n",
       "leaving only peripheral, or side,\n",
       "vision intact. AMD is the leading\n",
       "cause of\n",
       "\n",
       "\n",
       "**Answer:**\n",
       "humans need glasses to see fine detail, like letters.  in a hunter gatherer sense, <span style=\"color: #008080; text-decoration-color: #008080; font-weight: bold\">99</span>% of \n",
       "peoples vision is probably sufficient.  i suspect there are plenty of animals that would want\n",
       "glasses if they were intelligent enough to know they were missing out on something.  but \n",
       "since most land animals have a highly developed sense of smell compared to humans, they \n",
       "probably dont care.\n",
       "</pre>\n"
      ],
      "text/plain": [
       "<rich.jupyter.JupyterRenderable at 0x7f477c11f790>"
      ]
     },
     "metadata": {},
     "output_type": "display_data"
    },
    {
     "data": {
      "text/html": [
       "<pre style=\"white-space:pre;overflow-x:auto;line-height:normal;font-family:Menlo,'DejaVu Sans Mono',consolas,'Courier New',monospace\">humans need glasses to see fine detail, like letters.  in a hunter gatherer sense, <span style=\"color: #008080; text-decoration-color: #008080; font-weight: bold\">99</span>% of \n",
       "peoples vision is probably sufficient.  i suspect there are plenty of animals that would want\n",
       "glasses if they were intelligent enough to know they were missing out on something.  but \n",
       "since most land animals have a highly developed sense of smell compared to humans, they \n",
       "probably dont care.\n",
       "</pre>\n"
      ],
      "text/plain": [
       "<rich.jupyter.JupyterRenderable at 0x7f477c131550>"
      ]
     },
     "metadata": {},
     "output_type": "display_data"
    },
    {
     "data": {
      "text/html": [
       "<pre style=\"white-space:pre;overflow-x:auto;line-height:normal;font-family:Menlo,'DejaVu Sans Mono',consolas,'Courier New',monospace\">┏━━━━━━━━━┳━━━━━━━━━━━━━━━━━━━━━━━━━━━━━━━━━━━━━━━━━━━━━━━━━━━━━━━━━━━━━━━━━━━━━━━━━━━━━━━━━┓\n",
       "┃ <span style=\"font-weight: bold\">Inputs</span>  ┃ **Question:**                                                                   ┃\n",
       "┃         ┃ Why are vision problems so common in humans?                                    ┃\n",
       "┃         ┃                                                                                 ┃\n",
       "┃         ┃                                                                                 ┃\n",
       "┃         ┃ **Context:**                                                                    ┃\n",
       "┃         ┃ Evolution of human colour vision                                                ┃\n",
       "┃         ┃                                                                                 ┃\n",
       "┃         ┃ Evolution of human colour vision over time: humans (\"homo sapiens\") have        ┃\n",
       "┃         ┃ developed a trichromatic view of the world in comparison to a majority of other ┃\n",
       "┃         ┃ mammals that only see the world from a dichromatic view. Early human ancestors  ┃\n",
       "┃         ┃ are believed to have viewed the world using UV vision as far back as 90 million ┃\n",
       "┃         ┃ years ago. It is thought that the shift to trichromatic vision capabilities and ┃\n",
       "┃         ┃ the ability to see blue light have evolved as an adaptive trait over time. It   ┃\n",
       "┃         ┃ is believed that due to a number of environmental factors, ancestral humans     ┃\n",
       "┃         ┃ lived with limited colour vision. This is believed to have also been influenced ┃\n",
       "┃         ┃ by life styles, including being predominantly nocturnal. There is little data   ┃\n",
       "┃         ┃ indicating the advantages of UV vision in early human ancestors. Early human    ┃\n",
       "┃         ┃ ultraviolet vision, or ultraviolet sensitivity, included sensitivity in the     ┃\n",
       "┃         ┃ wavelength ranges between 400 and 10. These wavelengths are shorter than        ┃\n",
       "┃         ┃ visible light but longer than X-rays. In some rare cases, some modern day       ┃\n",
       "┃         ┃ humans can see within the UV spectrum at wavelengths close to 310. In other     ┃\n",
       "┃         ┃ animals that possess UV vision such as birds, ultraviolet sensitivity can be    ┃\n",
       "┃         ┃ advantageous for courtship and reproductive success. This is because some birds ┃\n",
       "┃         ┃ have feathers with certain favourable colourations that can not be              ┃\n",
       "┃         ┃ distinguished by human vision outside of the UV spectrum.Screening adults       ┃\n",
       "┃         ┃ without symptoms is of uncertain benefit. Diagnosis is by an eye exam. The      ┃\n",
       "┃         ┃ World Health Organization (WHO) estimates that 80% of visual impairment is      ┃\n",
       "┃         ┃ either preventable or curable with treatment. This includes cataracts, the      ┃\n",
       "┃         ┃ infections river blindness and trachoma, glaucoma, diabetic retinopathy,        ┃\n",
       "┃         ┃ uncorrected refractive errors, and some cases of childhood blindness. Many      ┃\n",
       "┃         ┃ people with significant visual impairment benefit from vision rehabilitation,   ┃\n",
       "┃         ┃ changes in their environment, and assistive devices. As of 2015 there were 940  ┃\n",
       "┃         ┃ million people with some degree of vision loss. 246 million had low vision and  ┃\n",
       "┃         ┃ 39 million were blind. The majority of people with poor vision are in the       ┃\n",
       "┃         ┃ developing world and are over the age of 50 years. Rates of visual impairment   ┃\n",
       "┃         ┃ have decreased since the 1990s. Visual impairments have considerable economic   ┃\n",
       "┃         ┃ costs both directly due to the cost of treatment and indirectly due to          ┃\n",
       "┃         ┃ decreased ability to work. The definition of visual impairment is reduced       ┃\n",
       "┃         ┃ vision not corrected by glasses or contact lenses. The World Health             ┃\n",
       "┃         ┃ Organization uses the following classifications of visual impairment. When the  ┃\n",
       "┃         ┃ vision in the better eye with best possible glasses correction is:              ┃\n",
       "┃         ┃                                                                                 ┃\n",
       "┃         ┃                                                                                 ┃\n",
       "┃         ┃ Blindness is defined by the World Health Organization as vision in a person's   ┃\n",
       "┃         ┃ best eye with best correction of less than 20/500 or a visual field of less     ┃\n",
       "┃         ┃ than 10 degrees.AMD Alliance International                                      ┃\n",
       "┃         ┃                                                                                 ┃\n",
       "┃         ┃ AMD Alliance International is a non-profit coalition of the world’s leading     ┃\n",
       "┃         ┃ vision, seniors and research organizations working to raise awareness of        ┃\n",
       "┃         ┃ age-related macular degeneration, understanding of available options for        ┃\n",
       "┃         ┃ prevention, early detection, treatment, rehabilitation and support services. It ┃\n",
       "┃         ┃ is the only international organization in the world that concentrates           ┃\n",
       "┃         ┃ exclusively on age related macular degeneration, the leading cause of vision    ┃\n",
       "┃         ┃ loss in the developed world. AMD is an eye condition that                       ┃\n",
       "┃         ┃ causes loss of central vision,                                                  ┃\n",
       "┃         ┃ leaving only peripheral, or side,                                               ┃\n",
       "┃         ┃ vision intact. AMD is the leading                                               ┃\n",
       "┃         ┃ cause of                                                                        ┃\n",
       "┃         ┃                                                                                 ┃\n",
       "┃         ┃                                                                                 ┃\n",
       "┃         ┃ **Answer:**                                                                     ┃\n",
       "┃         ┃ humans need glasses to see fine detail, like letters.  in a hunter gatherer     ┃\n",
       "┃         ┃ sense, 99% of peoples vision is probably sufficient.  i suspect there are       ┃\n",
       "┃         ┃ plenty of animals that would want glasses if they were intelligent enough to    ┃\n",
       "┃         ┃ know they were missing out on something.  but since most land animals have a    ┃\n",
       "┃         ┃ highly developed sense of smell compared to humans, they probably dont care.    ┃\n",
       "├─────────┼─────────────────────────────────────────────────────────────────────────────────┤\n",
       "│ <span style=\"font-weight: bold\">Labels:</span> │ humans need glasses to see fine detail, like letters.  in a hunter gatherer     │\n",
       "│         │ sense, 99% of peoples vision is probably sufficient.  i suspect there are       │\n",
       "│         │ plenty of animals that would want glasses if they were intelligent enough to    │\n",
       "│         │ know they were missing out on something.  but since most land animals have a    │\n",
       "│         │ highly developed sense of smell compared to humans, they probably dont care.    │\n",
       "└─────────┴─────────────────────────────────────────────────────────────────────────────────┘\n",
       "</pre>\n"
      ],
      "text/plain": [
       "<rich.jupyter.JupyterRenderable at 0x7f477c2d27f0>"
      ]
     },
     "metadata": {},
     "output_type": "display_data"
    },
    {
     "name": "stdout",
     "output_type": "stream",
     "text": [
      "<class 'tensorflow.python.distribute.values.PerReplica'>\n"
     ]
    },
    {
     "data": {
      "text/html": [
       "<pre style=\"white-space:pre;overflow-x:auto;line-height:normal;font-family:Menlo,'DejaVu Sans Mono',consolas,'Courier New',monospace\">\n",
       "\n",
       "**Question:**\n",
       "What’s up cold sores? Why do they blister without a burn? Why do they then morph into a scab \n",
       "that takes weeks to heal opposed to any other scab that might heal in days?\n",
       "\n",
       "\n",
       "**Context:**\n",
       "George D. Winter\n",
       "\n",
       "Dr. George D. Winter <span style=\"font-weight: bold\">(</span><span style=\"color: #008080; text-decoration-color: #008080; font-weight: bold\">1927</span>-<span style=\"color: #008080; text-decoration-color: #008080; font-weight: bold\">1981</span><span style=\"font-weight: bold\">)</span> was the British-born pioneer of moist wound healing. In \n",
       "<span style=\"color: #008080; text-decoration-color: #008080; font-weight: bold\">1962</span>, while working at the Department of Biomechanics and Surgical Materials at the \n",
       "University of London, Winter published his landmark Nature paper <span style=\"color: #008000; text-decoration-color: #008000\">\"Formation of the scab and </span>\n",
       "<span style=\"color: #008000; text-decoration-color: #008000\">the rate of epithelisation of superficial wounds in the skin of the young domestic pig\"</span> \n",
       "<span style=\"font-weight: bold\">(</span>Nature <span style=\"color: #00ff00; text-decoration-color: #00ff00; font-weight: bold\">193:293</span> <span style=\"color: #008080; text-decoration-color: #008080; font-weight: bold\">1962</span><span style=\"font-weight: bold\">)</span> where he demonstrated that, contrary to the conventional wisdom that \n",
       "wounds should be allowed to dry out and form scabs to promote healing, wounds instead healed \n",
       "faster if kept moist. Winter formed multiple partial thickness wounds on the backs of pigs, \n",
       "half left open to the air and half covered with a polymer film to keep them hydrated. The \n",
       "latter wounds healed faster, as measured by the migration of new epithelium on the wound bed.\n",
       "This work began the evolution of modern wound dressings that promote moist wound healing. \n",
       "George D. Winter was the first president of the European Society for Biomaterials and has an \n",
       "annual award named after him. Being a Urologist by Profession, he developed the Winter \n",
       "Shunting to treat Priapism.Herpes labialis\n",
       "\n",
       "Herpes labialis, commonly known as cold sores, is a type of infection by the herpes simplex \n",
       "virus that affects primarily the lip. Symptoms typically include a burning pain followed by \n",
       "small blisters or sores. The first attack may also be accompanied by fever, sore throat, and \n",
       "enlarged lymph nodes. The rash usually heals within <span style=\"color: #008080; text-decoration-color: #008080; font-weight: bold\">10</span> days, but the virus remains dormant in\n",
       "the trigeminal ganglion. The virus may periodically reactivate to create another outbreak of \n",
       "sores in the mouth or lip. The cause is usually herpes simplex virus type <span style=\"color: #008080; text-decoration-color: #008080; font-weight: bold\">1</span> <span style=\"font-weight: bold\">(</span>HSV-<span style=\"color: #008080; text-decoration-color: #008080; font-weight: bold\">1</span><span style=\"font-weight: bold\">)</span> and \n",
       "occasionally herpes simplex virus type <span style=\"color: #008080; text-decoration-color: #008080; font-weight: bold\">2</span> <span style=\"font-weight: bold\">(</span>HSV-<span style=\"color: #008080; text-decoration-color: #008080; font-weight: bold\">2</span><span style=\"font-weight: bold\">)</span>. The infection is typically spread between \n",
       "people by direct non-sexual contact. Attacks can be triggered by sunlight, fever, \n",
       "psychological stress, or a menstrual period. Direct contact with the genitals can result in \n",
       "genital herpes. Diagnosis is usually based on symptoms but can be confirmed with specific \n",
       "testing. Prevention includes avoiding kissing or using the personal items of a person who is \n",
       "infected. A zinc oxide, anesthetic, or antiviral cream appears to decrease the duration of \n",
       "symptoms by a small amount. Antiviral medications may also decrease the frequency of \n",
       "outbreaks.In the news media, hundreds of reports of MRSA outbreaks in prisons appeared \n",
       "between <span style=\"color: #008080; text-decoration-color: #008080; font-weight: bold\">2000</span> and <span style=\"color: #008080; text-decoration-color: #008080; font-weight: bold\">2008</span>. For example, in February <span style=\"color: #008080; text-decoration-color: #008080; font-weight: bold\">2008</span>, the Tulsa County jail in Oklahoma \n",
       "started treating an average of <span style=\"color: #008080; text-decoration-color: #008080; font-weight: bold\">12</span> <span style=\"color: #008000; text-decoration-color: #008000\">\"S. aureus\"</span> cases per month. Antibiotic use in livestock \n",
       "increases the risk that MRSA will develop among the livestock; strains MRSA ST <span style=\"color: #008080; text-decoration-color: #008080; font-weight: bold\">398</span> and CC398 \n",
       "are transmissible to humans. Generally, animals are asymptomatic. Domestic pets are \n",
       "susceptible to MRSA infection from their owners; MRSA infected pets can also transmit MRSA to\n",
       "humans. Locker rooms, gyms, and related athletic facilities offer potential sites for\n",
       "\n",
       "\n",
       "**Answer:**\n",
       "Cold sores are the herpes virus ‘erupting’ from nerve endings. Unlike a cut that forms a \n",
       "scab, a cold sore blister is quite deep as it comes from deep in the layer of the skin. This \n",
       "is why it takes a while to heal.\n",
       "</pre>\n"
      ],
      "text/plain": [
       "<rich.jupyter.JupyterRenderable at 0x7f477c250160>"
      ]
     },
     "metadata": {},
     "output_type": "display_data"
    },
    {
     "data": {
      "text/html": [
       "<pre style=\"white-space:pre;overflow-x:auto;line-height:normal;font-family:Menlo,'DejaVu Sans Mono',consolas,'Courier New',monospace\">Cold sores are the herpes virus ‘erupting’ from nerve endings. Unlike a cut that forms a \n",
       "scab, a cold sore blister is quite deep as it comes from deep in the layer of the skin. This \n",
       "is why it takes a while to heal.\n",
       "</pre>\n"
      ],
      "text/plain": [
       "<rich.jupyter.JupyterRenderable at 0x7f477c0698e0>"
      ]
     },
     "metadata": {},
     "output_type": "display_data"
    },
    {
     "data": {
      "text/html": [
       "<pre style=\"white-space:pre;overflow-x:auto;line-height:normal;font-family:Menlo,'DejaVu Sans Mono',consolas,'Courier New',monospace\">┏━━━━━━━━━┳━━━━━━━━━━━━━━━━━━━━━━━━━━━━━━━━━━━━━━━━━━━━━━━━━━━━━━━━━━━━━━━━━━━━━━━━━━━━━━━━━┓\n",
       "┃ <span style=\"font-weight: bold\">Inputs</span>  ┃ **Question:**                                                                   ┃\n",
       "┃         ┃ What’s up cold sores? Why do they blister without a burn? Why do they then      ┃\n",
       "┃         ┃ morph into a scab that takes weeks to heal opposed to any other scab that might ┃\n",
       "┃         ┃ heal in days?                                                                   ┃\n",
       "┃         ┃                                                                                 ┃\n",
       "┃         ┃                                                                                 ┃\n",
       "┃         ┃ **Context:**                                                                    ┃\n",
       "┃         ┃ George D. Winter                                                                ┃\n",
       "┃         ┃                                                                                 ┃\n",
       "┃         ┃ Dr. George D. Winter (1927-1981) was the British-born pioneer of moist wound    ┃\n",
       "┃         ┃ healing. In 1962, while working at the Department of Biomechanics and Surgical  ┃\n",
       "┃         ┃ Materials at the University of London, Winter published his landmark Nature     ┃\n",
       "┃         ┃ paper \"Formation of the scab and the rate of epithelisation of superficial      ┃\n",
       "┃         ┃ wounds in the skin of the young domestic pig\" (Nature 193:293 1962) where he    ┃\n",
       "┃         ┃ demonstrated that, contrary to the conventional wisdom that wounds should be    ┃\n",
       "┃         ┃ allowed to dry out and form scabs to promote healing, wounds instead healed     ┃\n",
       "┃         ┃ faster if kept moist. Winter formed multiple partial thickness wounds on the    ┃\n",
       "┃         ┃ backs of pigs, half left open to the air and half covered with a polymer film   ┃\n",
       "┃         ┃ to keep them hydrated. The latter wounds healed faster, as measured by the      ┃\n",
       "┃         ┃ migration of new epithelium on the wound bed. This work began the evolution of  ┃\n",
       "┃         ┃ modern wound dressings that promote moist wound healing. George D. Winter was   ┃\n",
       "┃         ┃ the first president of the European Society for Biomaterials and has an annual  ┃\n",
       "┃         ┃ award named after him. Being a Urologist by Profession, he developed the Winter ┃\n",
       "┃         ┃ Shunting to treat Priapism.Herpes labialis                                      ┃\n",
       "┃         ┃                                                                                 ┃\n",
       "┃         ┃ Herpes labialis, commonly known as cold sores, is a type of infection by the    ┃\n",
       "┃         ┃ herpes simplex virus that affects primarily the lip. Symptoms typically include ┃\n",
       "┃         ┃ a burning pain followed by small blisters or sores. The first attack may also   ┃\n",
       "┃         ┃ be accompanied by fever, sore throat, and enlarged lymph nodes. The rash        ┃\n",
       "┃         ┃ usually heals within 10 days, but the virus remains dormant in the trigeminal   ┃\n",
       "┃         ┃ ganglion. The virus may periodically reactivate to create another outbreak of   ┃\n",
       "┃         ┃ sores in the mouth or lip. The cause is usually herpes simplex virus type 1     ┃\n",
       "┃         ┃ (HSV-1) and occasionally herpes simplex virus type 2 (HSV-2). The infection is  ┃\n",
       "┃         ┃ typically spread between people by direct non-sexual contact. Attacks can be    ┃\n",
       "┃         ┃ triggered by sunlight, fever, psychological stress, or a menstrual period.      ┃\n",
       "┃         ┃ Direct contact with the genitals can result in genital herpes. Diagnosis is     ┃\n",
       "┃         ┃ usually based on symptoms but can be confirmed with specific testing.           ┃\n",
       "┃         ┃ Prevention includes avoiding kissing or using the personal items of a person    ┃\n",
       "┃         ┃ who is infected. A zinc oxide, anesthetic, or antiviral cream appears to        ┃\n",
       "┃         ┃ decrease the duration of symptoms by a small amount. Antiviral medications may  ┃\n",
       "┃         ┃ also decrease the frequency of outbreaks.In the news media, hundreds of reports ┃\n",
       "┃         ┃ of MRSA outbreaks in prisons appeared between 2000 and 2008. For example, in    ┃\n",
       "┃         ┃ February 2008, the Tulsa County jail in Oklahoma started treating an average of ┃\n",
       "┃         ┃ 12 \"S. aureus\" cases per month. Antibiotic use in livestock increases the risk  ┃\n",
       "┃         ┃ that MRSA will develop among the livestock; strains MRSA ST 398 and CC398 are   ┃\n",
       "┃         ┃ transmissible to humans. Generally, animals are asymptomatic. Domestic pets are ┃\n",
       "┃         ┃ susceptible to MRSA infection from their owners; MRSA infected pets can also    ┃\n",
       "┃         ┃ transmit MRSA to humans. Locker rooms, gyms, and related athletic facilities    ┃\n",
       "┃         ┃ offer potential sites for                                                       ┃\n",
       "┃         ┃                                                                                 ┃\n",
       "┃         ┃                                                                                 ┃\n",
       "┃         ┃ **Answer:**                                                                     ┃\n",
       "┃         ┃ Cold sores are the herpes virus ‘erupting’ from nerve endings. Unlike a cut     ┃\n",
       "┃         ┃ that forms a scab, a cold sore blister is quite deep as it comes from deep in   ┃\n",
       "┃         ┃ the layer of the skin. This is why it takes a while to heal.                    ┃\n",
       "├─────────┼─────────────────────────────────────────────────────────────────────────────────┤\n",
       "│ <span style=\"font-weight: bold\">Labels:</span> │ Cold sores are the herpes virus ‘erupting’ from nerve endings. Unlike a cut     │\n",
       "│         │ that forms a scab, a cold sore blister is quite deep as it comes from deep in   │\n",
       "│         │ the layer of the skin. This is why it takes a while to heal.                    │\n",
       "└─────────┴─────────────────────────────────────────────────────────────────────────────────┘\n",
       "</pre>\n"
      ],
      "text/plain": [
       "<rich.jupyter.JupyterRenderable at 0x7f477c3d4610>"
      ]
     },
     "metadata": {},
     "output_type": "display_data"
    },
    {
     "name": "stdout",
     "output_type": "stream",
     "text": [
      "<class 'tensorflow.python.distribute.values.PerReplica'>\n"
     ]
    },
    {
     "data": {
      "text/html": [
       "<pre style=\"white-space:pre;overflow-x:auto;line-height:normal;font-family:Menlo,'DejaVu Sans Mono',consolas,'Courier New',monospace\">\n",
       "\n",
       "**Question:**\n",
       "Why does the glass at the top of my car windscreen/windshield appear blue?\n",
       "\n",
       "\n",
       "**Context:**\n",
       "Nine days after Maps' release, Apple issued a statement apologizing for the frustration it \n",
       "had caused customers and recommending that they try alternate mapping services. Gizmodo \n",
       "editor Diaz discussed the correspondence between Apple and a reader about purple flare in \n",
       "pictures taken on iPhone <span style=\"color: #008080; text-decoration-color: #008080; font-weight: bold\">5</span> camera. Apple's response to the issue was that it is normal and \n",
       "advised the customer to aim the camera away from bright light sources when taking photos. \n",
       "Tests conducted by TechCrunch indicate that the problem existed on the iPhone 4s but was more\n",
       "distinct and pronounced on the iPhone <span style=\"color: #008080; text-decoration-color: #008080; font-weight: bold\">5</span>. Consumer Reports found that the purple haze effect \n",
       "occurred on several other manufacturers' phones including the Samsung Galaxy S III and \n",
       "Motorola Droid Razr Maxx, and that it was not less pronounced on the iPhone 4s. The report \n",
       "concluded that digital cameras in general, including higher-end SLRs, can all suffer from \n",
       "lens flare in which a purple-tinted effect was not uncommon. There were anecdotal claims of \n",
       "the iPhone <span style=\"color: #008080; text-decoration-color: #008080; font-weight: bold\">5</span>'s coating chipping off, exposing the bright aluminium underneath. Apple \n",
       "executive's response to email correspondence from an affected customer summarized that it was\n",
       "normal for aluminum to scratch.Blue Is the Warmest Colour\n",
       "\n",
       "Blue Is the Warmest Colour <span style=\"font-weight: bold\">(</span>; <span style=\"font-weight: bold\">)</span>, known as Blue Is the Warmest Color in the United States, is \n",
       "a <span style=\"color: #008080; text-decoration-color: #008080; font-weight: bold\">2013</span> French romance film co-written, co-produced, and directed by Abdellatif Kechiche, and \n",
       "starring Léa Seydoux and Adèle Exarchopoulos. The film follows Adèle <span style=\"font-weight: bold\">(</span>Exarchopoulos<span style=\"font-weight: bold\">)</span>, a \n",
       "French teenager who discovers desire and freedom when an aspiring painter <span style=\"font-weight: bold\">(</span>Seydoux<span style=\"font-weight: bold\">)</span> enters \n",
       "her life. The film charts their relationship from Adele's high school years to her early \n",
       "adult life and career as a school teacher. The premise of <span style=\"color: #008000; text-decoration-color: #008000\">\"Blue Is the Warmest Colour\"</span> is \n",
       "based on the <span style=\"color: #008080; text-decoration-color: #008080; font-weight: bold\">2010</span> graphic novel of the same name by Julie Maroh. Production began in March \n",
       "<span style=\"color: #008080; text-decoration-color: #008080; font-weight: bold\">2012</span> and lasted six months. Approximately <span style=\"color: #008080; text-decoration-color: #008080; font-weight: bold\">800</span> hours of footage was shot, including extensive \n",
       "B-roll footage, with Kechiche ultimately trimming the final cut of the film down to <span style=\"color: #008080; text-decoration-color: #008080; font-weight: bold\">179</span> \n",
       "minutes. The film generated controversy upon its premiere at the <span style=\"color: #008080; text-decoration-color: #008080; font-weight: bold\">2013</span> Cannes Film Festival \n",
       "and before its release. Much of the controversy was centered on claims of poor working \n",
       "conditions on set by the crew and the lead actresses, and also the film's raw depiction of \n",
       "sexuality. At the <span style=\"color: #008080; text-decoration-color: #008080; font-weight: bold\">2013</span> Cannes Film Festival the film unanimously won the Palme d'Or from the \n",
       "official jury and the FIPRESCI Prize.In an effort to alleviate these issues, several apps \n",
       "that change the color temperature of a screen to a warmer hue based on the time of day to \n",
       "reduce the amount of blue light generated have been developed for Android, while iOS <span style=\"color: #008080; text-decoration-color: #008080; font-weight: bold\">9.3</span> \n",
       "integrated similar, system-level functionality known as <span style=\"color: #008000; text-decoration-color: #008000\">\"Night Shift\"</span>. Amazon released a \n",
       "feature known as <span style=\"color: #008000; text-decoration-color: #008000\">\"blue shade\"</span> in their Fire OS <span style=\"color: #008000; text-decoration-color: #008000\">\"Bellini\"</span> <span style=\"color: #008080; text-decoration-color: #008080; font-weight: bold\">5.0</span> and later. It has also been \n",
       "theorized that for some users, addicted use of their phones, especially before they go to \n",
       "bed, can result in <span style=\"color: #008000; text-decoration-color: #008000\">\"ego depletion\"</span>. Many people also use their phones as alarm clocks, which \n",
       "can also lead to loss of sleep. Pocket cameras have difficulty producing bokeh in\n",
       "\n",
       "\n",
       "**Answer:**\n",
       "It appears blue because it is specifically tinted blue to keep the sun out of your eyes \n",
       "without significantly impacting visibility.\n",
       "</pre>\n"
      ],
      "text/plain": [
       "<rich.jupyter.JupyterRenderable at 0x7f477c2d27f0>"
      ]
     },
     "metadata": {},
     "output_type": "display_data"
    },
    {
     "data": {
      "text/html": [
       "<pre style=\"white-space:pre;overflow-x:auto;line-height:normal;font-family:Menlo,'DejaVu Sans Mono',consolas,'Courier New',monospace\">It appears blue because it is specifically tinted blue to keep the sun out of your eyes \n",
       "without significantly impacting visibility.\n",
       "</pre>\n"
      ],
      "text/plain": [
       "<rich.jupyter.JupyterRenderable at 0x7f477c250160>"
      ]
     },
     "metadata": {},
     "output_type": "display_data"
    },
    {
     "data": {
      "text/html": [
       "<pre style=\"white-space:pre;overflow-x:auto;line-height:normal;font-family:Menlo,'DejaVu Sans Mono',consolas,'Courier New',monospace\">┏━━━━━━━━━┳━━━━━━━━━━━━━━━━━━━━━━━━━━━━━━━━━━━━━━━━━━━━━━━━━━━━━━━━━━━━━━━━━━━━━━━━━━━━━━━━━┓\n",
       "┃ <span style=\"font-weight: bold\">Inputs</span>  ┃ **Question:**                                                                   ┃\n",
       "┃         ┃ Why does the glass at the top of my car windscreen/windshield appear blue?      ┃\n",
       "┃         ┃                                                                                 ┃\n",
       "┃         ┃                                                                                 ┃\n",
       "┃         ┃ **Context:**                                                                    ┃\n",
       "┃         ┃ Nine days after Maps' release, Apple issued a statement apologizing for the     ┃\n",
       "┃         ┃ frustration it had caused customers and recommending that they try alternate    ┃\n",
       "┃         ┃ mapping services. Gizmodo editor Diaz discussed the correspondence between      ┃\n",
       "┃         ┃ Apple and a reader about purple flare in pictures taken on iPhone 5 camera.     ┃\n",
       "┃         ┃ Apple's response to the issue was that it is normal and advised the customer to ┃\n",
       "┃         ┃ aim the camera away from bright light sources when taking photos. Tests         ┃\n",
       "┃         ┃ conducted by TechCrunch indicate that the problem existed on the iPhone 4s but  ┃\n",
       "┃         ┃ was more distinct and pronounced on the iPhone 5. Consumer Reports found that   ┃\n",
       "┃         ┃ the purple haze effect occurred on several other manufacturers' phones          ┃\n",
       "┃         ┃ including the Samsung Galaxy S III and Motorola Droid Razr Maxx, and that it    ┃\n",
       "┃         ┃ was not less pronounced on the iPhone 4s. The report concluded that digital     ┃\n",
       "┃         ┃ cameras in general, including higher-end SLRs, can all suffer from lens flare   ┃\n",
       "┃         ┃ in which a purple-tinted effect was not uncommon. There were anecdotal claims   ┃\n",
       "┃         ┃ of the iPhone 5's coating chipping off, exposing the bright aluminium           ┃\n",
       "┃         ┃ underneath. Apple executive's response to email correspondence from an affected ┃\n",
       "┃         ┃ customer summarized that it was normal for aluminum to scratch.Blue Is the      ┃\n",
       "┃         ┃ Warmest Colour                                                                  ┃\n",
       "┃         ┃                                                                                 ┃\n",
       "┃         ┃ Blue Is the Warmest Colour (; ), known as Blue Is the Warmest Color in the      ┃\n",
       "┃         ┃ United States, is a 2013 French romance film co-written, co-produced, and       ┃\n",
       "┃         ┃ directed by Abdellatif Kechiche, and starring Léa Seydoux and Adèle             ┃\n",
       "┃         ┃ Exarchopoulos. The film follows Adèle (Exarchopoulos), a French teenager who    ┃\n",
       "┃         ┃ discovers desire and freedom when an aspiring painter (Seydoux) enters her      ┃\n",
       "┃         ┃ life. The film charts their relationship from Adele's high school years to her  ┃\n",
       "┃         ┃ early adult life and career as a school teacher. The premise of \"Blue Is the    ┃\n",
       "┃         ┃ Warmest Colour\" is based on the 2010 graphic novel of the same name by Julie    ┃\n",
       "┃         ┃ Maroh. Production began in March 2012 and lasted six months. Approximately 800  ┃\n",
       "┃         ┃ hours of footage was shot, including extensive B-roll footage, with Kechiche    ┃\n",
       "┃         ┃ ultimately trimming the final cut of the film down to 179 minutes. The film     ┃\n",
       "┃         ┃ generated controversy upon its premiere at the 2013 Cannes Film Festival and    ┃\n",
       "┃         ┃ before its release. Much of the controversy was centered on claims of poor      ┃\n",
       "┃         ┃ working conditions on set by the crew and the lead actresses, and also the      ┃\n",
       "┃         ┃ film's raw depiction of sexuality. At the 2013 Cannes Film Festival the film    ┃\n",
       "┃         ┃ unanimously won the Palme d'Or from the official jury and the FIPRESCI Prize.In ┃\n",
       "┃         ┃ an effort to alleviate these issues, several apps that change the color         ┃\n",
       "┃         ┃ temperature of a screen to a warmer hue based on the time of day to reduce the  ┃\n",
       "┃         ┃ amount of blue light generated have been developed for Android, while iOS 9.3   ┃\n",
       "┃         ┃ integrated similar, system-level functionality known as \"Night Shift\". Amazon   ┃\n",
       "┃         ┃ released a feature known as \"blue shade\" in their Fire OS \"Bellini\" 5.0 and     ┃\n",
       "┃         ┃ later. It has also been theorized that for some users, addicted use of their    ┃\n",
       "┃         ┃ phones, especially before they go to bed, can result in \"ego depletion\". Many   ┃\n",
       "┃         ┃ people also use their phones as alarm clocks, which can also lead to loss of    ┃\n",
       "┃         ┃ sleep. Pocket cameras have difficulty producing bokeh in                        ┃\n",
       "┃         ┃                                                                                 ┃\n",
       "┃         ┃                                                                                 ┃\n",
       "┃         ┃ **Answer:**                                                                     ┃\n",
       "┃         ┃ It appears blue because it is specifically tinted blue to keep the sun out of   ┃\n",
       "┃         ┃ your eyes without significantly impacting visibility.                           ┃\n",
       "├─────────┼─────────────────────────────────────────────────────────────────────────────────┤\n",
       "│ <span style=\"font-weight: bold\">Labels:</span> │ It appears blue because it is specifically tinted blue to keep the sun out of   │\n",
       "│         │ your eyes without significantly impacting visibility.                           │\n",
       "└─────────┴─────────────────────────────────────────────────────────────────────────────────┘\n",
       "</pre>\n"
      ],
      "text/plain": [
       "<rich.jupyter.JupyterRenderable at 0x7f477c069220>"
      ]
     },
     "metadata": {},
     "output_type": "display_data"
    },
    {
     "name": "stdout",
     "output_type": "stream",
     "text": [
      "<class 'tensorflow.python.distribute.values.PerReplica'>\n"
     ]
    },
    {
     "data": {
      "text/html": [
       "<pre style=\"white-space:pre;overflow-x:auto;line-height:normal;font-family:Menlo,'DejaVu Sans Mono',consolas,'Courier New',monospace\">\n",
       "\n",
       "**Question:**\n",
       "If you killed someone on the Four Corners Monument, which state's laws would you be \n",
       "prosecuted with?\n",
       "\n",
       "\n",
       "**Context:**\n",
       "Four Corners Monument\n",
       "\n",
       "The Four Corners Monument marks the quadripoint in the Southwestern United States where the \n",
       "states of Arizona, Colorado, New Mexico, and Utah meet. It is the only point in the United \n",
       "States shared by four states, leading to the area being named the Four Corners region. The \n",
       "monument also marks the boundary between two semi-autonomous Native American governments, the\n",
       "Navajo Nation, which maintains the monument as a tourist attraction, and the Ute Mountain Ute\n",
       "Tribe Reservation. The origins of the state boundaries marked by the monument occurred just \n",
       "prior to, and during, the American Civil War, when the United States Congress acted to form \n",
       "governments in the area to combat the spread of slavery to the region. When the early \n",
       "territories were formed, their boundaries were designated along meridian and parallel lines. \n",
       "Beginning in the 1860s, these lines were surveyed and marked. These early surveys included \n",
       "some errors, but even so, the markers placed became the legal boundaries, superseding the \n",
       "written descriptions of geographical meridians and parallels. This includes the Four Corners \n",
       "Monument, which has been legally established as the corner of the four states. The monument \n",
       "where <span style=\"color: #008000; text-decoration-color: #008000\">\"visitors can simultaneously straddle the territory of four states\"</span> is maintained as a \n",
       "tourist attraction by the Navajo Nation Parks and Recreation Department.Four Corners\n",
       "\n",
       "The Four Corners is a region of the United States consisting of the southwestern corner of \n",
       "Colorado, southeastern corner of Utah, northeastern corner of Arizona, and northwestern \n",
       "corner of New Mexico. The Four Corners area is named after the quadripoint at the \n",
       "intersection of approximately <span style=\"color: #008080; text-decoration-color: #008080; font-weight: bold\">37</span>° north latitude with <span style=\"color: #008080; text-decoration-color: #008080; font-weight: bold\">109</span>° <span style=\"color: #008080; text-decoration-color: #008080; font-weight: bold\">03</span>' west longitude, where the \n",
       "boundaries of the four states meet, and are marked by the Four Corners Monument. It is the \n",
       "only location in the United States where four states meet. Most of the Four Corners region \n",
       "belongs to semi-autonomous Native American nations, the largest of which is the Navajo \n",
       "Nation, followed by Hopi, Ute, and Zuni tribal reserves and nations. The Four Corners region \n",
       "is part of a larger region known as the Colorado Plateau and is mostly rural, rugged, and \n",
       "arid. In addition to the monument, commonly visited areas within Four Corners include \n",
       "Monument Valley, Mesa Verde National Park, Chaco Canyon, Canyons of the Ancients National \n",
       "Monument and Canyon de Chelly National Monument. The most populous city in the Four Corners \n",
       "region is Farmington, New Mexico, followed by Durango, Colorado. The United States acquired \n",
       "the four corners region from Mexico after the end of the Mexican–American War in <span style=\"color: #008080; text-decoration-color: #008080; font-weight: bold\">1848</span>. In \n",
       "<span style=\"color: #008080; text-decoration-color: #008080; font-weight: bold\">1863</span> Congress created Arizona Territory from the western part of New Mexico Territory.Unlike \n",
       "many other attractions based on what are <span style=\"font-weight: bold\">(</span>or were<span style=\"font-weight: bold\">)</span> primarily political boundaries, such as \n",
       "the Berlin Wall, Four Corners Monument is an example of a political boundary that is a \n",
       "tourist destination in its own right. The monument consists of a granite disk embedded with a\n",
       "smaller bronze disk around the point, surrounded by smaller, appropriately located state \n",
       "seals and flags representing both the states and tribal nations of the area. Circling the \n",
       "point, starting from north, the disk reads with two words in each state \"\n",
       "\n",
       "\n",
       "**Answer:**\n",
       "<span style=\"font-weight: bold\">[</span>Slightly NSFW.<span style=\"font-weight: bold\">](</span>_URL_0_<span style=\"font-weight: bold\">)</span>  \n",
       "  \n",
       "Since it's a serious crime that is inter-state, the federal government will likely step in.  \n",
       "  \n",
       "Also, it's a national monument and in Indian Reservation territory, even more reason for it \n",
       "to be the FBI.  \n",
       "  \n",
       "Double also, simply searching Google about this <span style=\"font-weight: bold\">(</span><span style=\"color: #008000; text-decoration-color: #008000\">\"four corners jurisdiction\"</span><span style=\"font-weight: bold\">)</span> brought up an \n",
       "ELI5 post about this as the top result.\n",
       "</pre>\n"
      ],
      "text/plain": [
       "<rich.jupyter.JupyterRenderable at 0x7f477c3d4370>"
      ]
     },
     "metadata": {},
     "output_type": "display_data"
    },
    {
     "data": {
      "text/html": [
       "<pre style=\"white-space:pre;overflow-x:auto;line-height:normal;font-family:Menlo,'DejaVu Sans Mono',consolas,'Courier New',monospace\"><span style=\"font-weight: bold\">[</span>Slightly NSFW.<span style=\"font-weight: bold\">](</span>_URL_0_<span style=\"font-weight: bold\">)</span>  \n",
       "  \n",
       "Since it's a serious crime that is inter-state, the federal government will likely step in.  \n",
       "  \n",
       "Also, it's a national monument and in Indian Reservation territory, even more reason for it \n",
       "to be the FBI.  \n",
       "  \n",
       "Double also, simply searching Google about this <span style=\"font-weight: bold\">(</span><span style=\"color: #008000; text-decoration-color: #008000\">\"four corners jurisdiction\"</span><span style=\"font-weight: bold\">)</span> brought up an \n",
       "ELI5 post about this as the top result.\n",
       "</pre>\n"
      ],
      "text/plain": [
       "<rich.jupyter.JupyterRenderable at 0x7f477c107a30>"
      ]
     },
     "metadata": {},
     "output_type": "display_data"
    },
    {
     "data": {
      "text/html": [
       "<pre style=\"white-space:pre;overflow-x:auto;line-height:normal;font-family:Menlo,'DejaVu Sans Mono',consolas,'Courier New',monospace\">┏━━━━━━━━━┳━━━━━━━━━━━━━━━━━━━━━━━━━━━━━━━━━━━━━━━━━━━━━━━━━━━━━━━━━━━━━━━━━━━━━━━━━━━━━━━━━┓\n",
       "┃ <span style=\"font-weight: bold\">Inputs</span>  ┃ **Question:**                                                                   ┃\n",
       "┃         ┃ If you killed someone on the Four Corners Monument, which state's laws would    ┃\n",
       "┃         ┃ you be prosecuted with?                                                         ┃\n",
       "┃         ┃                                                                                 ┃\n",
       "┃         ┃                                                                                 ┃\n",
       "┃         ┃ **Context:**                                                                    ┃\n",
       "┃         ┃ Four Corners Monument                                                           ┃\n",
       "┃         ┃                                                                                 ┃\n",
       "┃         ┃ The Four Corners Monument marks the quadripoint in the Southwestern United      ┃\n",
       "┃         ┃ States where the states of Arizona, Colorado, New Mexico, and Utah meet. It is  ┃\n",
       "┃         ┃ the only point in the United States shared by four states, leading to the area  ┃\n",
       "┃         ┃ being named the Four Corners region. The monument also marks the boundary       ┃\n",
       "┃         ┃ between two semi-autonomous Native American governments, the Navajo Nation,     ┃\n",
       "┃         ┃ which maintains the monument as a tourist attraction, and the Ute Mountain Ute  ┃\n",
       "┃         ┃ Tribe Reservation. The origins of the state boundaries marked by the monument   ┃\n",
       "┃         ┃ occurred just prior to, and during, the American Civil War, when the United     ┃\n",
       "┃         ┃ States Congress acted to form governments in the area to combat the spread of   ┃\n",
       "┃         ┃ slavery to the region. When the early territories were formed, their boundaries ┃\n",
       "┃         ┃ were designated along meridian and parallel lines. Beginning in the 1860s,      ┃\n",
       "┃         ┃ these lines were surveyed and marked. These early surveys included some errors, ┃\n",
       "┃         ┃ but even so, the markers placed became the legal boundaries, superseding the    ┃\n",
       "┃         ┃ written descriptions of geographical meridians and parallels. This includes the ┃\n",
       "┃         ┃ Four Corners Monument, which has been legally established as the corner of the  ┃\n",
       "┃         ┃ four states. The monument where \"visitors can simultaneously straddle the       ┃\n",
       "┃         ┃ territory of four states\" is maintained as a tourist attraction by the Navajo   ┃\n",
       "┃         ┃ Nation Parks and Recreation Department.Four Corners                             ┃\n",
       "┃         ┃                                                                                 ┃\n",
       "┃         ┃ The Four Corners is a region of the United States consisting of the             ┃\n",
       "┃         ┃ southwestern corner of Colorado, southeastern corner of Utah, northeastern      ┃\n",
       "┃         ┃ corner of Arizona, and northwestern corner of New Mexico. The Four Corners area ┃\n",
       "┃         ┃ is named after the quadripoint at the intersection of approximately 37° north   ┃\n",
       "┃         ┃ latitude with 109° 03' west longitude, where the boundaries of the four states  ┃\n",
       "┃         ┃ meet, and are marked by the Four Corners Monument. It is the only location in   ┃\n",
       "┃         ┃ the United States where four states meet. Most of the Four Corners region       ┃\n",
       "┃         ┃ belongs to semi-autonomous Native American nations, the largest of which is the ┃\n",
       "┃         ┃ Navajo Nation, followed by Hopi, Ute, and Zuni tribal reserves and nations. The ┃\n",
       "┃         ┃ Four Corners region is part of a larger region known as the Colorado Plateau    ┃\n",
       "┃         ┃ and is mostly rural, rugged, and arid. In addition to the monument, commonly    ┃\n",
       "┃         ┃ visited areas within Four Corners include Monument Valley, Mesa Verde National  ┃\n",
       "┃         ┃ Park, Chaco Canyon, Canyons of the Ancients National Monument and Canyon de     ┃\n",
       "┃         ┃ Chelly National Monument. The most populous city in the Four Corners region is  ┃\n",
       "┃         ┃ Farmington, New Mexico, followed by Durango, Colorado. The United States        ┃\n",
       "┃         ┃ acquired the four corners region from Mexico after the end of the               ┃\n",
       "┃         ┃ Mexican–American War in 1848. In 1863 Congress created Arizona Territory from   ┃\n",
       "┃         ┃ the western part of New Mexico Territory.Unlike many other attractions based on ┃\n",
       "┃         ┃ what are (or were) primarily political boundaries, such as the Berlin Wall,     ┃\n",
       "┃         ┃ Four Corners Monument is an example of a political boundary that is a tourist   ┃\n",
       "┃         ┃ destination in its own right. The monument consists of a granite disk embedded  ┃\n",
       "┃         ┃ with a smaller bronze disk around the point, surrounded by smaller,             ┃\n",
       "┃         ┃ appropriately located state seals and flags representing both the states and    ┃\n",
       "┃         ┃ tribal nations of the area. Circling the point, starting from north, the disk   ┃\n",
       "┃         ┃ reads with two words in each state \"                                            ┃\n",
       "┃         ┃                                                                                 ┃\n",
       "┃         ┃                                                                                 ┃\n",
       "┃         ┃ **Answer:**                                                                     ┃\n",
       "┃         ┃ [Slightly NSFW.](_URL_0_)                                                       ┃\n",
       "┃         ┃                                                                                 ┃\n",
       "┃         ┃ Since it's a serious crime that is inter-state, the federal government will     ┃\n",
       "┃         ┃ likely step in.                                                                 ┃\n",
       "┃         ┃                                                                                 ┃\n",
       "┃         ┃ Also, it's a national monument and in Indian Reservation territory, even more   ┃\n",
       "┃         ┃ reason for it to be the FBI.                                                    ┃\n",
       "┃         ┃                                                                                 ┃\n",
       "┃         ┃ Double also, simply searching Google about this (\"four corners jurisdiction\")   ┃\n",
       "┃         ┃ brought up an ELI5 post about this as the top result.                           ┃\n",
       "├─────────┼─────────────────────────────────────────────────────────────────────────────────┤\n",
       "│ <span style=\"font-weight: bold\">Labels:</span> │ [Slightly NSFW.](_URL_0_)                                                       │\n",
       "│         │                                                                                 │\n",
       "│         │ Since it's a serious crime that is inter-state, the federal government will     │\n",
       "│         │ likely step in.                                                                 │\n",
       "│         │                                                                                 │\n",
       "│         │ Also, it's a national monument and in Indian Reservation territory, even more   │\n",
       "│         │ reason for it to be the FBI.                                                    │\n",
       "│         │                                                                                 │\n",
       "│         │ Double also, simply searching Google about this (\"four corners jurisdiction\")   │\n",
       "│         │ brought up an ELI5 post about this as the top result.                           │\n",
       "└─────────┴─────────────────────────────────────────────────────────────────────────────────┘\n",
       "</pre>\n"
      ],
      "text/plain": [
       "<rich.jupyter.JupyterRenderable at 0x7f4764328250>"
      ]
     },
     "metadata": {},
     "output_type": "display_data"
    },
    {
     "name": "stdout",
     "output_type": "stream",
     "text": [
      "<class 'tensorflow.python.distribute.values.PerReplica'>\n"
     ]
    },
    {
     "data": {
      "text/html": [
       "<pre style=\"white-space:pre;overflow-x:auto;line-height:normal;font-family:Menlo,'DejaVu Sans Mono',consolas,'Courier New',monospace\">\n",
       "\n",
       "**Question:**\n",
       "What is a scientific explanation for <span style=\"color: #008000; text-decoration-color: #008000\">\"The Hum\"</span> phenomena that the low-frequency, \n",
       "unexplainable noise that is heard throughout the world?\n",
       "\n",
       "\n",
       "**Context:**\n",
       "The Hum\n",
       "\n",
       "The Hum is a phenomenon, or collection of phenomena, involving widespread reports of a \n",
       "persistent and invasive low-frequency humming, rumbling, or droning noise not audible to all \n",
       "people. Hums have been widely reported by national media in the UK and the United States. The\n",
       "Hum is sometimes prefixed with the name of a locality where the problem has been particularly\n",
       "publicized: e.g., the <span style=\"color: #008000; text-decoration-color: #008000\">\"Bristol Hum\"</span> or the <span style=\"color: #008000; text-decoration-color: #008000\">\"Taos Hum\"</span>. It is unclear whether it is a single \n",
       "phenomenon; different causes have been attributed. In some cases, it may be a manifestation \n",
       "of tinnitus. The essential element that defines the Hum is what is perceived as a persistent \n",
       "low-frequency sound, often described as being comparable to that of a distant diesel engine \n",
       "idling, or to some similar low-pitched sound for which obvious sources <span style=\"font-weight: bold\">(</span>e.g., household \n",
       "appliances, traffic noise, etc.<span style=\"font-weight: bold\">)</span> have been ruled out. There are a number of audio \n",
       "reproductions of the Hum available on the web, as well as at least one purported recording. \n",
       "Other elements seem to be significantly associated with the Hum, being reported by an \n",
       "important proportion of hearers, but not by all of them. Some people hear the Hum only, or \n",
       "much more, inside buildings as compared with outdoors. Some perceive vibrations that can be \n",
       "felt through the body. Earplugs are reported as not decreasing it.However, the theory that \n",
       "the Hum is actually tinnitus fails to explain why some hearers report that the Hum can be \n",
       "heard only at certain geographical locations. While the Hum is hypothesized by some to be a \n",
       "form of low frequency tinnitus such as the venous hum, some report it is not internal, being \n",
       "worse inside their homes than outside. However, others insist that it is equally bad indoors \n",
       "and outdoors. Some people notice the Hum only at home, while others hear it everywhere they \n",
       "go. Some sufferers report that it is made worse by soundproofing <span style=\"font-weight: bold\">(</span>e.g., double glazing<span style=\"font-weight: bold\">)</span>, \n",
       "which serves only to decrease other environmental noise, thus making the Hum more apparent. \n",
       "Tinnitus is known to be exacerbated by allergens, which are regional and seasonal. Due to \n",
       "blockages, inflammation, and pressure inside the head, taking allergy medicine may help to \n",
       "mitigate the Hum. Human ears generate their own noises, called spontaneous otoacoustic \n",
       "emissions <span style=\"font-weight: bold\">(</span>SOAE<span style=\"font-weight: bold\">)</span>. Various studies have showed that <span style=\"color: #008080; text-decoration-color: #008080; font-weight: bold\">38</span>–<span style=\"color: #008080; text-decoration-color: #008080; font-weight: bold\">60</span>% of adults with normal hearing have \n",
       "them, although the majority are unaware of these sounds. The people who do hear these sounds \n",
       "typically hear a faint buzzing or ringing, especially if they are otherwise in complete \n",
       "silence. Researchers who looked at the Taos Hum considered otoacoustic emissions as a \n",
       "possibility.After those devices were corrected, however, reports of the hum persisted. Two \n",
       "hums have been linked to mechanical sources. The West Seattle Hum was traced to a vacuum pump\n",
       "used by CalPortland to offload cargo from ships. After CalPortland replaced the silencers on \n",
       "the machine, reports of the hum ceased. Likewise, the Wellington Hum is thought to have been \n",
       "due to the diesel generator on a visiting ship. A <span style=\"color: #008080; text-decoration-color: #008080; font-weight: bold\">35</span> \n",
       "\n",
       "\n",
       "**Answer:**\n",
       "&gt; What is a scientific **explanation** for <span style=\"color: #008000; text-decoration-color: #008000\">\"The Hum\"</span> phenomena that the low-frequency, \n",
       "**unexplainable** noise that is heard throughout the world?\n",
       "\n",
       "You just answered your own question.  There is currently no explanation.\n",
       "</pre>\n"
      ],
      "text/plain": [
       "<rich.jupyter.JupyterRenderable at 0x7f47771606d0>"
      ]
     },
     "metadata": {},
     "output_type": "display_data"
    },
    {
     "data": {
      "text/html": [
       "<pre style=\"white-space:pre;overflow-x:auto;line-height:normal;font-family:Menlo,'DejaVu Sans Mono',consolas,'Courier New',monospace\">&gt; What is a scientific **explanation** for <span style=\"color: #008000; text-decoration-color: #008000\">\"The Hum\"</span> phenomena that the low-frequency, \n",
       "**unexplainable** noise that is heard throughout the world?\n",
       "\n",
       "You just answered your own question.  There is currently no explanation.\n",
       "</pre>\n"
      ],
      "text/plain": [
       "<rich.jupyter.JupyterRenderable at 0x7f477c107a30>"
      ]
     },
     "metadata": {},
     "output_type": "display_data"
    },
    {
     "data": {
      "text/html": [
       "<pre style=\"white-space:pre;overflow-x:auto;line-height:normal;font-family:Menlo,'DejaVu Sans Mono',consolas,'Courier New',monospace\">┏━━━━━━━━━┳━━━━━━━━━━━━━━━━━━━━━━━━━━━━━━━━━━━━━━━━━━━━━━━━━━━━━━━━━━━━━━━━━━━━━━━━━━━━━━━━━┓\n",
       "┃ <span style=\"font-weight: bold\">Inputs</span>  ┃ **Question:**                                                                   ┃\n",
       "┃         ┃ What is a scientific explanation for \"The Hum\" phenomena that the               ┃\n",
       "┃         ┃ low-frequency, unexplainable noise that is heard throughout the world?          ┃\n",
       "┃         ┃                                                                                 ┃\n",
       "┃         ┃                                                                                 ┃\n",
       "┃         ┃ **Context:**                                                                    ┃\n",
       "┃         ┃ The Hum                                                                         ┃\n",
       "┃         ┃                                                                                 ┃\n",
       "┃         ┃ The Hum is a phenomenon, or collection of phenomena, involving widespread       ┃\n",
       "┃         ┃ reports of a persistent and invasive low-frequency humming, rumbling, or        ┃\n",
       "┃         ┃ droning noise not audible to all people. Hums have been widely reported by      ┃\n",
       "┃         ┃ national media in the UK and the United States. The Hum is sometimes prefixed   ┃\n",
       "┃         ┃ with the name of a locality where the problem has been particularly publicized: ┃\n",
       "┃         ┃ e.g., the \"Bristol Hum\" or the \"Taos Hum\". It is unclear whether it is a single ┃\n",
       "┃         ┃ phenomenon; different causes have been attributed. In some cases, it may be a   ┃\n",
       "┃         ┃ manifestation of tinnitus. The essential element that defines the Hum is what   ┃\n",
       "┃         ┃ is perceived as a persistent low-frequency sound, often described as being      ┃\n",
       "┃         ┃ comparable to that of a distant diesel engine idling, or to some similar        ┃\n",
       "┃         ┃ low-pitched sound for which obvious sources (e.g., household appliances,        ┃\n",
       "┃         ┃ traffic noise, etc.) have been ruled out. There are a number of audio           ┃\n",
       "┃         ┃ reproductions of the Hum available on the web, as well as at least one          ┃\n",
       "┃         ┃ purported recording. Other elements seem to be significantly associated with    ┃\n",
       "┃         ┃ the Hum, being reported by an important proportion of hearers, but not by all   ┃\n",
       "┃         ┃ of them. Some people hear the Hum only, or much more, inside buildings as       ┃\n",
       "┃         ┃ compared with outdoors. Some perceive vibrations that can be felt through the   ┃\n",
       "┃         ┃ body. Earplugs are reported as not decreasing it.However, the theory that the   ┃\n",
       "┃         ┃ Hum is actually tinnitus fails to explain why some hearers report that the Hum  ┃\n",
       "┃         ┃ can be heard only at certain geographical locations. While the Hum is           ┃\n",
       "┃         ┃ hypothesized by some to be a form of low frequency tinnitus such as the venous  ┃\n",
       "┃         ┃ hum, some report it is not internal, being worse inside their homes than        ┃\n",
       "┃         ┃ outside. However, others insist that it is equally bad indoors and outdoors.    ┃\n",
       "┃         ┃ Some people notice the Hum only at home, while others hear it everywhere they   ┃\n",
       "┃         ┃ go. Some sufferers report that it is made worse by soundproofing (e.g., double  ┃\n",
       "┃         ┃ glazing), which serves only to decrease other environmental noise, thus making  ┃\n",
       "┃         ┃ the Hum more apparent. Tinnitus is known to be exacerbated by allergens, which  ┃\n",
       "┃         ┃ are regional and seasonal. Due to blockages, inflammation, and pressure inside  ┃\n",
       "┃         ┃ the head, taking allergy medicine may help to mitigate the Hum. Human ears      ┃\n",
       "┃         ┃ generate their own noises, called spontaneous otoacoustic emissions (SOAE).     ┃\n",
       "┃         ┃ Various studies have showed that 38–60% of adults with normal hearing have      ┃\n",
       "┃         ┃ them, although the majority are unaware of these sounds. The people who do hear ┃\n",
       "┃         ┃ these sounds typically hear a faint buzzing or ringing, especially if they are  ┃\n",
       "┃         ┃ otherwise in complete silence. Researchers who looked at the Taos Hum           ┃\n",
       "┃         ┃ considered otoacoustic emissions as a possibility.After those devices were      ┃\n",
       "┃         ┃ corrected, however, reports of the hum persisted. Two hums have been linked to  ┃\n",
       "┃         ┃ mechanical sources. The West Seattle Hum was traced to a vacuum pump used by    ┃\n",
       "┃         ┃ CalPortland to offload cargo from ships. After CalPortland replaced the         ┃\n",
       "┃         ┃ silencers on the machine, reports of the hum ceased. Likewise, the Wellington   ┃\n",
       "┃         ┃ Hum is thought to have been due to the diesel generator on a visiting ship. A   ┃\n",
       "┃         ┃ 35                                                                              ┃\n",
       "┃         ┃                                                                                 ┃\n",
       "┃         ┃                                                                                 ┃\n",
       "┃         ┃ **Answer:**                                                                     ┃\n",
       "┃         ┃ &gt; What is a scientific **explanation** for \"The Hum\" phenomena that the         ┃\n",
       "┃         ┃ low-frequency, **unexplainable** noise that is heard throughout the world?      ┃\n",
       "┃         ┃                                                                                 ┃\n",
       "┃         ┃ You just answered your own question.  There is currently no explanation.        ┃\n",
       "├─────────┼─────────────────────────────────────────────────────────────────────────────────┤\n",
       "│ <span style=\"font-weight: bold\">Labels:</span> │ &gt; What is a scientific **explanation** for \"The Hum\" phenomena that the         │\n",
       "│         │ low-frequency, **unexplainable** noise that is heard throughout the world?      │\n",
       "│         │                                                                                 │\n",
       "│         │ You just answered your own question.  There is currently no explanation.        │\n",
       "└─────────┴─────────────────────────────────────────────────────────────────────────────────┘\n",
       "</pre>\n"
      ],
      "text/plain": [
       "<rich.jupyter.JupyterRenderable at 0x7f477c0698e0>"
      ]
     },
     "metadata": {},
     "output_type": "display_data"
    },
    {
     "name": "stdout",
     "output_type": "stream",
     "text": [
      "done\n"
     ]
    }
   ],
   "source": [
    "check_setup_is_as_expected(strategy)\n",
    "console = rich.console.Console()\n",
    "\n",
    "def prepare_special_token(bpe_id):\n",
    "    if bpe_id == tokenizer.eos_token_id:\n",
    "        return f\" << eos >> \"\n",
    "    if bpe_id < 0:\n",
    "        return f\" << {x} >> \"\n",
    "    else:\n",
    "        raise ValueError(bpe_id)\n",
    "    \n",
    "\n",
    "    \n",
    "def filter_and_decode(tokenizer, token_ids):\n",
    "    return tokenizer.decode([\n",
    "        x for x in token_ids if x >= 0 and x != tokenizer.eos_token_id\n",
    "    ])\n",
    "    \n",
    "    \n",
    "import re\n",
    "def format_output_text(text, mode=\"normal\"):\n",
    "    if mode == \"normal\":\n",
    "        boldify_words = [\"Question:\", \"Answer:\", \"Context:\"]\n",
    "        for word in boldify_words:\n",
    "            text = text.replace(word, f\"\\n\\n**{word}**\")\n",
    "            text = re.sub(r\"\\n{3, +}\", \"\\n\\n\", text)\n",
    "    elif mode == \"plain\":\n",
    "        return text\n",
    "    else:\n",
    "        raise RuntimeError(mode)\n",
    "    rich.jupyter.print(text)\n",
    "    \n",
    "    return text.strip()\n",
    "        \n",
    "    \n",
    "for split in [\n",
    "  # \"eval\", \n",
    "  # \"test\", \n",
    "    \"train\"\n",
    "]:\n",
    "    ds_paths = splits_to_ds_paths[split]\n",
    "    \n",
    "    ###########################################################################\n",
    "    # Build and Distribute the DS\n",
    "    ###########################################################################\n",
    "    print(\"Building DS\")\n",
    "    ds = build_dataset(\n",
    "        ds_paths, \n",
    "        context_window_size, \n",
    "        split, \n",
    "        len(tf_utils.devices_to_use())\n",
    "    )\n",
    "    ds = ds.map(maybe_retrieve_and_merge[split])\n",
    "    dds = strategy.experimental_distribute_dataset(ds)\n",
    "    \n",
    "    \n",
    "    print(\"Starting loop.\")\n",
    "    for major, dist_items in enumerate(toolz.take(1 if _ACCEL_TYPE == \"TPU\" else 8, dds)):\n",
    "        print(\"LOOPED ONCE.\")\n",
    "        print(type(dist_items[\"input_ids\"]))\n",
    "        print(f\"Keys: {list(dist_items.keys())}\")        \n",
    "        print(\"\")\n",
    "        \n",
    "        is_distributed = isinstance(dist_items[\"input_ids\"],  values.PerReplica)\n",
    "        utils.check_equal(is_distributed, isinstance(dist_items[\"label_ids\"],  values.PerReplica))\n",
    "        \n",
    "        \n",
    "        for inputs, labels in zip(\n",
    "            dist_items[\"input_ids\"].values if is_distributed else [dist_items[\"input_ids\"]], \n",
    "            dist_items[\"label_ids\"].values if is_distributed else [dist_items[\"label_ids\"]]\n",
    "        ):\n",
    "            print(type(dist_items[\"input_ids\"]))\n",
    "            utils.check_equal(inputs.shape[0], 1)\n",
    "            utils.check_equal(labels.shape[0], 1)\n",
    "            inputs = inputs[0]\n",
    "            labels = labels[0]\n",
    "            table = rich.table.Table(\"Type\", \"Value\", show_header=False, show_lines=True)\n",
    "            table.add_row(f\"[bold]Inputs[/]\", format_output_text(filter_and_decode(tokenizer, inputs)))\n",
    "            table.add_row(f\"[bold]Labels:[/]\", format_output_text(filter_and_decode(tokenizer, labels)))\n",
    "            rich.jupyter.print(table)\n",
    "            \n",
    "print(\"done\")"
   ]
  },
  {
   "cell_type": "code",
   "execution_count": null,
   "id": "refined-movement",
   "metadata": {},
   "outputs": [],
   "source": []
  }
 ],
 "metadata": {
  "kernelspec": {
   "display_name": "Python 3",
   "language": "python",
   "name": "python3"
  },
  "language_info": {
   "codemirror_mode": {
    "name": "ipython",
    "version": 3
   },
   "file_extension": ".py",
   "mimetype": "text/x-python",
   "name": "python",
   "nbconvert_exporter": "python",
   "pygments_lexer": "ipython3",
   "version": "3.8.8"
  }
 },
 "nbformat": 4,
 "nbformat_minor": 5
}
