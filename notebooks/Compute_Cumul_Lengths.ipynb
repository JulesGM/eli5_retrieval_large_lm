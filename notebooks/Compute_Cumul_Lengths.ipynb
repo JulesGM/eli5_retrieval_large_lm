{
 "cells": [
  {
   "cell_type": "code",
   "execution_count": 1,
   "metadata": {},
   "outputs": [
    {
     "name": "stderr",
     "output_type": "stream",
     "text": [
      "comet_ml is installed but `COMET_API_KEY` is not set.\n",
      "/usr/local/google/home/julesgm/anaconda3/lib/python3.8/site-packages/torch/cuda/__init__.py:52: UserWarning: CUDA initialization: Found no NVIDIA driver on your system. Please check that you have an NVIDIA GPU and installed a driver from http://www.nvidia.com/Download/index.aspx (Triggered internally at  /pytorch/c10/cuda/CUDAFunctions.cpp:100.)\n",
      "  return torch._C._cuda_getDeviceCount() > 0\n"
     ]
    }
   ],
   "source": [
    "# Copyright 2020 Google LLC\n",
    "#\n",
    "# Licensed under the Apache License, Version 2.0 (the \"License\");\n",
    "# you may not use this file except in compliance with the License.\n",
    "# You may obtain a copy of the License at\n",
    "#\n",
    "#      http://www.apache.org/licenses/LICENSE-2.0\n",
    "#\n",
    "# Unless required by applicable law or agreed to in writing, software\n",
    "# distributed under the License is distributed on an \"AS IS\" BASIS,\n",
    "# WITHOUT WARRANTIES OR CONDITIONS OF ANY KIND, either express or implied.\n",
    "# See the License for the specific language governing permissions and\n",
    "# limitations under the License.\n",
    "\n",
    "import collections\n",
    "import functools\n",
    "import itertools\n",
    "import os\n",
    "import pathlib\n",
    "import re\n",
    "import textwrap\n",
    "\n",
    "import matplotlib.pyplot as plt\n",
    "import numpy as np\n",
    "import datasets\n",
    "import shutil\n",
    "import tensorflow as tf\n",
    "import transformers\n",
    "import tqdm"
   ]
  },
  {
   "cell_type": "code",
   "execution_count": 2,
   "metadata": {},
   "outputs": [
    {
     "name": "stderr",
     "output_type": "stream",
     "text": [
      "Reusing dataset kilt_tasks (/usr/local/google/home/julesgm/.cache/huggingface/datasets/kilt_tasks/all_tasks/1.0.0/821c4295a2c35db2847585918d9c47d7f028f1a26b78825d8e77cd3aeb2621a1)\n"
     ]
    },
    {
     "name": "stdout",
     "output_type": "stream",
     "text": [
      "Dataset split keys: ['train', 'validation', 'test']\n"
     ]
    }
   ],
   "source": [
    "# Prepare different HuggingFace objects that will definitely be needed.\n",
    "\n",
    "kilt = datasets.load_dataset(\"kilt_tasks\")\n",
    "eli5 = {k.split(\"_\")[0]: v for k, v in kilt.items() if \"eli5\" in k}\n",
    "tokenizer = transformers.GPT2TokenizerFast.from_pretrained(\"gpt2-xl\")\n",
    "print(f\"Dataset split keys: {list(eli5.keys())}\")"
   ]
  },
  {
   "cell_type": "code",
   "execution_count": 4,
   "metadata": {},
   "outputs": [
    {
     "name": "stdout",
     "output_type": "stream",
     "text": [
      "\n",
      "\n",
      "\n",
      "\n",
      "\n",
      "\n",
      "\n",
      "\n",
      "\n",
      "\n",
      "\n",
      "\n",
      "\n",
      "\n",
      "\n",
      "\n"
     ]
    }
   ],
   "source": [
    "# Extract the lengths of combined question and answer text, once tokenized with the GPT2 tokenizer.\n",
    "\n",
    "def get_len(sample):\n",
    "    question = sample[\"input\"].strip()\n",
    "    answer = min(sample[\"output\"][\"answer\"], key=len).strip()\n",
    "    len_ = len(tokenizer(question + \" \" + answer)[\"input_ids\"])\n",
    "\n",
    "    return {\"len_\":len_}\n",
    "mapped = eli5[\"train\"].map(get_len, num_proc=os.cpu_count())"
   ]
  },
  {
   "cell_type": "code",
   "execution_count": 5,
   "metadata": {},
   "outputs": [],
   "source": [
    "# Count the number of entries of each length, then sort by length\n",
    "\n",
    "counts = collections.Counter(mapped[\"len_\"])\n",
    "sorted_counts = sorted(counts.items(), key=lambda x: x[0])"
   ]
  },
  {
   "cell_type": "code",
   "execution_count": 7,
   "metadata": {
    "scrolled": false
   },
   "outputs": [
    {
     "name": "stdout",
     "output_type": "stream",
     "text": [
      "97.5%: 398 bpe tokens or fewer\n",
      "(1024 - 398) / 1 = 626\n",
      "(1024 - 398) / 2 = 313\n",
      "(1024 - 398) / 3 = 209\n",
      "(1024 - 398) / 4 = 156\n",
      "95.0%: 295 bpe tokens or fewer\n",
      "(1024 - 295) / 1 = 729\n",
      "(1024 - 295) / 2 = 364\n",
      "(1024 - 295) / 3 = 243\n",
      "(1024 - 295) / 4 = 182\n",
      "92.5%: 244 bpe tokens or fewer\n",
      "(1024 - 244) / 1 = 780\n",
      "(1024 - 244) / 2 = 390\n",
      "(1024 - 244) / 3 = 260\n",
      "(1024 - 244) / 4 = 195\n",
      "90.0%: 211 bpe tokens or fewer\n",
      "(1024 - 211) / 1 = 813\n",
      "(1024 - 211) / 2 = 406\n",
      "(1024 - 211) / 3 = 271\n",
      "(1024 - 211) / 4 = 203\n",
      "87.5%: 187 bpe tokens or fewer\n",
      "(1024 - 187) / 1 = 837\n",
      "(1024 - 187) / 2 = 418\n",
      "(1024 - 187) / 3 = 279\n",
      "(1024 - 187) / 4 = 209\n",
      "85.0%: 169 bpe tokens or fewer\n",
      "(1024 - 169) / 1 = 855\n",
      "(1024 - 169) / 2 = 428\n",
      "(1024 - 169) / 3 = 285\n",
      "(1024 - 169) / 4 = 214\n",
      "82.5%: 154 bpe tokens or fewer\n",
      "(1024 - 154) / 1 = 870\n",
      "(1024 - 154) / 2 = 435\n",
      "(1024 - 154) / 3 = 290\n",
      "(1024 - 154) / 4 = 218\n",
      "80.0%: 142 bpe tokens or fewer\n",
      "(1024 - 142) / 1 = 882\n",
      "(1024 - 142) / 2 = 441\n",
      "(1024 - 142) / 3 = 294\n",
      "(1024 - 142) / 4 = 220\n",
      "77.5%: 132 bpe tokens or fewer\n",
      "(1024 - 132) / 1 = 892\n",
      "(1024 - 132) / 2 = 446\n",
      "(1024 - 132) / 3 = 297\n",
      "(1024 - 132) / 4 = 223\n",
      "75.0%: 123 bpe tokens or fewer\n",
      "(1024 - 123) / 1 = 901\n",
      "(1024 - 123) / 2 = 450\n",
      "(1024 - 123) / 3 = 300\n",
      "(1024 - 123) / 4 = 225\n",
      "70.0%: 109 bpe tokens or fewer\n",
      "(1024 - 109) / 1 = 915\n",
      "(1024 - 109) / 2 = 458\n",
      "(1024 - 109) / 3 = 305\n",
      "(1024 - 109) / 4 = 229\n",
      "65.0%: 98 bpe tokens or fewer\n",
      "(1024 - 98) / 1 = 926\n",
      "(1024 - 98) / 2 = 463\n",
      "(1024 - 98) / 3 = 309\n",
      "(1024 - 98) / 4 = 232\n",
      "60.0%: 89 bpe tokens or fewer\n",
      "(1024 - 89) / 1 = 935\n",
      "(1024 - 89) / 2 = 468\n",
      "(1024 - 89) / 3 = 312\n",
      "(1024 - 89) / 4 = 234\n",
      "55.0%: 81 bpe tokens or fewer\n",
      "(1024 - 81) / 1 = 943\n",
      "(1024 - 81) / 2 = 472\n",
      "(1024 - 81) / 3 = 314\n",
      "(1024 - 81) / 4 = 236\n"
     ]
    }
   ],
   "source": [
    "# Compute the ratio of samples that are in a certain percentile of lengths, and compute how long retrievals\n",
    "# would have to be for a certain fraction of the dataset to have access to that amount of retrievals\n",
    "\n",
    "context_length = 1024\n",
    "max_num_retrievals = 4\n",
    "fractions = [.55, .6, .65, .7, .75, .775, .8, .825, .85, .875, .9, .925, .95, .975][::-1]\n",
    "\n",
    "points = {}\n",
    "max_pairs = {}\n",
    "for top_fraction in fractions:\n",
    "    qty_accumulator = 0\n",
    "    cumulative = [\n",
    "        (count, qty_accumulator := qty / len(eli5[\"train\"]) + qty_accumulator) \n",
    "        for count, qty in sorted_counts if qty_accumulator < top_fraction\n",
    "    ]\n",
    "    x = [x[0] for x in cumulative]\n",
    "    y = [x[1] for x in cumulative]\n",
    "    points[top_fraction] = (x, y)\n",
    "    max_pair = max(cumulative, key=lambda pair: pair[1])\n",
    "    max_pairs[top_fraction] = max_pair[0]\n",
    "    print(f\"{top_fraction:0.1%}: {max_pair[0]} bpe tokens or fewer\")\n",
    "    for i in range(1, max_num_retrievals + 1):\n",
    "        print(f\"({context_length} - {max_pair[0]}) / {i} = {(context_length - max_pair[0]) / i:0.0f}\")\n"
   ]
  },
  {
   "cell_type": "code",
   "execution_count": 8,
   "metadata": {},
   "outputs": [
    {
     "data": {
      "image/png": "[encoded data removed]",
      "text/plain": [
       "<Figure size 720x720 with 1 Axes>"
      ]
     },
     "metadata": {
      "needs_background": "light"
     },
     "output_type": "display_data"
    }
   ],
   "source": [
    "# Graph the results.\n",
    "\n",
    "plt.figure(figsize=(10, 10));\n",
    "ax = plt.gca()\n",
    "ax.margins(tight=True)\n",
    "ax.plot(*points[max(fractions)]);\n",
    "plt.yticks(np.linspace(0, 1, 21))\n",
    "percentages = max_pairs.keys()\n",
    "lengths = max_pairs.values()\n",
    "\n",
    "for x, y in zip(lengths, percentages):\n",
    "    ax.plot((x, x), (0, y), color=\"red\")\n",
    "\n",
    "ax.scatter(lengths, \n",
    "           percentages, color=\"red\");\n",
    "ax.scatter(lengths, \n",
    "           [0 for _ in lengths], color=\"red\");\n",
    "\n",
    "for y, x in max_pairs.items():\n",
    "    ax.text(x - 25, y + 0.025, f\"{y:0.1%}\", size=13)\n",
    "    ax.text(x - 10, -0.032, f\"{x}\", size=10)"
   ]
  }
 ],
 "metadata": {
  "kernelspec": {
   "display_name": "Python 3",
   "language": "python",
   "name": "python3"
  },
  "language_info": {
   "codemirror_mode": {
    "name": "ipython",
    "version": 3
   },
   "file_extension": ".py",
   "mimetype": "text/x-python",
   "name": "python",
   "nbconvert_exporter": "python",
   "pygments_lexer": "ipython3",
   "version": "3.8.5"
  }
 },
 "nbformat": 4,
 "nbformat_minor": 4
}